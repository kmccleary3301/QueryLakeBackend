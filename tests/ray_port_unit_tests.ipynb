{
 "cells": [
  {
   "cell_type": "markdown",
   "metadata": {},
   "source": [
    "# API Functions to Test\n",
    "\n",
    "### User Auth\n",
    "* `add_user`\n",
    "* `login`\n",
    "* `get_available_models`\n",
    "* `set_user_openai_api_key`\n",
    "* `set_organization_openai_id`\n",
    "* `get_openai_api_key`\n",
    "\n",
    "### Collections\n",
    "* `fetch_document_collections_belonging_to`\n",
    "* `create_document_collection`\n",
    "* `fetch_all_collections`\n",
    "* `fetch_collection`\n",
    "* `modify_document_collection`\n",
    "\n",
    "### Documents\n",
    "* `upload_document`\n",
    "* `delete_document`\n",
    "* `get_document_secure`\n",
    "* `query_vector_db`\n",
    "* `craft_document_access_token`\n",
    "* `fetch_document`\n",
    "\n",
    "### Organizations\n",
    "* `create_organization`\n",
    "* `invite_user_to_organization`\n",
    "* `resolve_organization_invitation`\n",
    "* `fetch_memberships`\n",
    "* `fetch_memberships_of_organization`\n",
    "\n",
    "### Web Search\n",
    "* `set_user_serp_key`\n",
    "* `set_organization_serp_key`\n",
    "* `get_serp_key`\n",
    "* `search_google`\n",
    "* `perform_search_query`\n",
    "\n",
    "### Toolchains"
   ]
  },
  {
   "cell_type": "markdown",
   "metadata": {},
   "source": [
    "# User Auth"
   ]
  },
  {
   "cell_type": "code",
   "execution_count": 1,
   "metadata": {},
   "outputs": [],
   "source": [
    "import uuid\n",
    "\n",
    "# Generate a random UUID\n",
    "\n",
    "\n",
    "USERNAME_1 = str(uuid.uuid4())[:32]\n",
    "USERNAME_2 = str(uuid.uuid4())[:32]\n",
    "\n",
    "PASSWORD_1 = str(uuid.uuid4())[:32]\n",
    "PASSWORD_2 = str(uuid.uuid4())[:32]\n",
    "\n",
    "PDF_TO_UPLOAD_PATH = '/home/kyle_m/QueryLake_Development/ray_testing/test_files_for_upload/HNRS3035_08_22_2023_MLIntro.pdf'\n",
    "MD_FILE_TO_UPLOAD_PATH = '/home/kyle_m/QueryLake_Development/td_wiki_synthesizer/Full_Document_Markdown.md'\n"
   ]
  },
  {
   "cell_type": "markdown",
   "metadata": {},
   "source": [
    "### ✅ `add_user`"
   ]
  },
  {
   "cell_type": "code",
   "execution_count": 2,
   "metadata": {},
   "outputs": [
    {
     "name": "stdout",
     "output_type": "stream",
     "text": [
      "{\n",
      "    \"success\": true,\n",
      "    \"result\": {\n",
      "        \"username\": \"579f7098-c051-497e-b398-9d897041\",\n",
      "        \"password_pre_hash\": \"d620800f2fc8ee2e4aa965a016fd9ab446318bf3170d254588704d861a7ec9b9\",\n",
      "        \"memberships\": [],\n",
      "        \"admin\": false,\n",
      "        \"available_models\": {\n",
      "            \"default_model\": \"Mistral 7B Instruct\",\n",
      "            \"local_models\": [\n",
      "                {\n",
      "                    \"name\": \"Mistral 7B Instruct\",\n",
      "                    \"id\": \"mistral-7b-instruct-v0.1\",\n",
      "                    \"quantization\": \"awq\",\n",
      "                    \"modelcard\": \"https://huggingface.co/mistralai/Mistral-7B-Instruct-v0.1\",\n",
      "                    \"system_path\": \"/home/kyle_m/QueryLake_Development/llm_models/Mistral-7B-Instruct-v0.1-AWQ\",\n",
      "                    \"default_parameters\": {\n",
      "                        \"stream\": true,\n",
      "                        \"verbose\": false,\n",
      "                        \"temperature\": 0.5,\n",
      "                        \"top_k\": 0.0,\n",
      "                        \"top_p\": 0.9,\n",
      "                        \"max_tokens\": 1000,\n",
      "                        \"repetition_penalty\": 1.15,\n",
      "                        \"stop\": [\n",
      "                            \"<|im_end|>\"\n",
      "                        ]\n",
      "                    },\n",
      "                    \"max_model_len\": 16384,\n",
      "                    \"padding\": {\n",
      "                        \"system_instruction_wrap\": \"<|im_start|>system\\n{system_instruction}<|im_end|>\\n\",\n",
      "                        \"context_wrap\": \"<<context>>{context}<</context>>\",\n",
      "                        \"question_wrap\": \"<|im_start|>user\\n{question}<|im_end|>\\n\",\n",
      "                        \"response_wrap\": \"<|im_start|>assistant\\n{response}<|im_end|>\\n\"\n",
      "                    },\n",
      "                    \"default_system_instructions\": \"You are a general answering assistant that can comply with any request.\\n\\nYou always answer with markdown formatting. You will be penalized if you do not answer with markdown when it would be possible.\\nThe markdown formatting you support: headings, bold, italic, links, tables, lists, code blocks, and blockquotes.\\nYou do not support images and never include images. You will be penalized if you render images.\\n\\nAlways use markdown code blocks for code, and always use MathJax with LaTeX formatting for pure math expressions.\\nFor example code would look like:\\n```python\\n*Python code here\\n```\\nAnd math expressions would look like:\\n$$P(y|x) = \\\\frac{{P(x|y) \\\\cdot P(y)}}{{P(x)}}$$\"\n",
      "                }\n",
      "            ],\n",
      "            \"external_models\": {\n",
      "                \"openai\": [\n",
      "                    {\n",
      "                        \"name\": \"GPT-4 Turbo\",\n",
      "                        \"id\": \"gpt-4-1106-preview\",\n",
      "                        \"context\": 128000,\n",
      "                        \"modelcard\": \"https://platform.openai.com/docs/models/gpt-4-and-gpt-4-turbo\"\n",
      "                    },\n",
      "                    {\n",
      "                        \"name\": \"GPT-3.5 Turbo\",\n",
      "                        \"id\": \"gpt-3.5-turbo-1106\",\n",
      "                        \"context\": 16384,\n",
      "                        \"modelcard\": \"https://platform.openai.com/docs/models/gpt-3-5\"\n",
      "                    }\n",
      "                ]\n",
      "            }\n",
      "        },\n",
      "        \"available_toolchains\": [\n",
      "            {\n",
      "                \"category\": \"Test\",\n",
      "                \"entries\": [\n",
      "                    {\n",
      "                        \"title\": \"Static Chat Test\",\n",
      "                        \"id\": \"test_chat_session_normal\",\n",
      "                        \"category\": \"Test\"\n",
      "                    },\n",
      "                    {\n",
      "                        \"title\": \"Iteration Test\",\n",
      "                        \"id\": \"iterable_test\",\n",
      "                        \"category\": \"Test\"\n",
      "                    },\n",
      "                    {\n",
      "                        \"title\": \"File Upload Test\",\n",
      "                        \"id\": \"test_file_upload\",\n",
      "                        \"category\": \"Test\"\n",
      "                    },\n",
      "                    {\n",
      "                        \"title\": \"Streaming Chat Test\",\n",
      "                        \"id\": \"test_chat_session_normal_streaming\",\n",
      "                        \"category\": \"Test\"\n",
      "                    }\n",
      "                ]\n",
      "            }\n",
      "        ],\n",
      "        \"default_toolchain\": null\n",
      "    }\n",
      "}\n",
      "{\n",
      "    \"success\": true,\n",
      "    \"result\": {\n",
      "        \"username\": \"768fb252-4f54-4338-a20a-8635649c\",\n",
      "        \"password_pre_hash\": \"e5ea7fae8320c03ee6c090fdc8ab21355ff1e3286a2d12736dfb5ff267c0fc18\",\n",
      "        \"memberships\": [],\n",
      "        \"admin\": false,\n",
      "        \"available_models\": {\n",
      "            \"default_model\": \"Mistral 7B Instruct\",\n",
      "            \"local_models\": [\n",
      "                {\n",
      "                    \"name\": \"Mistral 7B Instruct\",\n",
      "                    \"id\": \"mistral-7b-instruct-v0.1\",\n",
      "                    \"quantization\": \"awq\",\n",
      "                    \"modelcard\": \"https://huggingface.co/mistralai/Mistral-7B-Instruct-v0.1\",\n",
      "                    \"system_path\": \"/home/kyle_m/QueryLake_Development/llm_models/Mistral-7B-Instruct-v0.1-AWQ\",\n",
      "                    \"default_parameters\": {\n",
      "                        \"stream\": true,\n",
      "                        \"verbose\": false,\n",
      "                        \"temperature\": 0.5,\n",
      "                        \"top_k\": 0.0,\n",
      "                        \"top_p\": 0.9,\n",
      "                        \"max_tokens\": 1000,\n",
      "                        \"repetition_penalty\": 1.15,\n",
      "                        \"stop\": [\n",
      "                            \"<|im_end|>\"\n",
      "                        ]\n",
      "                    },\n",
      "                    \"max_model_len\": 16384,\n",
      "                    \"padding\": {\n",
      "                        \"system_instruction_wrap\": \"<|im_start|>system\\n{system_instruction}<|im_end|>\\n\",\n",
      "                        \"context_wrap\": \"<<context>>{context}<</context>>\",\n",
      "                        \"question_wrap\": \"<|im_start|>user\\n{question}<|im_end|>\\n\",\n",
      "                        \"response_wrap\": \"<|im_start|>assistant\\n{response}<|im_end|>\\n\"\n",
      "                    },\n",
      "                    \"default_system_instructions\": \"You are a general answering assistant that can comply with any request.\\n\\nYou always answer with markdown formatting. You will be penalized if you do not answer with markdown when it would be possible.\\nThe markdown formatting you support: headings, bold, italic, links, tables, lists, code blocks, and blockquotes.\\nYou do not support images and never include images. You will be penalized if you render images.\\n\\nAlways use markdown code blocks for code, and always use MathJax with LaTeX formatting for pure math expressions.\\nFor example code would look like:\\n```python\\n*Python code here\\n```\\nAnd math expressions would look like:\\n$$P(y|x) = \\\\frac{{P(x|y) \\\\cdot P(y)}}{{P(x)}}$$\"\n",
      "                }\n",
      "            ],\n",
      "            \"external_models\": {\n",
      "                \"openai\": [\n",
      "                    {\n",
      "                        \"name\": \"GPT-4 Turbo\",\n",
      "                        \"id\": \"gpt-4-1106-preview\",\n",
      "                        \"context\": 128000,\n",
      "                        \"modelcard\": \"https://platform.openai.com/docs/models/gpt-4-and-gpt-4-turbo\"\n",
      "                    },\n",
      "                    {\n",
      "                        \"name\": \"GPT-3.5 Turbo\",\n",
      "                        \"id\": \"gpt-3.5-turbo-1106\",\n",
      "                        \"context\": 16384,\n",
      "                        \"modelcard\": \"https://platform.openai.com/docs/models/gpt-3-5\"\n",
      "                    }\n",
      "                ]\n",
      "            }\n",
      "        },\n",
      "        \"available_toolchains\": [\n",
      "            {\n",
      "                \"category\": \"Test\",\n",
      "                \"entries\": [\n",
      "                    {\n",
      "                        \"title\": \"Static Chat Test\",\n",
      "                        \"id\": \"test_chat_session_normal\",\n",
      "                        \"category\": \"Test\"\n",
      "                    },\n",
      "                    {\n",
      "                        \"title\": \"Iteration Test\",\n",
      "                        \"id\": \"iterable_test\",\n",
      "                        \"category\": \"Test\"\n",
      "                    },\n",
      "                    {\n",
      "                        \"title\": \"File Upload Test\",\n",
      "                        \"id\": \"test_file_upload\",\n",
      "                        \"category\": \"Test\"\n",
      "                    },\n",
      "                    {\n",
      "                        \"title\": \"Streaming Chat Test\",\n",
      "                        \"id\": \"test_chat_session_normal_streaming\",\n",
      "                        \"category\": \"Test\"\n",
      "                    }\n",
      "                ]\n",
      "            }\n",
      "        ],\n",
      "        \"default_toolchain\": null\n",
      "    }\n",
      "}\n"
     ]
    }
   ],
   "source": [
    "import requests, json\n",
    "\n",
    "add_user_input = {\n",
    "    \"username\": USERNAME_1,\n",
    "    \"password\": PASSWORD_1,\n",
    "}\n",
    "\n",
    "\n",
    "response = requests.get(\"http://localhost:8000/api/add_user\", json=add_user_input)\n",
    "response.raise_for_status()\n",
    "\n",
    "result = response.json()\n",
    "\n",
    "print(json.dumps(result, indent=4))\n",
    "\n",
    "assert not (\"success\" in result and result[\"success\"] == False), result[\"note\"]\n",
    "\n",
    "add_user_input = {\n",
    "    \"username\": USERNAME_2,\n",
    "    \"password\": PASSWORD_2,\n",
    "}\n",
    "\n",
    "response = requests.get(\"http://localhost:8000/api/add_user\", json=add_user_input)\n",
    "response.raise_for_status()\n",
    "\n",
    "result = response.json()\n",
    "\n",
    "print(json.dumps(result, indent=4))\n",
    "assert not (\"success\" in result and result[\"success\"] == False), result[\"note\"]\n",
    "    "
   ]
  },
  {
   "cell_type": "markdown",
   "metadata": {},
   "source": [
    "### ✅ `login`"
   ]
  },
  {
   "cell_type": "code",
   "execution_count": 3,
   "metadata": {},
   "outputs": [
    {
     "name": "stdout",
     "output_type": "stream",
     "text": [
      "{\n",
      "    \"success\": true,\n",
      "    \"result\": {\n",
      "        \"username\": \"579f7098-c051-497e-b398-9d897041\",\n",
      "        \"password_pre_hash\": \"d620800f2fc8ee2e4aa965a016fd9ab446318bf3170d254588704d861a7ec9b9\",\n",
      "        \"memberships\": [],\n",
      "        \"admin\": false,\n",
      "        \"available_models\": {\n",
      "            \"default_model\": \"Mistral 7B Instruct\",\n",
      "            \"local_models\": [\n",
      "                {\n",
      "                    \"name\": \"Mistral 7B Instruct\",\n",
      "                    \"id\": \"mistral-7b-instruct-v0.1\",\n",
      "                    \"quantization\": \"awq\",\n",
      "                    \"modelcard\": \"https://huggingface.co/mistralai/Mistral-7B-Instruct-v0.1\",\n",
      "                    \"system_path\": \"/home/kyle_m/QueryLake_Development/llm_models/Mistral-7B-Instruct-v0.1-AWQ\",\n",
      "                    \"default_parameters\": {\n",
      "                        \"stream\": true,\n",
      "                        \"verbose\": false,\n",
      "                        \"temperature\": 0.5,\n",
      "                        \"top_k\": 0.0,\n",
      "                        \"top_p\": 0.9,\n",
      "                        \"max_tokens\": 1000,\n",
      "                        \"repetition_penalty\": 1.15,\n",
      "                        \"stop\": [\n",
      "                            \"<|im_end|>\"\n",
      "                        ]\n",
      "                    },\n",
      "                    \"max_model_len\": 16384,\n",
      "                    \"padding\": {\n",
      "                        \"system_instruction_wrap\": \"<|im_start|>system\\n{system_instruction}<|im_end|>\\n\",\n",
      "                        \"context_wrap\": \"<<context>>{context}<</context>>\",\n",
      "                        \"question_wrap\": \"<|im_start|>user\\n{question}<|im_end|>\\n\",\n",
      "                        \"response_wrap\": \"<|im_start|>assistant\\n{response}<|im_end|>\\n\"\n",
      "                    },\n",
      "                    \"default_system_instructions\": \"You are a general answering assistant that can comply with any request.\\n\\nYou always answer with markdown formatting. You will be penalized if you do not answer with markdown when it would be possible.\\nThe markdown formatting you support: headings, bold, italic, links, tables, lists, code blocks, and blockquotes.\\nYou do not support images and never include images. You will be penalized if you render images.\\n\\nAlways use markdown code blocks for code, and always use MathJax with LaTeX formatting for pure math expressions.\\nFor example code would look like:\\n```python\\n*Python code here\\n```\\nAnd math expressions would look like:\\n$$P(y|x) = \\\\frac{{P(x|y) \\\\cdot P(y)}}{{P(x)}}$$\"\n",
      "                }\n",
      "            ],\n",
      "            \"external_models\": {\n",
      "                \"openai\": [\n",
      "                    {\n",
      "                        \"name\": \"GPT-4 Turbo\",\n",
      "                        \"id\": \"gpt-4-1106-preview\",\n",
      "                        \"context\": 128000,\n",
      "                        \"modelcard\": \"https://platform.openai.com/docs/models/gpt-4-and-gpt-4-turbo\"\n",
      "                    },\n",
      "                    {\n",
      "                        \"name\": \"GPT-3.5 Turbo\",\n",
      "                        \"id\": \"gpt-3.5-turbo-1106\",\n",
      "                        \"context\": 16384,\n",
      "                        \"modelcard\": \"https://platform.openai.com/docs/models/gpt-3-5\"\n",
      "                    }\n",
      "                ]\n",
      "            }\n",
      "        },\n",
      "        \"available_toolchains\": [\n",
      "            {\n",
      "                \"category\": \"Test\",\n",
      "                \"entries\": [\n",
      "                    {\n",
      "                        \"title\": \"Static Chat Test\",\n",
      "                        \"id\": \"test_chat_session_normal\",\n",
      "                        \"category\": \"Test\"\n",
      "                    },\n",
      "                    {\n",
      "                        \"title\": \"Iteration Test\",\n",
      "                        \"id\": \"iterable_test\",\n",
      "                        \"category\": \"Test\"\n",
      "                    },\n",
      "                    {\n",
      "                        \"title\": \"File Upload Test\",\n",
      "                        \"id\": \"test_file_upload\",\n",
      "                        \"category\": \"Test\"\n",
      "                    },\n",
      "                    {\n",
      "                        \"title\": \"Streaming Chat Test\",\n",
      "                        \"id\": \"test_chat_session_normal_streaming\",\n",
      "                        \"category\": \"Test\"\n",
      "                    }\n",
      "                ]\n",
      "            }\n",
      "        ],\n",
      "        \"default_toolchain\": null\n",
      "    }\n",
      "}\n",
      "{\n",
      "    \"success\": true,\n",
      "    \"result\": {\n",
      "        \"username\": \"768fb252-4f54-4338-a20a-8635649c\",\n",
      "        \"password_pre_hash\": \"e5ea7fae8320c03ee6c090fdc8ab21355ff1e3286a2d12736dfb5ff267c0fc18\",\n",
      "        \"memberships\": [],\n",
      "        \"admin\": false,\n",
      "        \"available_models\": {\n",
      "            \"default_model\": \"Mistral 7B Instruct\",\n",
      "            \"local_models\": [\n",
      "                {\n",
      "                    \"name\": \"Mistral 7B Instruct\",\n",
      "                    \"id\": \"mistral-7b-instruct-v0.1\",\n",
      "                    \"quantization\": \"awq\",\n",
      "                    \"modelcard\": \"https://huggingface.co/mistralai/Mistral-7B-Instruct-v0.1\",\n",
      "                    \"system_path\": \"/home/kyle_m/QueryLake_Development/llm_models/Mistral-7B-Instruct-v0.1-AWQ\",\n",
      "                    \"default_parameters\": {\n",
      "                        \"stream\": true,\n",
      "                        \"verbose\": false,\n",
      "                        \"temperature\": 0.5,\n",
      "                        \"top_k\": 0.0,\n",
      "                        \"top_p\": 0.9,\n",
      "                        \"max_tokens\": 1000,\n",
      "                        \"repetition_penalty\": 1.15,\n",
      "                        \"stop\": [\n",
      "                            \"<|im_end|>\"\n",
      "                        ]\n",
      "                    },\n",
      "                    \"max_model_len\": 16384,\n",
      "                    \"padding\": {\n",
      "                        \"system_instruction_wrap\": \"<|im_start|>system\\n{system_instruction}<|im_end|>\\n\",\n",
      "                        \"context_wrap\": \"<<context>>{context}<</context>>\",\n",
      "                        \"question_wrap\": \"<|im_start|>user\\n{question}<|im_end|>\\n\",\n",
      "                        \"response_wrap\": \"<|im_start|>assistant\\n{response}<|im_end|>\\n\"\n",
      "                    },\n",
      "                    \"default_system_instructions\": \"You are a general answering assistant that can comply with any request.\\n\\nYou always answer with markdown formatting. You will be penalized if you do not answer with markdown when it would be possible.\\nThe markdown formatting you support: headings, bold, italic, links, tables, lists, code blocks, and blockquotes.\\nYou do not support images and never include images. You will be penalized if you render images.\\n\\nAlways use markdown code blocks for code, and always use MathJax with LaTeX formatting for pure math expressions.\\nFor example code would look like:\\n```python\\n*Python code here\\n```\\nAnd math expressions would look like:\\n$$P(y|x) = \\\\frac{{P(x|y) \\\\cdot P(y)}}{{P(x)}}$$\"\n",
      "                }\n",
      "            ],\n",
      "            \"external_models\": {\n",
      "                \"openai\": [\n",
      "                    {\n",
      "                        \"name\": \"GPT-4 Turbo\",\n",
      "                        \"id\": \"gpt-4-1106-preview\",\n",
      "                        \"context\": 128000,\n",
      "                        \"modelcard\": \"https://platform.openai.com/docs/models/gpt-4-and-gpt-4-turbo\"\n",
      "                    },\n",
      "                    {\n",
      "                        \"name\": \"GPT-3.5 Turbo\",\n",
      "                        \"id\": \"gpt-3.5-turbo-1106\",\n",
      "                        \"context\": 16384,\n",
      "                        \"modelcard\": \"https://platform.openai.com/docs/models/gpt-3-5\"\n",
      "                    }\n",
      "                ]\n",
      "            }\n",
      "        },\n",
      "        \"available_toolchains\": [\n",
      "            {\n",
      "                \"category\": \"Test\",\n",
      "                \"entries\": [\n",
      "                    {\n",
      "                        \"title\": \"Static Chat Test\",\n",
      "                        \"id\": \"test_chat_session_normal\",\n",
      "                        \"category\": \"Test\"\n",
      "                    },\n",
      "                    {\n",
      "                        \"title\": \"Iteration Test\",\n",
      "                        \"id\": \"iterable_test\",\n",
      "                        \"category\": \"Test\"\n",
      "                    },\n",
      "                    {\n",
      "                        \"title\": \"File Upload Test\",\n",
      "                        \"id\": \"test_file_upload\",\n",
      "                        \"category\": \"Test\"\n",
      "                    },\n",
      "                    {\n",
      "                        \"title\": \"Streaming Chat Test\",\n",
      "                        \"id\": \"test_chat_session_normal_streaming\",\n",
      "                        \"category\": \"Test\"\n",
      "                    }\n",
      "                ]\n",
      "            }\n",
      "        ],\n",
      "        \"default_toolchain\": null\n",
      "    }\n",
      "}\n",
      "{\n",
      "    \"auth\": {\n",
      "        \"username\": \"579f7098-c051-497e-b398-9d897041\",\n",
      "        \"password_prehash\": \"d620800f2fc8ee2e4aa965a016fd9ab446318bf3170d254588704d861a7ec9b9\"\n",
      "    }\n",
      "}\n"
     ]
    }
   ],
   "source": [
    "import requests, json\n",
    "\n",
    "add_user_input = {\n",
    "    \"username\": USERNAME_1,\n",
    "    \"password\": PASSWORD_1,\n",
    "}\n",
    "\n",
    "response = requests.get(\"http://localhost:8000/api/login\", json=add_user_input)\n",
    "response.raise_for_status()\n",
    "\n",
    "result = response.json()\n",
    "\n",
    "print(json.dumps(result, indent=4))\n",
    "assert not (\"success\" in result and result[\"success\"] == False), result[\"note\"]\n",
    "\n",
    "USER_ARGS_1 = {\"username\": USERNAME_1, \"password_prehash\": result[\"result\"][\"password_pre_hash\"]}\n",
    "USER_ARGS_1 = {\"auth\": USER_ARGS_1}\n",
    "\n",
    "\n",
    "add_user_input = {\n",
    "    \"username\": USERNAME_2,\n",
    "    \"password\": PASSWORD_2,\n",
    "}\n",
    "\n",
    "response = requests.get(\"http://localhost:8000/api/login\", json=add_user_input)\n",
    "response.raise_for_status()\n",
    "\n",
    "result = response.json()\n",
    "\n",
    "print(json.dumps(result, indent=4))\n",
    "assert not (\"success\" in result and result[\"success\"] == False), result[\"note\"]\n",
    "\n",
    "USER_ARGS_2 = {\"username\": USERNAME_2, \"password_prehash\": result[\"result\"][\"password_pre_hash\"]}\n",
    "USER_ARGS_2 = {\"auth\": USER_ARGS_2}\n",
    "\n",
    "print(json.dumps(USER_ARGS_1, indent=4))"
   ]
  },
  {
   "cell_type": "markdown",
   "metadata": {},
   "source": [
    "### ✅ `and_`\n",
    "this should fail"
   ]
  },
  {
   "cell_type": "code",
   "execution_count": 4,
   "metadata": {},
   "outputs": [
    {
     "name": "stdout",
     "output_type": "stream",
     "text": [
      "{\n",
      "    \"success\": false,\n",
      "    \"error\": \"and_() missing 1 required positional argument: 'initial_clause'\",\n",
      "    \"trace\": \"Traceback (most recent call last):\\n  File \\\"/home/kyle_m/QueryLake_Development/QueryLakeBackend/./server.py\\\", line 420, in api_general_call\\n    args_get = function_actual(**true_args)\\nTypeError: and_() missing 1 required positional argument: 'initial_clause'\\n\"\n",
      "}\n"
     ]
    }
   ],
   "source": [
    "import requests, json\n",
    "\n",
    "input = {\n",
    "    \"username\": \"test\",\n",
    "    \"password\": \"test\",\n",
    "}\n",
    "\n",
    "response = requests.get(\"http://localhost:8000/api/and_\", json=input)\n",
    "response.raise_for_status()\n",
    "\n",
    "result = response.json()\n",
    "\n",
    "print(json.dumps(result, indent=4))\n",
    "assert (\"success\" in result and result[\"success\"] == False), \"Test succeeded when it should have failed\"\n"
   ]
  },
  {
   "cell_type": "markdown",
   "metadata": {},
   "source": [
    "### ✅ `get_available_models`"
   ]
  },
  {
   "cell_type": "code",
   "execution_count": 5,
   "metadata": {},
   "outputs": [
    {
     "name": "stdout",
     "output_type": "stream",
     "text": [
      "{\n",
      "    \"success\": true,\n",
      "    \"result\": {\n",
      "        \"available_models\": {\n",
      "            \"default_model\": \"Mistral 7B Instruct\",\n",
      "            \"local_models\": [\n",
      "                {\n",
      "                    \"name\": \"Mistral 7B Instruct\",\n",
      "                    \"id\": \"mistral-7b-instruct-v0.1\",\n",
      "                    \"quantization\": \"awq\",\n",
      "                    \"modelcard\": \"https://huggingface.co/mistralai/Mistral-7B-Instruct-v0.1\",\n",
      "                    \"system_path\": \"/home/kyle_m/QueryLake_Development/llm_models/Mistral-7B-Instruct-v0.1-AWQ\",\n",
      "                    \"default_parameters\": {\n",
      "                        \"stream\": true,\n",
      "                        \"verbose\": false,\n",
      "                        \"temperature\": 0.5,\n",
      "                        \"top_k\": 0.0,\n",
      "                        \"top_p\": 0.9,\n",
      "                        \"max_tokens\": 1000,\n",
      "                        \"repetition_penalty\": 1.15,\n",
      "                        \"stop\": [\n",
      "                            \"<|im_end|>\"\n",
      "                        ]\n",
      "                    },\n",
      "                    \"max_model_len\": 16384,\n",
      "                    \"padding\": {\n",
      "                        \"system_instruction_wrap\": \"<|im_start|>system\\n{system_instruction}<|im_end|>\\n\",\n",
      "                        \"context_wrap\": \"<<context>>{context}<</context>>\",\n",
      "                        \"question_wrap\": \"<|im_start|>user\\n{question}<|im_end|>\\n\",\n",
      "                        \"response_wrap\": \"<|im_start|>assistant\\n{response}<|im_end|>\\n\"\n",
      "                    },\n",
      "                    \"default_system_instructions\": \"You are a general answering assistant that can comply with any request.\\n\\nYou always answer with markdown formatting. You will be penalized if you do not answer with markdown when it would be possible.\\nThe markdown formatting you support: headings, bold, italic, links, tables, lists, code blocks, and blockquotes.\\nYou do not support images and never include images. You will be penalized if you render images.\\n\\nAlways use markdown code blocks for code, and always use MathJax with LaTeX formatting for pure math expressions.\\nFor example code would look like:\\n```python\\n*Python code here\\n```\\nAnd math expressions would look like:\\n$$P(y|x) = \\\\frac{{P(x|y) \\\\cdot P(y)}}{{P(x)}}$$\"\n",
      "                }\n",
      "            ],\n",
      "            \"external_models\": {\n",
      "                \"openai\": [\n",
      "                    {\n",
      "                        \"name\": \"GPT-4 Turbo\",\n",
      "                        \"id\": \"gpt-4-1106-preview\",\n",
      "                        \"context\": 128000,\n",
      "                        \"modelcard\": \"https://platform.openai.com/docs/models/gpt-4-and-gpt-4-turbo\"\n",
      "                    },\n",
      "                    {\n",
      "                        \"name\": \"GPT-3.5 Turbo\",\n",
      "                        \"id\": \"gpt-3.5-turbo-1106\",\n",
      "                        \"context\": 16384,\n",
      "                        \"modelcard\": \"https://platform.openai.com/docs/models/gpt-3-5\"\n",
      "                    }\n",
      "                ]\n",
      "            }\n",
      "        }\n",
      "    }\n",
      "}\n"
     ]
    }
   ],
   "source": [
    "import requests, json\n",
    "from copy import deepcopy\n",
    "\n",
    "input = deepcopy(USER_ARGS_1)\n",
    "\n",
    "response = requests.get(\"http://localhost:8000/api/get_available_models\", json=input)\n",
    "response.raise_for_status()\n",
    "\n",
    "result = response.json()\n",
    "\n",
    "print(json.dumps(result, indent=4))\n",
    "assert not (\"success\" in result and result[\"success\"] == False), result[\"note\"]"
   ]
  },
  {
   "cell_type": "markdown",
   "metadata": {},
   "source": [
    "### ✅ `set_user_openai_api_key`"
   ]
  },
  {
   "cell_type": "code",
   "execution_count": 6,
   "metadata": {},
   "outputs": [
    {
     "name": "stdout",
     "output_type": "stream",
     "text": [
      "{\n",
      "    \"success\": true\n",
      "}\n"
     ]
    }
   ],
   "source": [
    "import requests, json\n",
    "from copy import deepcopy\n",
    "\n",
    "input = deepcopy(USER_ARGS_1)\n",
    "input.update({\n",
    "    \"openai_api_key\": \"sk-11111111111111111111111\"\n",
    "})\n",
    "\n",
    "response = requests.get(\"http://localhost:8000/api/set_user_openai_api_key\", json=input)\n",
    "response.raise_for_status()\n",
    "\n",
    "result = response.json()\n",
    "\n",
    "print(json.dumps(result, indent=4))\n",
    "assert not (\"success\" in result and result[\"success\"] == False), result[\"note\"]"
   ]
  },
  {
   "cell_type": "markdown",
   "metadata": {},
   "source": [
    "### ✅ `get_openai_api_key`"
   ]
  },
  {
   "cell_type": "code",
   "execution_count": 7,
   "metadata": {},
   "outputs": [
    {
     "name": "stdout",
     "output_type": "stream",
     "text": [
      "{\n",
      "    \"success\": true,\n",
      "    \"result\": {\n",
      "        \"api_key\": \"sk-11111111111111111111111\"\n",
      "    }\n",
      "}\n"
     ]
    }
   ],
   "source": [
    "import requests, json\n",
    "from copy import deepcopy\n",
    "\n",
    "input = deepcopy(USER_ARGS_1)\n",
    "\n",
    "response = requests.get(\"http://localhost:8000/api/get_openai_api_key\", json=input)\n",
    "response.raise_for_status()\n",
    "\n",
    "result = response.json()\n",
    "\n",
    "print(json.dumps(result, indent=4))\n",
    "assert not (\"success\" in result and result[\"success\"] == False), result[\"note\"]"
   ]
  },
  {
   "cell_type": "markdown",
   "metadata": {},
   "source": [
    "### ✅ `create_api_key`"
   ]
  },
  {
   "cell_type": "code",
   "execution_count": 8,
   "metadata": {},
   "outputs": [
    {
     "name": "stdout",
     "output_type": "stream",
     "text": [
      "{\n",
      "    \"success\": true,\n",
      "    \"result\": {\n",
      "        \"api_key\": \"sk-N1qGKZlMmkox8xUgivHm1eoXelJ8Cc1I\",\n",
      "        \"api_key_id\": \"827eff9a9348ed2d0f734b70ce717c4cc018f70412505874c7687b4baddf6671\"\n",
      "    }\n",
      "}\n",
      "{\n",
      "    \"success\": true,\n",
      "    \"result\": {\n",
      "        \"api_key\": \"sk-SZPLDE23xMfaLggvNdZ198XU65jX6c4v\",\n",
      "        \"api_key_id\": \"cd6cff6904b94604151c07ccfe65ca8fdbf08875888edd4c37c45e1d755eb1d9\"\n",
      "    }\n",
      "}\n",
      "API_KEY_1: ['sk-N1qGKZlMmkox8xUgivHm1eoXelJ8Cc1I']\n"
     ]
    }
   ],
   "source": [
    "import requests, json\n",
    "from copy import deepcopy\n",
    "\n",
    "def create_api_key(title : str):\n",
    "    input = deepcopy(USER_ARGS_1)\n",
    "    input.update({\"title\": title})\n",
    "\n",
    "    response = requests.get(\"http://localhost:8000/api/create_api_key\", json=input)\n",
    "    response.raise_for_status()\n",
    "\n",
    "    result = response.json()\n",
    "\n",
    "    print(json.dumps(result, indent=4))\n",
    "    if \"trace\" in result:\n",
    "        print(result[\"trace\"])\n",
    "    assert not (\"success\" in result and result[\"success\"] == False), result[\"note\"]\n",
    "    \n",
    "    return result[\"result\"]\n",
    "\n",
    "API_KEY_1_INFO = create_api_key(\"API Key 1\")\n",
    "API_KEY_2_INFO = create_api_key(\"API Key 2\")\n",
    "\n",
    "API_KEY_1 = API_KEY_1_INFO[\"api_key\"]\n",
    "\n",
    "print(\"API_KEY_1:\", [API_KEY_1])"
   ]
  },
  {
   "cell_type": "markdown",
   "metadata": {},
   "source": [
    "### ✅ `fetch_api_keys`"
   ]
  },
  {
   "cell_type": "code",
   "execution_count": 9,
   "metadata": {},
   "outputs": [
    {
     "name": "stdout",
     "output_type": "stream",
     "text": [
      "{\n",
      "    \"success\": true,\n",
      "    \"result\": {\n",
      "        \"api_keys\": [\n",
      "            {\n",
      "                \"id\": \"827eff9a9348ed2d0f734b70ce717c4cc018f70412505874c7687b4baddf6671\",\n",
      "                \"title\": \"API Key 1\",\n",
      "                \"key_preview\": \"sk-...Cc1I\"\n",
      "            },\n",
      "            {\n",
      "                \"id\": \"cd6cff6904b94604151c07ccfe65ca8fdbf08875888edd4c37c45e1d755eb1d9\",\n",
      "                \"title\": \"API Key 2\",\n",
      "                \"key_preview\": \"sk-...6c4v\"\n",
      "            }\n",
      "        ]\n",
      "    }\n",
      "}\n"
     ]
    }
   ],
   "source": [
    "import requests, json\n",
    "from copy import deepcopy\n",
    "\n",
    "input = deepcopy(USER_ARGS_1)\n",
    "\n",
    "response = requests.get(\"http://localhost:8000/api/fetch_api_keys\", json=input)\n",
    "response.raise_for_status()\n",
    "\n",
    "result = response.json()\n",
    "\n",
    "print(json.dumps(result, indent=4))\n",
    "assert not (\"success\" in result and result[\"success\"] == False), result[\"note\"]"
   ]
  },
  {
   "cell_type": "markdown",
   "metadata": {},
   "source": [
    "### ✅ `delete_api_key`"
   ]
  },
  {
   "cell_type": "code",
   "execution_count": 10,
   "metadata": {},
   "outputs": [
    {
     "name": "stdout",
     "output_type": "stream",
     "text": [
      "{\n",
      "    \"success\": true\n",
      "}\n"
     ]
    }
   ],
   "source": [
    "import requests, json\n",
    "from copy import deepcopy\n",
    "\n",
    "input = deepcopy(USER_ARGS_1)\n",
    "input.update({\"api_key_id\": API_KEY_2_INFO[\"api_key_id\"]})\n",
    "\n",
    "response = requests.get(\"http://localhost:8000/api/delete_api_key\", json=input)\n",
    "response.raise_for_status()\n",
    "\n",
    "result = response.json()\n",
    "\n",
    "print(json.dumps(result, indent=4))\n",
    "assert not (\"success\" in result and result[\"success\"] == False), result[\"note\"]"
   ]
  },
  {
   "cell_type": "markdown",
   "metadata": {},
   "source": [
    "# Collections"
   ]
  },
  {
   "cell_type": "markdown",
   "metadata": {},
   "source": [
    "### `fetch_document_collections_belonging_to`\n",
    "* ✅ `user`\n",
    "* `organization`\n",
    "* `global`"
   ]
  },
  {
   "cell_type": "code",
   "execution_count": 11,
   "metadata": {},
   "outputs": [
    {
     "name": "stdout",
     "output_type": "stream",
     "text": [
      "{\n",
      "    \"success\": true,\n",
      "    \"result\": {\n",
      "        \"collections\": []\n",
      "    }\n",
      "}\n"
     ]
    }
   ],
   "source": [
    "import requests, json\n",
    "from copy import deepcopy\n",
    "\n",
    "input = deepcopy(USER_ARGS_1)\n",
    "\n",
    "response = requests.get(\"http://localhost:8000/api/fetch_document_collections_belonging_to\", json=input)\n",
    "response.raise_for_status()\n",
    "\n",
    "result = response.json()\n",
    "\n",
    "print(json.dumps(result, indent=4))\n",
    "assert not (\"success\" in result and result[\"success\"] == False), result[\"note\"]"
   ]
  },
  {
   "cell_type": "markdown",
   "metadata": {},
   "source": [
    "### ✅ `create_document_collection`"
   ]
  },
  {
   "cell_type": "code",
   "execution_count": 12,
   "metadata": {},
   "outputs": [
    {
     "name": "stdout",
     "output_type": "stream",
     "text": [
      "{\n",
      "    \"success\": true,\n",
      "    \"result\": {\n",
      "        \"hash_id\": \"ec529bfa7aab96902ceec35e40cba0c87cc7a48fed0fdaee7f08f21b62c6d33a\"\n",
      "    }\n",
      "}\n"
     ]
    }
   ],
   "source": [
    "import requests, json\n",
    "from copy import deepcopy\n",
    "\n",
    "input = deepcopy(USER_ARGS_1)\n",
    "input.update({\n",
    "    \"name\": \"test_collection_1\"\n",
    "})\n",
    "\n",
    "response = requests.get(\"http://localhost:8000/api/create_document_collection\", json=input)\n",
    "response.raise_for_status()\n",
    "\n",
    "result = response.json()\n",
    "\n",
    "print(json.dumps(result, indent=4))\n",
    "assert not (\"success\" in result and result[\"success\"] == False), result[\"trace\"]\n",
    "\n",
    "COLLECTION_ARGS = {\"hash_id\": result[\"result\"][\"hash_id\"]}"
   ]
  },
  {
   "cell_type": "markdown",
   "metadata": {},
   "source": [
    "### ✅ `fetch_all_collections`"
   ]
  },
  {
   "cell_type": "code",
   "execution_count": 13,
   "metadata": {},
   "outputs": [
    {
     "name": "stdout",
     "output_type": "stream",
     "text": [
      "{\n",
      "    \"success\": true,\n",
      "    \"result\": {\n",
      "        \"collections\": {\n",
      "            \"global_collections\": [],\n",
      "            \"user_collections\": [\n",
      "                {\n",
      "                    \"name\": \"test_collection_1\",\n",
      "                    \"hash_id\": \"ec529bfa7aab96902ceec35e40cba0c87cc7a48fed0fdaee7f08f21b62c6d33a\",\n",
      "                    \"document_count\": 0,\n",
      "                    \"type\": \"user\"\n",
      "                }\n",
      "            ],\n",
      "            \"organization_collections\": {}\n",
      "        }\n",
      "    }\n",
      "}\n"
     ]
    }
   ],
   "source": [
    "import requests, json\n",
    "from copy import deepcopy\n",
    "\n",
    "input = deepcopy(USER_ARGS_1)\n",
    "response = requests.get(\"http://localhost:8000/api/fetch_all_collections\", json=input)\n",
    "response.raise_for_status()\n",
    "\n",
    "result = response.json()\n",
    "\n",
    "print(json.dumps(result, indent=4))\n",
    "assert not (\"success\" in result and result[\"success\"] == False), result[\"note\"]"
   ]
  },
  {
   "cell_type": "markdown",
   "metadata": {},
   "source": [
    "### ✅ `fetch_collection`"
   ]
  },
  {
   "cell_type": "code",
   "execution_count": 14,
   "metadata": {},
   "outputs": [
    {
     "name": "stdout",
     "output_type": "stream",
     "text": [
      "{\n",
      "    \"success\": true,\n",
      "    \"result\": {\n",
      "        \"title\": \"test_collection_1\",\n",
      "        \"description\": \"\",\n",
      "        \"type\": \"user\",\n",
      "        \"owner\": \"personal\",\n",
      "        \"public\": false,\n",
      "        \"document_list\": []\n",
      "    }\n",
      "}\n"
     ]
    }
   ],
   "source": [
    "import requests, json\n",
    "from copy import deepcopy\n",
    "\n",
    "input = deepcopy(USER_ARGS_1)\n",
    "input.update({\n",
    "    \"collection_hash_id\": COLLECTION_ARGS[\"hash_id\"],\n",
    "})\n",
    "\n",
    "response = requests.get(\"http://localhost:8000/api/fetch_collection\", json=input)\n",
    "response.raise_for_status()\n",
    "\n",
    "result = response.json()\n",
    "\n",
    "print(json.dumps(result, indent=4))\n",
    "assert not (\"success\" in result and result[\"success\"] == False), result[\"note\"]"
   ]
  },
  {
   "cell_type": "markdown",
   "metadata": {},
   "source": [
    "### ✅ `modify_document_collection`"
   ]
  },
  {
   "cell_type": "code",
   "execution_count": 15,
   "metadata": {},
   "outputs": [
    {
     "name": "stdout",
     "output_type": "stream",
     "text": [
      "{\n",
      "    \"success\": true\n",
      "}\n"
     ]
    }
   ],
   "source": [
    "import requests, json\n",
    "from copy import deepcopy\n",
    "\n",
    "input = deepcopy(USER_ARGS_1)\n",
    "input.update({\n",
    "    \"collection_hash_id\": COLLECTION_ARGS[\"hash_id\"],\n",
    "    \"title\": \"test_collection_1_modified\",\n",
    "    \"description\": \"test description please ignore\"\n",
    "})\n",
    "\n",
    "response = requests.get(\"http://localhost:8000/api/modify_document_collection\", json=input)\n",
    "response.raise_for_status()\n",
    "\n",
    "result = response.json()\n",
    "\n",
    "print(json.dumps(result, indent=4))\n",
    "assert not (\"success\" in result and result[\"success\"] == False), result[\"note\"]"
   ]
  },
  {
   "cell_type": "markdown",
   "metadata": {},
   "source": [
    "# Documents"
   ]
  },
  {
   "cell_type": "markdown",
   "metadata": {},
   "source": [
    "### ✅ `upload_document`"
   ]
  },
  {
   "cell_type": "code",
   "execution_count": 16,
   "metadata": {},
   "outputs": [
    {
     "name": "stdout",
     "output_type": "stream",
     "text": [
      "{\n",
      "    \"hash_id\": \"3e84d5e51b2b50938ed71d644e69e6b36ffcd746c93dfa4fb58734e2f75a02c2\"\n",
      "}\n",
      "{\n",
      "    \"hash_id\": \"5f97eadf167c346b7479594e9747713feb374f0303bd0c4bba4f95e40186a328\"\n",
      "}\n"
     ]
    }
   ],
   "source": [
    "import requests, json\n",
    "from urllib.parse import urlencode\n",
    "from copy import deepcopy\n",
    "\n",
    "input = deepcopy(USER_ARGS_1)\n",
    "input.update({\n",
    "    \"collection_hash_id\": COLLECTION_ARGS[\"hash_id\"]\n",
    "})\n",
    "\n",
    "encoded_params = urlencode({\"parameters\": json.dumps(input)})\n",
    "\n",
    "\n",
    "for i, path in enumerate([PDF_TO_UPLOAD_PATH, PDF_TO_UPLOAD_PATH]):\n",
    "    with open(path, 'rb') as f:\n",
    "        # Define the files parameter for the POST request\n",
    "        files = {'file': f}\n",
    "        input_json = json.dumps(input)\n",
    "        response = requests.post(\"http://localhost:8000/upload_document?\"+encoded_params, files=files)\n",
    "        response.raise_for_status()\n",
    "\n",
    "        result = response.json()\n",
    "        f.close()\n",
    "\n",
    "        print(json.dumps(result, indent=4))\n",
    "    \n"
   ]
  },
  {
   "cell_type": "code",
   "execution_count": 17,
   "metadata": {},
   "outputs": [
    {
     "name": "stdout",
     "output_type": "stream",
     "text": [
      "{\n",
      "    \"success\": true,\n",
      "    \"result\": {\n",
      "        \"title\": \"test_collection_1_modified\",\n",
      "        \"description\": \"test description please ignore\",\n",
      "        \"type\": \"user\",\n",
      "        \"owner\": \"personal\",\n",
      "        \"public\": false,\n",
      "        \"document_list\": [\n",
      "            {\n",
      "                \"title\": \"HNRS3035_08_22_2023_MLIntro.pdf\",\n",
      "                \"hash_id\": \"3e84d5e51b2b50938ed71d644e69e6b36ffcd746c93dfa4fb58734e2f75a02c2\"\n",
      "            },\n",
      "            {\n",
      "                \"title\": \"HNRS3035_08_22_2023_MLIntro.pdf\",\n",
      "                \"hash_id\": \"5f97eadf167c346b7479594e9747713feb374f0303bd0c4bba4f95e40186a328\"\n",
      "            }\n",
      "        ]\n",
      "    }\n",
      "}\n"
     ]
    }
   ],
   "source": [
    "# Get new doc ids\n",
    "\n",
    "import requests, json\n",
    "from copy import deepcopy\n",
    "\n",
    "add_user_input = deepcopy(USER_ARGS_1)\n",
    "add_user_input.update({\n",
    "    \"collection_hash_id\": COLLECTION_ARGS[\"hash_id\"],\n",
    "})\n",
    "\n",
    "response = requests.get(\"http://localhost:8000/api/fetch_collection\", json=add_user_input)\n",
    "response.raise_for_status()\n",
    "\n",
    "result = response.json()\n",
    "\n",
    "print(json.dumps(result, indent=4))\n",
    "assert not (\"success\" in result and result[\"success\"] == False), result[\"note\"]\n",
    "\n",
    "DOC_ARGS_1 = {\"hash_id\": result[\"result\"][\"document_list\"][0][\"hash_id\"]}\n",
    "DOC_ARGS_2 = {\"hash_id\": result[\"result\"][\"document_list\"][1][\"hash_id\"]}"
   ]
  },
  {
   "cell_type": "markdown",
   "metadata": {},
   "source": [
    "### ✅ `delete_document`"
   ]
  },
  {
   "cell_type": "code",
   "execution_count": 18,
   "metadata": {},
   "outputs": [
    {
     "name": "stdout",
     "output_type": "stream",
     "text": [
      "{\n",
      "    \"success\": true\n",
      "}\n"
     ]
    }
   ],
   "source": [
    "import requests, json\n",
    "from copy import deepcopy\n",
    "\n",
    "input = deepcopy(USER_ARGS_1)\n",
    "input.update(DOC_ARGS_1)\n",
    "\n",
    "response = requests.get(\"http://localhost:8000/api/delete_document\", json=input)\n",
    "response.raise_for_status()\n",
    "\n",
    "result = response.json()\n",
    "\n",
    "print(json.dumps(result, indent=4))\n",
    "assert not (\"success\" in result and result[\"success\"] == False), result[\"note\"]"
   ]
  },
  {
   "cell_type": "markdown",
   "metadata": {},
   "source": [
    "### ✅ `get_document_secure`"
   ]
  },
  {
   "cell_type": "code",
   "execution_count": 19,
   "metadata": {},
   "outputs": [
    {
     "name": "stdout",
     "output_type": "stream",
     "text": [
      "{\n",
      "    \"auth\": {\n",
      "        \"username\": \"579f7098-c051-497e-b398-9d897041\",\n",
      "        \"password_prehash\": \"d620800f2fc8ee2e4aa965a016fd9ab446318bf3170d254588704d861a7ec9b9\"\n",
      "    },\n",
      "    \"hash_id\": \"5f97eadf167c346b7479594e9747713feb374f0303bd0c4bba4f95e40186a328\"\n",
      "}\n",
      "{\n",
      "    \"success\": true,\n",
      "    \"result\": {\n",
      "        \"password\": \"29ef617232e5edca44a9ab4f374bfd8cd417be5d138ab335d45c03bd820ee605\",\n",
      "        \"hash_id\": \"5f97eadf167c346b7479594e9747713feb374f0303bd0c4bba4f95e40186a328\"\n",
      "    }\n",
      "}\n"
     ]
    }
   ],
   "source": [
    "import requests, json\n",
    "from copy import deepcopy\n",
    "\n",
    "input = deepcopy(USER_ARGS_1)\n",
    "input.update(DOC_ARGS_2)\n",
    "\n",
    "print(json.dumps(input, indent=4))\n",
    "\n",
    "response = requests.get(\"http://localhost:8000/api/get_document_secure\", json=input)\n",
    "response.raise_for_status()\n",
    "\n",
    "result = response.json()\n",
    "\n",
    "print(json.dumps(result, indent=4))\n",
    "assert not (\"success\" in result and result[\"success\"] == False), result[\"note\"]"
   ]
  },
  {
   "cell_type": "markdown",
   "metadata": {},
   "source": [
    "### ✅ `query_database`"
   ]
  },
  {
   "cell_type": "code",
   "execution_count": 20,
   "metadata": {},
   "outputs": [
    {
     "name": "stdout",
     "output_type": "stream",
     "text": [
      "Collection Hash: ec529bfa7aab96902ceec35e40cba0c87cc7a48fed0fdaee7f08f21b62c6d33a\n"
     ]
    },
    {
     "name": "stdout",
     "output_type": "stream",
     "text": [
      "{\n",
      "    \"success\": true,\n",
      "    \"result\": [\n",
      "        {\n",
      "            \"collection_type\": \"user\",\n",
      "            \"document_id\": \"5f97eadf167c346b7479594e9747713feb374f0303bd0c4bba4f95e40186a328\",\n",
      "            \"parent_collection_hash_id\": \"ec529bfa7aab96902ceec35e40cba0c87cc7a48fed0fdaee7f08f21b62c6d33a\",\n",
      "            \"website_url\": null,\n",
      "            \"text\": \"uses artificial neural networks (ANNs)    \\n to perform    representation learning    on    \\n data.   \\n \\u2022   Representation learning, also called    \\n feature learning, is any method that    \\n learns to recognize salient    features   \\n without human input and quantify    \\n their    importance   .         \\n    Data   \\n Science   Artificial Intelligence   \\n Machine   \\n Learning   \\n Deep   \\n Learning     Expert   \\n Systems    What is It? Continued.\",\n",
      "            \"private\": false,\n",
      "            \"document_integrity\": \"f9fedd6b309833c6a40d1a63cc03bc930586308af06504408e103540278c98a0\",\n",
      "            \"id\": \"f0280529fdc0a59c4b516454a66b2e353753d3a12d4f8e41532cc411be73f851\",\n",
      "            \"document_name\": \"HNRS3035_08_22_2023_MLIntro.pdf\",\n",
      "            \"ts_content\": null\n",
      "        },\n",
      "        {\n",
      "            \"collection_type\": \"user\",\n",
      "            \"document_id\": \"5f97eadf167c346b7479594e9747713feb374f0303bd0c4bba4f95e40186a328\",\n",
      "            \"parent_collection_hash_id\": \"ec529bfa7aab96902ceec35e40cba0c87cc7a48fed0fdaee7f08f21b62c6d33a\",\n",
      "            \"website_url\": null,\n",
      "            \"text\": \"Machine   \\n Learning   \\n Deep   \\n Learning     Expert   \\n Systems    What is It? Continued.   \\n   image source: https://blog.kthais.com/representation-learning-the-core-of-machine-learning-e25fab0f3ac0            Artificial Neural Networks (ANNs)   \\n \\u2022   ANNs are composed of one or more layers of artificial functional    units   , also    \\n referred to as    neurons   .   \\n \\u2022   Each neuron integrates information from one or more other units, applies a    \\n nonlinear function to those inputs, and outputs the result.\",\n",
      "            \"private\": false,\n",
      "            \"document_integrity\": \"f9fedd6b309833c6a40d1a63cc03bc930586308af06504408e103540278c98a0\",\n",
      "            \"id\": \"f170e54640bc78c5fc09c6a2e17275df1035ecc8aa6630430748a6a24c9db314\",\n",
      "            \"document_name\": \"HNRS3035_08_22_2023_MLIntro.pdf\",\n",
      "            \"ts_content\": null\n",
      "        },\n",
      "        {\n",
      "            \"collection_type\": \"user\",\n",
      "            \"document_id\": \"5f97eadf167c346b7479594e9747713feb374f0303bd0c4bba4f95e40186a328\",\n",
      "            \"parent_collection_hash_id\": \"ec529bfa7aab96902ceec35e40cba0c87cc7a48fed0fdaee7f08f21b62c6d33a\",\n",
      "            \"website_url\": null,\n",
      "            \"text\": \"using    gradient descent    through an algorithm called    backpropagation   \\n \\u2022   The loss function is a measure that quantifies the difference between    \\n predicted values generated by a ML model and the actual target values   \\n \\u2022   Backpropagation makes small iterative changes to the model\\u2019s parameters    \\n to reduce the loss.   \\n   \\u2022   Cross-Validation    : Divide dataset into    \\n multiple subsets   \\n \\u2022   Training set: Used to adjust model weights   \\n \\u2022   Validation set: Used to assess performance    \\n duringtraining   \\n \\u2022   Testing set: Used to assess performance\",\n",
      "            \"private\": false,\n",
      "            \"document_integrity\": \"f9fedd6b309833c6a40d1a63cc03bc930586308af06504408e103540278c98a0\",\n",
      "            \"id\": \"c1c1583e32f17da8299a144d35a2c35465e21b443d1f610ef282677b4e0c456b\",\n",
      "            \"document_name\": \"HNRS3035_08_22_2023_MLIntro.pdf\",\n",
      "            \"ts_content\": null\n",
      "        },\n",
      "        {\n",
      "            \"collection_type\": \"user\",\n",
      "            \"document_id\": \"5f97eadf167c346b7479594e9747713feb374f0303bd0c4bba4f95e40186a328\",\n",
      "            \"parent_collection_hash_id\": \"ec529bfa7aab96902ceec35e40cba0c87cc7a48fed0fdaee7f08f21b62c6d33a\",\n",
      "            \"website_url\": null,\n",
      "            \"text\": \"predictions or other tasks.   \\n \\u2022   Expert systems    : Rule and logic-based systems developed manually by human    \\n experts.   \\n \\u2022   Learning systems    : Systems that learn from data (\\u201cmachine learning\\u201d)    What is it? Continued.   \\n \\u2022   Machine learning (ML) \\u2260 Artificial Intelligence (AI)   \\n \\u2022   ML is a subset of AI, which overlaps with data science   \\n \\u2022   This course focuses specifically on ML   \\n \\u2022   Deep learning    is a subset of ML that    \\n uses artificial neural networks (ANNs)    \\n to perform    representation learning    on    \\n data.\",\n",
      "            \"private\": false,\n",
      "            \"document_integrity\": \"f9fedd6b309833c6a40d1a63cc03bc930586308af06504408e103540278c98a0\",\n",
      "            \"id\": \"818d2496444efd31e98ac6ea3ef726f2ec1bf717a69ffba5a95847d2c8db88a0\",\n",
      "            \"document_name\": \"HNRS3035_08_22_2023_MLIntro.pdf\",\n",
      "            \"ts_content\": null\n",
      "        },\n",
      "        {\n",
      "            \"collection_type\": \"user\",\n",
      "            \"document_id\": \"5f97eadf167c346b7479594e9747713feb374f0303bd0c4bba4f95e40186a328\",\n",
      "            \"parent_collection_hash_id\": \"ec529bfa7aab96902ceec35e40cba0c87cc7a48fed0fdaee7f08f21b62c6d33a\",\n",
      "            \"website_url\": null,\n",
      "            \"text\": \"learns from the data itself by creating its own supervisory signal. A part    \\n of the data is used to generate labels or targets, and the model learns to    \\n predict these targets from the remaining data.   \\n \\u2022   Reinforcement Learning    : Models trained to maximize receipt of reward    \\n signals. Rewards are given for desirable behaviors/traits. Often used for    \\n control problems.    ML Model Training   \\n \\u2022   A deep learning model is trained to minimize a user-defined    loss function    \\n using    gradient descent    through an algorithm called    backpropagation\",\n",
      "            \"private\": false,\n",
      "            \"document_integrity\": \"f9fedd6b309833c6a40d1a63cc03bc930586308af06504408e103540278c98a0\",\n",
      "            \"id\": \"9a7eb3e9e4b5d73e486a94973a2daeddef4b6b560e05fa846d8a6bd221979b32\",\n",
      "            \"document_name\": \"HNRS3035_08_22_2023_MLIntro.pdf\",\n",
      "            \"ts_content\": null\n",
      "        },\n",
      "        {\n",
      "            \"collection_type\": \"user\",\n",
      "            \"document_id\": \"5f97eadf167c346b7479594e9747713feb374f0303bd0c4bba4f95e40186a328\",\n",
      "            \"parent_collection_hash_id\": \"ec529bfa7aab96902ceec35e40cba0c87cc7a48fed0fdaee7f08f21b62c6d33a\",\n",
      "            \"website_url\": null,\n",
      "            \"text\": \"\\u2022   Recurrent Neural Networks    (Rumelhart et. al., 1986): ANN architecture    \\n comprising neuron models that maintain hidden memory state.   \\n \\u2022   Short-term memory   \\n \\u2022   Impossible to parallelize & unstable training   \\n \\u2022   Long Short-term Memory    (Hochreiter et. al., 1997): More complicated RNN    \\n models with gates that modulate the flow of temporal information    \\n through the cell   \\n \\u2022   Both short and long-term memory   \\n \\u2022   Impossible to parallelize & unstable training   \\n \\u2022   Transformers    : \\u201cAttention is all you Need\\u201d (Vaswani, 2017)\",\n",
      "            \"private\": false,\n",
      "            \"document_integrity\": \"f9fedd6b309833c6a40d1a63cc03bc930586308af06504408e103540278c98a0\",\n",
      "            \"id\": \"b3f24b701f2536e29d5169366913ac84fec02a48cb3deed2f2f03640b1e3d0c5\",\n",
      "            \"document_name\": \"HNRS3035_08_22_2023_MLIntro.pdf\",\n",
      "            \"ts_content\": null\n",
      "        },\n",
      "        {\n",
      "            \"collection_type\": \"user\",\n",
      "            \"document_id\": \"5f97eadf167c346b7479594e9747713feb374f0303bd0c4bba4f95e40186a328\",\n",
      "            \"parent_collection_hash_id\": \"ec529bfa7aab96902ceec35e40cba0c87cc7a48fed0fdaee7f08f21b62c6d33a\",\n",
      "            \"website_url\": null,\n",
      "            \"text\": \"Introduction to AI/ML:    \\n Looking towards LLMs   \\n HNRS 3035   \\n Dr. James Ghawaly    What is it?   \\n \\u2022   Data science    : Study of methods and mechanisms to extract knowledge    \\n from, develop new insights, and make predictions from unstructured or    \\n structured data.   \\n \\u2022   Structured data    : Defined common format (often stored in SQL, HDF5, etc.)   \\n \\u2022   Unstructured data    : Conglomeration of native formats within defined organization    \\n structure.   \\n \\u2022   Artificial Intelligence    : Non-biological systems that \\u201cintelligently\\u201d perform    \\n predictions or other tasks.\",\n",
      "            \"private\": false,\n",
      "            \"document_integrity\": \"f9fedd6b309833c6a40d1a63cc03bc930586308af06504408e103540278c98a0\",\n",
      "            \"id\": \"b69e1c443b4dcd1f958a183e378ce6150eabe4c42eb1157d9283e39c3d36aa35\",\n",
      "            \"document_name\": \"HNRS3035_08_22_2023_MLIntro.pdf\",\n",
      "            \"ts_content\": null\n",
      "        },\n",
      "        {\n",
      "            \"collection_type\": \"user\",\n",
      "            \"document_id\": \"5f97eadf167c346b7479594e9747713feb374f0303bd0c4bba4f95e40186a328\",\n",
      "            \"parent_collection_hash_id\": \"ec529bfa7aab96902ceec35e40cba0c87cc7a48fed0fdaee7f08f21b62c6d33a\",\n",
      "            \"website_url\": null,\n",
      "            \"text\": \"meaning from human language data:   \\n \\u2022   text classification   \\n \\u2022   language generation   \\n \\u2022   sentiment analysis   \\n \\u2022   conversation   \\n \\u2022   machine translation   \\n \\u2022   Large Language Models    are deep learning models designed to understand    \\n and generate human language, capable of learning patterns, context, and    \\n semantics from vast amounts of text data.   \\n \\u2022   Probabilistic word generation   \\n \\u2022   Recent advances enabled by    transformer    architecture    LLM History   \\n \\u2022   Recurrent Neural Networks    (Rumelhart et. al., 1986): ANN architecture\",\n",
      "            \"private\": false,\n",
      "            \"document_integrity\": \"f9fedd6b309833c6a40d1a63cc03bc930586308af06504408e103540278c98a0\",\n",
      "            \"id\": \"f510451c6e420fa271ceb0f70dbed1ab542f67d3adaf57ecd306d7c46cd603b0\",\n",
      "            \"document_name\": \"HNRS3035_08_22_2023_MLIntro.pdf\",\n",
      "            \"ts_content\": null\n",
      "        },\n",
      "        {\n",
      "            \"collection_type\": \"user\",\n",
      "            \"document_id\": \"5f97eadf167c346b7479594e9747713feb374f0303bd0c4bba4f95e40186a328\",\n",
      "            \"parent_collection_hash_id\": \"ec529bfa7aab96902ceec35e40cba0c87cc7a48fed0fdaee7f08f21b62c6d33a\",\n",
      "            \"website_url\": null,\n",
      "            \"text\": \"nonlinear function to those inputs, and outputs the result.   \\n \\u2022   Each neuron-to-neuron connection (    synapse   ) scales the input signal by a    \\n tunable weight.   \\n \\u2022   Other types of layers are often embedded between neuronal layers for various    \\n purposes.                                                                  \\n    Main Types of Models   \\n \\u2022   Regression   : Models that acts as a function that predicts the value of a    \\n variable given any number of independent variables, by learning the    \\n relationship between said variables from data.\",\n",
      "            \"private\": false,\n",
      "            \"document_integrity\": \"f9fedd6b309833c6a40d1a63cc03bc930586308af06504408e103540278c98a0\",\n",
      "            \"id\": \"cc04d3b6d848a1a0d4e10e76155bfe0cf4bec2371ce3b144858ffac26607879e\",\n",
      "            \"document_name\": \"HNRS3035_08_22_2023_MLIntro.pdf\",\n",
      "            \"ts_content\": null\n",
      "        },\n",
      "        {\n",
      "            \"collection_type\": \"user\",\n",
      "            \"document_id\": \"5f97eadf167c346b7479594e9747713feb374f0303bd0c4bba4f95e40186a328\",\n",
      "            \"parent_collection_hash_id\": \"ec529bfa7aab96902ceec35e40cba0c87cc7a48fed0fdaee7f08f21b62c6d33a\",\n",
      "            \"website_url\": null,\n",
      "            \"text\": \"\\u2022   Supervised Learning    : uses labeled data to train the model    \\n \\u2022   Unsupervised learning    involves training a model on unlabeled data with the    \\n goal of finding inherent patterns, structures, or relationships within the    \\n data   \\n \\u2022   Semi-supervised Learning    is a learning paradigm that uses a combination of    \\n labeled and unlabeled data for training.    \\n \\u2022   Self-supervised Learning    is a machine learning approach where a model    \\n learns from the data itself by creating its own supervisory signal. A part\",\n",
      "            \"private\": false,\n",
      "            \"document_integrity\": \"f9fedd6b309833c6a40d1a63cc03bc930586308af06504408e103540278c98a0\",\n",
      "            \"id\": \"b53cbf6d339b44fe9e863537eff1fa01aceb07833e272f61e160060c6deab9fe\",\n",
      "            \"document_name\": \"HNRS3035_08_22_2023_MLIntro.pdf\",\n",
      "            \"ts_content\": null\n",
      "        }\n",
      "    ]\n",
      "}\n"
     ]
    }
   ],
   "source": [
    "import requests, json\n",
    "from copy import deepcopy\n",
    "\n",
    "input = deepcopy(USER_ARGS_1)\n",
    "input.update({\n",
    "    \"query\": [\"What is representation learning?\", \"What is an artificial neural network?\"],\n",
    "    # \"query\": \"Who is Catherine?\",\n",
    "    \"collection_hash_ids\": [COLLECTION_ARGS[\"hash_id\"]],\n",
    "    # \"rerank_question\": \"What is representation learning?\",\n",
    "    # \"use_rerank\": True,\n",
    "    # \"minimum_relevance\": 0.5,\n",
    "})\n",
    "\n",
    "print(\"Collection Hash:\", COLLECTION_ARGS[\"hash_id\"])\n",
    "\n",
    "response = requests.get(\"http://localhost:8000/api/query_database\", json=input)\n",
    "response.raise_for_status()\n",
    "\n",
    "result = response.json()\n",
    "\n",
    "print(json.dumps(result, indent=4))\n",
    "if \"trace\" in result:\n",
    "    print(result[\"trace\"])\n",
    "\n",
    "assert not (\"success\" in result and result[\"success\"] == False), json.dumps(result[\"trace\"], indent=4)"
   ]
  },
  {
   "cell_type": "markdown",
   "metadata": {},
   "source": [
    "### ✅ `craft_document_access_token`"
   ]
  },
  {
   "cell_type": "code",
   "execution_count": 21,
   "metadata": {},
   "outputs": [
    {
     "name": "stdout",
     "output_type": "stream",
     "text": [
      "{\n",
      "    \"success\": true,\n",
      "    \"result\": {\n",
      "        \"file_name\": \"HNRS3035_08_22_2023_MLIntro.pdf\",\n",
      "        \"access_encrypted\": \"04ce027238eedaf22b09ec32e0be3add33824b7ae47feef12b6e5b3a0d6495ca29d802062ffd3a83f8e463ed557565603bbb0d962178f34170433ba6dea735471bed6df764facd59dfa509c68869c6888dee7d52de393dfab53b1763a9220ea0be3990ba92e953987bfb89c6fec6395debe2d50cb3b20642489983ae64c070523bffc1ec8f4a44b8ded845ba6a8bfca07efdb028282f575c1b175c56a934bae69e8ff51b509134a50c83b98bbaba832243da7648f1efd85d00067b7dba1852f6e33542ebaa2596649de50bdd13c8dc3c23c865936d8adc4abe990ee924f2325abda474c8609a481ea56f50dc4f657ec856556d61f3c99f9140e5e212f7ad8f627301395fac41cea8f6a6813453c895c967db0c5589023a7fb8d0ddc462528e2bcf33391e65785f35ae9c9a15927d595e72cf2592aad4fdb67a4112261fd51fcfb2ed5a0a0094033b29489b54db9b5ed7d25420156d12e0e45be40082712653b6cf8e035af582f8568d403df64d2f3ad57e9a9dff45b08779780cbb37600e3f4c8d8b94b2e9026aa300abca4a55ee4e9cc12ea7e67eac33270e31eba02d6a3769641e626c827c9493e793e64f6bca0ac41a497b2892be7b1398d4fa657dc8f224e9a0734d9a83cd63a905d6ceaa26222abf5137f3a1056c29ce63e3613bcd62d582ac1fb759b2e5d50a6606238302909efcdda5a405c9941cbbf588053d9082873808b7f956d5b3d310feb53ff13252321a007f0c3c8ff530ee4bcecc66ae9db06fb6e16f6e\"\n",
      "    }\n",
      "}\n"
     ]
    }
   ],
   "source": [
    "import requests, json\n",
    "from copy import deepcopy\n",
    "\n",
    "input = deepcopy(USER_ARGS_1)\n",
    "input.update(DOC_ARGS_2)\n",
    "\n",
    "response = requests.get(\"http://localhost:8000/api/craft_document_access_token\", json=input)\n",
    "response.raise_for_status()\n",
    "\n",
    "result = response.json()\n",
    "\n",
    "print(json.dumps(result, indent=4))\n",
    "assert not (\"success\" in result and result[\"success\"] == False), result[\"note\"]\n",
    "\n",
    "DOCUMENT_AUTH_ACCESS = {\"document_auth_access\": result[\"result\"][\"access_encrypted\"]}"
   ]
  },
  {
   "cell_type": "markdown",
   "metadata": {},
   "source": [
    "### ✅ `fetch_document`"
   ]
  },
  {
   "cell_type": "code",
   "execution_count": 22,
   "metadata": {},
   "outputs": [
    {
     "name": "stdout",
     "output_type": "stream",
     "text": [
      "http://localhost:8000/fetch_document?parameters=%7B%22document_auth_access%22%3A+%2204ce027238eedaf22b09ec32e0be3add33824b7ae47feef12b6e5b3a0d6495ca29d802062ffd3a83f8e463ed557565603bbb0d962178f34170433ba6dea735471bed6df764facd59dfa509c68869c6888dee7d52de393dfab53b1763a9220ea0be3990ba92e953987bfb89c6fec6395debe2d50cb3b20642489983ae64c070523bffc1ec8f4a44b8ded845ba6a8bfca07efdb028282f575c1b175c56a934bae69e8ff51b509134a50c83b98bbaba832243da7648f1efd85d00067b7dba1852f6e33542ebaa2596649de50bdd13c8dc3c23c865936d8adc4abe990ee924f2325abda474c8609a481ea56f50dc4f657ec856556d61f3c99f9140e5e212f7ad8f627301395fac41cea8f6a6813453c895c967db0c5589023a7fb8d0ddc462528e2bcf33391e65785f35ae9c9a15927d595e72cf2592aad4fdb67a4112261fd51fcfb2ed5a0a0094033b29489b54db9b5ed7d25420156d12e0e45be40082712653b6cf8e035af582f8568d403df64d2f3ad57e9a9dff45b08779780cbb37600e3f4c8d8b94b2e9026aa300abca4a55ee4e9cc12ea7e67eac33270e31eba02d6a3769641e626c827c9493e793e64f6bca0ac41a497b2892be7b1398d4fa657dc8f224e9a0734d9a83cd63a905d6ceaa26222abf5137f3a1056c29ce63e3613bcd62d582ac1fb759b2e5d50a6606238302909efcdda5a405c9941cbbf588053d9082873808b7f956d5b3d310feb53ff13252321a007f0c3c8ff530ee4bcecc66ae9db06fb6e16f6e%22%7D\n"
     ]
    }
   ],
   "source": [
    "import requests, json\n",
    "from urllib.parse import urlencode\n",
    "from copy import deepcopy\n",
    "\n",
    "# input = deepcopy(USER_ARGS_1)\n",
    "input = deepcopy(DOCUMENT_AUTH_ACCESS)\n",
    "\n",
    "encoded_params = urlencode({\"parameters\": json.dumps(input)})\n",
    "\n",
    "print(\"http://localhost:8000/fetch_document?\"+encoded_params)\n",
    "\n",
    "response = requests.get(\"http://localhost:8000/api/fetch_document?\"+encoded_params)\n",
    "response.raise_for_status()\n",
    "\n",
    "# result = response.json()\n",
    "\n",
    "# print(json.dumps(result, indent=4))\n",
    "# assert not (\"success\" in result and result[\"success\"] == False), result[\"note\"]"
   ]
  },
  {
   "cell_type": "markdown",
   "metadata": {},
   "source": [
    "# Organizations"
   ]
  },
  {
   "cell_type": "markdown",
   "metadata": {},
   "source": [
    "### ✅ `create_organization`"
   ]
  },
  {
   "cell_type": "code",
   "execution_count": 23,
   "metadata": {},
   "outputs": [
    {
     "name": "stdout",
     "output_type": "stream",
     "text": [
      "{\n",
      "    \"success\": true,\n",
      "    \"result\": {\n",
      "        \"organization_id\": 1,\n",
      "        \"organization_dict\": {\n",
      "            \"hash_id\": \"f85d2763be3f3159ebe297205e70232deddb37461f6fa969b56e97f15997c1de\",\n",
      "            \"name\": \"test_org\",\n",
      "            \"public_key\": \"b33c970c01a864eddbd00269db0f5fa1d47566fc24f400675eebc1219bb6f93cc4a158f8b2466a653d8fcef1d49de6c368138ebb45a82b8f9de999bb90f38274\",\n",
      "            \"openai_organization_id_encrypted\": null,\n",
      "            \"creation_timestamp\": 1708713439.437545,\n",
      "            \"serp_api_key_encrypted\": null,\n",
      "            \"id\": 1\n",
      "        },\n",
      "        \"membership_dict\": {}\n",
      "    }\n",
      "}\n"
     ]
    }
   ],
   "source": [
    "import requests, json\n",
    "from copy import deepcopy\n",
    "\n",
    "input = deepcopy(USER_ARGS_1)\n",
    "input.update({\n",
    "    \"organization_name\": \"test_org\",\n",
    "})\n",
    "\n",
    "response = requests.get(\"http://localhost:8000/api/create_organization\", json=input)\n",
    "response.raise_for_status()\n",
    "\n",
    "result = response.json()\n",
    "\n",
    "print(json.dumps(result, indent=4))\n",
    "assert not (\"success\" in result and result[\"success\"] == False), result[\"note\"]\n",
    "\n",
    "ORG_ARGS = result[\"result\"][\"organization_dict\"]"
   ]
  },
  {
   "cell_type": "markdown",
   "metadata": {},
   "source": [
    "### ✅ `set_organization_openai_id`"
   ]
  },
  {
   "cell_type": "code",
   "execution_count": 24,
   "metadata": {},
   "outputs": [
    {
     "name": "stdout",
     "output_type": "stream",
     "text": [
      "{\n",
      "    \"success\": true\n",
      "}\n"
     ]
    }
   ],
   "source": [
    "import requests, json\n",
    "from copy import deepcopy\n",
    "\n",
    "input = deepcopy(USER_ARGS_1)\n",
    "input.update({\n",
    "    \"openai_organization_id\": \"org-1111111111111111111111111\"\n",
    "})\n",
    "input.update({\n",
    "    \"organization_hash_id\": ORG_ARGS[\"hash_id\"]\n",
    "})\n",
    "\n",
    "response = requests.get(\"http://localhost:8000/api/set_organization_openai_id\", json=input)\n",
    "response.raise_for_status()\n",
    "\n",
    "result = response.json()\n",
    "\n",
    "print(json.dumps(result, indent=4))\n",
    "assert not (\"success\" in result and result[\"success\"] == False), result[\"note\"]"
   ]
  },
  {
   "cell_type": "markdown",
   "metadata": {},
   "source": [
    "### ✅ `invite_user_to_organization`"
   ]
  },
  {
   "cell_type": "code",
   "execution_count": 25,
   "metadata": {},
   "outputs": [
    {
     "name": "stdout",
     "output_type": "stream",
     "text": [
      "{\n",
      "    \"success\": true\n",
      "}\n"
     ]
    }
   ],
   "source": [
    "import requests, json\n",
    "from copy import deepcopy\n",
    "\n",
    "input = deepcopy(USER_ARGS_1)\n",
    "input.update({\n",
    "    \"username_to_invite\": USERNAME_2,\n",
    "    \"organization_id\": ORG_ARGS[\"id\"],\n",
    "    \"member_class\": \"member\"\n",
    "})\n",
    "\n",
    "response = requests.get(\"http://localhost:8000/api/invite_user_to_organization\", json=input)\n",
    "response.raise_for_status()\n",
    "\n",
    "result = response.json()\n",
    "\n",
    "print(json.dumps(result, indent=4))\n",
    "assert not (\"success\" in result and result[\"success\"] == False), result[\"note\"]"
   ]
  },
  {
   "cell_type": "markdown",
   "metadata": {},
   "source": [
    "### ✅ `fetch_memberships`"
   ]
  },
  {
   "cell_type": "code",
   "execution_count": 26,
   "metadata": {},
   "outputs": [
    {
     "name": "stdout",
     "output_type": "stream",
     "text": [
      "{\n",
      "    \"success\": true,\n",
      "    \"result\": {\n",
      "        \"memberships\": [\n",
      "            {\n",
      "                \"organization_id\": 1,\n",
      "                \"organization_name\": \"test_org\",\n",
      "                \"role\": \"member\",\n",
      "                \"invite_still_open\": true,\n",
      "                \"sender\": \"579f7098-c051-497e-b398-9d897041\"\n",
      "            }\n",
      "        ],\n",
      "        \"admin\": false\n",
      "    }\n",
      "}\n"
     ]
    }
   ],
   "source": [
    "import requests, json\n",
    "from copy import deepcopy\n",
    "\n",
    "input = deepcopy(USER_ARGS_2)\n",
    "input.update({\n",
    "    \"return_subset\" : \"all\"\n",
    "})\n",
    "\n",
    "response = requests.get(\"http://localhost:8000/api/fetch_memberships\", json=input)\n",
    "response.raise_for_status()\n",
    "\n",
    "result = response.json()\n",
    "\n",
    "print(json.dumps(result, indent=4))\n",
    "assert not (\"success\" in result and result[\"success\"] == False), result[\"note\"]\n",
    "INVITATION = result[\"result\"][\"memberships\"][0]\n"
   ]
  },
  {
   "cell_type": "markdown",
   "metadata": {},
   "source": [
    "### ✅ `resolve_organization_invitation`"
   ]
  },
  {
   "cell_type": "code",
   "execution_count": 27,
   "metadata": {},
   "outputs": [
    {
     "name": "stdout",
     "output_type": "stream",
     "text": [
      "{\n",
      "    \"success\": true\n",
      "}\n"
     ]
    }
   ],
   "source": [
    "import requests, json\n",
    "from copy import deepcopy\n",
    "\n",
    "input = deepcopy(USER_ARGS_2)\n",
    "input.update({\n",
    "    \"organization_id\": INVITATION[\"organization_id\"],\n",
    "    \"accept\": True\n",
    "})\n",
    "\n",
    "response = requests.get(\"http://localhost:8000/api/resolve_organization_invitation\", json=input)\n",
    "response.raise_for_status()\n",
    "\n",
    "result = response.json()\n",
    "\n",
    "print(json.dumps(result, indent=4))\n",
    "assert not (\"success\" in result and result[\"success\"] == False), result[\"note\"]"
   ]
  },
  {
   "cell_type": "markdown",
   "metadata": {},
   "source": [
    "### ✅ `fetch_memberships_of_organization`"
   ]
  },
  {
   "cell_type": "code",
   "execution_count": 28,
   "metadata": {},
   "outputs": [
    {
     "name": "stdout",
     "output_type": "stream",
     "text": [
      "{\n",
      "    \"success\": true,\n",
      "    \"result\": {\n",
      "        \"memberships\": [\n",
      "            {\n",
      "                \"organization_id\": 1,\n",
      "                \"organization_name\": \"test_org\",\n",
      "                \"role\": \"owner\",\n",
      "                \"username\": \"579f7098-c051-497e-b398-9d897041\",\n",
      "                \"invite_still_open\": false\n",
      "            },\n",
      "            {\n",
      "                \"organization_id\": 1,\n",
      "                \"organization_name\": \"test_org\",\n",
      "                \"role\": \"member\",\n",
      "                \"username\": \"768fb252-4f54-4338-a20a-8635649c\",\n",
      "                \"invite_still_open\": false\n",
      "            }\n",
      "        ]\n",
      "    }\n",
      "}\n"
     ]
    }
   ],
   "source": [
    "import requests, json\n",
    "from copy import deepcopy\n",
    "\n",
    "input = deepcopy(USER_ARGS_1)\n",
    "input.update({\n",
    "    \"organization_id\": INVITATION[\"organization_id\"],\n",
    "})\n",
    "\n",
    "response = requests.get(\"http://localhost:8000/api/fetch_memberships_of_organization\", json=input)\n",
    "response.raise_for_status()\n",
    "\n",
    "result = response.json()\n",
    "\n",
    "print(json.dumps(result, indent=4))\n",
    "assert not (\"success\" in result and result[\"success\"] == False), result[\"note\"]"
   ]
  },
  {
   "cell_type": "markdown",
   "metadata": {},
   "source": [
    "# Web Search"
   ]
  },
  {
   "cell_type": "markdown",
   "metadata": {},
   "source": [
    "### ✅ `set_user_serp_key`"
   ]
  },
  {
   "cell_type": "code",
   "execution_count": 29,
   "metadata": {},
   "outputs": [
    {
     "name": "stdout",
     "output_type": "stream",
     "text": [
      "{\n",
      "    \"success\": true\n",
      "}\n"
     ]
    }
   ],
   "source": [
    "import requests, json\n",
    "from copy import deepcopy\n",
    "\n",
    "input = deepcopy(USER_ARGS_1)\n",
    "input.update({\n",
    "    \"serp_key\" : \"test_serp_key\"\n",
    "})\n",
    "\n",
    "response = requests.get(\"http://localhost:8000/api/set_user_serp_key\", json=input)\n",
    "response.raise_for_status()\n",
    "\n",
    "result = response.json()\n",
    "\n",
    "print(json.dumps(result, indent=4))\n",
    "assert not (\"success\" in result and result[\"success\"] == False), result[\"note\"]"
   ]
  },
  {
   "cell_type": "markdown",
   "metadata": {},
   "source": [
    "### ✅ `set_organization_serp_key`"
   ]
  },
  {
   "cell_type": "code",
   "execution_count": 30,
   "metadata": {},
   "outputs": [
    {
     "name": "stdout",
     "output_type": "stream",
     "text": [
      "{\n",
      "    \"success\": true\n",
      "}\n"
     ]
    }
   ],
   "source": [
    "import requests, json\n",
    "from copy import deepcopy\n",
    "\n",
    "input = deepcopy(USER_ARGS_1)\n",
    "input.update({\n",
    "    \"serp_key\" : \"test_serp_key\",\n",
    "    \"organization_hash_id\": ORG_ARGS[\"hash_id\"]\n",
    "})\n",
    "\n",
    "response = requests.get(\"http://localhost:8000/api/set_organization_serp_key\", json=input)\n",
    "response.raise_for_status()\n",
    "\n",
    "result = response.json()\n",
    "\n",
    "print(json.dumps(result, indent=4))\n",
    "assert not (\"success\" in result and result[\"success\"] == False), result[\"note\"]"
   ]
  },
  {
   "cell_type": "markdown",
   "metadata": {},
   "source": [
    "### ✅ `get_serp_key`"
   ]
  },
  {
   "cell_type": "code",
   "execution_count": 31,
   "metadata": {},
   "outputs": [
    {
     "name": "stdout",
     "output_type": "stream",
     "text": [
      "{\n",
      "    \"success\": true,\n",
      "    \"result\": {\n",
      "        \"serp_key\": \"test_serp_key\"\n",
      "    }\n",
      "}\n"
     ]
    }
   ],
   "source": [
    "import requests, json\n",
    "from copy import deepcopy\n",
    "\n",
    "input = deepcopy(USER_ARGS_1)\n",
    "\n",
    "response = requests.get(\"http://localhost:8000/api/get_serp_key\", json=input)\n",
    "response.raise_for_status()\n",
    "\n",
    "result = response.json()\n",
    "\n",
    "print(json.dumps(result, indent=4))\n",
    "assert not (\"success\" in result and result[\"success\"] == False), result[\"note\"]"
   ]
  },
  {
   "cell_type": "markdown",
   "metadata": {},
   "source": [
    "### ❌ `search_google`"
   ]
  },
  {
   "cell_type": "code",
   "execution_count": 32,
   "metadata": {},
   "outputs": [
    {
     "name": "stdout",
     "output_type": "stream",
     "text": [
      "{\n",
      "    \"success\": false,\n",
      "    \"error\": \"search_google() missing 1 required positional argument: 'query'\",\n",
      "    \"trace\": \"Traceback (most recent call last):\\n  File \\\"/home/kyle_m/QueryLake_Development/QueryLakeBackend/./server.py\\\", line 420, in api_general_call\\n    args_get = function_actual(**true_args)\\nTypeError: search_google() missing 1 required positional argument: 'query'\\n\"\n",
      "}\n"
     ]
    },
    {
     "ename": "KeyError",
     "evalue": "'note'",
     "output_type": "error",
     "traceback": [
      "\u001b[0;31m---------------------------------------------------------------------------\u001b[0m",
      "\u001b[0;31mKeyError\u001b[0m                                  Traceback (most recent call last)",
      "Cell \u001b[0;32mIn[32], line 12\u001b[0m\n\u001b[1;32m      9\u001b[0m result \u001b[38;5;241m=\u001b[39m response\u001b[38;5;241m.\u001b[39mjson()\n\u001b[1;32m     11\u001b[0m \u001b[38;5;28mprint\u001b[39m(json\u001b[38;5;241m.\u001b[39mdumps(result, indent\u001b[38;5;241m=\u001b[39m\u001b[38;5;241m4\u001b[39m))\n\u001b[0;32m---> 12\u001b[0m \u001b[38;5;28;01massert\u001b[39;00m \u001b[38;5;129;01mnot\u001b[39;00m (\u001b[38;5;124m\"\u001b[39m\u001b[38;5;124msuccess\u001b[39m\u001b[38;5;124m\"\u001b[39m \u001b[38;5;129;01min\u001b[39;00m result \u001b[38;5;129;01mand\u001b[39;00m result[\u001b[38;5;124m\"\u001b[39m\u001b[38;5;124msuccess\u001b[39m\u001b[38;5;124m\"\u001b[39m] \u001b[38;5;241m==\u001b[39m \u001b[38;5;28;01mFalse\u001b[39;00m), \u001b[43mresult\u001b[49m\u001b[43m[\u001b[49m\u001b[38;5;124;43m\"\u001b[39;49m\u001b[38;5;124;43mnote\u001b[39;49m\u001b[38;5;124;43m\"\u001b[39;49m\u001b[43m]\u001b[49m\n",
      "\u001b[0;31mKeyError\u001b[0m: 'note'"
     ]
    }
   ],
   "source": [
    "import requests, json\n",
    "from copy import deepcopy\n",
    "\n",
    "input = deepcopy(USER_ARGS_1)\n",
    "\n",
    "response = requests.get(\"http://localhost:8000/api/search_google\", json=input)\n",
    "response.raise_for_status()\n",
    "\n",
    "result = response.json()\n",
    "\n",
    "print(json.dumps(result, indent=4))\n",
    "assert not (\"success\" in result and result[\"success\"] == False), result[\"note\"]"
   ]
  },
  {
   "cell_type": "markdown",
   "metadata": {},
   "source": [
    "### ❌ `perform_search_query`"
   ]
  },
  {
   "cell_type": "code",
   "execution_count": null,
   "metadata": {},
   "outputs": [],
   "source": [
    "import requests, json\n",
    "from copy import deepcopy\n",
    "\n",
    "input = deepcopy(USER_ARGS_1)\n",
    "\n",
    "response = requests.get(\"http://localhost:8000/api/perform_search_query\", json=input)\n",
    "response.raise_for_status()\n",
    "\n",
    "result = response.json()\n",
    "\n",
    "print(json.dumps(result, indent=4))\n",
    "assert not (\"success\" in result and result[\"success\"] == False), result[\"note\"]"
   ]
  },
  {
   "cell_type": "markdown",
   "metadata": {},
   "source": [
    "# Model calls"
   ]
  },
  {
   "cell_type": "markdown",
   "metadata": {},
   "source": [
    "### ✅ `api/llm`"
   ]
  },
  {
   "cell_type": "code",
   "execution_count": null,
   "metadata": {},
   "outputs": [
    {
     "name": "stdout",
     "output_type": "stream",
     "text": [
      "1. **Introduction**\n",
      "\n",
      "The Riemann-Roch Theorem is a fundamental result in number theory that relates the distribution of prime numbers to the arithmetic genus of algebraic varieties. It was first proved by Bernhard Riemann in 1859 and later refined by Peter Weierstrass in 1867.\n",
      "2. **Statement of the Theorem**\n",
      "\n",
      "Let k be a field of characteristic zero, let X be a smooth projective variety over k, and let n be an integer greater than or equal to 1. Then there exists a natural transformation φ : H^0(X,Ω\\_k) → H^n(X,K\\_k), where Ω\\_k is the line bundle of differential forms on X and K\\_k is the canonical line bundle on X. The Riemann-Roch Theorem states that the dimension of the kernel of φ is given by the formula:\n",
      "\n",
      "dim ker φ = n! \\* (q^n - 1)/(n+1)\n",
      "\n",
      "where q is the cardinality of the base field k.\n",
      "3. **Proof Overview**\n",
      "\n",
      "The proof of the Riemann-Roch Theorem involves several key steps. First, one shows that the cohomology groups H^i(X,L) are vector spaces over k for all line bundles L on X and all integers i. Next, one uses the Serre duality formula to relate the cohomology groups H^i(X,L) to the cohomology groups H^{n-i}(X,L\\*)^*, where L\\* denotes the dual line bundle of L and \\* denotes the dual space. Finally, one applies the Chern character formula to compute the dimension of the kernel of φ using the Euler characteristics of the line bundles involved.\n",
      "4. **Applications**\n",
      "\n",
      "The Riemann-Roch Theorem has many important applications in number theory and algebraic geometry. For example, it allows one to determine the distribution of prime numbers modulo p, where p is a prime number, by counting the number of solutions to certain Diophantine equations involving the modular form j(z) = z + 1/p. It also provides a powerful tool for studying the arithmetic properties of elliptic curves and other types of curves defined by cubic equations in two variables.\n",
      "\n",
      "\n",
      "FINISHED RESPONSE WITH   510 tokens,  141.16 t/s, ( 0.1023 -  3.7083): ['What is the Riemann-Roch theorem?', '1. **Introduction**\\n\\nThe Riemann-Roch Theorem is a fundamental result in number theory that relates the distribution of prime numbers to the arithmetic genus of algebraic varieties. It was first proved by Bernhard Riemann in 1859 and later refined by Peter Weierstrass in 1867.\\n2. **Statement of the Theorem**\\n\\nLet k be a field of characteristic zero, let X be a smooth projective variety over k, and let n be an integer greater than or equal to 1. Then there exists a natural transformation φ : H^0(X,Ω\\\\_k) → H^n(X,K\\\\_k), where Ω\\\\_k is the line bundle of differential forms on X and K\\\\_k is the canonical line bundle on X. The Riemann-Roch Theorem states that the dimension of the kernel of φ is given by the formula:\\n\\ndim ker φ = n! \\\\* (q^n - 1)/(n+1)\\n\\nwhere q is the cardinality of the base field k.\\n3. **Proof Overview**\\n\\nThe proof of the Riemann-Roch Theorem involves several key steps. First, one shows that the cohomology groups H^i(X,L) are vector spaces over k for all line bundles L on X and all integers i. Next, one uses the Serre duality formula to relate the cohomology groups H^i(X,L) to the cohomology groups H^{n-i}(X,L\\\\*)^*, where L\\\\* denotes the dual line bundle of L and \\\\* denotes the dual space. Finally, one applies the Chern character formula to compute the dimension of the kernel of φ using the Euler characteristics of the line bundles involved.\\n4. **Applications**\\n\\nThe Riemann-Roch Theorem has many important applications in number theory and algebraic geometry. For example, it allows one to determine the distribution of prime numbers modulo p, where p is a prime number, by counting the number of solutions to certain Diophantine equations involving the modular form j(z) = z + 1/p. It also provides a powerful tool for studying the arithmetic properties of elliptic curves and other types of curves defined by cubic equations in two variables.']\n"
     ]
    }
   ],
   "source": [
    "import requests, json, time\n",
    "from copy import deepcopy\n",
    "\n",
    "prompt = \"What is the Riemann-Roch theorem?\"\n",
    "\n",
    "system_instruction = \"You are a general answering assistant that can comply with any request.\\n\\nYou always answer with markdown formatting. You will be penalized if you do not answer with markdown when it would be possible.\\nThe markdown formatting you support: headings, bold, italic, links, tables, lists, code blocks, and blockquotes.\\nYou do not support images and never include images. You will be penalized if you render images.\\n\\nAlways use markdown code blocks for code, and always use MathJax with LaTeX formatting for pure math expressions.\\nFor example code would look like:\\n```python\\n*Python code here\\n```\\nAnd math expressions would look like:\\n$$P(y|x) = \\\\frac{{P(x|y) \\\\cdot P(y)}}{{P(x)}}$$\"\n",
    "prompt_formatted = f\"<s>[INST] <<SYS>>\\n{system_instruction}\\n<</SYS>>\\n{prompt} [/INST] \"\n",
    "\n",
    "sample_input = {\n",
    "    \"model_choice\": \"mistral-7b-instruct-v0.1\",\n",
    "    \"prompt\": prompt_formatted, \n",
    "    # \"stream\": True, \n",
    "    \"stream_response_normal\": True,\n",
    "    \"max_tokens\": 1000, \n",
    "    \"temperature\": 0.5, \n",
    "    \"top_p\": 0.9, \n",
    "    \"repetition_penalty\": 1.15,\n",
    "    \"stop\": [\"</s>\"],\n",
    "}\n",
    "\n",
    "input = deepcopy(USER_ARGS_1)\n",
    "input.update({\n",
    "    \"model_parameters\": sample_input\n",
    "})\n",
    "\n",
    "\n",
    "global_start_time = time.time()\n",
    "\n",
    "response = requests.get(f\"http://localhost:8000/api/llm\", json=input, stream=True)\n",
    "response.raise_for_status()\n",
    "response_completed = \"\"\n",
    "start_time, token_count = time.time(), 0\n",
    "for chunk_raw in response.iter_content(chunk_size=None, decode_unicode=True):\n",
    "    # print(chunk_raw)\n",
    "    if token_count == 0:\n",
    "        start_time = time.time()\n",
    "    chunk_decoded = chunk_raw.decode(\"utf-8\")\n",
    "    # print(chunk_decoded)\n",
    "    chunk = json.loads(chunk_decoded)\n",
    "    response_completed += chunk[\"text\"]\n",
    "    print(chunk[\"text\"], end=\"\")\n",
    "    \n",
    "    token_count += 1\n",
    "end_time = time.time()\n",
    "time_taken = end_time - start_time\n",
    "print(\"\\n\\n\\nFINISHED RESPONSE WITH %5d tokens, %7.2f t/s, (%7.4f - %7.4f):\" % (token_count, (token_count-1) / time_taken, start_time - global_start_time, end_time - global_start_time), [prompt, response_completed])"
   ]
  },
  {
   "cell_type": "markdown",
   "metadata": {},
   "source": [
    "### ✅ `api/rerank`"
   ]
  },
  {
   "cell_type": "code",
   "execution_count": null,
   "metadata": {},
   "outputs": [
    {
     "name": "stdout",
     "output_type": "stream",
     "text": [
      "RUNNING RERANK\n"
     ]
    },
    {
     "name": "stdout",
     "output_type": "stream",
     "text": [
      "FINISHED RESPONSE in  0.13s: [[['What is the square root of 169?', 'cupcake'], ['What is the derivative of sin(cos(x))?', 'math'], ['What is the square root of 169?', 'math'], ['What is the derivative of sin(cos(x))?', 'math']], [3.897864371538162e-05, 0.5604241490364075, 0.025300389155745506, 0.5604241490364075]]\n",
      "FINISHED RESPONSE in  0.13s: [[['What is the square root of 169?', 'The square root of 169 is 13.'], ['What is the derivative of sin(cos(x))?', \"What is the derivative of sin(cos(x))? Well, it's a bit complicated. The derivative of sin(cos(x)) is cos(cos(x)) * -sin(x).\"]], [30.256925582885742, 100.0]]\n"
     ]
    }
   ],
   "source": [
    "import requests\n",
    "from threading import Thread\n",
    "import time, json\n",
    "from copy import deepcopy\n",
    "\n",
    "prompts_rerank = [\n",
    "    [\n",
    "        [\"What is the square root of 169?\", \"The square root of 169 is 13.\"],\n",
    "        [\"What is the derivative of sin(cos(x))?\", \"What is the derivative of sin(cos(x))? Well, it's a bit complicated. The derivative of sin(cos(x)) is cos(cos(x)) * -sin(x).\"],\n",
    "    ], [\n",
    "        [\"What is the square root of 169?\", \"cupcake\"],\n",
    "        [\"What is the derivative of sin(cos(x))?\", \"math\"],\n",
    "        [\"What is the square root of 169?\", \"math\"],\n",
    "        [\"What is the derivative of sin(cos(x))?\", \"math\"],\n",
    "    ]\n",
    "]\n",
    "\n",
    "def get_response(prompt_input):\n",
    "    \n",
    "    input = {\"auth\": {\"api_key\": API_KEY_1}}\n",
    "    input.update({\n",
    "        \"inputs\": prompt_input\n",
    "    })\n",
    "    \n",
    "    time_start = time.time()\n",
    "    response = requests.get(f\"http://localhost:8000/api/rerank\", json=input)\n",
    "    response.raise_for_status()\n",
    "    \n",
    "    response_value = response.json()\n",
    "    response_value = response_value[\"result\"]\n",
    "    time_end = time.time()\n",
    "    time_taken = time_end - time_start\n",
    "    \n",
    "    print(\"FINISHED RESPONSE in %5.2fs:\" % (time_taken), [prompt_input, response_value])\n",
    "\n",
    "print(\"RUNNING RERANK\")\n",
    "for p in prompts_rerank:\n",
    "    # time.sleep(0.5)\n",
    "    Thread(target=get_response, args=(p,)).start()"
   ]
  },
  {
   "cell_type": "markdown",
   "metadata": {},
   "source": [
    "### ✅ `api/embedding`"
   ]
  },
  {
   "cell_type": "code",
   "execution_count": null,
   "metadata": {},
   "outputs": [
    {
     "name": "stdout",
     "output_type": "stream",
     "text": [
      "[[0.004660115111619234, 0.04424992576241493, 0.03206033259630203, 0.015540085732936859, -0.07083090394735336, 0.014493962749838829, 0.037161651998758316, -0.006692938972264528, 0.004224649630486965, 0.06146269664168358, 0.0532367005944252, 0.021600835025310516, -0.01339556835591793, -0.009147833101451397, 0.026184620335698128, -0.009521621279418468, -0.06039206683635712, 0.020956721156835556, -0.036377497017383575, -0.0008347317343577743, 0.021165553480386734, -0.0019712781067937613, -0.05077820271253586, 0.0019926640670746565, -0.004751457367092371, 0.041612204164266586, 0.06958159804344177, 0.012141627259552479, 0.01907825469970703, 0.041103970259428024, 0.023437444120645523, -0.0035393547732383013, 0.021110400557518005, -0.060597002506256104, -0.03333151713013649, -0.03125382959842682, 0.01430603489279747, -0.02168005146086216, -0.002093435265123844, -0.047682084143161774, -0.005268718581646681, -0.01609364151954651, 0.02111591398715973, 0.003705315524712205, -0.009754703380167484, 0.001331852050498128, -0.06717215478420258, -0.024609483778476715, 0.013188931159675121, -0.034951381385326385, -0.04901696369051933, -0.010082964785397053, 0.03262008726596832, -0.036118149757385254, 0.007519624195992947, -0.00990979466587305, -0.03447924554347992, 0.03192347288131714, -0.015022561885416508, 0.03421944007277489, 0.002254104008898139, -0.028163624927401543, -0.028602462261915207, -0.018980415537953377, -0.007667706813663244, 0.00998383667320013, 0.012398460879921913, -0.0008830976439639926, 0.005158781539648771, -0.006486912723630667, 0.02407698705792427, 0.02672629803419113, 0.02162841521203518, -0.004646386951208115, -0.0037965381052345037, 0.03393932804465294, 0.028590291738510132, 0.015201522968709469, -0.05386972054839134, 0.044039078056812286, -0.019153064116835594, 0.015554028563201427, -0.0596509724855423, -0.007481791079044342, -0.04497849941253662, -0.08776037395000458, -0.001102148788049817, -0.016708076000213623, 0.006057317368686199, -0.05519504100084305, 0.025026369839906693, 0.03641243278980255, 0.0009988993406295776, 0.04260963574051857, 0.06382302939891815, 0.025201594457030296, -0.021547190845012665, 0.026324285194277763, -0.009636150673031807, 0.030171599239110947, 0.040234364569187164, 0.030923595651984215, 0.0026203265879303217, 0.03177845850586891, -0.042451780289411545, 0.02861073799431324, -0.0013153975596651435, 0.025431059300899506, 0.017488261684775352, -0.02922084368765354, 0.02915443666279316, -0.02317041903734207, -0.02680084854364395, 0.022814692929387093, -0.02747960388660431, 0.02348901890218258, -0.0012067792704328895, 0.05777804180979729, -0.038014624267816544, -0.036076415330171585, -0.00341932219453156, -0.008197588846087456, 0.005665136501193047, 0.04258115962147713, -0.008647613227367401, -0.007083192002028227, -0.01960640959441662, -0.004654702730476856, -0.041372790932655334, 0.02974669635295868, 0.01397645752876997, 0.003229953581467271, -0.01328688208013773, 0.02134111151099205, -0.011418209411203861, 0.03945213928818703, 0.016023842617869377, 0.022341258823871613, 0.021965526044368744, -0.013693492859601974, 0.023950062692165375, 0.008828261867165565, -0.03278150409460068, 0.07200416177511215, -0.03125437721610069, -0.019290614873170853, -0.014275909401476383, 0.026768088340759277, -0.0024595048744231462, 0.04248379170894623, 0.0016347657656297088, 0.019152147695422173, 0.009366636164486408, -0.0048805177211761475, 0.040045857429504395, -0.012981776148080826, 0.01364577654749155, 0.010265232995152473, -0.01908656768500805, 0.03304051607847214, 0.020326664671301842, -0.011802407912909985, 0.025800947099924088, 0.028663020581007004, -0.009230971336364746, 0.04473234340548515, -0.0045124986208975315, -0.033330321311950684, -0.056727588176727295, -0.022629518061876297, -0.025685347616672516, 0.011790563352406025, -0.05442062020301819, 0.0037187400739639997, -0.011655953712761402, 0.05114255100488663, 0.016819898039102554, -0.0018101814202964306, -0.027203364297747612, 0.021596519276499748, -0.01087072305381298, -0.03580619767308235, 0.013444161973893642, 0.07816322892904282, 0.02394620142877102, 0.01813828945159912, -0.052433669567108154, -0.01191822998225689, -0.04003845155239105, -0.005369542166590691, -0.0003021408920176327, 0.009688499383628368, 0.008941317908465862, 0.02352096326649189, -0.0440080389380455, -0.011594624258577824, -0.02125139720737934, -0.034409862011671066, -0.030799714848399162, -0.04973743110895157, -0.030612071976065636, 0.04057953506708145, 0.005907522514462471, 0.03660435229539871, -0.035886410623788834, -0.035694655030965805, 0.03299315273761749, 0.059023499488830566, -0.022465573623776436, -0.018100224435329437, 0.03997616469860077, -0.029022997245192528, -0.025484846904873848, 0.012068680487573147, 0.03242707625031471, 0.029703998938202858, -0.02578704059123993, 0.03418319672346115, -0.022334251552820206, 0.030868882313370705, 0.003497464582324028, 0.07777278870344162, -0.002720506163313985, 0.06259467452764511, 0.013328111730515957, -0.02011774107813835, -0.005857066251337528, 0.03988831490278244, -0.014470874331891537, 0.01605203188955784, -0.03113296627998352, 0.05220764875411987, 0.06715922802686691, -0.011280032806098461, -0.01751536689698696, 0.048006489872932434, 0.03167710453271866, 0.052675098180770874, 0.022100113332271576, 0.03693303465843201, 0.0036157395225018263, 0.029641952365636826, 0.040496036410331726, -0.007657541893422604, 0.001948571065440774, 0.02551107481122017, 0.029067449271678925, -8.359795901924372e-05, -0.007854893803596497, 0.04763844981789589, -0.04131520912051201, 0.008037574589252472, 0.024293312802910805, 0.025122225284576416, -0.03551333397626877, -0.022017860785126686, 0.012775935232639313, 0.05307114124298096, -0.0041752345860004425, -0.02077794075012207, 0.05434645339846611, -0.033260710537433624, 0.03429773822426796, -0.03556235134601593, 0.052577584981918335, -0.012045832350850105, 0.039082661271095276, 0.02019139565527439, -0.02625119499862194, 0.005432747770100832, 0.0036545339971780777, -0.007184106856584549, -0.038620878010988235, -0.031856294721364975, -0.0510786734521389, 0.03165687993168831, -0.0035689864307641983, -0.0037307273596525192, 0.04094908758997917, -0.003995359875261784, 0.035709261894226074, -0.009852023795247078, -0.014210036024451256, 0.012517834082245827, -0.00935339741408825, 0.04503200203180313, 0.0041115437634289265, 0.01728897914290428, -0.01715913601219654, 0.0502064973115921, -0.03698961064219475, -0.01938701421022415, 0.0598602220416069, -0.03403020277619362, 0.02551368996500969, -0.05751948431134224, -0.026624860242009163, 0.009286741726100445, -0.0030391616746783257, -0.04343954101204872, -0.016440318897366524, 0.010778109543025494, 0.009375832043588161, 0.01874634064733982, -0.03759310394525528, 0.008525747805833817, 0.002445003017783165, -0.006679802667349577, 0.021461116150021553, -0.004225988872349262, -0.039130404591560364, 0.012220838107168674, -0.024812672287225723, -0.03102717362344265, -0.03956704959273338, 0.007922797463834286, 0.04421351104974747, 0.024396246299147606, -0.037472061812877655, -0.045357633382081985, 0.009677818976342678, 0.007166127674281597, -0.037683792412281036, 0.008005153387784958, -0.019168829545378685, 0.048751380294561386, 0.03583955392241478, -0.05543883517384529, 0.005833887495100498, -0.01059989258646965, -0.05022193863987923, 0.008970821276307106, 0.005393458995968103, 0.06711786985397339, -0.0017161278519779444, 0.022909164428710938, 0.003647624282166362, 0.006646476686000824, -0.02436891198158264, 0.008071986958384514, 0.017449473962187767, -0.032336410135030746, -0.015814295038580894, -0.0027177503798156977, -0.014024159871041775, 0.016094857826828957, 0.012997682206332684, 0.0015195220476016402, -0.026115160435438156, -0.018856674432754517, -0.007019752636551857, -0.01927068643271923, -0.011807294562458992, 0.026958463713526726, 0.024227749556303024, 0.025670481845736504, -0.01029967050999403, 0.024535058066248894, 0.017466867342591286, 0.03607338294386864, 0.04158512130379677, 0.004979219753295183, -0.032624274492263794, -0.018010403960943222, -0.023730626329779625, 0.0006929627852514386, -0.03769218549132347, -0.016766423359513283, -0.011074514128267765, 0.010373754426836967, 0.03251190856099129, 0.00552911264821887, -0.035555969923734665, 0.0027424688450992107, 0.009496299549937248, 0.018394019454717636, 0.03247557207942009, 0.012962572276592255, -0.0027429559268057346, -0.04643445834517479, 0.010051914490759373, -0.027662446722388268, -0.008410320617258549, 0.02814362943172455, 0.006788916420191526, -0.024782996624708176, -0.04365602508187294, -0.026035720482468605, -0.015008107759058475, -0.008127650246024132, -0.055851664394140244, 0.009657373651862144, 0.02782447263598442, -0.0358944796025753, 0.009422983974218369, -0.022368203848600388, -0.000984066165983677, -0.01045201439410448, -0.02448497712612152, 0.005663058254867792, 0.04056834429502487, 0.04006817191839218, 0.039497412741184235, 0.0521647185087204, 0.013449268415570259, -0.024278027936816216, -0.00017886738351080567, 0.05268145725131035, 0.024369971826672554, -0.01158030703663826, 0.01262730360031128, -0.025505028665065765, 0.001426394679583609, -0.0428357794880867, 0.010756025090813637, -0.015567673370242119, -0.04383765533566475, -0.04293942078948021, -0.015977859497070312, -0.018687525764107704, -0.01976899243891239, -0.04485705494880676, -0.05175510793924332, 0.0031977847684174776, 0.036385584622621536, -0.01773979142308235, 0.026180336251854897, -0.03169222176074982, 0.021008409559726715, -0.007223454769700766, 0.03807953745126724, -0.03760065510869026, 0.007999645546078682, 0.0001345024793408811, -0.004711803514510393, -0.012711568735539913, -0.002916376106441021, 0.031232167035341263, -0.010303814895451069, -0.030869342386722565, 0.015192761085927486, 0.0376061275601387, -0.013831162825226784, 0.013745082542300224, 0.04431699961423874, 0.023106763139367104, -0.02609623223543167, 0.058432940393686295, 0.01880628988146782, -0.04609595239162445, 0.062186699360609055, -0.0622914582490921, 0.05133911967277527, -0.013309280388057232, -0.01850431226193905, 0.013986017554998398, 0.011505034752190113, -0.02437533251941204, 0.0018602063646540046, -0.00981370359659195, -0.021278955042362213, -0.05512138456106186, -0.03811744973063469, -0.004101982805877924, -0.04018889740109444, 0.013883412815630436, 0.010476457886397839, 0.08202223479747772, 0.05497919023036957, -0.00521209416911006, 0.0006524893688037992, 0.0012210721615701914, -0.006226992700248957, -0.05319710448384285, 0.006070670206099749, -0.025257429108023643, 0.018851470202207565, -0.013976733200252056, 0.004658539313822985, -0.024481266736984253, -0.03537613898515701, -0.014634901657700539, 0.0168174896389246, -0.01562298834323883, 0.0033109404612332582, -0.04457102715969086, -0.019649822264909744, 0.06123005598783493, -0.05641443282365799, -0.021534908562898636, -0.026592418551445007, -0.017299575731158257, 0.013246920891106129, -0.039897721260786057, 0.00266541657038033, 0.010422891937196255, -0.08284885436296463, -0.004806691315025091, 0.004682436585426331, 0.05222489684820175, 0.04377031698822975, 0.00441946554929018, -0.03565401956439018, 0.037154700607061386, -0.04912620037794113, 0.0023311502300202847, -0.05947219580411911, 0.007767523173242807, -0.02497769705951214, 0.038081634789705276, -0.004645973909646273, -0.01828834041953087, -0.006532191764563322, -0.027896102517843246, -0.010358505882322788, 0.012339329347014427, -0.016028033569455147, -0.0100666219368577, 0.018379483371973038, 0.051702484488487244, 0.0013899237383157015, -0.021829398348927498, 0.004030823707580566, 0.008113633841276169, -0.024833854287862778, 0.027825819328427315, -0.0027978098951280117, -0.0215054452419281, -0.07834547758102417, -0.04814682900905609, 0.024341441690921783, -0.04605250060558319, -0.05714431032538414, -0.022564776241779327, -0.049590371549129486, -0.04448920860886574, 0.03207141533493996, 0.004516822751611471, 0.030167683959007263, -0.0010532393353059888, -0.009373246692121029, 0.05119679495692253, -0.015950558707118034, -0.02084111049771309, 0.01475359033793211, 0.015383776277303696, 0.03342660889029503, -0.0011208963114768267, -0.035925544798374176, 0.0276638176292181, 0.023868011310696602, -0.018973255529999733, 0.016858631744980812, -0.0019012691918760538, -0.013006209395825863, -0.032868288457393646, 0.022571733221411705, -0.013241568580269814, -0.0010512564331293106, 0.021965989843010902, -0.05740068852901459, 0.011661108583211899, -0.003240088699385524, -0.01614018902182579, -0.02933468669652939, 0.020906789228320122, -0.014874686487019062, -0.031770553439855576, 0.01855139248073101, 0.02992195263504982, 0.06073558330535889, 0.05498046800494194, 0.013191565871238708, 0.05715484172105789, -0.006857013329863548, 0.01830952800810337, -0.02745204232633114, -0.0413372702896595, -0.036753345280885696, 0.01936331018805504, 0.050520263612270355, 0.021954335272312164, -0.006833333056420088, -0.06258175522089005, 0.034694913774728775, -0.02236625738441944, 0.008908340707421303, 0.051101863384246826, 0.00038707730709575117, 0.025361228734254837, -0.023403510451316833, 0.02580276131629944, 0.0010815260466188192, -0.03940274193882942, -0.03797160089015961, -0.025136221200227737, -0.01929335668683052, -0.004602684173732996, -0.05311895161867142, -0.015263418667018414, -0.008946308866143227, 0.012681677006185055, 0.02632581815123558, 0.024143531918525696, 0.05498930439352989, -0.0657392144203186, -0.059615932404994965, -0.00529147032648325, 0.025033576413989067, 0.006595770362764597, 0.05220450088381767, 0.034897103905677795, 0.01961439847946167, 0.021713286638259888, 0.07179494947195053, -0.006314246449619532, -0.008234350942075253, -0.02208881452679634, 0.020918797701597214, -0.0331762433052063, -0.01908758096396923, 0.05757172405719757, -0.004792705178260803, -0.05455155670642853, -0.048620838671922684, -0.020194711163640022, -0.006009240634739399, -0.017418967559933662, 0.012427134439349174, 0.003986929077655077, 0.0004862368223257363, -0.029998883605003357, 0.018630167469382286, 0.02070728875696659, 0.03035016544163227, 0.03760385140776634, -0.02974107302725315, 0.003136388259008527, -0.028393201529979706, -0.016496164724230766, 0.011172212660312653, -0.012426815927028656, -0.02343609742820263, -0.0431278795003891, -0.0192326158285141, 0.002784067764878273, 0.003958050161600113, 0.020246729254722595, -0.028799666091799736, 0.024688921868801117, 0.06741546839475632, 0.0015543157933279872, 0.045663658529520035, -0.010711095295846462, -0.01443458627909422, -0.007700780406594276, 0.025567254051566124, -0.02522464282810688, 0.00900249369442463, -0.0010046386159956455, -0.014737190678715706, 0.009497582912445068, -0.03799803927540779, 0.016455888748168945, -0.0022305776365101337, 0.02733134850859642, -0.03688890486955643, -0.0060899388045072556, -0.020812487229704857, -0.010854334570467472, -0.025377929210662842, -0.048302892595529556, -0.03327285498380661, -0.012412291020154953, 0.04840775579214096, -0.021743379533290863, 0.00967115443199873, -0.009400644339621067, 0.06343317031860352, -0.024954497814178467, 0.003960440866649151, -0.04984857514500618, 0.008558348752558231, 0.011361517943441868, 0.02471451833844185, -0.08543818444013596, -0.04328268766403198, 0.012492815032601357, 0.06142127513885498, -0.013364016078412533, 0.030206438153982162, -0.004560879897326231, -0.01501341164112091, -0.0038038729690015316, 0.0012283342657610774, -0.0006417484255507588, -0.025846373289823532, 0.051626626402139664, 0.05918914079666138, -0.04552263393998146, 0.00985598936676979, 0.05449242144823074, 0.04012918472290039, 0.0020905351266264915, -0.02920226752758026, -0.003695610212162137, 0.04534707963466644, 0.00300922361202538, 0.008536436595022678, -0.017578717321157455, -0.00027105581830255687, -0.027284909039735794, 0.003992337267845869, -0.0709206759929657, 0.0068051754496991634, -0.03560526669025421, 0.01223695743829012, -0.01719820871949196, 0.011329255998134613, -0.011222975328564644, 0.056409802287817, 0.07079309225082397, 0.020740628242492676, -0.04223191365599632, -0.006874745711684227, 0.04149356856942177, 0.046836305409669876, 0.007924207486212254, -0.04040919616818428, -0.00023856615007389337, 0.01756051369011402, -0.0006959513411857188, 0.026582131162285805, -0.005931265652179718, 0.030351530760526657, -0.01511052343994379, -0.010830121114850044, -0.022889602929353714, -0.026804298162460327, -0.08401334285736084, 0.054934173822402954, 0.019840028136968613, -0.018659375607967377, 0.034118179231882095, -0.007612309884279966, -0.05865764990448952, -0.001671260455623269, -0.059386786073446274, -0.067924864590168, 0.04664658382534981, -0.0066468496806919575, -0.028825698420405388, 0.02739645168185234, -0.05321181192994118, 0.001513125840574503, 0.012420128099620342, 0.03162505105137825, 0.007650843355804682, 0.023665593937039375, 0.001968933502212167, 0.025873105973005295, -0.007022275123745203, 0.030287718400359154, 0.019264589995145798, 0.043401919305324554, 0.008278800174593925, -0.07539959996938705, 0.021695824339985847, -0.005071685183793306, 0.04880203679203987, -0.007315176073461771, 0.022510964423418045, 0.026339128613471985, 0.02847074717283249, 0.012036032974720001, -0.03958216682076454, -0.02373996563255787, -0.03685205429792404, 0.03038174659013748, -0.05891761556267738, 0.020245900377631187, 0.01677771843969822, 0.044605351984500885, -0.010513917542994022, 0.013321015983819962, -0.024770518764853477, 0.018116936087608337, 0.05226903036236763, 0.010723382234573364, 0.007645361125469208, 0.06068160757422447, -0.05293695628643036, 0.0006243026000447571, -0.05551067739725113, 0.002658808371052146, 0.04708617925643921, 0.025942940264940262, 0.004295694641768932, -0.0018170910188928246, 0.003222937462851405, 0.013853807933628559, 0.01222584955394268, 0.03174843266606331, -0.0523616187274456, -0.024843953549861908, 0.005952241364866495, 0.0056421332992613316, 0.018929658457636833, -0.026730170473456383, -0.002957033459097147, -0.037115760147571564, -0.021245459094643593, -0.0332377590239048, -0.004545370116829872, 0.0068948520347476006, -0.01596764288842678, 0.025878435000777245, -0.012523816898465157, 0.015929333865642548, -0.004209753591567278, 0.00724808918312192, 0.012387952767312527, 0.022657165303826332, -0.008453870192170143, 0.043752919882535934, 0.021809585392475128, 0.014971708878874779, 0.0184951014816761, 0.032347019761800766, 0.005256080999970436, 0.002206045901402831, -0.03161018341779709, 0.006516442634165287, -0.013011123053729534, -0.0022686331067234278, 0.006284819915890694, -0.04527260363101959, -0.024004025384783745, 0.010899594984948635, -0.005664310418069363, -0.02811601758003235, 0.046174485236406326, -0.0435059517621994, -0.05279238149523735, 0.005663776304572821, 0.03197865188121796, -0.0272515956312418, -0.01971570961177349, -0.005392075981944799, -0.017031768336892128, -0.004044553730636835, 0.06509894132614136, -0.016003187745809555, -0.026802679523825645, 0.047559961676597595, 0.0022258951794356108, -0.004442700184881687, 0.07644783705472946, 0.03160807490348816, 0.014597594738006592, -0.012594926171004772, -0.005311698652803898, -0.046603161841630936, 0.0011039158562198281, 0.0024352094624191523, -0.017065979540348053, 0.0024193204008042812, -0.006496740970760584, 0.009716346859931946, -0.024478035047650337, -0.01951269805431366, 0.004816117696464062, -0.054408423602581024, -0.028688807040452957, 0.001212620409205556, 0.006323002744466066, 0.014477339573204517, 0.021146155893802643, 0.032806508243083954, -0.012168687768280506, -0.013357547111809254, -0.011285990476608276, -0.04800562933087349, 0.015107247047126293, -0.052627988159656525, 0.022204535081982613, -0.050145912915468216, -0.010496304370462894, -0.022229501977562904, 0.00940883718430996, 0.006138881668448448, 0.048343509435653687, 0.0014365034876391292, -0.017894648015499115, -0.007743942551314831, 0.028310732915997505, -0.026378309354186058, 0.000873055774718523, -0.02424362115561962, -0.048399630934000015, 0.025614487007260323, 0.03763335943222046, -0.027776308357715607, -0.00790912564843893, 0.02708585187792778, 0.027428466826677322, -0.05936617776751518, 0.010559058748185635, 0.0026742923073470592, -0.030437329784035683, 0.05913005769252777, -0.06331903487443924, 0.06177946552634239, -0.005395427346229553, -0.05647115036845207, 0.007156017702072859, -0.0077260639518499374, -0.04482397064566612, -0.043310437351465225, -0.09346291422843933, -0.03159160912036896, -0.006447628140449524, -0.0187417883425951, -0.004246193915605545, 0.00512215169146657, -0.027908656746149063, 0.031214721500873566, 0.02152266539633274, -0.06814664602279663, 0.2493460774421692, 0.05418259650468826, 0.02411973662674427, 0.04866495728492737, 0.01722363941371441, 0.022944988682866096, 0.009064128622412682, -0.0005637137801386416, 0.01530560664832592, -0.04502589628100395, -0.012593974359333515, 0.009855657815933228, 0.025862298905849457, 0.01157398708164692, 0.04316507652401924, 0.030793827027082443, -0.022029632702469826, 0.00824091024696827, 0.021601932123303413, -0.039133645594120026, -0.01573662832379341, 0.02188604697585106, -0.03888248652219772, 0.00030300140497274697, -0.009170133620500565, 0.022819429636001587, 0.04205826297402382, -0.042995721101760864, -0.003339719492942095, 0.0007682083523832262, 0.04857650771737099, 0.013022768311202526, -0.01770050823688507, 0.011826164089143276, -0.0052677481435239315, 0.019333720207214355, -0.06527946889400482, -0.021315453574061394, -0.028630686923861504, -0.021079031750559807, 0.0089262705296278, -0.03596196323633194, 0.02237347885966301, -0.05053618177771568, -0.005002474412322044, 0.06387884169816971, -0.004216628149151802, -0.01204153336584568, -0.01294995378702879, -0.039941344410181046, 0.02289978787302971, -0.02691332809627056, -0.01003939937800169, -0.037693317979574203, -0.05295655503869057, 0.0252770334482193, 0.015388069674372673, -0.006452799774706364, 0.012486777268350124, -0.007401707582175732, 0.014801247976720333, 0.010756639763712883, -0.02923600561916828, 0.02284943498671055, -0.0425412617623806, -0.023885877802968025, 0.00571001973003149, 0.006078472826629877, -0.04131920635700226, -0.029825007542967796, -0.0336170494556427, -0.013988856226205826, -0.007482650224119425, 0.018440458923578262, 0.045434433966875076, 0.023827752098441124, 0.014640851877629757, 0.02358800731599331, -0.01786934770643711, -0.020272444933652878, -0.04684207960963249, 0.011823565699160099, -0.006781129632145166, -0.011604397557675838, 0.008132033981382847, 0.02563631348311901, -0.03137575462460518, -0.01700642704963684, -0.026323437690734863, 0.020917100831866264, 0.026412803679704666, 0.02078920230269432, 0.049742307513952255, -0.0497957207262516, 0.0005667677614837885], [-0.0023723046761006117, 0.026205163449048996, 0.04402460530400276, -0.04619108885526657, -0.02518450655043125, -0.009148553013801575, 0.015960464254021645, 0.003543207189068198, 0.01850646547973156, 0.08979100733995438, 0.05720309540629387, 0.04522451013326645, -0.020582299679517746, -0.0058784703724086285, -0.022164927795529366, -0.002363867126405239, -0.02428886666893959, 0.007937503978610039, -0.04514848813414574, 0.007293259259313345, 0.0334661565721035, 0.042411841452121735, -0.09398587048053741, -0.020730815827846527, -0.03397157043218613, -0.020583445206284523, 0.033490199595689774, 0.019158435985445976, 0.040737833827733994, 0.08071358501911163, -0.024783024564385414, -0.006617866922169924, -0.03345632553100586, -0.0485980249941349, -0.016528798267245293, 0.006078880280256271, 0.016285302117466927, -0.04270515218377113, 0.014865132048726082, -0.05449722707271576, 0.032972272485494614, -0.002942794468253851, 0.0006992819253355265, -0.06514240801334381, -0.03182302415370941, -0.016164427623152733, -0.03830811008810997, -0.03995558246970177, -0.021113045513629913, -0.014984582550823689, 0.016588255763053894, 0.030681584030389786, 0.04709871485829353, -0.02415783889591694, -0.04796725884079933, 0.04699608311057091, 0.06101297214627266, 0.0005819420330226421, -0.004963747225701809, 0.04595131427049637, -0.030930088832974434, -0.013292480260133743, -0.022827457636594772, -0.05751969665288925, -0.004110272973775864, 0.0021788491867482662, -0.0032510170713067055, -0.0213686041533947, 0.04075487703084946, -0.006276939995586872, -0.0183266531676054, 0.011163813062012196, 0.00648417416960001, -0.0013658732641488314, -0.060241684317588806, 0.07755211740732193, -0.006955946795642376, 0.02114151604473591, 0.011713373474776745, -0.0206623412668705, 0.007741388399153948, 0.043370235711336136, -0.03617420047521591, 0.036144740879535675, -0.04260367900133133, 0.030610615387558937, 0.0147127415984869, 0.011865535750985146, 0.00879391934722662, 0.018509462475776672, 0.024496322497725487, 0.024185728281736374, -0.012585137039422989, 0.011471269652247429, 0.021906999871134758, -0.0007418064051307738, -0.0035256824921816587, -0.003578849835321307, -0.040503617376089096, -0.005481452215462923, 0.03224978968501091, 0.0062169707380235195, -0.013119150884449482, 0.011453207582235336, -0.0296426173299551, 0.06444329768419266, -0.014928465709090233, 0.02413131482899189, 0.007912038825452328, -0.06480273604393005, 0.03378753364086151, -0.010242670774459839, 0.03459608182311058, 0.02200983837246895, 0.020456770434975624, 0.033479269593954086, -0.013265876099467278, 7.341270247707143e-05, -0.026466306298971176, -0.028483403846621513, 0.03352929279208183, 0.051773812621831894, 0.026560036465525627, 0.034876368939876556, 0.004559531342238188, 0.01018339954316616, -0.035002000629901886, -0.03992984816431999, -0.04333053156733513, -0.018560271710157394, -0.013634867034852505, -0.03638424351811409, 0.008119035512208939, 0.015228052623569965, 0.029067106544971466, 0.04614139720797539, 0.00884719006717205, 0.025791674852371216, 0.018312299624085426, -0.03652259707450867, 0.04949527606368065, -0.03215130418539047, -0.0013728924095630646, 0.06498569250106812, -0.023480422794818878, -0.00603124313056469, -0.012828605249524117, 0.02037751115858555, 0.02054295316338539, 0.02938942238688469, -0.05400964245200157, -0.0023827191907912493, 0.007787532638758421, -0.03905528411269188, -0.0027856568340212107, -0.005847631953656673, 0.009442318230867386, 0.03374287113547325, 0.015505768358707428, 0.03172306343913078, -0.02437405474483967, -0.0498625747859478, 0.020274419337511063, 0.04184768721461296, -0.010521463118493557, 0.042852215468883514, -0.04211102053523064, -0.019257966428995132, -0.028507044538855553, -0.017827268689870834, 0.01991296373307705, 0.01654643379151821, -0.015745777636766434, -0.06197205185890198, 0.049256280064582825, 0.06232679262757301, 0.014178862795233727, -0.0678209662437439, -0.031608790159225464, 0.06135791167616844, -0.06743192672729492, -0.0023456618655472994, 0.023753391578793526, -0.0031780931167304516, 0.018716827034950256, 0.00021228777768556029, 0.002974126022309065, -0.009727660566568375, -0.05745625123381615, 0.009518633596599102, -0.008519092574715614, 0.011947110295295715, 0.01656515710055828, 0.03902231901884079, -0.05846911296248436, 0.006205955054610968, -0.030876468867063522, 0.0015630049165338278, -0.044515009969472885, -0.042382579296827316, 0.0013585344422608614, -0.013195144012570381, -0.03671673312783241, -0.012250607833266258, -0.05240362882614136, 0.009229463525116444, 0.0657147467136383, 0.06203855201601982, -0.040327586233615875, 0.017740152776241302, 0.043226052075624466, 0.03334386274218559, -0.05883060768246651, 0.016730427742004395, -0.014724964275956154, 0.0321301594376564, -0.0107351653277874, 0.03866153582930565, -0.028163043782114983, 0.006549021694809198, 0.05245564877986908, 0.051949307322502136, -0.004576347302645445, 0.024665988981723785, 0.04194212704896927, -0.05517425015568733, 0.022100035101175308, 0.054592713713645935, -0.01973673887550831, 0.02919336035847664, -0.019511111080646515, 0.01148993894457817, 0.009691007435321808, 0.012597279623150826, 0.01556689664721489, 0.03197018429636955, 0.041742097586393356, 0.03406444936990738, -0.020374257117509842, 0.03099377453327179, 0.01588292047381401, 0.029279636219143867, 0.02912498079240322, -0.010116342455148697, 0.0018938399152830243, 0.04730938747525215, 0.03809000924229622, 0.016004333272576332, -0.010166630148887634, 0.021244386211037636, 0.04255172610282898, 0.053616322576999664, 0.012695906683802605, 0.029939590021967888, -0.03528974577784538, -0.0019339597783982754, 0.009705943986773491, 0.029386820271611214, -0.03124374710023403, -0.045759741216897964, 0.04395264759659767, -0.018956730142235756, -0.030101081356406212, -0.020305171608924866, 0.00735491281375289, 0.01733129844069481, 0.011801536194980145, -0.02775852009654045, -0.021998396143317223, -0.06756281107664108, -0.029687469825148582, -0.043941207230091095, -0.06523551791906357, -0.0168081596493721, -0.040902163833379745, -0.03343060240149498, 0.004134824499487877, -0.004667080007493496, 0.018423225730657578, -0.015851221978664398, -0.01500567328184843, -0.02957949973642826, -0.059998903423547745, -0.03663589432835579, 0.036024387925863266, 0.01656893454492092, -0.01599959284067154, 0.01316289883106947, -0.005345161538571119, 0.05447632074356079, -0.03954937681555748, -0.0384264774620533, 0.005965712480247021, -0.01536878664046526, 0.023648109287023544, -0.0052103870548307896, 0.054372046142816544, 0.008975839242339134, 0.012580851092934608, -0.04792937636375427, 0.00036098770215176046, 0.007972990162670612, -0.062257785350084305, 0.04087253659963608, 0.0009109936654567719, -0.003216459648683667, 0.0057634757831692696, -0.0011823790846392512, 0.01080337818711996, -0.013357382267713547, -0.017959684133529663, 0.02497064508497715, 0.007076622918248177, -0.03429136425256729, -0.04039701446890831, 0.03424520418047905, -0.003345800330862403, -0.008487949147820473, -0.0215784702450037, -0.013875243254005909, -0.010897920466959476, -0.002682758728042245, -0.00292678689584136, -0.008673007600009441, -0.016285069286823273, 0.03324638307094574, 0.04158221185207367, -0.05481346696615219, 0.02297188714146614, -0.043879132717847824, -0.08940618485212326, 0.017117638140916824, -0.007341915275901556, 0.012069943360984325, -0.01595529168844223, 0.0011827705893665552, -0.024953586980700493, 0.0076460768468678, 0.029105596244335175, 0.011976978741586208, 0.0014060457469895482, -0.042944591492414474, -0.023769177496433258, -0.018506016582250595, 0.024757420644164085, -0.007162026129662991, -0.019005870446562767, -0.007519225124269724, -0.027827803045511246, 0.01686764508485794, -0.01617009937763214, -0.002998518757522106, -0.027038002386689186, 0.008578531444072723, 0.018019091337919235, 0.03467268869280815, -0.03025973029434681, 0.002857201499864459, 0.003242315026000142, 0.02671496570110321, 0.05538344010710716, -0.02907986007630825, -0.019217420369386673, -0.08231247961521149, 0.013468503952026367, -0.017286473885178566, 0.0006718691438436508, 0.029211940243840218, 0.03601393103599548, 0.020835669711232185, 0.05304373800754547, 0.008824006654322147, -0.014061219990253448, -0.02719406969845295, -0.03892778605222702, 0.0231782253831625, 0.09432504326105118, 0.016776785254478455, 0.03927306830883026, -0.03280217573046684, 0.00450245151296258, -0.02558787353336811, 0.006692929659038782, 0.011061988770961761, 0.02049272321164608, 0.02241015061736107, -0.011724360287189484, -0.025133980438113213, -0.05808958038687706, -0.07381151616573334, 0.009373925626277924, -0.022125978022813797, -0.00832665991038084, -0.04576648399233818, -0.04518498107790947, -0.0643853023648262, 0.0006862395675852895, -0.04125938192009926, -0.004230055958032608, -0.009053973481059074, 0.014717423357069492, -0.01867411658167839, -0.013296322897076607, 0.007968832738697529, -0.007577159442007542, -0.02324008382856846, -0.0029375129379332066, 0.04296722263097763, 0.014548339881002903, 0.0005295268492773175, -0.04670286551117897, -0.0014311037957668304, 0.007365595083683729, -0.007491348776966333, 0.024914950132369995, 0.029892094433307648, -0.04972611367702484, 0.004300377331674099, -0.006689713802188635, -0.011138382367789745, -0.00784212350845337, -0.025729646906256676, 0.010673612356185913, 0.01987050287425518, 0.040807634592056274, -0.05898210406303406, -0.006915995851159096, -0.06024904176592827, 0.019680248573422432, 0.03775812312960625, 0.025446666404604912, -0.011613885872066021, 0.004501652903854847, 0.022673675790429115, -0.037184782326221466, 0.005128944758325815, 0.06971051543951035, 0.03175637125968933, 0.017734039574861526, -0.041040290147066116, 0.02565772831439972, 0.019122295081615448, 0.017748326063156128, 0.0066808173432946205, 0.01987724006175995, 0.008115540258586407, -0.012294969521462917, 0.019328180700540543, 0.0023898950312286615, -0.009746909141540527, 0.0732826441526413, -0.018608348444104195, 0.0769803524017334, -0.019616510719060898, -0.024496931582689285, 7.747795461909845e-05, 0.0006140010664239526, -0.0511564165353775, 0.016272494569420815, -0.026723116636276245, 0.021039020270109177, 0.01572354882955551, 0.010440011508762836, -0.0007218490354716778, -0.026524854823946953, 0.05028030276298523, -0.016154151409864426, 0.04226864129304886, 0.04472501203417778, -0.007261360064148903, -0.01816749945282936, 0.026980772614479065, 0.03503106161952019, -0.01599067449569702, 0.0048201484605669975, -0.03621118143200874, -0.031388215720653534, -0.06046013534069061, -0.014850188978016376, 0.016913026571273804, -0.008486135862767696, 0.002296596998348832, -0.010083095170557499, -0.011726445518434048, 0.041273411363363266, -0.02285127155482769, -0.015748795121908188, -0.021421054378151894, -0.007366827689111233, 0.007993611507117748, -0.022752447053790092, -0.014176668599247932, -0.04295685887336731, -0.08250956237316132, -0.0009516875725239515, -0.027882419526576996, -0.024845479056239128, 0.012951263226568699, -0.0010796025162562728, 0.04250344634056091, -0.0016617759829387069, -0.012597698718309402, -0.036386944353580475, 0.01832066848874092, -0.007036774419248104, 0.023668197914958, -0.011867893859744072, -0.006017210893332958, -0.02715921960771084, -0.004137617535889149, -0.024387406185269356, -0.008961265906691551, 0.041217513382434845, 0.015259395353496075, -0.009054021909832954, 0.04437563940882683, -0.00244073080830276, 0.028898725286126137, -0.031592413783073425, 0.06634864211082458, 0.03825977072119713, -0.058426689356565475, -0.03994869440793991, -0.006923846434801817, -0.0069017899222671986, 0.004579603672027588, 0.006399659905582666, -0.015945754945278168, -0.011128904297947884, -0.009199639782309532, 0.03656703233718872, -0.053463131189346313, -0.02027488872408867, -0.02694718725979328, -0.01808609999716282, 0.006835351698100567, 0.005776607897132635, -0.019066892564296722, -0.005186205264180899, -0.04221123456954956, -0.07419076561927795, 0.022696249186992645, -0.002043662127107382, 0.01561448723077774, -0.01713796891272068, -0.014534018002450466, 0.019872667267918587, 0.08818969130516052, -0.032169729471206665, -0.033064790070056915, 0.011641692370176315, 0.005233979783952236, 0.041867561638355255, 0.01707286201417446, -0.01899239793419838, -0.019354192540049553, 0.012058916501700878, -0.019625328481197357, 0.012718848884105682, 0.004028321709483862, 0.028929442167282104, 0.05292226001620293, -0.022467609494924545, 0.017090637236833572, 0.01117008551955223, 0.04087892174720764, 0.0064145405776798725, 0.017409944906830788, 0.012889144942164421, -0.040328580886125565, -0.048344045877456665, 0.010976525954902172, 0.021421125158667564, 0.02837236225605011, -0.008485134690999985, -0.03962321579456329, -0.057209234684705734, 0.005542350467294455, -0.0617830827832222, -0.03100588172674179, 0.012880777940154076, 0.008002027869224548, 0.0030224104411900043, -0.09282020479440689, 0.03499700501561165, -0.0316268689930439, 0.04076762869954109, 0.053128477185964584, 0.09099026769399643, 0.036773957312107086, -0.011405742727220058, 0.048745669424533844, 0.07411439716815948, -0.014341137371957302, 0.008046960458159447, -0.03439011797308922, -0.0035549316089600325, -0.024274533614516258, 0.004130858927965164, -0.03091953694820404, -0.03060959093272686, 0.03066195920109749, 0.023796968162059784, 0.009314202703535557, 0.04878783971071243, 0.003863370278850198, -0.051602285355329514, -0.005765673704445362, 0.06654178351163864, 0.03917825594544411, 0.06349965929985046, 0.08729589730501175, 0.0002488656609784812, -0.01864069700241089, 0.06513378024101257, -0.006940028164535761, -0.02480182610452175, 0.01197901926934719, 0.06925629079341888, -0.043805621564388275, -0.019261252135038376, 0.008969617076218128, 0.00026189355412498116, -0.035876017063856125, -0.024196060374379158, 0.014163568615913391, 0.037847474217414856, 0.0032355720177292824, -0.027442405000329018, 0.011447830125689507, 0.0024669277481734753, -0.010678227059543133, 0.016380945220589638, 0.012054800987243652, -0.03298904001712799, 0.033120639622211456, 0.008433320559561253, -0.017575843259692192, -0.018465455621480942, 0.01985708624124527, 0.046037882566452026, 0.0014276830479502678, 0.010517808608710766, -0.025006012991070747, -0.012132814154028893, -0.010113123804330826, -0.04849626123905182, -0.013074947521090508, -0.010629279538989067, 0.012010992504656315, 0.006076320074498653, 0.015445447526872158, 0.032392073422670364, 0.009754206985235214, 0.0030726452823728323, 0.05212599039077759, -0.007368053309619427, -0.04822928458452225, -0.02169746533036232, -0.006715445779263973, 0.03776610270142555, -0.008845429867506027, -0.019152646884322166, 0.011380970478057861, 0.02203863114118576, 0.02563779056072235, -0.04168906435370445, -0.002482317853718996, -0.00975739024579525, -0.05056707561016083, -0.03857240080833435, -0.05029487609863281, -0.009471466764807701, 0.011934543028473854, 0.058367449790239334, 0.007249078713357449, -0.05390135571360588, 0.0457693450152874, 0.009293770417571068, -0.005043425597250462, 0.015771789476275444, -0.03970940038561821, -0.005495923571288586, -0.026602696627378464, -0.0272288266569376, -0.0724882185459137, -0.02105235494673252, -0.02158498205244541, 0.02977004274725914, -0.0014210271183401346, -0.038650963455438614, 0.009186913259327412, -0.006661812774837017, -0.017102232202887535, 0.0052754818461835384, -0.004262178670614958, -0.009480864740908146, 0.06677073240280151, 0.05760331451892853, 0.03548511862754822, 0.018050367012619972, 0.03194970265030861, 0.008563622832298279, 0.007811868097633123, -0.015489756129682064, -0.0071845403872430325, -0.00023645663168281317, 0.016717324033379555, 0.06535880267620087, -0.013783133588731289, 0.021520519629120827, -0.0017364607192575932, -0.0060572875663638115, -0.06479229778051376, 0.03410777822136879, 0.010464299470186234, 0.07477355748414993, -0.00010580029629636556, -0.02443581074476242, 0.06498635560274124, 0.04923124611377716, 0.060459572821855545, 0.018834425136446953, -0.02913704700767994, 0.009308261796832085, -0.007807382848113775, -0.0012798294192180037, -0.021538184955716133, -0.014398961327970028, 0.040458571165800095, 0.0030639152973890305, 0.008653049357235432, -0.008884782902896404, 0.01654418744146824, 0.037987612187862396, 0.016188666224479675, -0.029201699420809746, -0.009878048673272133, -0.021341264247894287, -0.02234671264886856, 0.006348347757011652, -0.00999295525252819, -0.009684869088232517, 0.0159379281103611, -0.010852468200027943, -0.04282546043395996, 0.01794394664466381, -0.0626220703125, -0.026353850960731506, 0.026505472138524055, -0.01289290376007557, -0.0202653668820858, 0.0041855438612401485, -0.0371922142803669, -0.0012060391018167138, -0.05736985057592392, 0.025696486234664917, 0.02580653689801693, -0.027297087013721466, 0.016207415610551834, 0.021921705454587936, -0.02673397585749626, 0.017073456197977066, 0.016803372651338577, 0.04096689447760582, -0.027915319427847862, -0.046772029250860214, 0.025060784071683884, 0.0015079887816682458, -0.010868275538086891, -0.025836044922471046, -0.008082430809736252, 0.03900572285056114, 0.04126567393541336, 0.02760804258286953, -0.006480785086750984, -0.01367625780403614, -0.039722900837659836, -0.009833453223109245, -0.011651723645627499, 0.011270729824900627, -0.02190817892551422, 0.05582483485341072, -0.04794401302933693, 0.0015685457037761807, -0.0062586646527051926, 0.03165041282773018, 0.021484479308128357, -0.0351276770234108, 0.0016330290818586946, 0.031231801956892014, 0.019336184486746788, 0.012437460944056511, -0.05296121910214424, -0.019582144916057587, 0.027786782011389732, 0.05299948900938034, 0.001308753271587193, 0.0025049191899597645, -0.01918131858110428, 0.02297193557024002, -0.01715627871453762, -0.01988396793603897, -0.017072336748242378, -0.03207472339272499, 0.06278134137392044, 0.025116335600614548, -0.014349318109452724, -0.02076023817062378, 0.04136721044778824, -0.01761600375175476, -0.019087275490164757, -0.01019277237355709, 0.01769099198281765, -0.01996571570634842, 0.01536505576223135, 0.03988928720355034, -0.09631862491369247, 0.02855311520397663, -0.019370395690202713, -0.027453588321805, 0.04004510119557381, -0.0016269151819869876, 0.017846351489424706, 0.0034428900107741356, 0.04215746000409126, 0.011892708949744701, -0.018093280494213104, 0.013290489092469215, -0.01874869503080845, 0.02786821499466896, -0.024058688431978226, -0.008778105489909649, 0.00948837399482727, -0.013314932584762573, -0.026933100074529648, -0.05444233864545822, -0.01472148485481739, -0.0019404817139729857, -0.0028250315226614475, 0.011284314095973969, 0.00374299893155694, -0.00905542355030775, -0.015293548814952374, 0.0009098241571336985, 0.07453276962041855, 0.007023433223366737, -0.015075666829943657, -0.0213845856487751, 0.002477788832038641, -0.04005178436636925, 0.026865020394325256, -0.004660055506974459, 0.002616625279188156, -0.0031915553845465183, 0.038253284990787506, 0.037684496492147446, 0.05207310616970062, 0.03964913636445999, -0.018737129867076874, -0.010615858249366283, 0.004326925612986088, -0.05252769589424133, -0.017887769266963005, -0.005473775323480368, -0.015019492246210575, 0.015233082696795464, -0.030760452151298523, 0.007699278183281422, -0.03548057749867439, -0.02578418143093586, 0.022202422842383385, 0.010081897489726543, 0.02287972718477249, 0.008944978937506676, -0.041831448674201965, -0.008883519098162651, 0.024672655388712883, 0.03804653510451317, 0.019678005948662758, 0.04753592237830162, -0.02186422608792782, -0.044241391122341156, 0.04275147616863251, -0.04795435443520546, 0.004276454448699951, -0.027486884966492653, 0.007836046628654003, -0.0296065304428339, 0.014119881205260754, -0.007785231806337833, 0.02750387415289879, 0.027303116396069527, -0.04239211231470108, 0.049638986587524414, 0.040793146938085556, -0.025936443358659744, 0.021803833544254303, 0.0043584625236690044, -0.016475515440106392, 0.009333928115665913, 0.043876077979803085, 0.006387661211192608, 0.0234458576887846, 0.0072992341592907906, 0.0016925777308642864, -0.02277468331158161, -0.04268639534711838, -0.01077518705278635, -0.0032597219105809927, 0.0040533654391765594, -0.0030069188214838505, -0.0018653938313946128, -0.021849876269698143, -0.0614001639187336, 0.001569317770190537, -0.001345431781373918, 0.00045617271098308265, 0.008719266392290592, 0.006945996545255184, -0.0031218307558447123, -0.021556954830884933, 0.003270338289439678, -0.07701905816793442, 0.0003457909042481333, -0.011364482343196869, 0.00877805333584547, 0.007703177165240049, -0.06423026323318481, 0.1829673796892166, 0.03942602872848511, 0.032153818756341934, -0.011403422802686691, 0.03301480412483215, 0.029234571382403374, -0.03272295743227005, 0.012371092103421688, -0.06566905975341797, -0.03358713537454605, 0.051709841936826706, -0.010675898753106594, -0.030359091237187386, -0.007277260534465313, 0.018781425431370735, 0.020262444391846657, 0.004611401353031397, -0.005024784244596958, 0.01995719037950039, -0.03120771422982216, -0.040803760290145874, 0.0435481071472168, -0.014331487938761711, -0.007787927519530058, -0.005497089121490717, -0.013114705681800842, 0.02714531309902668, -0.06376346945762634, 0.012888852506875992, -0.0022513645235449076, -0.020550793036818504, -0.00194452831055969, 0.032988596707582474, 0.014196914620697498, -0.0054074851796031, 0.02242267318069935, -0.003181777661666274, -0.009991676546633244, -0.03438844904303551, -0.0032019291538745165, 0.03802522271871567, -0.018739424645900726, -0.013819104991853237, -0.012537289410829544, -0.002716494258493185, 0.02981286309659481, -0.007552668452262878, -0.013761335983872414, -0.034559909254312515, -0.05031870678067207, 0.05465376749634743, -0.04269443452358246, 0.007845340296626091, -0.037594325840473175, -0.05692211166024208, 0.0273226797580719, 0.018811669200658798, 0.011834749951958656, 0.029841940850019455, 0.006119289435446262, 0.006319837644696236, 0.029413603246212006, -0.017098626121878624, -0.013458842411637306, -0.021937236189842224, 0.0016369245713576674, -0.016023412346839905, -0.014268996194005013, -0.03233940899372101, 0.0451882928609848, -0.010201696306467056, -0.06086694449186325, -0.0463835708796978, 0.007943098433315754, 0.04351207613945007, 0.015513109043240547, -0.03737746179103851, 0.013499172404408455, -0.01320075523108244, -0.00640894565731287, -0.0077588181011378765, -0.022724222391843796, 0.031722210347652435, -0.007143434602767229, 0.02819005399942398, 0.03623538464307785, -0.0043570417910814285, 0.014298570342361927, 0.010166785679757595, -0.009156904183328152, 0.007252363953739405, 0.051221322268247604, -0.01726205088198185, -0.03745915740728378, -0.017879214137792587]]\n",
      "FINISHED RESPONSE in  0.75s: [['What is the square root of 169?', 'What is the derivative of sin(cos(x))?'], 2, 1024, [[0.004660115111619234, 0.04424992576241493, 0.03206033259630203, 0.015540085732936859, -0.07083090394735336, 0.014493962749838829, 0.037161651998758316, -0.006692938972264528, 0.004224649630486965, 0.06146269664168358, 0.0532367005944252, 0.021600835025310516, -0.01339556835591793, -0.009147833101451397, 0.026184620335698128, -0.009521621279418468, -0.06039206683635712, 0.020956721156835556, -0.036377497017383575, -0.0008347317343577743, 0.021165553480386734, -0.0019712781067937613, -0.05077820271253586, 0.0019926640670746565, -0.004751457367092371, 0.041612204164266586, 0.06958159804344177, 0.012141627259552479, 0.01907825469970703, 0.041103970259428024, 0.023437444120645523, -0.0035393547732383013, 0.021110400557518005, -0.060597002506256104, -0.03333151713013649, -0.03125382959842682, 0.01430603489279747, -0.02168005146086216, -0.002093435265123844, -0.047682084143161774, -0.005268718581646681, -0.01609364151954651, 0.02111591398715973, 0.003705315524712205, -0.009754703380167484, 0.001331852050498128, -0.06717215478420258, -0.024609483778476715, 0.013188931159675121, -0.034951381385326385, -0.04901696369051933, -0.010082964785397053, 0.03262008726596832, -0.036118149757385254, 0.007519624195992947, -0.00990979466587305, -0.03447924554347992, 0.03192347288131714, -0.015022561885416508, 0.03421944007277489, 0.002254104008898139, -0.028163624927401543, -0.028602462261915207, -0.018980415537953377, -0.007667706813663244, 0.00998383667320013, 0.012398460879921913, -0.0008830976439639926, 0.005158781539648771, -0.006486912723630667, 0.02407698705792427, 0.02672629803419113, 0.02162841521203518, -0.004646386951208115, -0.0037965381052345037, 0.03393932804465294, 0.028590291738510132, 0.015201522968709469, -0.05386972054839134, 0.044039078056812286, -0.019153064116835594, 0.015554028563201427, -0.0596509724855423, -0.007481791079044342, -0.04497849941253662, -0.08776037395000458, -0.001102148788049817, -0.016708076000213623, 0.006057317368686199, -0.05519504100084305, 0.025026369839906693, 0.03641243278980255, 0.0009988993406295776, 0.04260963574051857, 0.06382302939891815, 0.025201594457030296, -0.021547190845012665, 0.026324285194277763, -0.009636150673031807, 0.030171599239110947, 0.040234364569187164, 0.030923595651984215, 0.0026203265879303217, 0.03177845850586891, -0.042451780289411545, 0.02861073799431324, -0.0013153975596651435, 0.025431059300899506, 0.017488261684775352, -0.02922084368765354, 0.02915443666279316, -0.02317041903734207, -0.02680084854364395, 0.022814692929387093, -0.02747960388660431, 0.02348901890218258, -0.0012067792704328895, 0.05777804180979729, -0.038014624267816544, -0.036076415330171585, -0.00341932219453156, -0.008197588846087456, 0.005665136501193047, 0.04258115962147713, -0.008647613227367401, -0.007083192002028227, -0.01960640959441662, -0.004654702730476856, -0.041372790932655334, 0.02974669635295868, 0.01397645752876997, 0.003229953581467271, -0.01328688208013773, 0.02134111151099205, -0.011418209411203861, 0.03945213928818703, 0.016023842617869377, 0.022341258823871613, 0.021965526044368744, -0.013693492859601974, 0.023950062692165375, 0.008828261867165565, -0.03278150409460068, 0.07200416177511215, -0.03125437721610069, -0.019290614873170853, -0.014275909401476383, 0.026768088340759277, -0.0024595048744231462, 0.04248379170894623, 0.0016347657656297088, 0.019152147695422173, 0.009366636164486408, -0.0048805177211761475, 0.040045857429504395, -0.012981776148080826, 0.01364577654749155, 0.010265232995152473, -0.01908656768500805, 0.03304051607847214, 0.020326664671301842, -0.011802407912909985, 0.025800947099924088, 0.028663020581007004, -0.009230971336364746, 0.04473234340548515, -0.0045124986208975315, -0.033330321311950684, -0.056727588176727295, -0.022629518061876297, -0.025685347616672516, 0.011790563352406025, -0.05442062020301819, 0.0037187400739639997, -0.011655953712761402, 0.05114255100488663, 0.016819898039102554, -0.0018101814202964306, -0.027203364297747612, 0.021596519276499748, -0.01087072305381298, -0.03580619767308235, 0.013444161973893642, 0.07816322892904282, 0.02394620142877102, 0.01813828945159912, -0.052433669567108154, -0.01191822998225689, -0.04003845155239105, -0.005369542166590691, -0.0003021408920176327, 0.009688499383628368, 0.008941317908465862, 0.02352096326649189, -0.0440080389380455, -0.011594624258577824, -0.02125139720737934, -0.034409862011671066, -0.030799714848399162, -0.04973743110895157, -0.030612071976065636, 0.04057953506708145, 0.005907522514462471, 0.03660435229539871, -0.035886410623788834, -0.035694655030965805, 0.03299315273761749, 0.059023499488830566, -0.022465573623776436, -0.018100224435329437, 0.03997616469860077, -0.029022997245192528, -0.025484846904873848, 0.012068680487573147, 0.03242707625031471, 0.029703998938202858, -0.02578704059123993, 0.03418319672346115, -0.022334251552820206, 0.030868882313370705, 0.003497464582324028, 0.07777278870344162, -0.002720506163313985, 0.06259467452764511, 0.013328111730515957, -0.02011774107813835, -0.005857066251337528, 0.03988831490278244, -0.014470874331891537, 0.01605203188955784, -0.03113296627998352, 0.05220764875411987, 0.06715922802686691, -0.011280032806098461, -0.01751536689698696, 0.048006489872932434, 0.03167710453271866, 0.052675098180770874, 0.022100113332271576, 0.03693303465843201, 0.0036157395225018263, 0.029641952365636826, 0.040496036410331726, -0.007657541893422604, 0.001948571065440774, 0.02551107481122017, 0.029067449271678925, -8.359795901924372e-05, -0.007854893803596497, 0.04763844981789589, -0.04131520912051201, 0.008037574589252472, 0.024293312802910805, 0.025122225284576416, -0.03551333397626877, -0.022017860785126686, 0.012775935232639313, 0.05307114124298096, -0.0041752345860004425, -0.02077794075012207, 0.05434645339846611, -0.033260710537433624, 0.03429773822426796, -0.03556235134601593, 0.052577584981918335, -0.012045832350850105, 0.039082661271095276, 0.02019139565527439, -0.02625119499862194, 0.005432747770100832, 0.0036545339971780777, -0.007184106856584549, -0.038620878010988235, -0.031856294721364975, -0.0510786734521389, 0.03165687993168831, -0.0035689864307641983, -0.0037307273596525192, 0.04094908758997917, -0.003995359875261784, 0.035709261894226074, -0.009852023795247078, -0.014210036024451256, 0.012517834082245827, -0.00935339741408825, 0.04503200203180313, 0.0041115437634289265, 0.01728897914290428, -0.01715913601219654, 0.0502064973115921, -0.03698961064219475, -0.01938701421022415, 0.0598602220416069, -0.03403020277619362, 0.02551368996500969, -0.05751948431134224, -0.026624860242009163, 0.009286741726100445, -0.0030391616746783257, -0.04343954101204872, -0.016440318897366524, 0.010778109543025494, 0.009375832043588161, 0.01874634064733982, -0.03759310394525528, 0.008525747805833817, 0.002445003017783165, -0.006679802667349577, 0.021461116150021553, -0.004225988872349262, -0.039130404591560364, 0.012220838107168674, -0.024812672287225723, -0.03102717362344265, -0.03956704959273338, 0.007922797463834286, 0.04421351104974747, 0.024396246299147606, -0.037472061812877655, -0.045357633382081985, 0.009677818976342678, 0.007166127674281597, -0.037683792412281036, 0.008005153387784958, -0.019168829545378685, 0.048751380294561386, 0.03583955392241478, -0.05543883517384529, 0.005833887495100498, -0.01059989258646965, -0.05022193863987923, 0.008970821276307106, 0.005393458995968103, 0.06711786985397339, -0.0017161278519779444, 0.022909164428710938, 0.003647624282166362, 0.006646476686000824, -0.02436891198158264, 0.008071986958384514, 0.017449473962187767, -0.032336410135030746, -0.015814295038580894, -0.0027177503798156977, -0.014024159871041775, 0.016094857826828957, 0.012997682206332684, 0.0015195220476016402, -0.026115160435438156, -0.018856674432754517, -0.007019752636551857, -0.01927068643271923, -0.011807294562458992, 0.026958463713526726, 0.024227749556303024, 0.025670481845736504, -0.01029967050999403, 0.024535058066248894, 0.017466867342591286, 0.03607338294386864, 0.04158512130379677, 0.004979219753295183, -0.032624274492263794, -0.018010403960943222, -0.023730626329779625, 0.0006929627852514386, -0.03769218549132347, -0.016766423359513283, -0.011074514128267765, 0.010373754426836967, 0.03251190856099129, 0.00552911264821887, -0.035555969923734665, 0.0027424688450992107, 0.009496299549937248, 0.018394019454717636, 0.03247557207942009, 0.012962572276592255, -0.0027429559268057346, -0.04643445834517479, 0.010051914490759373, -0.027662446722388268, -0.008410320617258549, 0.02814362943172455, 0.006788916420191526, -0.024782996624708176, -0.04365602508187294, -0.026035720482468605, -0.015008107759058475, -0.008127650246024132, -0.055851664394140244, 0.009657373651862144, 0.02782447263598442, -0.0358944796025753, 0.009422983974218369, -0.022368203848600388, -0.000984066165983677, -0.01045201439410448, -0.02448497712612152, 0.005663058254867792, 0.04056834429502487, 0.04006817191839218, 0.039497412741184235, 0.0521647185087204, 0.013449268415570259, -0.024278027936816216, -0.00017886738351080567, 0.05268145725131035, 0.024369971826672554, -0.01158030703663826, 0.01262730360031128, -0.025505028665065765, 0.001426394679583609, -0.0428357794880867, 0.010756025090813637, -0.015567673370242119, -0.04383765533566475, -0.04293942078948021, -0.015977859497070312, -0.018687525764107704, -0.01976899243891239, -0.04485705494880676, -0.05175510793924332, 0.0031977847684174776, 0.036385584622621536, -0.01773979142308235, 0.026180336251854897, -0.03169222176074982, 0.021008409559726715, -0.007223454769700766, 0.03807953745126724, -0.03760065510869026, 0.007999645546078682, 0.0001345024793408811, -0.004711803514510393, -0.012711568735539913, -0.002916376106441021, 0.031232167035341263, -0.010303814895451069, -0.030869342386722565, 0.015192761085927486, 0.0376061275601387, -0.013831162825226784, 0.013745082542300224, 0.04431699961423874, 0.023106763139367104, -0.02609623223543167, 0.058432940393686295, 0.01880628988146782, -0.04609595239162445, 0.062186699360609055, -0.0622914582490921, 0.05133911967277527, -0.013309280388057232, -0.01850431226193905, 0.013986017554998398, 0.011505034752190113, -0.02437533251941204, 0.0018602063646540046, -0.00981370359659195, -0.021278955042362213, -0.05512138456106186, -0.03811744973063469, -0.004101982805877924, -0.04018889740109444, 0.013883412815630436, 0.010476457886397839, 0.08202223479747772, 0.05497919023036957, -0.00521209416911006, 0.0006524893688037992, 0.0012210721615701914, -0.006226992700248957, -0.05319710448384285, 0.006070670206099749, -0.025257429108023643, 0.018851470202207565, -0.013976733200252056, 0.004658539313822985, -0.024481266736984253, -0.03537613898515701, -0.014634901657700539, 0.0168174896389246, -0.01562298834323883, 0.0033109404612332582, -0.04457102715969086, -0.019649822264909744, 0.06123005598783493, -0.05641443282365799, -0.021534908562898636, -0.026592418551445007, -0.017299575731158257, 0.013246920891106129, -0.039897721260786057, 0.00266541657038033, 0.010422891937196255, -0.08284885436296463, -0.004806691315025091, 0.004682436585426331, 0.05222489684820175, 0.04377031698822975, 0.00441946554929018, -0.03565401956439018, 0.037154700607061386, -0.04912620037794113, 0.0023311502300202847, -0.05947219580411911, 0.007767523173242807, -0.02497769705951214, 0.038081634789705276, -0.004645973909646273, -0.01828834041953087, -0.006532191764563322, -0.027896102517843246, -0.010358505882322788, 0.012339329347014427, -0.016028033569455147, -0.0100666219368577, 0.018379483371973038, 0.051702484488487244, 0.0013899237383157015, -0.021829398348927498, 0.004030823707580566, 0.008113633841276169, -0.024833854287862778, 0.027825819328427315, -0.0027978098951280117, -0.0215054452419281, -0.07834547758102417, -0.04814682900905609, 0.024341441690921783, -0.04605250060558319, -0.05714431032538414, -0.022564776241779327, -0.049590371549129486, -0.04448920860886574, 0.03207141533493996, 0.004516822751611471, 0.030167683959007263, -0.0010532393353059888, -0.009373246692121029, 0.05119679495692253, -0.015950558707118034, -0.02084111049771309, 0.01475359033793211, 0.015383776277303696, 0.03342660889029503, -0.0011208963114768267, -0.035925544798374176, 0.0276638176292181, 0.023868011310696602, -0.018973255529999733, 0.016858631744980812, -0.0019012691918760538, -0.013006209395825863, -0.032868288457393646, 0.022571733221411705, -0.013241568580269814, -0.0010512564331293106, 0.021965989843010902, -0.05740068852901459, 0.011661108583211899, -0.003240088699385524, -0.01614018902182579, -0.02933468669652939, 0.020906789228320122, -0.014874686487019062, -0.031770553439855576, 0.01855139248073101, 0.02992195263504982, 0.06073558330535889, 0.05498046800494194, 0.013191565871238708, 0.05715484172105789, -0.006857013329863548, 0.01830952800810337, -0.02745204232633114, -0.0413372702896595, -0.036753345280885696, 0.01936331018805504, 0.050520263612270355, 0.021954335272312164, -0.006833333056420088, -0.06258175522089005, 0.034694913774728775, -0.02236625738441944, 0.008908340707421303, 0.051101863384246826, 0.00038707730709575117, 0.025361228734254837, -0.023403510451316833, 0.02580276131629944, 0.0010815260466188192, -0.03940274193882942, -0.03797160089015961, -0.025136221200227737, -0.01929335668683052, -0.004602684173732996, -0.05311895161867142, -0.015263418667018414, -0.008946308866143227, 0.012681677006185055, 0.02632581815123558, 0.024143531918525696, 0.05498930439352989, -0.0657392144203186, -0.059615932404994965, -0.00529147032648325, 0.025033576413989067, 0.006595770362764597, 0.05220450088381767, 0.034897103905677795, 0.01961439847946167, 0.021713286638259888, 0.07179494947195053, -0.006314246449619532, -0.008234350942075253, -0.02208881452679634, 0.020918797701597214, -0.0331762433052063, -0.01908758096396923, 0.05757172405719757, -0.004792705178260803, -0.05455155670642853, -0.048620838671922684, -0.020194711163640022, -0.006009240634739399, -0.017418967559933662, 0.012427134439349174, 0.003986929077655077, 0.0004862368223257363, -0.029998883605003357, 0.018630167469382286, 0.02070728875696659, 0.03035016544163227, 0.03760385140776634, -0.02974107302725315, 0.003136388259008527, -0.028393201529979706, -0.016496164724230766, 0.011172212660312653, -0.012426815927028656, -0.02343609742820263, -0.0431278795003891, -0.0192326158285141, 0.002784067764878273, 0.003958050161600113, 0.020246729254722595, -0.028799666091799736, 0.024688921868801117, 0.06741546839475632, 0.0015543157933279872, 0.045663658529520035, -0.010711095295846462, -0.01443458627909422, -0.007700780406594276, 0.025567254051566124, -0.02522464282810688, 0.00900249369442463, -0.0010046386159956455, -0.014737190678715706, 0.009497582912445068, -0.03799803927540779, 0.016455888748168945, -0.0022305776365101337, 0.02733134850859642, -0.03688890486955643, -0.0060899388045072556, -0.020812487229704857, -0.010854334570467472, -0.025377929210662842, -0.048302892595529556, -0.03327285498380661, -0.012412291020154953, 0.04840775579214096, -0.021743379533290863, 0.00967115443199873, -0.009400644339621067, 0.06343317031860352, -0.024954497814178467, 0.003960440866649151, -0.04984857514500618, 0.008558348752558231, 0.011361517943441868, 0.02471451833844185, -0.08543818444013596, -0.04328268766403198, 0.012492815032601357, 0.06142127513885498, -0.013364016078412533, 0.030206438153982162, -0.004560879897326231, -0.01501341164112091, -0.0038038729690015316, 0.0012283342657610774, -0.0006417484255507588, -0.025846373289823532, 0.051626626402139664, 0.05918914079666138, -0.04552263393998146, 0.00985598936676979, 0.05449242144823074, 0.04012918472290039, 0.0020905351266264915, -0.02920226752758026, -0.003695610212162137, 0.04534707963466644, 0.00300922361202538, 0.008536436595022678, -0.017578717321157455, -0.00027105581830255687, -0.027284909039735794, 0.003992337267845869, -0.0709206759929657, 0.0068051754496991634, -0.03560526669025421, 0.01223695743829012, -0.01719820871949196, 0.011329255998134613, -0.011222975328564644, 0.056409802287817, 0.07079309225082397, 0.020740628242492676, -0.04223191365599632, -0.006874745711684227, 0.04149356856942177, 0.046836305409669876, 0.007924207486212254, -0.04040919616818428, -0.00023856615007389337, 0.01756051369011402, -0.0006959513411857188, 0.026582131162285805, -0.005931265652179718, 0.030351530760526657, -0.01511052343994379, -0.010830121114850044, -0.022889602929353714, -0.026804298162460327, -0.08401334285736084, 0.054934173822402954, 0.019840028136968613, -0.018659375607967377, 0.034118179231882095, -0.007612309884279966, -0.05865764990448952, -0.001671260455623269, -0.059386786073446274, -0.067924864590168, 0.04664658382534981, -0.0066468496806919575, -0.028825698420405388, 0.02739645168185234, -0.05321181192994118, 0.001513125840574503, 0.012420128099620342, 0.03162505105137825, 0.007650843355804682, 0.023665593937039375, 0.001968933502212167, 0.025873105973005295, -0.007022275123745203, 0.030287718400359154, 0.019264589995145798, 0.043401919305324554, 0.008278800174593925, -0.07539959996938705, 0.021695824339985847, -0.005071685183793306, 0.04880203679203987, -0.007315176073461771, 0.022510964423418045, 0.026339128613471985, 0.02847074717283249, 0.012036032974720001, -0.03958216682076454, -0.02373996563255787, -0.03685205429792404, 0.03038174659013748, -0.05891761556267738, 0.020245900377631187, 0.01677771843969822, 0.044605351984500885, -0.010513917542994022, 0.013321015983819962, -0.024770518764853477, 0.018116936087608337, 0.05226903036236763, 0.010723382234573364, 0.007645361125469208, 0.06068160757422447, -0.05293695628643036, 0.0006243026000447571, -0.05551067739725113, 0.002658808371052146, 0.04708617925643921, 0.025942940264940262, 0.004295694641768932, -0.0018170910188928246, 0.003222937462851405, 0.013853807933628559, 0.01222584955394268, 0.03174843266606331, -0.0523616187274456, -0.024843953549861908, 0.005952241364866495, 0.0056421332992613316, 0.018929658457636833, -0.026730170473456383, -0.002957033459097147, -0.037115760147571564, -0.021245459094643593, -0.0332377590239048, -0.004545370116829872, 0.0068948520347476006, -0.01596764288842678, 0.025878435000777245, -0.012523816898465157, 0.015929333865642548, -0.004209753591567278, 0.00724808918312192, 0.012387952767312527, 0.022657165303826332, -0.008453870192170143, 0.043752919882535934, 0.021809585392475128, 0.014971708878874779, 0.0184951014816761, 0.032347019761800766, 0.005256080999970436, 0.002206045901402831, -0.03161018341779709, 0.006516442634165287, -0.013011123053729534, -0.0022686331067234278, 0.006284819915890694, -0.04527260363101959, -0.024004025384783745, 0.010899594984948635, -0.005664310418069363, -0.02811601758003235, 0.046174485236406326, -0.0435059517621994, -0.05279238149523735, 0.005663776304572821, 0.03197865188121796, -0.0272515956312418, -0.01971570961177349, -0.005392075981944799, -0.017031768336892128, -0.004044553730636835, 0.06509894132614136, -0.016003187745809555, -0.026802679523825645, 0.047559961676597595, 0.0022258951794356108, -0.004442700184881687, 0.07644783705472946, 0.03160807490348816, 0.014597594738006592, -0.012594926171004772, -0.005311698652803898, -0.046603161841630936, 0.0011039158562198281, 0.0024352094624191523, -0.017065979540348053, 0.0024193204008042812, -0.006496740970760584, 0.009716346859931946, -0.024478035047650337, -0.01951269805431366, 0.004816117696464062, -0.054408423602581024, -0.028688807040452957, 0.001212620409205556, 0.006323002744466066, 0.014477339573204517, 0.021146155893802643, 0.032806508243083954, -0.012168687768280506, -0.013357547111809254, -0.011285990476608276, -0.04800562933087349, 0.015107247047126293, -0.052627988159656525, 0.022204535081982613, -0.050145912915468216, -0.010496304370462894, -0.022229501977562904, 0.00940883718430996, 0.006138881668448448, 0.048343509435653687, 0.0014365034876391292, -0.017894648015499115, -0.007743942551314831, 0.028310732915997505, -0.026378309354186058, 0.000873055774718523, -0.02424362115561962, -0.048399630934000015, 0.025614487007260323, 0.03763335943222046, -0.027776308357715607, -0.00790912564843893, 0.02708585187792778, 0.027428466826677322, -0.05936617776751518, 0.010559058748185635, 0.0026742923073470592, -0.030437329784035683, 0.05913005769252777, -0.06331903487443924, 0.06177946552634239, -0.005395427346229553, -0.05647115036845207, 0.007156017702072859, -0.0077260639518499374, -0.04482397064566612, -0.043310437351465225, -0.09346291422843933, -0.03159160912036896, -0.006447628140449524, -0.0187417883425951, -0.004246193915605545, 0.00512215169146657, -0.027908656746149063, 0.031214721500873566, 0.02152266539633274, -0.06814664602279663, 0.2493460774421692, 0.05418259650468826, 0.02411973662674427, 0.04866495728492737, 0.01722363941371441, 0.022944988682866096, 0.009064128622412682, -0.0005637137801386416, 0.01530560664832592, -0.04502589628100395, -0.012593974359333515, 0.009855657815933228, 0.025862298905849457, 0.01157398708164692, 0.04316507652401924, 0.030793827027082443, -0.022029632702469826, 0.00824091024696827, 0.021601932123303413, -0.039133645594120026, -0.01573662832379341, 0.02188604697585106, -0.03888248652219772, 0.00030300140497274697, -0.009170133620500565, 0.022819429636001587, 0.04205826297402382, -0.042995721101760864, -0.003339719492942095, 0.0007682083523832262, 0.04857650771737099, 0.013022768311202526, -0.01770050823688507, 0.011826164089143276, -0.0052677481435239315, 0.019333720207214355, -0.06527946889400482, -0.021315453574061394, -0.028630686923861504, -0.021079031750559807, 0.0089262705296278, -0.03596196323633194, 0.02237347885966301, -0.05053618177771568, -0.005002474412322044, 0.06387884169816971, -0.004216628149151802, -0.01204153336584568, -0.01294995378702879, -0.039941344410181046, 0.02289978787302971, -0.02691332809627056, -0.01003939937800169, -0.037693317979574203, -0.05295655503869057, 0.0252770334482193, 0.015388069674372673, -0.006452799774706364, 0.012486777268350124, -0.007401707582175732, 0.014801247976720333, 0.010756639763712883, -0.02923600561916828, 0.02284943498671055, -0.0425412617623806, -0.023885877802968025, 0.00571001973003149, 0.006078472826629877, -0.04131920635700226, -0.029825007542967796, -0.0336170494556427, -0.013988856226205826, -0.007482650224119425, 0.018440458923578262, 0.045434433966875076, 0.023827752098441124, 0.014640851877629757, 0.02358800731599331, -0.01786934770643711, -0.020272444933652878, -0.04684207960963249, 0.011823565699160099, -0.006781129632145166, -0.011604397557675838, 0.008132033981382847, 0.02563631348311901, -0.03137575462460518, -0.01700642704963684, -0.026323437690734863, 0.020917100831866264, 0.026412803679704666, 0.02078920230269432, 0.049742307513952255, -0.0497957207262516, 0.0005667677614837885], [-0.0023723046761006117, 0.026205163449048996, 0.04402460530400276, -0.04619108885526657, -0.02518450655043125, -0.009148553013801575, 0.015960464254021645, 0.003543207189068198, 0.01850646547973156, 0.08979100733995438, 0.05720309540629387, 0.04522451013326645, -0.020582299679517746, -0.0058784703724086285, -0.022164927795529366, -0.002363867126405239, -0.02428886666893959, 0.007937503978610039, -0.04514848813414574, 0.007293259259313345, 0.0334661565721035, 0.042411841452121735, -0.09398587048053741, -0.020730815827846527, -0.03397157043218613, -0.020583445206284523, 0.033490199595689774, 0.019158435985445976, 0.040737833827733994, 0.08071358501911163, -0.024783024564385414, -0.006617866922169924, -0.03345632553100586, -0.0485980249941349, -0.016528798267245293, 0.006078880280256271, 0.016285302117466927, -0.04270515218377113, 0.014865132048726082, -0.05449722707271576, 0.032972272485494614, -0.002942794468253851, 0.0006992819253355265, -0.06514240801334381, -0.03182302415370941, -0.016164427623152733, -0.03830811008810997, -0.03995558246970177, -0.021113045513629913, -0.014984582550823689, 0.016588255763053894, 0.030681584030389786, 0.04709871485829353, -0.02415783889591694, -0.04796725884079933, 0.04699608311057091, 0.06101297214627266, 0.0005819420330226421, -0.004963747225701809, 0.04595131427049637, -0.030930088832974434, -0.013292480260133743, -0.022827457636594772, -0.05751969665288925, -0.004110272973775864, 0.0021788491867482662, -0.0032510170713067055, -0.0213686041533947, 0.04075487703084946, -0.006276939995586872, -0.0183266531676054, 0.011163813062012196, 0.00648417416960001, -0.0013658732641488314, -0.060241684317588806, 0.07755211740732193, -0.006955946795642376, 0.02114151604473591, 0.011713373474776745, -0.0206623412668705, 0.007741388399153948, 0.043370235711336136, -0.03617420047521591, 0.036144740879535675, -0.04260367900133133, 0.030610615387558937, 0.0147127415984869, 0.011865535750985146, 0.00879391934722662, 0.018509462475776672, 0.024496322497725487, 0.024185728281736374, -0.012585137039422989, 0.011471269652247429, 0.021906999871134758, -0.0007418064051307738, -0.0035256824921816587, -0.003578849835321307, -0.040503617376089096, -0.005481452215462923, 0.03224978968501091, 0.0062169707380235195, -0.013119150884449482, 0.011453207582235336, -0.0296426173299551, 0.06444329768419266, -0.014928465709090233, 0.02413131482899189, 0.007912038825452328, -0.06480273604393005, 0.03378753364086151, -0.010242670774459839, 0.03459608182311058, 0.02200983837246895, 0.020456770434975624, 0.033479269593954086, -0.013265876099467278, 7.341270247707143e-05, -0.026466306298971176, -0.028483403846621513, 0.03352929279208183, 0.051773812621831894, 0.026560036465525627, 0.034876368939876556, 0.004559531342238188, 0.01018339954316616, -0.035002000629901886, -0.03992984816431999, -0.04333053156733513, -0.018560271710157394, -0.013634867034852505, -0.03638424351811409, 0.008119035512208939, 0.015228052623569965, 0.029067106544971466, 0.04614139720797539, 0.00884719006717205, 0.025791674852371216, 0.018312299624085426, -0.03652259707450867, 0.04949527606368065, -0.03215130418539047, -0.0013728924095630646, 0.06498569250106812, -0.023480422794818878, -0.00603124313056469, -0.012828605249524117, 0.02037751115858555, 0.02054295316338539, 0.02938942238688469, -0.05400964245200157, -0.0023827191907912493, 0.007787532638758421, -0.03905528411269188, -0.0027856568340212107, -0.005847631953656673, 0.009442318230867386, 0.03374287113547325, 0.015505768358707428, 0.03172306343913078, -0.02437405474483967, -0.0498625747859478, 0.020274419337511063, 0.04184768721461296, -0.010521463118493557, 0.042852215468883514, -0.04211102053523064, -0.019257966428995132, -0.028507044538855553, -0.017827268689870834, 0.01991296373307705, 0.01654643379151821, -0.015745777636766434, -0.06197205185890198, 0.049256280064582825, 0.06232679262757301, 0.014178862795233727, -0.0678209662437439, -0.031608790159225464, 0.06135791167616844, -0.06743192672729492, -0.0023456618655472994, 0.023753391578793526, -0.0031780931167304516, 0.018716827034950256, 0.00021228777768556029, 0.002974126022309065, -0.009727660566568375, -0.05745625123381615, 0.009518633596599102, -0.008519092574715614, 0.011947110295295715, 0.01656515710055828, 0.03902231901884079, -0.05846911296248436, 0.006205955054610968, -0.030876468867063522, 0.0015630049165338278, -0.044515009969472885, -0.042382579296827316, 0.0013585344422608614, -0.013195144012570381, -0.03671673312783241, -0.012250607833266258, -0.05240362882614136, 0.009229463525116444, 0.0657147467136383, 0.06203855201601982, -0.040327586233615875, 0.017740152776241302, 0.043226052075624466, 0.03334386274218559, -0.05883060768246651, 0.016730427742004395, -0.014724964275956154, 0.0321301594376564, -0.0107351653277874, 0.03866153582930565, -0.028163043782114983, 0.006549021694809198, 0.05245564877986908, 0.051949307322502136, -0.004576347302645445, 0.024665988981723785, 0.04194212704896927, -0.05517425015568733, 0.022100035101175308, 0.054592713713645935, -0.01973673887550831, 0.02919336035847664, -0.019511111080646515, 0.01148993894457817, 0.009691007435321808, 0.012597279623150826, 0.01556689664721489, 0.03197018429636955, 0.041742097586393356, 0.03406444936990738, -0.020374257117509842, 0.03099377453327179, 0.01588292047381401, 0.029279636219143867, 0.02912498079240322, -0.010116342455148697, 0.0018938399152830243, 0.04730938747525215, 0.03809000924229622, 0.016004333272576332, -0.010166630148887634, 0.021244386211037636, 0.04255172610282898, 0.053616322576999664, 0.012695906683802605, 0.029939590021967888, -0.03528974577784538, -0.0019339597783982754, 0.009705943986773491, 0.029386820271611214, -0.03124374710023403, -0.045759741216897964, 0.04395264759659767, -0.018956730142235756, -0.030101081356406212, -0.020305171608924866, 0.00735491281375289, 0.01733129844069481, 0.011801536194980145, -0.02775852009654045, -0.021998396143317223, -0.06756281107664108, -0.029687469825148582, -0.043941207230091095, -0.06523551791906357, -0.0168081596493721, -0.040902163833379745, -0.03343060240149498, 0.004134824499487877, -0.004667080007493496, 0.018423225730657578, -0.015851221978664398, -0.01500567328184843, -0.02957949973642826, -0.059998903423547745, -0.03663589432835579, 0.036024387925863266, 0.01656893454492092, -0.01599959284067154, 0.01316289883106947, -0.005345161538571119, 0.05447632074356079, -0.03954937681555748, -0.0384264774620533, 0.005965712480247021, -0.01536878664046526, 0.023648109287023544, -0.0052103870548307896, 0.054372046142816544, 0.008975839242339134, 0.012580851092934608, -0.04792937636375427, 0.00036098770215176046, 0.007972990162670612, -0.062257785350084305, 0.04087253659963608, 0.0009109936654567719, -0.003216459648683667, 0.0057634757831692696, -0.0011823790846392512, 0.01080337818711996, -0.013357382267713547, -0.017959684133529663, 0.02497064508497715, 0.007076622918248177, -0.03429136425256729, -0.04039701446890831, 0.03424520418047905, -0.003345800330862403, -0.008487949147820473, -0.0215784702450037, -0.013875243254005909, -0.010897920466959476, -0.002682758728042245, -0.00292678689584136, -0.008673007600009441, -0.016285069286823273, 0.03324638307094574, 0.04158221185207367, -0.05481346696615219, 0.02297188714146614, -0.043879132717847824, -0.08940618485212326, 0.017117638140916824, -0.007341915275901556, 0.012069943360984325, -0.01595529168844223, 0.0011827705893665552, -0.024953586980700493, 0.0076460768468678, 0.029105596244335175, 0.011976978741586208, 0.0014060457469895482, -0.042944591492414474, -0.023769177496433258, -0.018506016582250595, 0.024757420644164085, -0.007162026129662991, -0.019005870446562767, -0.007519225124269724, -0.027827803045511246, 0.01686764508485794, -0.01617009937763214, -0.002998518757522106, -0.027038002386689186, 0.008578531444072723, 0.018019091337919235, 0.03467268869280815, -0.03025973029434681, 0.002857201499864459, 0.003242315026000142, 0.02671496570110321, 0.05538344010710716, -0.02907986007630825, -0.019217420369386673, -0.08231247961521149, 0.013468503952026367, -0.017286473885178566, 0.0006718691438436508, 0.029211940243840218, 0.03601393103599548, 0.020835669711232185, 0.05304373800754547, 0.008824006654322147, -0.014061219990253448, -0.02719406969845295, -0.03892778605222702, 0.0231782253831625, 0.09432504326105118, 0.016776785254478455, 0.03927306830883026, -0.03280217573046684, 0.00450245151296258, -0.02558787353336811, 0.006692929659038782, 0.011061988770961761, 0.02049272321164608, 0.02241015061736107, -0.011724360287189484, -0.025133980438113213, -0.05808958038687706, -0.07381151616573334, 0.009373925626277924, -0.022125978022813797, -0.00832665991038084, -0.04576648399233818, -0.04518498107790947, -0.0643853023648262, 0.0006862395675852895, -0.04125938192009926, -0.004230055958032608, -0.009053973481059074, 0.014717423357069492, -0.01867411658167839, -0.013296322897076607, 0.007968832738697529, -0.007577159442007542, -0.02324008382856846, -0.0029375129379332066, 0.04296722263097763, 0.014548339881002903, 0.0005295268492773175, -0.04670286551117897, -0.0014311037957668304, 0.007365595083683729, -0.007491348776966333, 0.024914950132369995, 0.029892094433307648, -0.04972611367702484, 0.004300377331674099, -0.006689713802188635, -0.011138382367789745, -0.00784212350845337, -0.025729646906256676, 0.010673612356185913, 0.01987050287425518, 0.040807634592056274, -0.05898210406303406, -0.006915995851159096, -0.06024904176592827, 0.019680248573422432, 0.03775812312960625, 0.025446666404604912, -0.011613885872066021, 0.004501652903854847, 0.022673675790429115, -0.037184782326221466, 0.005128944758325815, 0.06971051543951035, 0.03175637125968933, 0.017734039574861526, -0.041040290147066116, 0.02565772831439972, 0.019122295081615448, 0.017748326063156128, 0.0066808173432946205, 0.01987724006175995, 0.008115540258586407, -0.012294969521462917, 0.019328180700540543, 0.0023898950312286615, -0.009746909141540527, 0.0732826441526413, -0.018608348444104195, 0.0769803524017334, -0.019616510719060898, -0.024496931582689285, 7.747795461909845e-05, 0.0006140010664239526, -0.0511564165353775, 0.016272494569420815, -0.026723116636276245, 0.021039020270109177, 0.01572354882955551, 0.010440011508762836, -0.0007218490354716778, -0.026524854823946953, 0.05028030276298523, -0.016154151409864426, 0.04226864129304886, 0.04472501203417778, -0.007261360064148903, -0.01816749945282936, 0.026980772614479065, 0.03503106161952019, -0.01599067449569702, 0.0048201484605669975, -0.03621118143200874, -0.031388215720653534, -0.06046013534069061, -0.014850188978016376, 0.016913026571273804, -0.008486135862767696, 0.002296596998348832, -0.010083095170557499, -0.011726445518434048, 0.041273411363363266, -0.02285127155482769, -0.015748795121908188, -0.021421054378151894, -0.007366827689111233, 0.007993611507117748, -0.022752447053790092, -0.014176668599247932, -0.04295685887336731, -0.08250956237316132, -0.0009516875725239515, -0.027882419526576996, -0.024845479056239128, 0.012951263226568699, -0.0010796025162562728, 0.04250344634056091, -0.0016617759829387069, -0.012597698718309402, -0.036386944353580475, 0.01832066848874092, -0.007036774419248104, 0.023668197914958, -0.011867893859744072, -0.006017210893332958, -0.02715921960771084, -0.004137617535889149, -0.024387406185269356, -0.008961265906691551, 0.041217513382434845, 0.015259395353496075, -0.009054021909832954, 0.04437563940882683, -0.00244073080830276, 0.028898725286126137, -0.031592413783073425, 0.06634864211082458, 0.03825977072119713, -0.058426689356565475, -0.03994869440793991, -0.006923846434801817, -0.0069017899222671986, 0.004579603672027588, 0.006399659905582666, -0.015945754945278168, -0.011128904297947884, -0.009199639782309532, 0.03656703233718872, -0.053463131189346313, -0.02027488872408867, -0.02694718725979328, -0.01808609999716282, 0.006835351698100567, 0.005776607897132635, -0.019066892564296722, -0.005186205264180899, -0.04221123456954956, -0.07419076561927795, 0.022696249186992645, -0.002043662127107382, 0.01561448723077774, -0.01713796891272068, -0.014534018002450466, 0.019872667267918587, 0.08818969130516052, -0.032169729471206665, -0.033064790070056915, 0.011641692370176315, 0.005233979783952236, 0.041867561638355255, 0.01707286201417446, -0.01899239793419838, -0.019354192540049553, 0.012058916501700878, -0.019625328481197357, 0.012718848884105682, 0.004028321709483862, 0.028929442167282104, 0.05292226001620293, -0.022467609494924545, 0.017090637236833572, 0.01117008551955223, 0.04087892174720764, 0.0064145405776798725, 0.017409944906830788, 0.012889144942164421, -0.040328580886125565, -0.048344045877456665, 0.010976525954902172, 0.021421125158667564, 0.02837236225605011, -0.008485134690999985, -0.03962321579456329, -0.057209234684705734, 0.005542350467294455, -0.0617830827832222, -0.03100588172674179, 0.012880777940154076, 0.008002027869224548, 0.0030224104411900043, -0.09282020479440689, 0.03499700501561165, -0.0316268689930439, 0.04076762869954109, 0.053128477185964584, 0.09099026769399643, 0.036773957312107086, -0.011405742727220058, 0.048745669424533844, 0.07411439716815948, -0.014341137371957302, 0.008046960458159447, -0.03439011797308922, -0.0035549316089600325, -0.024274533614516258, 0.004130858927965164, -0.03091953694820404, -0.03060959093272686, 0.03066195920109749, 0.023796968162059784, 0.009314202703535557, 0.04878783971071243, 0.003863370278850198, -0.051602285355329514, -0.005765673704445362, 0.06654178351163864, 0.03917825594544411, 0.06349965929985046, 0.08729589730501175, 0.0002488656609784812, -0.01864069700241089, 0.06513378024101257, -0.006940028164535761, -0.02480182610452175, 0.01197901926934719, 0.06925629079341888, -0.043805621564388275, -0.019261252135038376, 0.008969617076218128, 0.00026189355412498116, -0.035876017063856125, -0.024196060374379158, 0.014163568615913391, 0.037847474217414856, 0.0032355720177292824, -0.027442405000329018, 0.011447830125689507, 0.0024669277481734753, -0.010678227059543133, 0.016380945220589638, 0.012054800987243652, -0.03298904001712799, 0.033120639622211456, 0.008433320559561253, -0.017575843259692192, -0.018465455621480942, 0.01985708624124527, 0.046037882566452026, 0.0014276830479502678, 0.010517808608710766, -0.025006012991070747, -0.012132814154028893, -0.010113123804330826, -0.04849626123905182, -0.013074947521090508, -0.010629279538989067, 0.012010992504656315, 0.006076320074498653, 0.015445447526872158, 0.032392073422670364, 0.009754206985235214, 0.0030726452823728323, 0.05212599039077759, -0.007368053309619427, -0.04822928458452225, -0.02169746533036232, -0.006715445779263973, 0.03776610270142555, -0.008845429867506027, -0.019152646884322166, 0.011380970478057861, 0.02203863114118576, 0.02563779056072235, -0.04168906435370445, -0.002482317853718996, -0.00975739024579525, -0.05056707561016083, -0.03857240080833435, -0.05029487609863281, -0.009471466764807701, 0.011934543028473854, 0.058367449790239334, 0.007249078713357449, -0.05390135571360588, 0.0457693450152874, 0.009293770417571068, -0.005043425597250462, 0.015771789476275444, -0.03970940038561821, -0.005495923571288586, -0.026602696627378464, -0.0272288266569376, -0.0724882185459137, -0.02105235494673252, -0.02158498205244541, 0.02977004274725914, -0.0014210271183401346, -0.038650963455438614, 0.009186913259327412, -0.006661812774837017, -0.017102232202887535, 0.0052754818461835384, -0.004262178670614958, -0.009480864740908146, 0.06677073240280151, 0.05760331451892853, 0.03548511862754822, 0.018050367012619972, 0.03194970265030861, 0.008563622832298279, 0.007811868097633123, -0.015489756129682064, -0.0071845403872430325, -0.00023645663168281317, 0.016717324033379555, 0.06535880267620087, -0.013783133588731289, 0.021520519629120827, -0.0017364607192575932, -0.0060572875663638115, -0.06479229778051376, 0.03410777822136879, 0.010464299470186234, 0.07477355748414993, -0.00010580029629636556, -0.02443581074476242, 0.06498635560274124, 0.04923124611377716, 0.060459572821855545, 0.018834425136446953, -0.02913704700767994, 0.009308261796832085, -0.007807382848113775, -0.0012798294192180037, -0.021538184955716133, -0.014398961327970028, 0.040458571165800095, 0.0030639152973890305, 0.008653049357235432, -0.008884782902896404, 0.01654418744146824, 0.037987612187862396, 0.016188666224479675, -0.029201699420809746, -0.009878048673272133, -0.021341264247894287, -0.02234671264886856, 0.006348347757011652, -0.00999295525252819, -0.009684869088232517, 0.0159379281103611, -0.010852468200027943, -0.04282546043395996, 0.01794394664466381, -0.0626220703125, -0.026353850960731506, 0.026505472138524055, -0.01289290376007557, -0.0202653668820858, 0.0041855438612401485, -0.0371922142803669, -0.0012060391018167138, -0.05736985057592392, 0.025696486234664917, 0.02580653689801693, -0.027297087013721466, 0.016207415610551834, 0.021921705454587936, -0.02673397585749626, 0.017073456197977066, 0.016803372651338577, 0.04096689447760582, -0.027915319427847862, -0.046772029250860214, 0.025060784071683884, 0.0015079887816682458, -0.010868275538086891, -0.025836044922471046, -0.008082430809736252, 0.03900572285056114, 0.04126567393541336, 0.02760804258286953, -0.006480785086750984, -0.01367625780403614, -0.039722900837659836, -0.009833453223109245, -0.011651723645627499, 0.011270729824900627, -0.02190817892551422, 0.05582483485341072, -0.04794401302933693, 0.0015685457037761807, -0.0062586646527051926, 0.03165041282773018, 0.021484479308128357, -0.0351276770234108, 0.0016330290818586946, 0.031231801956892014, 0.019336184486746788, 0.012437460944056511, -0.05296121910214424, -0.019582144916057587, 0.027786782011389732, 0.05299948900938034, 0.001308753271587193, 0.0025049191899597645, -0.01918131858110428, 0.02297193557024002, -0.01715627871453762, -0.01988396793603897, -0.017072336748242378, -0.03207472339272499, 0.06278134137392044, 0.025116335600614548, -0.014349318109452724, -0.02076023817062378, 0.04136721044778824, -0.01761600375175476, -0.019087275490164757, -0.01019277237355709, 0.01769099198281765, -0.01996571570634842, 0.01536505576223135, 0.03988928720355034, -0.09631862491369247, 0.02855311520397663, -0.019370395690202713, -0.027453588321805, 0.04004510119557381, -0.0016269151819869876, 0.017846351489424706, 0.0034428900107741356, 0.04215746000409126, 0.011892708949744701, -0.018093280494213104, 0.013290489092469215, -0.01874869503080845, 0.02786821499466896, -0.024058688431978226, -0.008778105489909649, 0.00948837399482727, -0.013314932584762573, -0.026933100074529648, -0.05444233864545822, -0.01472148485481739, -0.0019404817139729857, -0.0028250315226614475, 0.011284314095973969, 0.00374299893155694, -0.00905542355030775, -0.015293548814952374, 0.0009098241571336985, 0.07453276962041855, 0.007023433223366737, -0.015075666829943657, -0.0213845856487751, 0.002477788832038641, -0.04005178436636925, 0.026865020394325256, -0.004660055506974459, 0.002616625279188156, -0.0031915553845465183, 0.038253284990787506, 0.037684496492147446, 0.05207310616970062, 0.03964913636445999, -0.018737129867076874, -0.010615858249366283, 0.004326925612986088, -0.05252769589424133, -0.017887769266963005, -0.005473775323480368, -0.015019492246210575, 0.015233082696795464, -0.030760452151298523, 0.007699278183281422, -0.03548057749867439, -0.02578418143093586, 0.022202422842383385, 0.010081897489726543, 0.02287972718477249, 0.008944978937506676, -0.041831448674201965, -0.008883519098162651, 0.024672655388712883, 0.03804653510451317, 0.019678005948662758, 0.04753592237830162, -0.02186422608792782, -0.044241391122341156, 0.04275147616863251, -0.04795435443520546, 0.004276454448699951, -0.027486884966492653, 0.007836046628654003, -0.0296065304428339, 0.014119881205260754, -0.007785231806337833, 0.02750387415289879, 0.027303116396069527, -0.04239211231470108, 0.049638986587524414, 0.040793146938085556, -0.025936443358659744, 0.021803833544254303, 0.0043584625236690044, -0.016475515440106392, 0.009333928115665913, 0.043876077979803085, 0.006387661211192608, 0.0234458576887846, 0.0072992341592907906, 0.0016925777308642864, -0.02277468331158161, -0.04268639534711838, -0.01077518705278635, -0.0032597219105809927, 0.0040533654391765594, -0.0030069188214838505, -0.0018653938313946128, -0.021849876269698143, -0.0614001639187336, 0.001569317770190537, -0.001345431781373918, 0.00045617271098308265, 0.008719266392290592, 0.006945996545255184, -0.0031218307558447123, -0.021556954830884933, 0.003270338289439678, -0.07701905816793442, 0.0003457909042481333, -0.011364482343196869, 0.00877805333584547, 0.007703177165240049, -0.06423026323318481, 0.1829673796892166, 0.03942602872848511, 0.032153818756341934, -0.011403422802686691, 0.03301480412483215, 0.029234571382403374, -0.03272295743227005, 0.012371092103421688, -0.06566905975341797, -0.03358713537454605, 0.051709841936826706, -0.010675898753106594, -0.030359091237187386, -0.007277260534465313, 0.018781425431370735, 0.020262444391846657, 0.004611401353031397, -0.005024784244596958, 0.01995719037950039, -0.03120771422982216, -0.040803760290145874, 0.0435481071472168, -0.014331487938761711, -0.007787927519530058, -0.005497089121490717, -0.013114705681800842, 0.02714531309902668, -0.06376346945762634, 0.012888852506875992, -0.0022513645235449076, -0.020550793036818504, -0.00194452831055969, 0.032988596707582474, 0.014196914620697498, -0.0054074851796031, 0.02242267318069935, -0.003181777661666274, -0.009991676546633244, -0.03438844904303551, -0.0032019291538745165, 0.03802522271871567, -0.018739424645900726, -0.013819104991853237, -0.012537289410829544, -0.002716494258493185, 0.02981286309659481, -0.007552668452262878, -0.013761335983872414, -0.034559909254312515, -0.05031870678067207, 0.05465376749634743, -0.04269443452358246, 0.007845340296626091, -0.037594325840473175, -0.05692211166024208, 0.0273226797580719, 0.018811669200658798, 0.011834749951958656, 0.029841940850019455, 0.006119289435446262, 0.006319837644696236, 0.029413603246212006, -0.017098626121878624, -0.013458842411637306, -0.021937236189842224, 0.0016369245713576674, -0.016023412346839905, -0.014268996194005013, -0.03233940899372101, 0.0451882928609848, -0.010201696306467056, -0.06086694449186325, -0.0463835708796978, 0.007943098433315754, 0.04351207613945007, 0.015513109043240547, -0.03737746179103851, 0.013499172404408455, -0.01320075523108244, -0.00640894565731287, -0.0077588181011378765, -0.022724222391843796, 0.031722210347652435, -0.007143434602767229, 0.02819005399942398, 0.03623538464307785, -0.0043570417910814285, 0.014298570342361927, 0.010166785679757595, -0.009156904183328152, 0.007252363953739405, 0.051221322268247604, -0.01726205088198185, -0.03745915740728378, -0.017879214137792587]]]\n",
      "[[0.004660115111619234, 0.04424992576241493, 0.03206033259630203, 0.015540085732936859, -0.07083090394735336, 0.014493962749838829, 0.037161651998758316, -0.006692938972264528, 0.004224649630486965, 0.06146269664168358, 0.0532367005944252, 0.021600835025310516, -0.01339556835591793, -0.009147833101451397, 0.026184620335698128, -0.009521621279418468, -0.06039206683635712, 0.020956721156835556, -0.036377497017383575, -0.0008347317343577743, 0.021165553480386734, -0.0019712781067937613, -0.05077820271253586, 0.0019926640670746565, -0.004751457367092371, 0.041612204164266586, 0.06958159804344177, 0.012141627259552479, 0.01907825469970703, 0.041103970259428024, 0.023437444120645523, -0.0035393547732383013, 0.021110400557518005, -0.060597002506256104, -0.03333151713013649, -0.03125382959842682, 0.01430603489279747, -0.02168005146086216, -0.002093435265123844, -0.047682084143161774, -0.005268718581646681, -0.01609364151954651, 0.02111591398715973, 0.003705315524712205, -0.009754703380167484, 0.001331852050498128, -0.06717215478420258, -0.024609483778476715, 0.013188931159675121, -0.034951381385326385, -0.04901696369051933, -0.010082964785397053, 0.03262008726596832, -0.036118149757385254, 0.007519624195992947, -0.00990979466587305, -0.03447924554347992, 0.03192347288131714, -0.015022561885416508, 0.03421944007277489, 0.002254104008898139, -0.028163624927401543, -0.028602462261915207, -0.018980415537953377, -0.007667706813663244, 0.00998383667320013, 0.012398460879921913, -0.0008830976439639926, 0.005158781539648771, -0.006486912723630667, 0.02407698705792427, 0.02672629803419113, 0.02162841521203518, -0.004646386951208115, -0.0037965381052345037, 0.03393932804465294, 0.028590291738510132, 0.015201522968709469, -0.05386972054839134, 0.044039078056812286, -0.019153064116835594, 0.015554028563201427, -0.0596509724855423, -0.007481791079044342, -0.04497849941253662, -0.08776037395000458, -0.001102148788049817, -0.016708076000213623, 0.006057317368686199, -0.05519504100084305, 0.025026369839906693, 0.03641243278980255, 0.0009988993406295776, 0.04260963574051857, 0.06382302939891815, 0.025201594457030296, -0.021547190845012665, 0.026324285194277763, -0.009636150673031807, 0.030171599239110947, 0.040234364569187164, 0.030923595651984215, 0.0026203265879303217, 0.03177845850586891, -0.042451780289411545, 0.02861073799431324, -0.0013153975596651435, 0.025431059300899506, 0.017488261684775352, -0.02922084368765354, 0.02915443666279316, -0.02317041903734207, -0.02680084854364395, 0.022814692929387093, -0.02747960388660431, 0.02348901890218258, -0.0012067792704328895, 0.05777804180979729, -0.038014624267816544, -0.036076415330171585, -0.00341932219453156, -0.008197588846087456, 0.005665136501193047, 0.04258115962147713, -0.008647613227367401, -0.007083192002028227, -0.01960640959441662, -0.004654702730476856, -0.041372790932655334, 0.02974669635295868, 0.01397645752876997, 0.003229953581467271, -0.01328688208013773, 0.02134111151099205, -0.011418209411203861, 0.03945213928818703, 0.016023842617869377, 0.022341258823871613, 0.021965526044368744, -0.013693492859601974, 0.023950062692165375, 0.008828261867165565, -0.03278150409460068, 0.07200416177511215, -0.03125437721610069, -0.019290614873170853, -0.014275909401476383, 0.026768088340759277, -0.0024595048744231462, 0.04248379170894623, 0.0016347657656297088, 0.019152147695422173, 0.009366636164486408, -0.0048805177211761475, 0.040045857429504395, -0.012981776148080826, 0.01364577654749155, 0.010265232995152473, -0.01908656768500805, 0.03304051607847214, 0.020326664671301842, -0.011802407912909985, 0.025800947099924088, 0.028663020581007004, -0.009230971336364746, 0.04473234340548515, -0.0045124986208975315, -0.033330321311950684, -0.056727588176727295, -0.022629518061876297, -0.025685347616672516, 0.011790563352406025, -0.05442062020301819, 0.0037187400739639997, -0.011655953712761402, 0.05114255100488663, 0.016819898039102554, -0.0018101814202964306, -0.027203364297747612, 0.021596519276499748, -0.01087072305381298, -0.03580619767308235, 0.013444161973893642, 0.07816322892904282, 0.02394620142877102, 0.01813828945159912, -0.052433669567108154, -0.01191822998225689, -0.04003845155239105, -0.005369542166590691, -0.0003021408920176327, 0.009688499383628368, 0.008941317908465862, 0.02352096326649189, -0.0440080389380455, -0.011594624258577824, -0.02125139720737934, -0.034409862011671066, -0.030799714848399162, -0.04973743110895157, -0.030612071976065636, 0.04057953506708145, 0.005907522514462471, 0.03660435229539871, -0.035886410623788834, -0.035694655030965805, 0.03299315273761749, 0.059023499488830566, -0.022465573623776436, -0.018100224435329437, 0.03997616469860077, -0.029022997245192528, -0.025484846904873848, 0.012068680487573147, 0.03242707625031471, 0.029703998938202858, -0.02578704059123993, 0.03418319672346115, -0.022334251552820206, 0.030868882313370705, 0.003497464582324028, 0.07777278870344162, -0.002720506163313985, 0.06259467452764511, 0.013328111730515957, -0.02011774107813835, -0.005857066251337528, 0.03988831490278244, -0.014470874331891537, 0.01605203188955784, -0.03113296627998352, 0.05220764875411987, 0.06715922802686691, -0.011280032806098461, -0.01751536689698696, 0.048006489872932434, 0.03167710453271866, 0.052675098180770874, 0.022100113332271576, 0.03693303465843201, 0.0036157395225018263, 0.029641952365636826, 0.040496036410331726, -0.007657541893422604, 0.001948571065440774, 0.02551107481122017, 0.029067449271678925, -8.359795901924372e-05, -0.007854893803596497, 0.04763844981789589, -0.04131520912051201, 0.008037574589252472, 0.024293312802910805, 0.025122225284576416, -0.03551333397626877, -0.022017860785126686, 0.012775935232639313, 0.05307114124298096, -0.0041752345860004425, -0.02077794075012207, 0.05434645339846611, -0.033260710537433624, 0.03429773822426796, -0.03556235134601593, 0.052577584981918335, -0.012045832350850105, 0.039082661271095276, 0.02019139565527439, -0.02625119499862194, 0.005432747770100832, 0.0036545339971780777, -0.007184106856584549, -0.038620878010988235, -0.031856294721364975, -0.0510786734521389, 0.03165687993168831, -0.0035689864307641983, -0.0037307273596525192, 0.04094908758997917, -0.003995359875261784, 0.035709261894226074, -0.009852023795247078, -0.014210036024451256, 0.012517834082245827, -0.00935339741408825, 0.04503200203180313, 0.0041115437634289265, 0.01728897914290428, -0.01715913601219654, 0.0502064973115921, -0.03698961064219475, -0.01938701421022415, 0.0598602220416069, -0.03403020277619362, 0.02551368996500969, -0.05751948431134224, -0.026624860242009163, 0.009286741726100445, -0.0030391616746783257, -0.04343954101204872, -0.016440318897366524, 0.010778109543025494, 0.009375832043588161, 0.01874634064733982, -0.03759310394525528, 0.008525747805833817, 0.002445003017783165, -0.006679802667349577, 0.021461116150021553, -0.004225988872349262, -0.039130404591560364, 0.012220838107168674, -0.024812672287225723, -0.03102717362344265, -0.03956704959273338, 0.007922797463834286, 0.04421351104974747, 0.024396246299147606, -0.037472061812877655, -0.045357633382081985, 0.009677818976342678, 0.007166127674281597, -0.037683792412281036, 0.008005153387784958, -0.019168829545378685, 0.048751380294561386, 0.03583955392241478, -0.05543883517384529, 0.005833887495100498, -0.01059989258646965, -0.05022193863987923, 0.008970821276307106, 0.005393458995968103, 0.06711786985397339, -0.0017161278519779444, 0.022909164428710938, 0.003647624282166362, 0.006646476686000824, -0.02436891198158264, 0.008071986958384514, 0.017449473962187767, -0.032336410135030746, -0.015814295038580894, -0.0027177503798156977, -0.014024159871041775, 0.016094857826828957, 0.012997682206332684, 0.0015195220476016402, -0.026115160435438156, -0.018856674432754517, -0.007019752636551857, -0.01927068643271923, -0.011807294562458992, 0.026958463713526726, 0.024227749556303024, 0.025670481845736504, -0.01029967050999403, 0.024535058066248894, 0.017466867342591286, 0.03607338294386864, 0.04158512130379677, 0.004979219753295183, -0.032624274492263794, -0.018010403960943222, -0.023730626329779625, 0.0006929627852514386, -0.03769218549132347, -0.016766423359513283, -0.011074514128267765, 0.010373754426836967, 0.03251190856099129, 0.00552911264821887, -0.035555969923734665, 0.0027424688450992107, 0.009496299549937248, 0.018394019454717636, 0.03247557207942009, 0.012962572276592255, -0.0027429559268057346, -0.04643445834517479, 0.010051914490759373, -0.027662446722388268, -0.008410320617258549, 0.02814362943172455, 0.006788916420191526, -0.024782996624708176, -0.04365602508187294, -0.026035720482468605, -0.015008107759058475, -0.008127650246024132, -0.055851664394140244, 0.009657373651862144, 0.02782447263598442, -0.0358944796025753, 0.009422983974218369, -0.022368203848600388, -0.000984066165983677, -0.01045201439410448, -0.02448497712612152, 0.005663058254867792, 0.04056834429502487, 0.04006817191839218, 0.039497412741184235, 0.0521647185087204, 0.013449268415570259, -0.024278027936816216, -0.00017886738351080567, 0.05268145725131035, 0.024369971826672554, -0.01158030703663826, 0.01262730360031128, -0.025505028665065765, 0.001426394679583609, -0.0428357794880867, 0.010756025090813637, -0.015567673370242119, -0.04383765533566475, -0.04293942078948021, -0.015977859497070312, -0.018687525764107704, -0.01976899243891239, -0.04485705494880676, -0.05175510793924332, 0.0031977847684174776, 0.036385584622621536, -0.01773979142308235, 0.026180336251854897, -0.03169222176074982, 0.021008409559726715, -0.007223454769700766, 0.03807953745126724, -0.03760065510869026, 0.007999645546078682, 0.0001345024793408811, -0.004711803514510393, -0.012711568735539913, -0.002916376106441021, 0.031232167035341263, -0.010303814895451069, -0.030869342386722565, 0.015192761085927486, 0.0376061275601387, -0.013831162825226784, 0.013745082542300224, 0.04431699961423874, 0.023106763139367104, -0.02609623223543167, 0.058432940393686295, 0.01880628988146782, -0.04609595239162445, 0.062186699360609055, -0.0622914582490921, 0.05133911967277527, -0.013309280388057232, -0.01850431226193905, 0.013986017554998398, 0.011505034752190113, -0.02437533251941204, 0.0018602063646540046, -0.00981370359659195, -0.021278955042362213, -0.05512138456106186, -0.03811744973063469, -0.004101982805877924, -0.04018889740109444, 0.013883412815630436, 0.010476457886397839, 0.08202223479747772, 0.05497919023036957, -0.00521209416911006, 0.0006524893688037992, 0.0012210721615701914, -0.006226992700248957, -0.05319710448384285, 0.006070670206099749, -0.025257429108023643, 0.018851470202207565, -0.013976733200252056, 0.004658539313822985, -0.024481266736984253, -0.03537613898515701, -0.014634901657700539, 0.0168174896389246, -0.01562298834323883, 0.0033109404612332582, -0.04457102715969086, -0.019649822264909744, 0.06123005598783493, -0.05641443282365799, -0.021534908562898636, -0.026592418551445007, -0.017299575731158257, 0.013246920891106129, -0.039897721260786057, 0.00266541657038033, 0.010422891937196255, -0.08284885436296463, -0.004806691315025091, 0.004682436585426331, 0.05222489684820175, 0.04377031698822975, 0.00441946554929018, -0.03565401956439018, 0.037154700607061386, -0.04912620037794113, 0.0023311502300202847, -0.05947219580411911, 0.007767523173242807, -0.02497769705951214, 0.038081634789705276, -0.004645973909646273, -0.01828834041953087, -0.006532191764563322, -0.027896102517843246, -0.010358505882322788, 0.012339329347014427, -0.016028033569455147, -0.0100666219368577, 0.018379483371973038, 0.051702484488487244, 0.0013899237383157015, -0.021829398348927498, 0.004030823707580566, 0.008113633841276169, -0.024833854287862778, 0.027825819328427315, -0.0027978098951280117, -0.0215054452419281, -0.07834547758102417, -0.04814682900905609, 0.024341441690921783, -0.04605250060558319, -0.05714431032538414, -0.022564776241779327, -0.049590371549129486, -0.04448920860886574, 0.03207141533493996, 0.004516822751611471, 0.030167683959007263, -0.0010532393353059888, -0.009373246692121029, 0.05119679495692253, -0.015950558707118034, -0.02084111049771309, 0.01475359033793211, 0.015383776277303696, 0.03342660889029503, -0.0011208963114768267, -0.035925544798374176, 0.0276638176292181, 0.023868011310696602, -0.018973255529999733, 0.016858631744980812, -0.0019012691918760538, -0.013006209395825863, -0.032868288457393646, 0.022571733221411705, -0.013241568580269814, -0.0010512564331293106, 0.021965989843010902, -0.05740068852901459, 0.011661108583211899, -0.003240088699385524, -0.01614018902182579, -0.02933468669652939, 0.020906789228320122, -0.014874686487019062, -0.031770553439855576, 0.01855139248073101, 0.02992195263504982, 0.06073558330535889, 0.05498046800494194, 0.013191565871238708, 0.05715484172105789, -0.006857013329863548, 0.01830952800810337, -0.02745204232633114, -0.0413372702896595, -0.036753345280885696, 0.01936331018805504, 0.050520263612270355, 0.021954335272312164, -0.006833333056420088, -0.06258175522089005, 0.034694913774728775, -0.02236625738441944, 0.008908340707421303, 0.051101863384246826, 0.00038707730709575117, 0.025361228734254837, -0.023403510451316833, 0.02580276131629944, 0.0010815260466188192, -0.03940274193882942, -0.03797160089015961, -0.025136221200227737, -0.01929335668683052, -0.004602684173732996, -0.05311895161867142, -0.015263418667018414, -0.008946308866143227, 0.012681677006185055, 0.02632581815123558, 0.024143531918525696, 0.05498930439352989, -0.0657392144203186, -0.059615932404994965, -0.00529147032648325, 0.025033576413989067, 0.006595770362764597, 0.05220450088381767, 0.034897103905677795, 0.01961439847946167, 0.021713286638259888, 0.07179494947195053, -0.006314246449619532, -0.008234350942075253, -0.02208881452679634, 0.020918797701597214, -0.0331762433052063, -0.01908758096396923, 0.05757172405719757, -0.004792705178260803, -0.05455155670642853, -0.048620838671922684, -0.020194711163640022, -0.006009240634739399, -0.017418967559933662, 0.012427134439349174, 0.003986929077655077, 0.0004862368223257363, -0.029998883605003357, 0.018630167469382286, 0.02070728875696659, 0.03035016544163227, 0.03760385140776634, -0.02974107302725315, 0.003136388259008527, -0.028393201529979706, -0.016496164724230766, 0.011172212660312653, -0.012426815927028656, -0.02343609742820263, -0.0431278795003891, -0.0192326158285141, 0.002784067764878273, 0.003958050161600113, 0.020246729254722595, -0.028799666091799736, 0.024688921868801117, 0.06741546839475632, 0.0015543157933279872, 0.045663658529520035, -0.010711095295846462, -0.01443458627909422, -0.007700780406594276, 0.025567254051566124, -0.02522464282810688, 0.00900249369442463, -0.0010046386159956455, -0.014737190678715706, 0.009497582912445068, -0.03799803927540779, 0.016455888748168945, -0.0022305776365101337, 0.02733134850859642, -0.03688890486955643, -0.0060899388045072556, -0.020812487229704857, -0.010854334570467472, -0.025377929210662842, -0.048302892595529556, -0.03327285498380661, -0.012412291020154953, 0.04840775579214096, -0.021743379533290863, 0.00967115443199873, -0.009400644339621067, 0.06343317031860352, -0.024954497814178467, 0.003960440866649151, -0.04984857514500618, 0.008558348752558231, 0.011361517943441868, 0.02471451833844185, -0.08543818444013596, -0.04328268766403198, 0.012492815032601357, 0.06142127513885498, -0.013364016078412533, 0.030206438153982162, -0.004560879897326231, -0.01501341164112091, -0.0038038729690015316, 0.0012283342657610774, -0.0006417484255507588, -0.025846373289823532, 0.051626626402139664, 0.05918914079666138, -0.04552263393998146, 0.00985598936676979, 0.05449242144823074, 0.04012918472290039, 0.0020905351266264915, -0.02920226752758026, -0.003695610212162137, 0.04534707963466644, 0.00300922361202538, 0.008536436595022678, -0.017578717321157455, -0.00027105581830255687, -0.027284909039735794, 0.003992337267845869, -0.0709206759929657, 0.0068051754496991634, -0.03560526669025421, 0.01223695743829012, -0.01719820871949196, 0.011329255998134613, -0.011222975328564644, 0.056409802287817, 0.07079309225082397, 0.020740628242492676, -0.04223191365599632, -0.006874745711684227, 0.04149356856942177, 0.046836305409669876, 0.007924207486212254, -0.04040919616818428, -0.00023856615007389337, 0.01756051369011402, -0.0006959513411857188, 0.026582131162285805, -0.005931265652179718, 0.030351530760526657, -0.01511052343994379, -0.010830121114850044, -0.022889602929353714, -0.026804298162460327, -0.08401334285736084, 0.054934173822402954, 0.019840028136968613, -0.018659375607967377, 0.034118179231882095, -0.007612309884279966, -0.05865764990448952, -0.001671260455623269, -0.059386786073446274, -0.067924864590168, 0.04664658382534981, -0.0066468496806919575, -0.028825698420405388, 0.02739645168185234, -0.05321181192994118, 0.001513125840574503, 0.012420128099620342, 0.03162505105137825, 0.007650843355804682, 0.023665593937039375, 0.001968933502212167, 0.025873105973005295, -0.007022275123745203, 0.030287718400359154, 0.019264589995145798, 0.043401919305324554, 0.008278800174593925, -0.07539959996938705, 0.021695824339985847, -0.005071685183793306, 0.04880203679203987, -0.007315176073461771, 0.022510964423418045, 0.026339128613471985, 0.02847074717283249, 0.012036032974720001, -0.03958216682076454, -0.02373996563255787, -0.03685205429792404, 0.03038174659013748, -0.05891761556267738, 0.020245900377631187, 0.01677771843969822, 0.044605351984500885, -0.010513917542994022, 0.013321015983819962, -0.024770518764853477, 0.018116936087608337, 0.05226903036236763, 0.010723382234573364, 0.007645361125469208, 0.06068160757422447, -0.05293695628643036, 0.0006243026000447571, -0.05551067739725113, 0.002658808371052146, 0.04708617925643921, 0.025942940264940262, 0.004295694641768932, -0.0018170910188928246, 0.003222937462851405, 0.013853807933628559, 0.01222584955394268, 0.03174843266606331, -0.0523616187274456, -0.024843953549861908, 0.005952241364866495, 0.0056421332992613316, 0.018929658457636833, -0.026730170473456383, -0.002957033459097147, -0.037115760147571564, -0.021245459094643593, -0.0332377590239048, -0.004545370116829872, 0.0068948520347476006, -0.01596764288842678, 0.025878435000777245, -0.012523816898465157, 0.015929333865642548, -0.004209753591567278, 0.00724808918312192, 0.012387952767312527, 0.022657165303826332, -0.008453870192170143, 0.043752919882535934, 0.021809585392475128, 0.014971708878874779, 0.0184951014816761, 0.032347019761800766, 0.005256080999970436, 0.002206045901402831, -0.03161018341779709, 0.006516442634165287, -0.013011123053729534, -0.0022686331067234278, 0.006284819915890694, -0.04527260363101959, -0.024004025384783745, 0.010899594984948635, -0.005664310418069363, -0.02811601758003235, 0.046174485236406326, -0.0435059517621994, -0.05279238149523735, 0.005663776304572821, 0.03197865188121796, -0.0272515956312418, -0.01971570961177349, -0.005392075981944799, -0.017031768336892128, -0.004044553730636835, 0.06509894132614136, -0.016003187745809555, -0.026802679523825645, 0.047559961676597595, 0.0022258951794356108, -0.004442700184881687, 0.07644783705472946, 0.03160807490348816, 0.014597594738006592, -0.012594926171004772, -0.005311698652803898, -0.046603161841630936, 0.0011039158562198281, 0.0024352094624191523, -0.017065979540348053, 0.0024193204008042812, -0.006496740970760584, 0.009716346859931946, -0.024478035047650337, -0.01951269805431366, 0.004816117696464062, -0.054408423602581024, -0.028688807040452957, 0.001212620409205556, 0.006323002744466066, 0.014477339573204517, 0.021146155893802643, 0.032806508243083954, -0.012168687768280506, -0.013357547111809254, -0.011285990476608276, -0.04800562933087349, 0.015107247047126293, -0.052627988159656525, 0.022204535081982613, -0.050145912915468216, -0.010496304370462894, -0.022229501977562904, 0.00940883718430996, 0.006138881668448448, 0.048343509435653687, 0.0014365034876391292, -0.017894648015499115, -0.007743942551314831, 0.028310732915997505, -0.026378309354186058, 0.000873055774718523, -0.02424362115561962, -0.048399630934000015, 0.025614487007260323, 0.03763335943222046, -0.027776308357715607, -0.00790912564843893, 0.02708585187792778, 0.027428466826677322, -0.05936617776751518, 0.010559058748185635, 0.0026742923073470592, -0.030437329784035683, 0.05913005769252777, -0.06331903487443924, 0.06177946552634239, -0.005395427346229553, -0.05647115036845207, 0.007156017702072859, -0.0077260639518499374, -0.04482397064566612, -0.043310437351465225, -0.09346291422843933, -0.03159160912036896, -0.006447628140449524, -0.0187417883425951, -0.004246193915605545, 0.00512215169146657, -0.027908656746149063, 0.031214721500873566, 0.02152266539633274, -0.06814664602279663, 0.2493460774421692, 0.05418259650468826, 0.02411973662674427, 0.04866495728492737, 0.01722363941371441, 0.022944988682866096, 0.009064128622412682, -0.0005637137801386416, 0.01530560664832592, -0.04502589628100395, -0.012593974359333515, 0.009855657815933228, 0.025862298905849457, 0.01157398708164692, 0.04316507652401924, 0.030793827027082443, -0.022029632702469826, 0.00824091024696827, 0.021601932123303413, -0.039133645594120026, -0.01573662832379341, 0.02188604697585106, -0.03888248652219772, 0.00030300140497274697, -0.009170133620500565, 0.022819429636001587, 0.04205826297402382, -0.042995721101760864, -0.003339719492942095, 0.0007682083523832262, 0.04857650771737099, 0.013022768311202526, -0.01770050823688507, 0.011826164089143276, -0.0052677481435239315, 0.019333720207214355, -0.06527946889400482, -0.021315453574061394, -0.028630686923861504, -0.021079031750559807, 0.0089262705296278, -0.03596196323633194, 0.02237347885966301, -0.05053618177771568, -0.005002474412322044, 0.06387884169816971, -0.004216628149151802, -0.01204153336584568, -0.01294995378702879, -0.039941344410181046, 0.02289978787302971, -0.02691332809627056, -0.01003939937800169, -0.037693317979574203, -0.05295655503869057, 0.0252770334482193, 0.015388069674372673, -0.006452799774706364, 0.012486777268350124, -0.007401707582175732, 0.014801247976720333, 0.010756639763712883, -0.02923600561916828, 0.02284943498671055, -0.0425412617623806, -0.023885877802968025, 0.00571001973003149, 0.006078472826629877, -0.04131920635700226, -0.029825007542967796, -0.0336170494556427, -0.013988856226205826, -0.007482650224119425, 0.018440458923578262, 0.045434433966875076, 0.023827752098441124, 0.014640851877629757, 0.02358800731599331, -0.01786934770643711, -0.020272444933652878, -0.04684207960963249, 0.011823565699160099, -0.006781129632145166, -0.011604397557675838, 0.008132033981382847, 0.02563631348311901, -0.03137575462460518, -0.01700642704963684, -0.026323437690734863, 0.020917100831866264, 0.026412803679704666, 0.02078920230269432, 0.049742307513952255, -0.0497957207262516, 0.0005667677614837885], [-0.0023723046761006117, 0.026205163449048996, 0.04402460530400276, -0.04619108885526657, -0.02518450655043125, -0.009148553013801575, 0.015960464254021645, 0.003543207189068198, 0.01850646547973156, 0.08979100733995438, 0.05720309540629387, 0.04522451013326645, -0.020582299679517746, -0.0058784703724086285, -0.022164927795529366, -0.002363867126405239, -0.02428886666893959, 0.007937503978610039, -0.04514848813414574, 0.007293259259313345, 0.0334661565721035, 0.042411841452121735, -0.09398587048053741, -0.020730815827846527, -0.03397157043218613, -0.020583445206284523, 0.033490199595689774, 0.019158435985445976, 0.040737833827733994, 0.08071358501911163, -0.024783024564385414, -0.006617866922169924, -0.03345632553100586, -0.0485980249941349, -0.016528798267245293, 0.006078880280256271, 0.016285302117466927, -0.04270515218377113, 0.014865132048726082, -0.05449722707271576, 0.032972272485494614, -0.002942794468253851, 0.0006992819253355265, -0.06514240801334381, -0.03182302415370941, -0.016164427623152733, -0.03830811008810997, -0.03995558246970177, -0.021113045513629913, -0.014984582550823689, 0.016588255763053894, 0.030681584030389786, 0.04709871485829353, -0.02415783889591694, -0.04796725884079933, 0.04699608311057091, 0.06101297214627266, 0.0005819420330226421, -0.004963747225701809, 0.04595131427049637, -0.030930088832974434, -0.013292480260133743, -0.022827457636594772, -0.05751969665288925, -0.004110272973775864, 0.0021788491867482662, -0.0032510170713067055, -0.0213686041533947, 0.04075487703084946, -0.006276939995586872, -0.0183266531676054, 0.011163813062012196, 0.00648417416960001, -0.0013658732641488314, -0.060241684317588806, 0.07755211740732193, -0.006955946795642376, 0.02114151604473591, 0.011713373474776745, -0.0206623412668705, 0.007741388399153948, 0.043370235711336136, -0.03617420047521591, 0.036144740879535675, -0.04260367900133133, 0.030610615387558937, 0.0147127415984869, 0.011865535750985146, 0.00879391934722662, 0.018509462475776672, 0.024496322497725487, 0.024185728281736374, -0.012585137039422989, 0.011471269652247429, 0.021906999871134758, -0.0007418064051307738, -0.0035256824921816587, -0.003578849835321307, -0.040503617376089096, -0.005481452215462923, 0.03224978968501091, 0.0062169707380235195, -0.013119150884449482, 0.011453207582235336, -0.0296426173299551, 0.06444329768419266, -0.014928465709090233, 0.02413131482899189, 0.007912038825452328, -0.06480273604393005, 0.03378753364086151, -0.010242670774459839, 0.03459608182311058, 0.02200983837246895, 0.020456770434975624, 0.033479269593954086, -0.013265876099467278, 7.341270247707143e-05, -0.026466306298971176, -0.028483403846621513, 0.03352929279208183, 0.051773812621831894, 0.026560036465525627, 0.034876368939876556, 0.004559531342238188, 0.01018339954316616, -0.035002000629901886, -0.03992984816431999, -0.04333053156733513, -0.018560271710157394, -0.013634867034852505, -0.03638424351811409, 0.008119035512208939, 0.015228052623569965, 0.029067106544971466, 0.04614139720797539, 0.00884719006717205, 0.025791674852371216, 0.018312299624085426, -0.03652259707450867, 0.04949527606368065, -0.03215130418539047, -0.0013728924095630646, 0.06498569250106812, -0.023480422794818878, -0.00603124313056469, -0.012828605249524117, 0.02037751115858555, 0.02054295316338539, 0.02938942238688469, -0.05400964245200157, -0.0023827191907912493, 0.007787532638758421, -0.03905528411269188, -0.0027856568340212107, -0.005847631953656673, 0.009442318230867386, 0.03374287113547325, 0.015505768358707428, 0.03172306343913078, -0.02437405474483967, -0.0498625747859478, 0.020274419337511063, 0.04184768721461296, -0.010521463118493557, 0.042852215468883514, -0.04211102053523064, -0.019257966428995132, -0.028507044538855553, -0.017827268689870834, 0.01991296373307705, 0.01654643379151821, -0.015745777636766434, -0.06197205185890198, 0.049256280064582825, 0.06232679262757301, 0.014178862795233727, -0.0678209662437439, -0.031608790159225464, 0.06135791167616844, -0.06743192672729492, -0.0023456618655472994, 0.023753391578793526, -0.0031780931167304516, 0.018716827034950256, 0.00021228777768556029, 0.002974126022309065, -0.009727660566568375, -0.05745625123381615, 0.009518633596599102, -0.008519092574715614, 0.011947110295295715, 0.01656515710055828, 0.03902231901884079, -0.05846911296248436, 0.006205955054610968, -0.030876468867063522, 0.0015630049165338278, -0.044515009969472885, -0.042382579296827316, 0.0013585344422608614, -0.013195144012570381, -0.03671673312783241, -0.012250607833266258, -0.05240362882614136, 0.009229463525116444, 0.0657147467136383, 0.06203855201601982, -0.040327586233615875, 0.017740152776241302, 0.043226052075624466, 0.03334386274218559, -0.05883060768246651, 0.016730427742004395, -0.014724964275956154, 0.0321301594376564, -0.0107351653277874, 0.03866153582930565, -0.028163043782114983, 0.006549021694809198, 0.05245564877986908, 0.051949307322502136, -0.004576347302645445, 0.024665988981723785, 0.04194212704896927, -0.05517425015568733, 0.022100035101175308, 0.054592713713645935, -0.01973673887550831, 0.02919336035847664, -0.019511111080646515, 0.01148993894457817, 0.009691007435321808, 0.012597279623150826, 0.01556689664721489, 0.03197018429636955, 0.041742097586393356, 0.03406444936990738, -0.020374257117509842, 0.03099377453327179, 0.01588292047381401, 0.029279636219143867, 0.02912498079240322, -0.010116342455148697, 0.0018938399152830243, 0.04730938747525215, 0.03809000924229622, 0.016004333272576332, -0.010166630148887634, 0.021244386211037636, 0.04255172610282898, 0.053616322576999664, 0.012695906683802605, 0.029939590021967888, -0.03528974577784538, -0.0019339597783982754, 0.009705943986773491, 0.029386820271611214, -0.03124374710023403, -0.045759741216897964, 0.04395264759659767, -0.018956730142235756, -0.030101081356406212, -0.020305171608924866, 0.00735491281375289, 0.01733129844069481, 0.011801536194980145, -0.02775852009654045, -0.021998396143317223, -0.06756281107664108, -0.029687469825148582, -0.043941207230091095, -0.06523551791906357, -0.0168081596493721, -0.040902163833379745, -0.03343060240149498, 0.004134824499487877, -0.004667080007493496, 0.018423225730657578, -0.015851221978664398, -0.01500567328184843, -0.02957949973642826, -0.059998903423547745, -0.03663589432835579, 0.036024387925863266, 0.01656893454492092, -0.01599959284067154, 0.01316289883106947, -0.005345161538571119, 0.05447632074356079, -0.03954937681555748, -0.0384264774620533, 0.005965712480247021, -0.01536878664046526, 0.023648109287023544, -0.0052103870548307896, 0.054372046142816544, 0.008975839242339134, 0.012580851092934608, -0.04792937636375427, 0.00036098770215176046, 0.007972990162670612, -0.062257785350084305, 0.04087253659963608, 0.0009109936654567719, -0.003216459648683667, 0.0057634757831692696, -0.0011823790846392512, 0.01080337818711996, -0.013357382267713547, -0.017959684133529663, 0.02497064508497715, 0.007076622918248177, -0.03429136425256729, -0.04039701446890831, 0.03424520418047905, -0.003345800330862403, -0.008487949147820473, -0.0215784702450037, -0.013875243254005909, -0.010897920466959476, -0.002682758728042245, -0.00292678689584136, -0.008673007600009441, -0.016285069286823273, 0.03324638307094574, 0.04158221185207367, -0.05481346696615219, 0.02297188714146614, -0.043879132717847824, -0.08940618485212326, 0.017117638140916824, -0.007341915275901556, 0.012069943360984325, -0.01595529168844223, 0.0011827705893665552, -0.024953586980700493, 0.0076460768468678, 0.029105596244335175, 0.011976978741586208, 0.0014060457469895482, -0.042944591492414474, -0.023769177496433258, -0.018506016582250595, 0.024757420644164085, -0.007162026129662991, -0.019005870446562767, -0.007519225124269724, -0.027827803045511246, 0.01686764508485794, -0.01617009937763214, -0.002998518757522106, -0.027038002386689186, 0.008578531444072723, 0.018019091337919235, 0.03467268869280815, -0.03025973029434681, 0.002857201499864459, 0.003242315026000142, 0.02671496570110321, 0.05538344010710716, -0.02907986007630825, -0.019217420369386673, -0.08231247961521149, 0.013468503952026367, -0.017286473885178566, 0.0006718691438436508, 0.029211940243840218, 0.03601393103599548, 0.020835669711232185, 0.05304373800754547, 0.008824006654322147, -0.014061219990253448, -0.02719406969845295, -0.03892778605222702, 0.0231782253831625, 0.09432504326105118, 0.016776785254478455, 0.03927306830883026, -0.03280217573046684, 0.00450245151296258, -0.02558787353336811, 0.006692929659038782, 0.011061988770961761, 0.02049272321164608, 0.02241015061736107, -0.011724360287189484, -0.025133980438113213, -0.05808958038687706, -0.07381151616573334, 0.009373925626277924, -0.022125978022813797, -0.00832665991038084, -0.04576648399233818, -0.04518498107790947, -0.0643853023648262, 0.0006862395675852895, -0.04125938192009926, -0.004230055958032608, -0.009053973481059074, 0.014717423357069492, -0.01867411658167839, -0.013296322897076607, 0.007968832738697529, -0.007577159442007542, -0.02324008382856846, -0.0029375129379332066, 0.04296722263097763, 0.014548339881002903, 0.0005295268492773175, -0.04670286551117897, -0.0014311037957668304, 0.007365595083683729, -0.007491348776966333, 0.024914950132369995, 0.029892094433307648, -0.04972611367702484, 0.004300377331674099, -0.006689713802188635, -0.011138382367789745, -0.00784212350845337, -0.025729646906256676, 0.010673612356185913, 0.01987050287425518, 0.040807634592056274, -0.05898210406303406, -0.006915995851159096, -0.06024904176592827, 0.019680248573422432, 0.03775812312960625, 0.025446666404604912, -0.011613885872066021, 0.004501652903854847, 0.022673675790429115, -0.037184782326221466, 0.005128944758325815, 0.06971051543951035, 0.03175637125968933, 0.017734039574861526, -0.041040290147066116, 0.02565772831439972, 0.019122295081615448, 0.017748326063156128, 0.0066808173432946205, 0.01987724006175995, 0.008115540258586407, -0.012294969521462917, 0.019328180700540543, 0.0023898950312286615, -0.009746909141540527, 0.0732826441526413, -0.018608348444104195, 0.0769803524017334, -0.019616510719060898, -0.024496931582689285, 7.747795461909845e-05, 0.0006140010664239526, -0.0511564165353775, 0.016272494569420815, -0.026723116636276245, 0.021039020270109177, 0.01572354882955551, 0.010440011508762836, -0.0007218490354716778, -0.026524854823946953, 0.05028030276298523, -0.016154151409864426, 0.04226864129304886, 0.04472501203417778, -0.007261360064148903, -0.01816749945282936, 0.026980772614479065, 0.03503106161952019, -0.01599067449569702, 0.0048201484605669975, -0.03621118143200874, -0.031388215720653534, -0.06046013534069061, -0.014850188978016376, 0.016913026571273804, -0.008486135862767696, 0.002296596998348832, -0.010083095170557499, -0.011726445518434048, 0.041273411363363266, -0.02285127155482769, -0.015748795121908188, -0.021421054378151894, -0.007366827689111233, 0.007993611507117748, -0.022752447053790092, -0.014176668599247932, -0.04295685887336731, -0.08250956237316132, -0.0009516875725239515, -0.027882419526576996, -0.024845479056239128, 0.012951263226568699, -0.0010796025162562728, 0.04250344634056091, -0.0016617759829387069, -0.012597698718309402, -0.036386944353580475, 0.01832066848874092, -0.007036774419248104, 0.023668197914958, -0.011867893859744072, -0.006017210893332958, -0.02715921960771084, -0.004137617535889149, -0.024387406185269356, -0.008961265906691551, 0.041217513382434845, 0.015259395353496075, -0.009054021909832954, 0.04437563940882683, -0.00244073080830276, 0.028898725286126137, -0.031592413783073425, 0.06634864211082458, 0.03825977072119713, -0.058426689356565475, -0.03994869440793991, -0.006923846434801817, -0.0069017899222671986, 0.004579603672027588, 0.006399659905582666, -0.015945754945278168, -0.011128904297947884, -0.009199639782309532, 0.03656703233718872, -0.053463131189346313, -0.02027488872408867, -0.02694718725979328, -0.01808609999716282, 0.006835351698100567, 0.005776607897132635, -0.019066892564296722, -0.005186205264180899, -0.04221123456954956, -0.07419076561927795, 0.022696249186992645, -0.002043662127107382, 0.01561448723077774, -0.01713796891272068, -0.014534018002450466, 0.019872667267918587, 0.08818969130516052, -0.032169729471206665, -0.033064790070056915, 0.011641692370176315, 0.005233979783952236, 0.041867561638355255, 0.01707286201417446, -0.01899239793419838, -0.019354192540049553, 0.012058916501700878, -0.019625328481197357, 0.012718848884105682, 0.004028321709483862, 0.028929442167282104, 0.05292226001620293, -0.022467609494924545, 0.017090637236833572, 0.01117008551955223, 0.04087892174720764, 0.0064145405776798725, 0.017409944906830788, 0.012889144942164421, -0.040328580886125565, -0.048344045877456665, 0.010976525954902172, 0.021421125158667564, 0.02837236225605011, -0.008485134690999985, -0.03962321579456329, -0.057209234684705734, 0.005542350467294455, -0.0617830827832222, -0.03100588172674179, 0.012880777940154076, 0.008002027869224548, 0.0030224104411900043, -0.09282020479440689, 0.03499700501561165, -0.0316268689930439, 0.04076762869954109, 0.053128477185964584, 0.09099026769399643, 0.036773957312107086, -0.011405742727220058, 0.048745669424533844, 0.07411439716815948, -0.014341137371957302, 0.008046960458159447, -0.03439011797308922, -0.0035549316089600325, -0.024274533614516258, 0.004130858927965164, -0.03091953694820404, -0.03060959093272686, 0.03066195920109749, 0.023796968162059784, 0.009314202703535557, 0.04878783971071243, 0.003863370278850198, -0.051602285355329514, -0.005765673704445362, 0.06654178351163864, 0.03917825594544411, 0.06349965929985046, 0.08729589730501175, 0.0002488656609784812, -0.01864069700241089, 0.06513378024101257, -0.006940028164535761, -0.02480182610452175, 0.01197901926934719, 0.06925629079341888, -0.043805621564388275, -0.019261252135038376, 0.008969617076218128, 0.00026189355412498116, -0.035876017063856125, -0.024196060374379158, 0.014163568615913391, 0.037847474217414856, 0.0032355720177292824, -0.027442405000329018, 0.011447830125689507, 0.0024669277481734753, -0.010678227059543133, 0.016380945220589638, 0.012054800987243652, -0.03298904001712799, 0.033120639622211456, 0.008433320559561253, -0.017575843259692192, -0.018465455621480942, 0.01985708624124527, 0.046037882566452026, 0.0014276830479502678, 0.010517808608710766, -0.025006012991070747, -0.012132814154028893, -0.010113123804330826, -0.04849626123905182, -0.013074947521090508, -0.010629279538989067, 0.012010992504656315, 0.006076320074498653, 0.015445447526872158, 0.032392073422670364, 0.009754206985235214, 0.0030726452823728323, 0.05212599039077759, -0.007368053309619427, -0.04822928458452225, -0.02169746533036232, -0.006715445779263973, 0.03776610270142555, -0.008845429867506027, -0.019152646884322166, 0.011380970478057861, 0.02203863114118576, 0.02563779056072235, -0.04168906435370445, -0.002482317853718996, -0.00975739024579525, -0.05056707561016083, -0.03857240080833435, -0.05029487609863281, -0.009471466764807701, 0.011934543028473854, 0.058367449790239334, 0.007249078713357449, -0.05390135571360588, 0.0457693450152874, 0.009293770417571068, -0.005043425597250462, 0.015771789476275444, -0.03970940038561821, -0.005495923571288586, -0.026602696627378464, -0.0272288266569376, -0.0724882185459137, -0.02105235494673252, -0.02158498205244541, 0.02977004274725914, -0.0014210271183401346, -0.038650963455438614, 0.009186913259327412, -0.006661812774837017, -0.017102232202887535, 0.0052754818461835384, -0.004262178670614958, -0.009480864740908146, 0.06677073240280151, 0.05760331451892853, 0.03548511862754822, 0.018050367012619972, 0.03194970265030861, 0.008563622832298279, 0.007811868097633123, -0.015489756129682064, -0.0071845403872430325, -0.00023645663168281317, 0.016717324033379555, 0.06535880267620087, -0.013783133588731289, 0.021520519629120827, -0.0017364607192575932, -0.0060572875663638115, -0.06479229778051376, 0.03410777822136879, 0.010464299470186234, 0.07477355748414993, -0.00010580029629636556, -0.02443581074476242, 0.06498635560274124, 0.04923124611377716, 0.060459572821855545, 0.018834425136446953, -0.02913704700767994, 0.009308261796832085, -0.007807382848113775, -0.0012798294192180037, -0.021538184955716133, -0.014398961327970028, 0.040458571165800095, 0.0030639152973890305, 0.008653049357235432, -0.008884782902896404, 0.01654418744146824, 0.037987612187862396, 0.016188666224479675, -0.029201699420809746, -0.009878048673272133, -0.021341264247894287, -0.02234671264886856, 0.006348347757011652, -0.00999295525252819, -0.009684869088232517, 0.0159379281103611, -0.010852468200027943, -0.04282546043395996, 0.01794394664466381, -0.0626220703125, -0.026353850960731506, 0.026505472138524055, -0.01289290376007557, -0.0202653668820858, 0.0041855438612401485, -0.0371922142803669, -0.0012060391018167138, -0.05736985057592392, 0.025696486234664917, 0.02580653689801693, -0.027297087013721466, 0.016207415610551834, 0.021921705454587936, -0.02673397585749626, 0.017073456197977066, 0.016803372651338577, 0.04096689447760582, -0.027915319427847862, -0.046772029250860214, 0.025060784071683884, 0.0015079887816682458, -0.010868275538086891, -0.025836044922471046, -0.008082430809736252, 0.03900572285056114, 0.04126567393541336, 0.02760804258286953, -0.006480785086750984, -0.01367625780403614, -0.039722900837659836, -0.009833453223109245, -0.011651723645627499, 0.011270729824900627, -0.02190817892551422, 0.05582483485341072, -0.04794401302933693, 0.0015685457037761807, -0.0062586646527051926, 0.03165041282773018, 0.021484479308128357, -0.0351276770234108, 0.0016330290818586946, 0.031231801956892014, 0.019336184486746788, 0.012437460944056511, -0.05296121910214424, -0.019582144916057587, 0.027786782011389732, 0.05299948900938034, 0.001308753271587193, 0.0025049191899597645, -0.01918131858110428, 0.02297193557024002, -0.01715627871453762, -0.01988396793603897, -0.017072336748242378, -0.03207472339272499, 0.06278134137392044, 0.025116335600614548, -0.014349318109452724, -0.02076023817062378, 0.04136721044778824, -0.01761600375175476, -0.019087275490164757, -0.01019277237355709, 0.01769099198281765, -0.01996571570634842, 0.01536505576223135, 0.03988928720355034, -0.09631862491369247, 0.02855311520397663, -0.019370395690202713, -0.027453588321805, 0.04004510119557381, -0.0016269151819869876, 0.017846351489424706, 0.0034428900107741356, 0.04215746000409126, 0.011892708949744701, -0.018093280494213104, 0.013290489092469215, -0.01874869503080845, 0.02786821499466896, -0.024058688431978226, -0.008778105489909649, 0.00948837399482727, -0.013314932584762573, -0.026933100074529648, -0.05444233864545822, -0.01472148485481739, -0.0019404817139729857, -0.0028250315226614475, 0.011284314095973969, 0.00374299893155694, -0.00905542355030775, -0.015293548814952374, 0.0009098241571336985, 0.07453276962041855, 0.007023433223366737, -0.015075666829943657, -0.0213845856487751, 0.002477788832038641, -0.04005178436636925, 0.026865020394325256, -0.004660055506974459, 0.002616625279188156, -0.0031915553845465183, 0.038253284990787506, 0.037684496492147446, 0.05207310616970062, 0.03964913636445999, -0.018737129867076874, -0.010615858249366283, 0.004326925612986088, -0.05252769589424133, -0.017887769266963005, -0.005473775323480368, -0.015019492246210575, 0.015233082696795464, -0.030760452151298523, 0.007699278183281422, -0.03548057749867439, -0.02578418143093586, 0.022202422842383385, 0.010081897489726543, 0.02287972718477249, 0.008944978937506676, -0.041831448674201965, -0.008883519098162651, 0.024672655388712883, 0.03804653510451317, 0.019678005948662758, 0.04753592237830162, -0.02186422608792782, -0.044241391122341156, 0.04275147616863251, -0.04795435443520546, 0.004276454448699951, -0.027486884966492653, 0.007836046628654003, -0.0296065304428339, 0.014119881205260754, -0.007785231806337833, 0.02750387415289879, 0.027303116396069527, -0.04239211231470108, 0.049638986587524414, 0.040793146938085556, -0.025936443358659744, 0.021803833544254303, 0.0043584625236690044, -0.016475515440106392, 0.009333928115665913, 0.043876077979803085, 0.006387661211192608, 0.0234458576887846, 0.0072992341592907906, 0.0016925777308642864, -0.02277468331158161, -0.04268639534711838, -0.01077518705278635, -0.0032597219105809927, 0.0040533654391765594, -0.0030069188214838505, -0.0018653938313946128, -0.021849876269698143, -0.0614001639187336, 0.001569317770190537, -0.001345431781373918, 0.00045617271098308265, 0.008719266392290592, 0.006945996545255184, -0.0031218307558447123, -0.021556954830884933, 0.003270338289439678, -0.07701905816793442, 0.0003457909042481333, -0.011364482343196869, 0.00877805333584547, 0.007703177165240049, -0.06423026323318481, 0.1829673796892166, 0.03942602872848511, 0.032153818756341934, -0.011403422802686691, 0.03301480412483215, 0.029234571382403374, -0.03272295743227005, 0.012371092103421688, -0.06566905975341797, -0.03358713537454605, 0.051709841936826706, -0.010675898753106594, -0.030359091237187386, -0.007277260534465313, 0.018781425431370735, 0.020262444391846657, 0.004611401353031397, -0.005024784244596958, 0.01995719037950039, -0.03120771422982216, -0.040803760290145874, 0.0435481071472168, -0.014331487938761711, -0.007787927519530058, -0.005497089121490717, -0.013114705681800842, 0.02714531309902668, -0.06376346945762634, 0.012888852506875992, -0.0022513645235449076, -0.020550793036818504, -0.00194452831055969, 0.032988596707582474, 0.014196914620697498, -0.0054074851796031, 0.02242267318069935, -0.003181777661666274, -0.009991676546633244, -0.03438844904303551, -0.0032019291538745165, 0.03802522271871567, -0.018739424645900726, -0.013819104991853237, -0.012537289410829544, -0.002716494258493185, 0.02981286309659481, -0.007552668452262878, -0.013761335983872414, -0.034559909254312515, -0.05031870678067207, 0.05465376749634743, -0.04269443452358246, 0.007845340296626091, -0.037594325840473175, -0.05692211166024208, 0.0273226797580719, 0.018811669200658798, 0.011834749951958656, 0.029841940850019455, 0.006119289435446262, 0.006319837644696236, 0.029413603246212006, -0.017098626121878624, -0.013458842411637306, -0.021937236189842224, 0.0016369245713576674, -0.016023412346839905, -0.014268996194005013, -0.03233940899372101, 0.0451882928609848, -0.010201696306467056, -0.06086694449186325, -0.0463835708796978, 0.007943098433315754, 0.04351207613945007, 0.015513109043240547, -0.03737746179103851, 0.013499172404408455, -0.01320075523108244, -0.00640894565731287, -0.0077588181011378765, -0.022724222391843796, 0.031722210347652435, -0.007143434602767229, 0.02819005399942398, 0.03623538464307785, -0.0043570417910814285, 0.014298570342361927, 0.010166785679757595, -0.009156904183328152, 0.007252363953739405, 0.051221322268247604, -0.01726205088198185, -0.03745915740728378, -0.017879214137792587], [0.004660115111619234, 0.04424992576241493, 0.03206033259630203, 0.015540085732936859, -0.07083090394735336, 0.014493962749838829, 0.037161651998758316, -0.006692938972264528, 0.004224649630486965, 0.06146269664168358, 0.0532367005944252, 0.021600835025310516, -0.01339556835591793, -0.009147833101451397, 0.026184620335698128, -0.009521621279418468, -0.06039206683635712, 0.020956721156835556, -0.036377497017383575, -0.0008347317343577743, 0.021165553480386734, -0.0019712781067937613, -0.05077820271253586, 0.0019926640670746565, -0.004751457367092371, 0.041612204164266586, 0.06958159804344177, 0.012141627259552479, 0.01907825469970703, 0.041103970259428024, 0.023437444120645523, -0.0035393547732383013, 0.021110400557518005, -0.060597002506256104, -0.03333151713013649, -0.03125382959842682, 0.01430603489279747, -0.02168005146086216, -0.002093435265123844, -0.047682084143161774, -0.005268718581646681, -0.01609364151954651, 0.02111591398715973, 0.003705315524712205, -0.009754703380167484, 0.001331852050498128, -0.06717215478420258, -0.024609483778476715, 0.013188931159675121, -0.034951381385326385, -0.04901696369051933, -0.010082964785397053, 0.03262008726596832, -0.036118149757385254, 0.007519624195992947, -0.00990979466587305, -0.03447924554347992, 0.03192347288131714, -0.015022561885416508, 0.03421944007277489, 0.002254104008898139, -0.028163624927401543, -0.028602462261915207, -0.018980415537953377, -0.007667706813663244, 0.00998383667320013, 0.012398460879921913, -0.0008830976439639926, 0.005158781539648771, -0.006486912723630667, 0.02407698705792427, 0.02672629803419113, 0.02162841521203518, -0.004646386951208115, -0.0037965381052345037, 0.03393932804465294, 0.028590291738510132, 0.015201522968709469, -0.05386972054839134, 0.044039078056812286, -0.019153064116835594, 0.015554028563201427, -0.0596509724855423, -0.007481791079044342, -0.04497849941253662, -0.08776037395000458, -0.001102148788049817, -0.016708076000213623, 0.006057317368686199, -0.05519504100084305, 0.025026369839906693, 0.03641243278980255, 0.0009988993406295776, 0.04260963574051857, 0.06382302939891815, 0.025201594457030296, -0.021547190845012665, 0.026324285194277763, -0.009636150673031807, 0.030171599239110947, 0.040234364569187164, 0.030923595651984215, 0.0026203265879303217, 0.03177845850586891, -0.042451780289411545, 0.02861073799431324, -0.0013153975596651435, 0.025431059300899506, 0.017488261684775352, -0.02922084368765354, 0.02915443666279316, -0.02317041903734207, -0.02680084854364395, 0.022814692929387093, -0.02747960388660431, 0.02348901890218258, -0.0012067792704328895, 0.05777804180979729, -0.038014624267816544, -0.036076415330171585, -0.00341932219453156, -0.008197588846087456, 0.005665136501193047, 0.04258115962147713, -0.008647613227367401, -0.007083192002028227, -0.01960640959441662, -0.004654702730476856, -0.041372790932655334, 0.02974669635295868, 0.01397645752876997, 0.003229953581467271, -0.01328688208013773, 0.02134111151099205, -0.011418209411203861, 0.03945213928818703, 0.016023842617869377, 0.022341258823871613, 0.021965526044368744, -0.013693492859601974, 0.023950062692165375, 0.008828261867165565, -0.03278150409460068, 0.07200416177511215, -0.03125437721610069, -0.019290614873170853, -0.014275909401476383, 0.026768088340759277, -0.0024595048744231462, 0.04248379170894623, 0.0016347657656297088, 0.019152147695422173, 0.009366636164486408, -0.0048805177211761475, 0.040045857429504395, -0.012981776148080826, 0.01364577654749155, 0.010265232995152473, -0.01908656768500805, 0.03304051607847214, 0.020326664671301842, -0.011802407912909985, 0.025800947099924088, 0.028663020581007004, -0.009230971336364746, 0.04473234340548515, -0.0045124986208975315, -0.033330321311950684, -0.056727588176727295, -0.022629518061876297, -0.025685347616672516, 0.011790563352406025, -0.05442062020301819, 0.0037187400739639997, -0.011655953712761402, 0.05114255100488663, 0.016819898039102554, -0.0018101814202964306, -0.027203364297747612, 0.021596519276499748, -0.01087072305381298, -0.03580619767308235, 0.013444161973893642, 0.07816322892904282, 0.02394620142877102, 0.01813828945159912, -0.052433669567108154, -0.01191822998225689, -0.04003845155239105, -0.005369542166590691, -0.0003021408920176327, 0.009688499383628368, 0.008941317908465862, 0.02352096326649189, -0.0440080389380455, -0.011594624258577824, -0.02125139720737934, -0.034409862011671066, -0.030799714848399162, -0.04973743110895157, -0.030612071976065636, 0.04057953506708145, 0.005907522514462471, 0.03660435229539871, -0.035886410623788834, -0.035694655030965805, 0.03299315273761749, 0.059023499488830566, -0.022465573623776436, -0.018100224435329437, 0.03997616469860077, -0.029022997245192528, -0.025484846904873848, 0.012068680487573147, 0.03242707625031471, 0.029703998938202858, -0.02578704059123993, 0.03418319672346115, -0.022334251552820206, 0.030868882313370705, 0.003497464582324028, 0.07777278870344162, -0.002720506163313985, 0.06259467452764511, 0.013328111730515957, -0.02011774107813835, -0.005857066251337528, 0.03988831490278244, -0.014470874331891537, 0.01605203188955784, -0.03113296627998352, 0.05220764875411987, 0.06715922802686691, -0.011280032806098461, -0.01751536689698696, 0.048006489872932434, 0.03167710453271866, 0.052675098180770874, 0.022100113332271576, 0.03693303465843201, 0.0036157395225018263, 0.029641952365636826, 0.040496036410331726, -0.007657541893422604, 0.001948571065440774, 0.02551107481122017, 0.029067449271678925, -8.359795901924372e-05, -0.007854893803596497, 0.04763844981789589, -0.04131520912051201, 0.008037574589252472, 0.024293312802910805, 0.025122225284576416, -0.03551333397626877, -0.022017860785126686, 0.012775935232639313, 0.05307114124298096, -0.0041752345860004425, -0.02077794075012207, 0.05434645339846611, -0.033260710537433624, 0.03429773822426796, -0.03556235134601593, 0.052577584981918335, -0.012045832350850105, 0.039082661271095276, 0.02019139565527439, -0.02625119499862194, 0.005432747770100832, 0.0036545339971780777, -0.007184106856584549, -0.038620878010988235, -0.031856294721364975, -0.0510786734521389, 0.03165687993168831, -0.0035689864307641983, -0.0037307273596525192, 0.04094908758997917, -0.003995359875261784, 0.035709261894226074, -0.009852023795247078, -0.014210036024451256, 0.012517834082245827, -0.00935339741408825, 0.04503200203180313, 0.0041115437634289265, 0.01728897914290428, -0.01715913601219654, 0.0502064973115921, -0.03698961064219475, -0.01938701421022415, 0.0598602220416069, -0.03403020277619362, 0.02551368996500969, -0.05751948431134224, -0.026624860242009163, 0.009286741726100445, -0.0030391616746783257, -0.04343954101204872, -0.016440318897366524, 0.010778109543025494, 0.009375832043588161, 0.01874634064733982, -0.03759310394525528, 0.008525747805833817, 0.002445003017783165, -0.006679802667349577, 0.021461116150021553, -0.004225988872349262, -0.039130404591560364, 0.012220838107168674, -0.024812672287225723, -0.03102717362344265, -0.03956704959273338, 0.007922797463834286, 0.04421351104974747, 0.024396246299147606, -0.037472061812877655, -0.045357633382081985, 0.009677818976342678, 0.007166127674281597, -0.037683792412281036, 0.008005153387784958, -0.019168829545378685, 0.048751380294561386, 0.03583955392241478, -0.05543883517384529, 0.005833887495100498, -0.01059989258646965, -0.05022193863987923, 0.008970821276307106, 0.005393458995968103, 0.06711786985397339, -0.0017161278519779444, 0.022909164428710938, 0.003647624282166362, 0.006646476686000824, -0.02436891198158264, 0.008071986958384514, 0.017449473962187767, -0.032336410135030746, -0.015814295038580894, -0.0027177503798156977, -0.014024159871041775, 0.016094857826828957, 0.012997682206332684, 0.0015195220476016402, -0.026115160435438156, -0.018856674432754517, -0.007019752636551857, -0.01927068643271923, -0.011807294562458992, 0.026958463713526726, 0.024227749556303024, 0.025670481845736504, -0.01029967050999403, 0.024535058066248894, 0.017466867342591286, 0.03607338294386864, 0.04158512130379677, 0.004979219753295183, -0.032624274492263794, -0.018010403960943222, -0.023730626329779625, 0.0006929627852514386, -0.03769218549132347, -0.016766423359513283, -0.011074514128267765, 0.010373754426836967, 0.03251190856099129, 0.00552911264821887, -0.035555969923734665, 0.0027424688450992107, 0.009496299549937248, 0.018394019454717636, 0.03247557207942009, 0.012962572276592255, -0.0027429559268057346, -0.04643445834517479, 0.010051914490759373, -0.027662446722388268, -0.008410320617258549, 0.02814362943172455, 0.006788916420191526, -0.024782996624708176, -0.04365602508187294, -0.026035720482468605, -0.015008107759058475, -0.008127650246024132, -0.055851664394140244, 0.009657373651862144, 0.02782447263598442, -0.0358944796025753, 0.009422983974218369, -0.022368203848600388, -0.000984066165983677, -0.01045201439410448, -0.02448497712612152, 0.005663058254867792, 0.04056834429502487, 0.04006817191839218, 0.039497412741184235, 0.0521647185087204, 0.013449268415570259, -0.024278027936816216, -0.00017886738351080567, 0.05268145725131035, 0.024369971826672554, -0.01158030703663826, 0.01262730360031128, -0.025505028665065765, 0.001426394679583609, -0.0428357794880867, 0.010756025090813637, -0.015567673370242119, -0.04383765533566475, -0.04293942078948021, -0.015977859497070312, -0.018687525764107704, -0.01976899243891239, -0.04485705494880676, -0.05175510793924332, 0.0031977847684174776, 0.036385584622621536, -0.01773979142308235, 0.026180336251854897, -0.03169222176074982, 0.021008409559726715, -0.007223454769700766, 0.03807953745126724, -0.03760065510869026, 0.007999645546078682, 0.0001345024793408811, -0.004711803514510393, -0.012711568735539913, -0.002916376106441021, 0.031232167035341263, -0.010303814895451069, -0.030869342386722565, 0.015192761085927486, 0.0376061275601387, -0.013831162825226784, 0.013745082542300224, 0.04431699961423874, 0.023106763139367104, -0.02609623223543167, 0.058432940393686295, 0.01880628988146782, -0.04609595239162445, 0.062186699360609055, -0.0622914582490921, 0.05133911967277527, -0.013309280388057232, -0.01850431226193905, 0.013986017554998398, 0.011505034752190113, -0.02437533251941204, 0.0018602063646540046, -0.00981370359659195, -0.021278955042362213, -0.05512138456106186, -0.03811744973063469, -0.004101982805877924, -0.04018889740109444, 0.013883412815630436, 0.010476457886397839, 0.08202223479747772, 0.05497919023036957, -0.00521209416911006, 0.0006524893688037992, 0.0012210721615701914, -0.006226992700248957, -0.05319710448384285, 0.006070670206099749, -0.025257429108023643, 0.018851470202207565, -0.013976733200252056, 0.004658539313822985, -0.024481266736984253, -0.03537613898515701, -0.014634901657700539, 0.0168174896389246, -0.01562298834323883, 0.0033109404612332582, -0.04457102715969086, -0.019649822264909744, 0.06123005598783493, -0.05641443282365799, -0.021534908562898636, -0.026592418551445007, -0.017299575731158257, 0.013246920891106129, -0.039897721260786057, 0.00266541657038033, 0.010422891937196255, -0.08284885436296463, -0.004806691315025091, 0.004682436585426331, 0.05222489684820175, 0.04377031698822975, 0.00441946554929018, -0.03565401956439018, 0.037154700607061386, -0.04912620037794113, 0.0023311502300202847, -0.05947219580411911, 0.007767523173242807, -0.02497769705951214, 0.038081634789705276, -0.004645973909646273, -0.01828834041953087, -0.006532191764563322, -0.027896102517843246, -0.010358505882322788, 0.012339329347014427, -0.016028033569455147, -0.0100666219368577, 0.018379483371973038, 0.051702484488487244, 0.0013899237383157015, -0.021829398348927498, 0.004030823707580566, 0.008113633841276169, -0.024833854287862778, 0.027825819328427315, -0.0027978098951280117, -0.0215054452419281, -0.07834547758102417, -0.04814682900905609, 0.024341441690921783, -0.04605250060558319, -0.05714431032538414, -0.022564776241779327, -0.049590371549129486, -0.04448920860886574, 0.03207141533493996, 0.004516822751611471, 0.030167683959007263, -0.0010532393353059888, -0.009373246692121029, 0.05119679495692253, -0.015950558707118034, -0.02084111049771309, 0.01475359033793211, 0.015383776277303696, 0.03342660889029503, -0.0011208963114768267, -0.035925544798374176, 0.0276638176292181, 0.023868011310696602, -0.018973255529999733, 0.016858631744980812, -0.0019012691918760538, -0.013006209395825863, -0.032868288457393646, 0.022571733221411705, -0.013241568580269814, -0.0010512564331293106, 0.021965989843010902, -0.05740068852901459, 0.011661108583211899, -0.003240088699385524, -0.01614018902182579, -0.02933468669652939, 0.020906789228320122, -0.014874686487019062, -0.031770553439855576, 0.01855139248073101, 0.02992195263504982, 0.06073558330535889, 0.05498046800494194, 0.013191565871238708, 0.05715484172105789, -0.006857013329863548, 0.01830952800810337, -0.02745204232633114, -0.0413372702896595, -0.036753345280885696, 0.01936331018805504, 0.050520263612270355, 0.021954335272312164, -0.006833333056420088, -0.06258175522089005, 0.034694913774728775, -0.02236625738441944, 0.008908340707421303, 0.051101863384246826, 0.00038707730709575117, 0.025361228734254837, -0.023403510451316833, 0.02580276131629944, 0.0010815260466188192, -0.03940274193882942, -0.03797160089015961, -0.025136221200227737, -0.01929335668683052, -0.004602684173732996, -0.05311895161867142, -0.015263418667018414, -0.008946308866143227, 0.012681677006185055, 0.02632581815123558, 0.024143531918525696, 0.05498930439352989, -0.0657392144203186, -0.059615932404994965, -0.00529147032648325, 0.025033576413989067, 0.006595770362764597, 0.05220450088381767, 0.034897103905677795, 0.01961439847946167, 0.021713286638259888, 0.07179494947195053, -0.006314246449619532, -0.008234350942075253, -0.02208881452679634, 0.020918797701597214, -0.0331762433052063, -0.01908758096396923, 0.05757172405719757, -0.004792705178260803, -0.05455155670642853, -0.048620838671922684, -0.020194711163640022, -0.006009240634739399, -0.017418967559933662, 0.012427134439349174, 0.003986929077655077, 0.0004862368223257363, -0.029998883605003357, 0.018630167469382286, 0.02070728875696659, 0.03035016544163227, 0.03760385140776634, -0.02974107302725315, 0.003136388259008527, -0.028393201529979706, -0.016496164724230766, 0.011172212660312653, -0.012426815927028656, -0.02343609742820263, -0.0431278795003891, -0.0192326158285141, 0.002784067764878273, 0.003958050161600113, 0.020246729254722595, -0.028799666091799736, 0.024688921868801117, 0.06741546839475632, 0.0015543157933279872, 0.045663658529520035, -0.010711095295846462, -0.01443458627909422, -0.007700780406594276, 0.025567254051566124, -0.02522464282810688, 0.00900249369442463, -0.0010046386159956455, -0.014737190678715706, 0.009497582912445068, -0.03799803927540779, 0.016455888748168945, -0.0022305776365101337, 0.02733134850859642, -0.03688890486955643, -0.0060899388045072556, -0.020812487229704857, -0.010854334570467472, -0.025377929210662842, -0.048302892595529556, -0.03327285498380661, -0.012412291020154953, 0.04840775579214096, -0.021743379533290863, 0.00967115443199873, -0.009400644339621067, 0.06343317031860352, -0.024954497814178467, 0.003960440866649151, -0.04984857514500618, 0.008558348752558231, 0.011361517943441868, 0.02471451833844185, -0.08543818444013596, -0.04328268766403198, 0.012492815032601357, 0.06142127513885498, -0.013364016078412533, 0.030206438153982162, -0.004560879897326231, -0.01501341164112091, -0.0038038729690015316, 0.0012283342657610774, -0.0006417484255507588, -0.025846373289823532, 0.051626626402139664, 0.05918914079666138, -0.04552263393998146, 0.00985598936676979, 0.05449242144823074, 0.04012918472290039, 0.0020905351266264915, -0.02920226752758026, -0.003695610212162137, 0.04534707963466644, 0.00300922361202538, 0.008536436595022678, -0.017578717321157455, -0.00027105581830255687, -0.027284909039735794, 0.003992337267845869, -0.0709206759929657, 0.0068051754496991634, -0.03560526669025421, 0.01223695743829012, -0.01719820871949196, 0.011329255998134613, -0.011222975328564644, 0.056409802287817, 0.07079309225082397, 0.020740628242492676, -0.04223191365599632, -0.006874745711684227, 0.04149356856942177, 0.046836305409669876, 0.007924207486212254, -0.04040919616818428, -0.00023856615007389337, 0.01756051369011402, -0.0006959513411857188, 0.026582131162285805, -0.005931265652179718, 0.030351530760526657, -0.01511052343994379, -0.010830121114850044, -0.022889602929353714, -0.026804298162460327, -0.08401334285736084, 0.054934173822402954, 0.019840028136968613, -0.018659375607967377, 0.034118179231882095, -0.007612309884279966, -0.05865764990448952, -0.001671260455623269, -0.059386786073446274, -0.067924864590168, 0.04664658382534981, -0.0066468496806919575, -0.028825698420405388, 0.02739645168185234, -0.05321181192994118, 0.001513125840574503, 0.012420128099620342, 0.03162505105137825, 0.007650843355804682, 0.023665593937039375, 0.001968933502212167, 0.025873105973005295, -0.007022275123745203, 0.030287718400359154, 0.019264589995145798, 0.043401919305324554, 0.008278800174593925, -0.07539959996938705, 0.021695824339985847, -0.005071685183793306, 0.04880203679203987, -0.007315176073461771, 0.022510964423418045, 0.026339128613471985, 0.02847074717283249, 0.012036032974720001, -0.03958216682076454, -0.02373996563255787, -0.03685205429792404, 0.03038174659013748, -0.05891761556267738, 0.020245900377631187, 0.01677771843969822, 0.044605351984500885, -0.010513917542994022, 0.013321015983819962, -0.024770518764853477, 0.018116936087608337, 0.05226903036236763, 0.010723382234573364, 0.007645361125469208, 0.06068160757422447, -0.05293695628643036, 0.0006243026000447571, -0.05551067739725113, 0.002658808371052146, 0.04708617925643921, 0.025942940264940262, 0.004295694641768932, -0.0018170910188928246, 0.003222937462851405, 0.013853807933628559, 0.01222584955394268, 0.03174843266606331, -0.0523616187274456, -0.024843953549861908, 0.005952241364866495, 0.0056421332992613316, 0.018929658457636833, -0.026730170473456383, -0.002957033459097147, -0.037115760147571564, -0.021245459094643593, -0.0332377590239048, -0.004545370116829872, 0.0068948520347476006, -0.01596764288842678, 0.025878435000777245, -0.012523816898465157, 0.015929333865642548, -0.004209753591567278, 0.00724808918312192, 0.012387952767312527, 0.022657165303826332, -0.008453870192170143, 0.043752919882535934, 0.021809585392475128, 0.014971708878874779, 0.0184951014816761, 0.032347019761800766, 0.005256080999970436, 0.002206045901402831, -0.03161018341779709, 0.006516442634165287, -0.013011123053729534, -0.0022686331067234278, 0.006284819915890694, -0.04527260363101959, -0.024004025384783745, 0.010899594984948635, -0.005664310418069363, -0.02811601758003235, 0.046174485236406326, -0.0435059517621994, -0.05279238149523735, 0.005663776304572821, 0.03197865188121796, -0.0272515956312418, -0.01971570961177349, -0.005392075981944799, -0.017031768336892128, -0.004044553730636835, 0.06509894132614136, -0.016003187745809555, -0.026802679523825645, 0.047559961676597595, 0.0022258951794356108, -0.004442700184881687, 0.07644783705472946, 0.03160807490348816, 0.014597594738006592, -0.012594926171004772, -0.005311698652803898, -0.046603161841630936, 0.0011039158562198281, 0.0024352094624191523, -0.017065979540348053, 0.0024193204008042812, -0.006496740970760584, 0.009716346859931946, -0.024478035047650337, -0.01951269805431366, 0.004816117696464062, -0.054408423602581024, -0.028688807040452957, 0.001212620409205556, 0.006323002744466066, 0.014477339573204517, 0.021146155893802643, 0.032806508243083954, -0.012168687768280506, -0.013357547111809254, -0.011285990476608276, -0.04800562933087349, 0.015107247047126293, -0.052627988159656525, 0.022204535081982613, -0.050145912915468216, -0.010496304370462894, -0.022229501977562904, 0.00940883718430996, 0.006138881668448448, 0.048343509435653687, 0.0014365034876391292, -0.017894648015499115, -0.007743942551314831, 0.028310732915997505, -0.026378309354186058, 0.000873055774718523, -0.02424362115561962, -0.048399630934000015, 0.025614487007260323, 0.03763335943222046, -0.027776308357715607, -0.00790912564843893, 0.02708585187792778, 0.027428466826677322, -0.05936617776751518, 0.010559058748185635, 0.0026742923073470592, -0.030437329784035683, 0.05913005769252777, -0.06331903487443924, 0.06177946552634239, -0.005395427346229553, -0.05647115036845207, 0.007156017702072859, -0.0077260639518499374, -0.04482397064566612, -0.043310437351465225, -0.09346291422843933, -0.03159160912036896, -0.006447628140449524, -0.0187417883425951, -0.004246193915605545, 0.00512215169146657, -0.027908656746149063, 0.031214721500873566, 0.02152266539633274, -0.06814664602279663, 0.2493460774421692, 0.05418259650468826, 0.02411973662674427, 0.04866495728492737, 0.01722363941371441, 0.022944988682866096, 0.009064128622412682, -0.0005637137801386416, 0.01530560664832592, -0.04502589628100395, -0.012593974359333515, 0.009855657815933228, 0.025862298905849457, 0.01157398708164692, 0.04316507652401924, 0.030793827027082443, -0.022029632702469826, 0.00824091024696827, 0.021601932123303413, -0.039133645594120026, -0.01573662832379341, 0.02188604697585106, -0.03888248652219772, 0.00030300140497274697, -0.009170133620500565, 0.022819429636001587, 0.04205826297402382, -0.042995721101760864, -0.003339719492942095, 0.0007682083523832262, 0.04857650771737099, 0.013022768311202526, -0.01770050823688507, 0.011826164089143276, -0.0052677481435239315, 0.019333720207214355, -0.06527946889400482, -0.021315453574061394, -0.028630686923861504, -0.021079031750559807, 0.0089262705296278, -0.03596196323633194, 0.02237347885966301, -0.05053618177771568, -0.005002474412322044, 0.06387884169816971, -0.004216628149151802, -0.01204153336584568, -0.01294995378702879, -0.039941344410181046, 0.02289978787302971, -0.02691332809627056, -0.01003939937800169, -0.037693317979574203, -0.05295655503869057, 0.0252770334482193, 0.015388069674372673, -0.006452799774706364, 0.012486777268350124, -0.007401707582175732, 0.014801247976720333, 0.010756639763712883, -0.02923600561916828, 0.02284943498671055, -0.0425412617623806, -0.023885877802968025, 0.00571001973003149, 0.006078472826629877, -0.04131920635700226, -0.029825007542967796, -0.0336170494556427, -0.013988856226205826, -0.007482650224119425, 0.018440458923578262, 0.045434433966875076, 0.023827752098441124, 0.014640851877629757, 0.02358800731599331, -0.01786934770643711, -0.020272444933652878, -0.04684207960963249, 0.011823565699160099, -0.006781129632145166, -0.011604397557675838, 0.008132033981382847, 0.02563631348311901, -0.03137575462460518, -0.01700642704963684, -0.026323437690734863, 0.020917100831866264, 0.026412803679704666, 0.02078920230269432, 0.049742307513952255, -0.0497957207262516, 0.0005667677614837885], [-0.0023723046761006117, 0.026205163449048996, 0.04402460530400276, -0.04619108885526657, -0.02518450655043125, -0.009148553013801575, 0.015960464254021645, 0.003543207189068198, 0.01850646547973156, 0.08979100733995438, 0.05720309540629387, 0.04522451013326645, -0.020582299679517746, -0.0058784703724086285, -0.022164927795529366, -0.002363867126405239, -0.02428886666893959, 0.007937503978610039, -0.04514848813414574, 0.007293259259313345, 0.0334661565721035, 0.042411841452121735, -0.09398587048053741, -0.020730815827846527, -0.03397157043218613, -0.020583445206284523, 0.033490199595689774, 0.019158435985445976, 0.040737833827733994, 0.08071358501911163, -0.024783024564385414, -0.006617866922169924, -0.03345632553100586, -0.0485980249941349, -0.016528798267245293, 0.006078880280256271, 0.016285302117466927, -0.04270515218377113, 0.014865132048726082, -0.05449722707271576, 0.032972272485494614, -0.002942794468253851, 0.0006992819253355265, -0.06514240801334381, -0.03182302415370941, -0.016164427623152733, -0.03830811008810997, -0.03995558246970177, -0.021113045513629913, -0.014984582550823689, 0.016588255763053894, 0.030681584030389786, 0.04709871485829353, -0.02415783889591694, -0.04796725884079933, 0.04699608311057091, 0.06101297214627266, 0.0005819420330226421, -0.004963747225701809, 0.04595131427049637, -0.030930088832974434, -0.013292480260133743, -0.022827457636594772, -0.05751969665288925, -0.004110272973775864, 0.0021788491867482662, -0.0032510170713067055, -0.0213686041533947, 0.04075487703084946, -0.006276939995586872, -0.0183266531676054, 0.011163813062012196, 0.00648417416960001, -0.0013658732641488314, -0.060241684317588806, 0.07755211740732193, -0.006955946795642376, 0.02114151604473591, 0.011713373474776745, -0.0206623412668705, 0.007741388399153948, 0.043370235711336136, -0.03617420047521591, 0.036144740879535675, -0.04260367900133133, 0.030610615387558937, 0.0147127415984869, 0.011865535750985146, 0.00879391934722662, 0.018509462475776672, 0.024496322497725487, 0.024185728281736374, -0.012585137039422989, 0.011471269652247429, 0.021906999871134758, -0.0007418064051307738, -0.0035256824921816587, -0.003578849835321307, -0.040503617376089096, -0.005481452215462923, 0.03224978968501091, 0.0062169707380235195, -0.013119150884449482, 0.011453207582235336, -0.0296426173299551, 0.06444329768419266, -0.014928465709090233, 0.02413131482899189, 0.007912038825452328, -0.06480273604393005, 0.03378753364086151, -0.010242670774459839, 0.03459608182311058, 0.02200983837246895, 0.020456770434975624, 0.033479269593954086, -0.013265876099467278, 7.341270247707143e-05, -0.026466306298971176, -0.028483403846621513, 0.03352929279208183, 0.051773812621831894, 0.026560036465525627, 0.034876368939876556, 0.004559531342238188, 0.01018339954316616, -0.035002000629901886, -0.03992984816431999, -0.04333053156733513, -0.018560271710157394, -0.013634867034852505, -0.03638424351811409, 0.008119035512208939, 0.015228052623569965, 0.029067106544971466, 0.04614139720797539, 0.00884719006717205, 0.025791674852371216, 0.018312299624085426, -0.03652259707450867, 0.04949527606368065, -0.03215130418539047, -0.0013728924095630646, 0.06498569250106812, -0.023480422794818878, -0.00603124313056469, -0.012828605249524117, 0.02037751115858555, 0.02054295316338539, 0.02938942238688469, -0.05400964245200157, -0.0023827191907912493, 0.007787532638758421, -0.03905528411269188, -0.0027856568340212107, -0.005847631953656673, 0.009442318230867386, 0.03374287113547325, 0.015505768358707428, 0.03172306343913078, -0.02437405474483967, -0.0498625747859478, 0.020274419337511063, 0.04184768721461296, -0.010521463118493557, 0.042852215468883514, -0.04211102053523064, -0.019257966428995132, -0.028507044538855553, -0.017827268689870834, 0.01991296373307705, 0.01654643379151821, -0.015745777636766434, -0.06197205185890198, 0.049256280064582825, 0.06232679262757301, 0.014178862795233727, -0.0678209662437439, -0.031608790159225464, 0.06135791167616844, -0.06743192672729492, -0.0023456618655472994, 0.023753391578793526, -0.0031780931167304516, 0.018716827034950256, 0.00021228777768556029, 0.002974126022309065, -0.009727660566568375, -0.05745625123381615, 0.009518633596599102, -0.008519092574715614, 0.011947110295295715, 0.01656515710055828, 0.03902231901884079, -0.05846911296248436, 0.006205955054610968, -0.030876468867063522, 0.0015630049165338278, -0.044515009969472885, -0.042382579296827316, 0.0013585344422608614, -0.013195144012570381, -0.03671673312783241, -0.012250607833266258, -0.05240362882614136, 0.009229463525116444, 0.0657147467136383, 0.06203855201601982, -0.040327586233615875, 0.017740152776241302, 0.043226052075624466, 0.03334386274218559, -0.05883060768246651, 0.016730427742004395, -0.014724964275956154, 0.0321301594376564, -0.0107351653277874, 0.03866153582930565, -0.028163043782114983, 0.006549021694809198, 0.05245564877986908, 0.051949307322502136, -0.004576347302645445, 0.024665988981723785, 0.04194212704896927, -0.05517425015568733, 0.022100035101175308, 0.054592713713645935, -0.01973673887550831, 0.02919336035847664, -0.019511111080646515, 0.01148993894457817, 0.009691007435321808, 0.012597279623150826, 0.01556689664721489, 0.03197018429636955, 0.041742097586393356, 0.03406444936990738, -0.020374257117509842, 0.03099377453327179, 0.01588292047381401, 0.029279636219143867, 0.02912498079240322, -0.010116342455148697, 0.0018938399152830243, 0.04730938747525215, 0.03809000924229622, 0.016004333272576332, -0.010166630148887634, 0.021244386211037636, 0.04255172610282898, 0.053616322576999664, 0.012695906683802605, 0.029939590021967888, -0.03528974577784538, -0.0019339597783982754, 0.009705943986773491, 0.029386820271611214, -0.03124374710023403, -0.045759741216897964, 0.04395264759659767, -0.018956730142235756, -0.030101081356406212, -0.020305171608924866, 0.00735491281375289, 0.01733129844069481, 0.011801536194980145, -0.02775852009654045, -0.021998396143317223, -0.06756281107664108, -0.029687469825148582, -0.043941207230091095, -0.06523551791906357, -0.0168081596493721, -0.040902163833379745, -0.03343060240149498, 0.004134824499487877, -0.004667080007493496, 0.018423225730657578, -0.015851221978664398, -0.01500567328184843, -0.02957949973642826, -0.059998903423547745, -0.03663589432835579, 0.036024387925863266, 0.01656893454492092, -0.01599959284067154, 0.01316289883106947, -0.005345161538571119, 0.05447632074356079, -0.03954937681555748, -0.0384264774620533, 0.005965712480247021, -0.01536878664046526, 0.023648109287023544, -0.0052103870548307896, 0.054372046142816544, 0.008975839242339134, 0.012580851092934608, -0.04792937636375427, 0.00036098770215176046, 0.007972990162670612, -0.062257785350084305, 0.04087253659963608, 0.0009109936654567719, -0.003216459648683667, 0.0057634757831692696, -0.0011823790846392512, 0.01080337818711996, -0.013357382267713547, -0.017959684133529663, 0.02497064508497715, 0.007076622918248177, -0.03429136425256729, -0.04039701446890831, 0.03424520418047905, -0.003345800330862403, -0.008487949147820473, -0.0215784702450037, -0.013875243254005909, -0.010897920466959476, -0.002682758728042245, -0.00292678689584136, -0.008673007600009441, -0.016285069286823273, 0.03324638307094574, 0.04158221185207367, -0.05481346696615219, 0.02297188714146614, -0.043879132717847824, -0.08940618485212326, 0.017117638140916824, -0.007341915275901556, 0.012069943360984325, -0.01595529168844223, 0.0011827705893665552, -0.024953586980700493, 0.0076460768468678, 0.029105596244335175, 0.011976978741586208, 0.0014060457469895482, -0.042944591492414474, -0.023769177496433258, -0.018506016582250595, 0.024757420644164085, -0.007162026129662991, -0.019005870446562767, -0.007519225124269724, -0.027827803045511246, 0.01686764508485794, -0.01617009937763214, -0.002998518757522106, -0.027038002386689186, 0.008578531444072723, 0.018019091337919235, 0.03467268869280815, -0.03025973029434681, 0.002857201499864459, 0.003242315026000142, 0.02671496570110321, 0.05538344010710716, -0.02907986007630825, -0.019217420369386673, -0.08231247961521149, 0.013468503952026367, -0.017286473885178566, 0.0006718691438436508, 0.029211940243840218, 0.03601393103599548, 0.020835669711232185, 0.05304373800754547, 0.008824006654322147, -0.014061219990253448, -0.02719406969845295, -0.03892778605222702, 0.0231782253831625, 0.09432504326105118, 0.016776785254478455, 0.03927306830883026, -0.03280217573046684, 0.00450245151296258, -0.02558787353336811, 0.006692929659038782, 0.011061988770961761, 0.02049272321164608, 0.02241015061736107, -0.011724360287189484, -0.025133980438113213, -0.05808958038687706, -0.07381151616573334, 0.009373925626277924, -0.022125978022813797, -0.00832665991038084, -0.04576648399233818, -0.04518498107790947, -0.0643853023648262, 0.0006862395675852895, -0.04125938192009926, -0.004230055958032608, -0.009053973481059074, 0.014717423357069492, -0.01867411658167839, -0.013296322897076607, 0.007968832738697529, -0.007577159442007542, -0.02324008382856846, -0.0029375129379332066, 0.04296722263097763, 0.014548339881002903, 0.0005295268492773175, -0.04670286551117897, -0.0014311037957668304, 0.007365595083683729, -0.007491348776966333, 0.024914950132369995, 0.029892094433307648, -0.04972611367702484, 0.004300377331674099, -0.006689713802188635, -0.011138382367789745, -0.00784212350845337, -0.025729646906256676, 0.010673612356185913, 0.01987050287425518, 0.040807634592056274, -0.05898210406303406, -0.006915995851159096, -0.06024904176592827, 0.019680248573422432, 0.03775812312960625, 0.025446666404604912, -0.011613885872066021, 0.004501652903854847, 0.022673675790429115, -0.037184782326221466, 0.005128944758325815, 0.06971051543951035, 0.03175637125968933, 0.017734039574861526, -0.041040290147066116, 0.02565772831439972, 0.019122295081615448, 0.017748326063156128, 0.0066808173432946205, 0.01987724006175995, 0.008115540258586407, -0.012294969521462917, 0.019328180700540543, 0.0023898950312286615, -0.009746909141540527, 0.0732826441526413, -0.018608348444104195, 0.0769803524017334, -0.019616510719060898, -0.024496931582689285, 7.747795461909845e-05, 0.0006140010664239526, -0.0511564165353775, 0.016272494569420815, -0.026723116636276245, 0.021039020270109177, 0.01572354882955551, 0.010440011508762836, -0.0007218490354716778, -0.026524854823946953, 0.05028030276298523, -0.016154151409864426, 0.04226864129304886, 0.04472501203417778, -0.007261360064148903, -0.01816749945282936, 0.026980772614479065, 0.03503106161952019, -0.01599067449569702, 0.0048201484605669975, -0.03621118143200874, -0.031388215720653534, -0.06046013534069061, -0.014850188978016376, 0.016913026571273804, -0.008486135862767696, 0.002296596998348832, -0.010083095170557499, -0.011726445518434048, 0.041273411363363266, -0.02285127155482769, -0.015748795121908188, -0.021421054378151894, -0.007366827689111233, 0.007993611507117748, -0.022752447053790092, -0.014176668599247932, -0.04295685887336731, -0.08250956237316132, -0.0009516875725239515, -0.027882419526576996, -0.024845479056239128, 0.012951263226568699, -0.0010796025162562728, 0.04250344634056091, -0.0016617759829387069, -0.012597698718309402, -0.036386944353580475, 0.01832066848874092, -0.007036774419248104, 0.023668197914958, -0.011867893859744072, -0.006017210893332958, -0.02715921960771084, -0.004137617535889149, -0.024387406185269356, -0.008961265906691551, 0.041217513382434845, 0.015259395353496075, -0.009054021909832954, 0.04437563940882683, -0.00244073080830276, 0.028898725286126137, -0.031592413783073425, 0.06634864211082458, 0.03825977072119713, -0.058426689356565475, -0.03994869440793991, -0.006923846434801817, -0.0069017899222671986, 0.004579603672027588, 0.006399659905582666, -0.015945754945278168, -0.011128904297947884, -0.009199639782309532, 0.03656703233718872, -0.053463131189346313, -0.02027488872408867, -0.02694718725979328, -0.01808609999716282, 0.006835351698100567, 0.005776607897132635, -0.019066892564296722, -0.005186205264180899, -0.04221123456954956, -0.07419076561927795, 0.022696249186992645, -0.002043662127107382, 0.01561448723077774, -0.01713796891272068, -0.014534018002450466, 0.019872667267918587, 0.08818969130516052, -0.032169729471206665, -0.033064790070056915, 0.011641692370176315, 0.005233979783952236, 0.041867561638355255, 0.01707286201417446, -0.01899239793419838, -0.019354192540049553, 0.012058916501700878, -0.019625328481197357, 0.012718848884105682, 0.004028321709483862, 0.028929442167282104, 0.05292226001620293, -0.022467609494924545, 0.017090637236833572, 0.01117008551955223, 0.04087892174720764, 0.0064145405776798725, 0.017409944906830788, 0.012889144942164421, -0.040328580886125565, -0.048344045877456665, 0.010976525954902172, 0.021421125158667564, 0.02837236225605011, -0.008485134690999985, -0.03962321579456329, -0.057209234684705734, 0.005542350467294455, -0.0617830827832222, -0.03100588172674179, 0.012880777940154076, 0.008002027869224548, 0.0030224104411900043, -0.09282020479440689, 0.03499700501561165, -0.0316268689930439, 0.04076762869954109, 0.053128477185964584, 0.09099026769399643, 0.036773957312107086, -0.011405742727220058, 0.048745669424533844, 0.07411439716815948, -0.014341137371957302, 0.008046960458159447, -0.03439011797308922, -0.0035549316089600325, -0.024274533614516258, 0.004130858927965164, -0.03091953694820404, -0.03060959093272686, 0.03066195920109749, 0.023796968162059784, 0.009314202703535557, 0.04878783971071243, 0.003863370278850198, -0.051602285355329514, -0.005765673704445362, 0.06654178351163864, 0.03917825594544411, 0.06349965929985046, 0.08729589730501175, 0.0002488656609784812, -0.01864069700241089, 0.06513378024101257, -0.006940028164535761, -0.02480182610452175, 0.01197901926934719, 0.06925629079341888, -0.043805621564388275, -0.019261252135038376, 0.008969617076218128, 0.00026189355412498116, -0.035876017063856125, -0.024196060374379158, 0.014163568615913391, 0.037847474217414856, 0.0032355720177292824, -0.027442405000329018, 0.011447830125689507, 0.0024669277481734753, -0.010678227059543133, 0.016380945220589638, 0.012054800987243652, -0.03298904001712799, 0.033120639622211456, 0.008433320559561253, -0.017575843259692192, -0.018465455621480942, 0.01985708624124527, 0.046037882566452026, 0.0014276830479502678, 0.010517808608710766, -0.025006012991070747, -0.012132814154028893, -0.010113123804330826, -0.04849626123905182, -0.013074947521090508, -0.010629279538989067, 0.012010992504656315, 0.006076320074498653, 0.015445447526872158, 0.032392073422670364, 0.009754206985235214, 0.0030726452823728323, 0.05212599039077759, -0.007368053309619427, -0.04822928458452225, -0.02169746533036232, -0.006715445779263973, 0.03776610270142555, -0.008845429867506027, -0.019152646884322166, 0.011380970478057861, 0.02203863114118576, 0.02563779056072235, -0.04168906435370445, -0.002482317853718996, -0.00975739024579525, -0.05056707561016083, -0.03857240080833435, -0.05029487609863281, -0.009471466764807701, 0.011934543028473854, 0.058367449790239334, 0.007249078713357449, -0.05390135571360588, 0.0457693450152874, 0.009293770417571068, -0.005043425597250462, 0.015771789476275444, -0.03970940038561821, -0.005495923571288586, -0.026602696627378464, -0.0272288266569376, -0.0724882185459137, -0.02105235494673252, -0.02158498205244541, 0.02977004274725914, -0.0014210271183401346, -0.038650963455438614, 0.009186913259327412, -0.006661812774837017, -0.017102232202887535, 0.0052754818461835384, -0.004262178670614958, -0.009480864740908146, 0.06677073240280151, 0.05760331451892853, 0.03548511862754822, 0.018050367012619972, 0.03194970265030861, 0.008563622832298279, 0.007811868097633123, -0.015489756129682064, -0.0071845403872430325, -0.00023645663168281317, 0.016717324033379555, 0.06535880267620087, -0.013783133588731289, 0.021520519629120827, -0.0017364607192575932, -0.0060572875663638115, -0.06479229778051376, 0.03410777822136879, 0.010464299470186234, 0.07477355748414993, -0.00010580029629636556, -0.02443581074476242, 0.06498635560274124, 0.04923124611377716, 0.060459572821855545, 0.018834425136446953, -0.02913704700767994, 0.009308261796832085, -0.007807382848113775, -0.0012798294192180037, -0.021538184955716133, -0.014398961327970028, 0.040458571165800095, 0.0030639152973890305, 0.008653049357235432, -0.008884782902896404, 0.01654418744146824, 0.037987612187862396, 0.016188666224479675, -0.029201699420809746, -0.009878048673272133, -0.021341264247894287, -0.02234671264886856, 0.006348347757011652, -0.00999295525252819, -0.009684869088232517, 0.0159379281103611, -0.010852468200027943, -0.04282546043395996, 0.01794394664466381, -0.0626220703125, -0.026353850960731506, 0.026505472138524055, -0.01289290376007557, -0.0202653668820858, 0.0041855438612401485, -0.0371922142803669, -0.0012060391018167138, -0.05736985057592392, 0.025696486234664917, 0.02580653689801693, -0.027297087013721466, 0.016207415610551834, 0.021921705454587936, -0.02673397585749626, 0.017073456197977066, 0.016803372651338577, 0.04096689447760582, -0.027915319427847862, -0.046772029250860214, 0.025060784071683884, 0.0015079887816682458, -0.010868275538086891, -0.025836044922471046, -0.008082430809736252, 0.03900572285056114, 0.04126567393541336, 0.02760804258286953, -0.006480785086750984, -0.01367625780403614, -0.039722900837659836, -0.009833453223109245, -0.011651723645627499, 0.011270729824900627, -0.02190817892551422, 0.05582483485341072, -0.04794401302933693, 0.0015685457037761807, -0.0062586646527051926, 0.03165041282773018, 0.021484479308128357, -0.0351276770234108, 0.0016330290818586946, 0.031231801956892014, 0.019336184486746788, 0.012437460944056511, -0.05296121910214424, -0.019582144916057587, 0.027786782011389732, 0.05299948900938034, 0.001308753271587193, 0.0025049191899597645, -0.01918131858110428, 0.02297193557024002, -0.01715627871453762, -0.01988396793603897, -0.017072336748242378, -0.03207472339272499, 0.06278134137392044, 0.025116335600614548, -0.014349318109452724, -0.02076023817062378, 0.04136721044778824, -0.01761600375175476, -0.019087275490164757, -0.01019277237355709, 0.01769099198281765, -0.01996571570634842, 0.01536505576223135, 0.03988928720355034, -0.09631862491369247, 0.02855311520397663, -0.019370395690202713, -0.027453588321805, 0.04004510119557381, -0.0016269151819869876, 0.017846351489424706, 0.0034428900107741356, 0.04215746000409126, 0.011892708949744701, -0.018093280494213104, 0.013290489092469215, -0.01874869503080845, 0.02786821499466896, -0.024058688431978226, -0.008778105489909649, 0.00948837399482727, -0.013314932584762573, -0.026933100074529648, -0.05444233864545822, -0.01472148485481739, -0.0019404817139729857, -0.0028250315226614475, 0.011284314095973969, 0.00374299893155694, -0.00905542355030775, -0.015293548814952374, 0.0009098241571336985, 0.07453276962041855, 0.007023433223366737, -0.015075666829943657, -0.0213845856487751, 0.002477788832038641, -0.04005178436636925, 0.026865020394325256, -0.004660055506974459, 0.002616625279188156, -0.0031915553845465183, 0.038253284990787506, 0.037684496492147446, 0.05207310616970062, 0.03964913636445999, -0.018737129867076874, -0.010615858249366283, 0.004326925612986088, -0.05252769589424133, -0.017887769266963005, -0.005473775323480368, -0.015019492246210575, 0.015233082696795464, -0.030760452151298523, 0.007699278183281422, -0.03548057749867439, -0.02578418143093586, 0.022202422842383385, 0.010081897489726543, 0.02287972718477249, 0.008944978937506676, -0.041831448674201965, -0.008883519098162651, 0.024672655388712883, 0.03804653510451317, 0.019678005948662758, 0.04753592237830162, -0.02186422608792782, -0.044241391122341156, 0.04275147616863251, -0.04795435443520546, 0.004276454448699951, -0.027486884966492653, 0.007836046628654003, -0.0296065304428339, 0.014119881205260754, -0.007785231806337833, 0.02750387415289879, 0.027303116396069527, -0.04239211231470108, 0.049638986587524414, 0.040793146938085556, -0.025936443358659744, 0.021803833544254303, 0.0043584625236690044, -0.016475515440106392, 0.009333928115665913, 0.043876077979803085, 0.006387661211192608, 0.0234458576887846, 0.0072992341592907906, 0.0016925777308642864, -0.02277468331158161, -0.04268639534711838, -0.01077518705278635, -0.0032597219105809927, 0.0040533654391765594, -0.0030069188214838505, -0.0018653938313946128, -0.021849876269698143, -0.0614001639187336, 0.001569317770190537, -0.001345431781373918, 0.00045617271098308265, 0.008719266392290592, 0.006945996545255184, -0.0031218307558447123, -0.021556954830884933, 0.003270338289439678, -0.07701905816793442, 0.0003457909042481333, -0.011364482343196869, 0.00877805333584547, 0.007703177165240049, -0.06423026323318481, 0.1829673796892166, 0.03942602872848511, 0.032153818756341934, -0.011403422802686691, 0.03301480412483215, 0.029234571382403374, -0.03272295743227005, 0.012371092103421688, -0.06566905975341797, -0.03358713537454605, 0.051709841936826706, -0.010675898753106594, -0.030359091237187386, -0.007277260534465313, 0.018781425431370735, 0.020262444391846657, 0.004611401353031397, -0.005024784244596958, 0.01995719037950039, -0.03120771422982216, -0.040803760290145874, 0.0435481071472168, -0.014331487938761711, -0.007787927519530058, -0.005497089121490717, -0.013114705681800842, 0.02714531309902668, -0.06376346945762634, 0.012888852506875992, -0.0022513645235449076, -0.020550793036818504, -0.00194452831055969, 0.032988596707582474, 0.014196914620697498, -0.0054074851796031, 0.02242267318069935, -0.003181777661666274, -0.009991676546633244, -0.03438844904303551, -0.0032019291538745165, 0.03802522271871567, -0.018739424645900726, -0.013819104991853237, -0.012537289410829544, -0.002716494258493185, 0.02981286309659481, -0.007552668452262878, -0.013761335983872414, -0.034559909254312515, -0.05031870678067207, 0.05465376749634743, -0.04269443452358246, 0.007845340296626091, -0.037594325840473175, -0.05692211166024208, 0.0273226797580719, 0.018811669200658798, 0.011834749951958656, 0.029841940850019455, 0.006119289435446262, 0.006319837644696236, 0.029413603246212006, -0.017098626121878624, -0.013458842411637306, -0.021937236189842224, 0.0016369245713576674, -0.016023412346839905, -0.014268996194005013, -0.03233940899372101, 0.0451882928609848, -0.010201696306467056, -0.06086694449186325, -0.0463835708796978, 0.007943098433315754, 0.04351207613945007, 0.015513109043240547, -0.03737746179103851, 0.013499172404408455, -0.01320075523108244, -0.00640894565731287, -0.0077588181011378765, -0.022724222391843796, 0.031722210347652435, -0.007143434602767229, 0.02819005399942398, 0.03623538464307785, -0.0043570417910814285, 0.014298570342361927, 0.010166785679757595, -0.009156904183328152, 0.007252363953739405, 0.051221322268247604, -0.01726205088198185, -0.03745915740728378, -0.017879214137792587]]\n",
      "FINISHED RESPONSE in  0.75s: [['What is the square root of 169?', 'What is the derivative of sin(cos(x))?', 'What is the square root of 169?', 'What is the derivative of sin(cos(x))?'], 4, 1024, [[0.004660115111619234, 0.04424992576241493, 0.03206033259630203, 0.015540085732936859, -0.07083090394735336, 0.014493962749838829, 0.037161651998758316, -0.006692938972264528, 0.004224649630486965, 0.06146269664168358, 0.0532367005944252, 0.021600835025310516, -0.01339556835591793, -0.009147833101451397, 0.026184620335698128, -0.009521621279418468, -0.06039206683635712, 0.020956721156835556, -0.036377497017383575, -0.0008347317343577743, 0.021165553480386734, -0.0019712781067937613, -0.05077820271253586, 0.0019926640670746565, -0.004751457367092371, 0.041612204164266586, 0.06958159804344177, 0.012141627259552479, 0.01907825469970703, 0.041103970259428024, 0.023437444120645523, -0.0035393547732383013, 0.021110400557518005, -0.060597002506256104, -0.03333151713013649, -0.03125382959842682, 0.01430603489279747, -0.02168005146086216, -0.002093435265123844, -0.047682084143161774, -0.005268718581646681, -0.01609364151954651, 0.02111591398715973, 0.003705315524712205, -0.009754703380167484, 0.001331852050498128, -0.06717215478420258, -0.024609483778476715, 0.013188931159675121, -0.034951381385326385, -0.04901696369051933, -0.010082964785397053, 0.03262008726596832, -0.036118149757385254, 0.007519624195992947, -0.00990979466587305, -0.03447924554347992, 0.03192347288131714, -0.015022561885416508, 0.03421944007277489, 0.002254104008898139, -0.028163624927401543, -0.028602462261915207, -0.018980415537953377, -0.007667706813663244, 0.00998383667320013, 0.012398460879921913, -0.0008830976439639926, 0.005158781539648771, -0.006486912723630667, 0.02407698705792427, 0.02672629803419113, 0.02162841521203518, -0.004646386951208115, -0.0037965381052345037, 0.03393932804465294, 0.028590291738510132, 0.015201522968709469, -0.05386972054839134, 0.044039078056812286, -0.019153064116835594, 0.015554028563201427, -0.0596509724855423, -0.007481791079044342, -0.04497849941253662, -0.08776037395000458, -0.001102148788049817, -0.016708076000213623, 0.006057317368686199, -0.05519504100084305, 0.025026369839906693, 0.03641243278980255, 0.0009988993406295776, 0.04260963574051857, 0.06382302939891815, 0.025201594457030296, -0.021547190845012665, 0.026324285194277763, -0.009636150673031807, 0.030171599239110947, 0.040234364569187164, 0.030923595651984215, 0.0026203265879303217, 0.03177845850586891, -0.042451780289411545, 0.02861073799431324, -0.0013153975596651435, 0.025431059300899506, 0.017488261684775352, -0.02922084368765354, 0.02915443666279316, -0.02317041903734207, -0.02680084854364395, 0.022814692929387093, -0.02747960388660431, 0.02348901890218258, -0.0012067792704328895, 0.05777804180979729, -0.038014624267816544, -0.036076415330171585, -0.00341932219453156, -0.008197588846087456, 0.005665136501193047, 0.04258115962147713, -0.008647613227367401, -0.007083192002028227, -0.01960640959441662, -0.004654702730476856, -0.041372790932655334, 0.02974669635295868, 0.01397645752876997, 0.003229953581467271, -0.01328688208013773, 0.02134111151099205, -0.011418209411203861, 0.03945213928818703, 0.016023842617869377, 0.022341258823871613, 0.021965526044368744, -0.013693492859601974, 0.023950062692165375, 0.008828261867165565, -0.03278150409460068, 0.07200416177511215, -0.03125437721610069, -0.019290614873170853, -0.014275909401476383, 0.026768088340759277, -0.0024595048744231462, 0.04248379170894623, 0.0016347657656297088, 0.019152147695422173, 0.009366636164486408, -0.0048805177211761475, 0.040045857429504395, -0.012981776148080826, 0.01364577654749155, 0.010265232995152473, -0.01908656768500805, 0.03304051607847214, 0.020326664671301842, -0.011802407912909985, 0.025800947099924088, 0.028663020581007004, -0.009230971336364746, 0.04473234340548515, -0.0045124986208975315, -0.033330321311950684, -0.056727588176727295, -0.022629518061876297, -0.025685347616672516, 0.011790563352406025, -0.05442062020301819, 0.0037187400739639997, -0.011655953712761402, 0.05114255100488663, 0.016819898039102554, -0.0018101814202964306, -0.027203364297747612, 0.021596519276499748, -0.01087072305381298, -0.03580619767308235, 0.013444161973893642, 0.07816322892904282, 0.02394620142877102, 0.01813828945159912, -0.052433669567108154, -0.01191822998225689, -0.04003845155239105, -0.005369542166590691, -0.0003021408920176327, 0.009688499383628368, 0.008941317908465862, 0.02352096326649189, -0.0440080389380455, -0.011594624258577824, -0.02125139720737934, -0.034409862011671066, -0.030799714848399162, -0.04973743110895157, -0.030612071976065636, 0.04057953506708145, 0.005907522514462471, 0.03660435229539871, -0.035886410623788834, -0.035694655030965805, 0.03299315273761749, 0.059023499488830566, -0.022465573623776436, -0.018100224435329437, 0.03997616469860077, -0.029022997245192528, -0.025484846904873848, 0.012068680487573147, 0.03242707625031471, 0.029703998938202858, -0.02578704059123993, 0.03418319672346115, -0.022334251552820206, 0.030868882313370705, 0.003497464582324028, 0.07777278870344162, -0.002720506163313985, 0.06259467452764511, 0.013328111730515957, -0.02011774107813835, -0.005857066251337528, 0.03988831490278244, -0.014470874331891537, 0.01605203188955784, -0.03113296627998352, 0.05220764875411987, 0.06715922802686691, -0.011280032806098461, -0.01751536689698696, 0.048006489872932434, 0.03167710453271866, 0.052675098180770874, 0.022100113332271576, 0.03693303465843201, 0.0036157395225018263, 0.029641952365636826, 0.040496036410331726, -0.007657541893422604, 0.001948571065440774, 0.02551107481122017, 0.029067449271678925, -8.359795901924372e-05, -0.007854893803596497, 0.04763844981789589, -0.04131520912051201, 0.008037574589252472, 0.024293312802910805, 0.025122225284576416, -0.03551333397626877, -0.022017860785126686, 0.012775935232639313, 0.05307114124298096, -0.0041752345860004425, -0.02077794075012207, 0.05434645339846611, -0.033260710537433624, 0.03429773822426796, -0.03556235134601593, 0.052577584981918335, -0.012045832350850105, 0.039082661271095276, 0.02019139565527439, -0.02625119499862194, 0.005432747770100832, 0.0036545339971780777, -0.007184106856584549, -0.038620878010988235, -0.031856294721364975, -0.0510786734521389, 0.03165687993168831, -0.0035689864307641983, -0.0037307273596525192, 0.04094908758997917, -0.003995359875261784, 0.035709261894226074, -0.009852023795247078, -0.014210036024451256, 0.012517834082245827, -0.00935339741408825, 0.04503200203180313, 0.0041115437634289265, 0.01728897914290428, -0.01715913601219654, 0.0502064973115921, -0.03698961064219475, -0.01938701421022415, 0.0598602220416069, -0.03403020277619362, 0.02551368996500969, -0.05751948431134224, -0.026624860242009163, 0.009286741726100445, -0.0030391616746783257, -0.04343954101204872, -0.016440318897366524, 0.010778109543025494, 0.009375832043588161, 0.01874634064733982, -0.03759310394525528, 0.008525747805833817, 0.002445003017783165, -0.006679802667349577, 0.021461116150021553, -0.004225988872349262, -0.039130404591560364, 0.012220838107168674, -0.024812672287225723, -0.03102717362344265, -0.03956704959273338, 0.007922797463834286, 0.04421351104974747, 0.024396246299147606, -0.037472061812877655, -0.045357633382081985, 0.009677818976342678, 0.007166127674281597, -0.037683792412281036, 0.008005153387784958, -0.019168829545378685, 0.048751380294561386, 0.03583955392241478, -0.05543883517384529, 0.005833887495100498, -0.01059989258646965, -0.05022193863987923, 0.008970821276307106, 0.005393458995968103, 0.06711786985397339, -0.0017161278519779444, 0.022909164428710938, 0.003647624282166362, 0.006646476686000824, -0.02436891198158264, 0.008071986958384514, 0.017449473962187767, -0.032336410135030746, -0.015814295038580894, -0.0027177503798156977, -0.014024159871041775, 0.016094857826828957, 0.012997682206332684, 0.0015195220476016402, -0.026115160435438156, -0.018856674432754517, -0.007019752636551857, -0.01927068643271923, -0.011807294562458992, 0.026958463713526726, 0.024227749556303024, 0.025670481845736504, -0.01029967050999403, 0.024535058066248894, 0.017466867342591286, 0.03607338294386864, 0.04158512130379677, 0.004979219753295183, -0.032624274492263794, -0.018010403960943222, -0.023730626329779625, 0.0006929627852514386, -0.03769218549132347, -0.016766423359513283, -0.011074514128267765, 0.010373754426836967, 0.03251190856099129, 0.00552911264821887, -0.035555969923734665, 0.0027424688450992107, 0.009496299549937248, 0.018394019454717636, 0.03247557207942009, 0.012962572276592255, -0.0027429559268057346, -0.04643445834517479, 0.010051914490759373, -0.027662446722388268, -0.008410320617258549, 0.02814362943172455, 0.006788916420191526, -0.024782996624708176, -0.04365602508187294, -0.026035720482468605, -0.015008107759058475, -0.008127650246024132, -0.055851664394140244, 0.009657373651862144, 0.02782447263598442, -0.0358944796025753, 0.009422983974218369, -0.022368203848600388, -0.000984066165983677, -0.01045201439410448, -0.02448497712612152, 0.005663058254867792, 0.04056834429502487, 0.04006817191839218, 0.039497412741184235, 0.0521647185087204, 0.013449268415570259, -0.024278027936816216, -0.00017886738351080567, 0.05268145725131035, 0.024369971826672554, -0.01158030703663826, 0.01262730360031128, -0.025505028665065765, 0.001426394679583609, -0.0428357794880867, 0.010756025090813637, -0.015567673370242119, -0.04383765533566475, -0.04293942078948021, -0.015977859497070312, -0.018687525764107704, -0.01976899243891239, -0.04485705494880676, -0.05175510793924332, 0.0031977847684174776, 0.036385584622621536, -0.01773979142308235, 0.026180336251854897, -0.03169222176074982, 0.021008409559726715, -0.007223454769700766, 0.03807953745126724, -0.03760065510869026, 0.007999645546078682, 0.0001345024793408811, -0.004711803514510393, -0.012711568735539913, -0.002916376106441021, 0.031232167035341263, -0.010303814895451069, -0.030869342386722565, 0.015192761085927486, 0.0376061275601387, -0.013831162825226784, 0.013745082542300224, 0.04431699961423874, 0.023106763139367104, -0.02609623223543167, 0.058432940393686295, 0.01880628988146782, -0.04609595239162445, 0.062186699360609055, -0.0622914582490921, 0.05133911967277527, -0.013309280388057232, -0.01850431226193905, 0.013986017554998398, 0.011505034752190113, -0.02437533251941204, 0.0018602063646540046, -0.00981370359659195, -0.021278955042362213, -0.05512138456106186, -0.03811744973063469, -0.004101982805877924, -0.04018889740109444, 0.013883412815630436, 0.010476457886397839, 0.08202223479747772, 0.05497919023036957, -0.00521209416911006, 0.0006524893688037992, 0.0012210721615701914, -0.006226992700248957, -0.05319710448384285, 0.006070670206099749, -0.025257429108023643, 0.018851470202207565, -0.013976733200252056, 0.004658539313822985, -0.024481266736984253, -0.03537613898515701, -0.014634901657700539, 0.0168174896389246, -0.01562298834323883, 0.0033109404612332582, -0.04457102715969086, -0.019649822264909744, 0.06123005598783493, -0.05641443282365799, -0.021534908562898636, -0.026592418551445007, -0.017299575731158257, 0.013246920891106129, -0.039897721260786057, 0.00266541657038033, 0.010422891937196255, -0.08284885436296463, -0.004806691315025091, 0.004682436585426331, 0.05222489684820175, 0.04377031698822975, 0.00441946554929018, -0.03565401956439018, 0.037154700607061386, -0.04912620037794113, 0.0023311502300202847, -0.05947219580411911, 0.007767523173242807, -0.02497769705951214, 0.038081634789705276, -0.004645973909646273, -0.01828834041953087, -0.006532191764563322, -0.027896102517843246, -0.010358505882322788, 0.012339329347014427, -0.016028033569455147, -0.0100666219368577, 0.018379483371973038, 0.051702484488487244, 0.0013899237383157015, -0.021829398348927498, 0.004030823707580566, 0.008113633841276169, -0.024833854287862778, 0.027825819328427315, -0.0027978098951280117, -0.0215054452419281, -0.07834547758102417, -0.04814682900905609, 0.024341441690921783, -0.04605250060558319, -0.05714431032538414, -0.022564776241779327, -0.049590371549129486, -0.04448920860886574, 0.03207141533493996, 0.004516822751611471, 0.030167683959007263, -0.0010532393353059888, -0.009373246692121029, 0.05119679495692253, -0.015950558707118034, -0.02084111049771309, 0.01475359033793211, 0.015383776277303696, 0.03342660889029503, -0.0011208963114768267, -0.035925544798374176, 0.0276638176292181, 0.023868011310696602, -0.018973255529999733, 0.016858631744980812, -0.0019012691918760538, -0.013006209395825863, -0.032868288457393646, 0.022571733221411705, -0.013241568580269814, -0.0010512564331293106, 0.021965989843010902, -0.05740068852901459, 0.011661108583211899, -0.003240088699385524, -0.01614018902182579, -0.02933468669652939, 0.020906789228320122, -0.014874686487019062, -0.031770553439855576, 0.01855139248073101, 0.02992195263504982, 0.06073558330535889, 0.05498046800494194, 0.013191565871238708, 0.05715484172105789, -0.006857013329863548, 0.01830952800810337, -0.02745204232633114, -0.0413372702896595, -0.036753345280885696, 0.01936331018805504, 0.050520263612270355, 0.021954335272312164, -0.006833333056420088, -0.06258175522089005, 0.034694913774728775, -0.02236625738441944, 0.008908340707421303, 0.051101863384246826, 0.00038707730709575117, 0.025361228734254837, -0.023403510451316833, 0.02580276131629944, 0.0010815260466188192, -0.03940274193882942, -0.03797160089015961, -0.025136221200227737, -0.01929335668683052, -0.004602684173732996, -0.05311895161867142, -0.015263418667018414, -0.008946308866143227, 0.012681677006185055, 0.02632581815123558, 0.024143531918525696, 0.05498930439352989, -0.0657392144203186, -0.059615932404994965, -0.00529147032648325, 0.025033576413989067, 0.006595770362764597, 0.05220450088381767, 0.034897103905677795, 0.01961439847946167, 0.021713286638259888, 0.07179494947195053, -0.006314246449619532, -0.008234350942075253, -0.02208881452679634, 0.020918797701597214, -0.0331762433052063, -0.01908758096396923, 0.05757172405719757, -0.004792705178260803, -0.05455155670642853, -0.048620838671922684, -0.020194711163640022, -0.006009240634739399, -0.017418967559933662, 0.012427134439349174, 0.003986929077655077, 0.0004862368223257363, -0.029998883605003357, 0.018630167469382286, 0.02070728875696659, 0.03035016544163227, 0.03760385140776634, -0.02974107302725315, 0.003136388259008527, -0.028393201529979706, -0.016496164724230766, 0.011172212660312653, -0.012426815927028656, -0.02343609742820263, -0.0431278795003891, -0.0192326158285141, 0.002784067764878273, 0.003958050161600113, 0.020246729254722595, -0.028799666091799736, 0.024688921868801117, 0.06741546839475632, 0.0015543157933279872, 0.045663658529520035, -0.010711095295846462, -0.01443458627909422, -0.007700780406594276, 0.025567254051566124, -0.02522464282810688, 0.00900249369442463, -0.0010046386159956455, -0.014737190678715706, 0.009497582912445068, -0.03799803927540779, 0.016455888748168945, -0.0022305776365101337, 0.02733134850859642, -0.03688890486955643, -0.0060899388045072556, -0.020812487229704857, -0.010854334570467472, -0.025377929210662842, -0.048302892595529556, -0.03327285498380661, -0.012412291020154953, 0.04840775579214096, -0.021743379533290863, 0.00967115443199873, -0.009400644339621067, 0.06343317031860352, -0.024954497814178467, 0.003960440866649151, -0.04984857514500618, 0.008558348752558231, 0.011361517943441868, 0.02471451833844185, -0.08543818444013596, -0.04328268766403198, 0.012492815032601357, 0.06142127513885498, -0.013364016078412533, 0.030206438153982162, -0.004560879897326231, -0.01501341164112091, -0.0038038729690015316, 0.0012283342657610774, -0.0006417484255507588, -0.025846373289823532, 0.051626626402139664, 0.05918914079666138, -0.04552263393998146, 0.00985598936676979, 0.05449242144823074, 0.04012918472290039, 0.0020905351266264915, -0.02920226752758026, -0.003695610212162137, 0.04534707963466644, 0.00300922361202538, 0.008536436595022678, -0.017578717321157455, -0.00027105581830255687, -0.027284909039735794, 0.003992337267845869, -0.0709206759929657, 0.0068051754496991634, -0.03560526669025421, 0.01223695743829012, -0.01719820871949196, 0.011329255998134613, -0.011222975328564644, 0.056409802287817, 0.07079309225082397, 0.020740628242492676, -0.04223191365599632, -0.006874745711684227, 0.04149356856942177, 0.046836305409669876, 0.007924207486212254, -0.04040919616818428, -0.00023856615007389337, 0.01756051369011402, -0.0006959513411857188, 0.026582131162285805, -0.005931265652179718, 0.030351530760526657, -0.01511052343994379, -0.010830121114850044, -0.022889602929353714, -0.026804298162460327, -0.08401334285736084, 0.054934173822402954, 0.019840028136968613, -0.018659375607967377, 0.034118179231882095, -0.007612309884279966, -0.05865764990448952, -0.001671260455623269, -0.059386786073446274, -0.067924864590168, 0.04664658382534981, -0.0066468496806919575, -0.028825698420405388, 0.02739645168185234, -0.05321181192994118, 0.001513125840574503, 0.012420128099620342, 0.03162505105137825, 0.007650843355804682, 0.023665593937039375, 0.001968933502212167, 0.025873105973005295, -0.007022275123745203, 0.030287718400359154, 0.019264589995145798, 0.043401919305324554, 0.008278800174593925, -0.07539959996938705, 0.021695824339985847, -0.005071685183793306, 0.04880203679203987, -0.007315176073461771, 0.022510964423418045, 0.026339128613471985, 0.02847074717283249, 0.012036032974720001, -0.03958216682076454, -0.02373996563255787, -0.03685205429792404, 0.03038174659013748, -0.05891761556267738, 0.020245900377631187, 0.01677771843969822, 0.044605351984500885, -0.010513917542994022, 0.013321015983819962, -0.024770518764853477, 0.018116936087608337, 0.05226903036236763, 0.010723382234573364, 0.007645361125469208, 0.06068160757422447, -0.05293695628643036, 0.0006243026000447571, -0.05551067739725113, 0.002658808371052146, 0.04708617925643921, 0.025942940264940262, 0.004295694641768932, -0.0018170910188928246, 0.003222937462851405, 0.013853807933628559, 0.01222584955394268, 0.03174843266606331, -0.0523616187274456, -0.024843953549861908, 0.005952241364866495, 0.0056421332992613316, 0.018929658457636833, -0.026730170473456383, -0.002957033459097147, -0.037115760147571564, -0.021245459094643593, -0.0332377590239048, -0.004545370116829872, 0.0068948520347476006, -0.01596764288842678, 0.025878435000777245, -0.012523816898465157, 0.015929333865642548, -0.004209753591567278, 0.00724808918312192, 0.012387952767312527, 0.022657165303826332, -0.008453870192170143, 0.043752919882535934, 0.021809585392475128, 0.014971708878874779, 0.0184951014816761, 0.032347019761800766, 0.005256080999970436, 0.002206045901402831, -0.03161018341779709, 0.006516442634165287, -0.013011123053729534, -0.0022686331067234278, 0.006284819915890694, -0.04527260363101959, -0.024004025384783745, 0.010899594984948635, -0.005664310418069363, -0.02811601758003235, 0.046174485236406326, -0.0435059517621994, -0.05279238149523735, 0.005663776304572821, 0.03197865188121796, -0.0272515956312418, -0.01971570961177349, -0.005392075981944799, -0.017031768336892128, -0.004044553730636835, 0.06509894132614136, -0.016003187745809555, -0.026802679523825645, 0.047559961676597595, 0.0022258951794356108, -0.004442700184881687, 0.07644783705472946, 0.03160807490348816, 0.014597594738006592, -0.012594926171004772, -0.005311698652803898, -0.046603161841630936, 0.0011039158562198281, 0.0024352094624191523, -0.017065979540348053, 0.0024193204008042812, -0.006496740970760584, 0.009716346859931946, -0.024478035047650337, -0.01951269805431366, 0.004816117696464062, -0.054408423602581024, -0.028688807040452957, 0.001212620409205556, 0.006323002744466066, 0.014477339573204517, 0.021146155893802643, 0.032806508243083954, -0.012168687768280506, -0.013357547111809254, -0.011285990476608276, -0.04800562933087349, 0.015107247047126293, -0.052627988159656525, 0.022204535081982613, -0.050145912915468216, -0.010496304370462894, -0.022229501977562904, 0.00940883718430996, 0.006138881668448448, 0.048343509435653687, 0.0014365034876391292, -0.017894648015499115, -0.007743942551314831, 0.028310732915997505, -0.026378309354186058, 0.000873055774718523, -0.02424362115561962, -0.048399630934000015, 0.025614487007260323, 0.03763335943222046, -0.027776308357715607, -0.00790912564843893, 0.02708585187792778, 0.027428466826677322, -0.05936617776751518, 0.010559058748185635, 0.0026742923073470592, -0.030437329784035683, 0.05913005769252777, -0.06331903487443924, 0.06177946552634239, -0.005395427346229553, -0.05647115036845207, 0.007156017702072859, -0.0077260639518499374, -0.04482397064566612, -0.043310437351465225, -0.09346291422843933, -0.03159160912036896, -0.006447628140449524, -0.0187417883425951, -0.004246193915605545, 0.00512215169146657, -0.027908656746149063, 0.031214721500873566, 0.02152266539633274, -0.06814664602279663, 0.2493460774421692, 0.05418259650468826, 0.02411973662674427, 0.04866495728492737, 0.01722363941371441, 0.022944988682866096, 0.009064128622412682, -0.0005637137801386416, 0.01530560664832592, -0.04502589628100395, -0.012593974359333515, 0.009855657815933228, 0.025862298905849457, 0.01157398708164692, 0.04316507652401924, 0.030793827027082443, -0.022029632702469826, 0.00824091024696827, 0.021601932123303413, -0.039133645594120026, -0.01573662832379341, 0.02188604697585106, -0.03888248652219772, 0.00030300140497274697, -0.009170133620500565, 0.022819429636001587, 0.04205826297402382, -0.042995721101760864, -0.003339719492942095, 0.0007682083523832262, 0.04857650771737099, 0.013022768311202526, -0.01770050823688507, 0.011826164089143276, -0.0052677481435239315, 0.019333720207214355, -0.06527946889400482, -0.021315453574061394, -0.028630686923861504, -0.021079031750559807, 0.0089262705296278, -0.03596196323633194, 0.02237347885966301, -0.05053618177771568, -0.005002474412322044, 0.06387884169816971, -0.004216628149151802, -0.01204153336584568, -0.01294995378702879, -0.039941344410181046, 0.02289978787302971, -0.02691332809627056, -0.01003939937800169, -0.037693317979574203, -0.05295655503869057, 0.0252770334482193, 0.015388069674372673, -0.006452799774706364, 0.012486777268350124, -0.007401707582175732, 0.014801247976720333, 0.010756639763712883, -0.02923600561916828, 0.02284943498671055, -0.0425412617623806, -0.023885877802968025, 0.00571001973003149, 0.006078472826629877, -0.04131920635700226, -0.029825007542967796, -0.0336170494556427, -0.013988856226205826, -0.007482650224119425, 0.018440458923578262, 0.045434433966875076, 0.023827752098441124, 0.014640851877629757, 0.02358800731599331, -0.01786934770643711, -0.020272444933652878, -0.04684207960963249, 0.011823565699160099, -0.006781129632145166, -0.011604397557675838, 0.008132033981382847, 0.02563631348311901, -0.03137575462460518, -0.01700642704963684, -0.026323437690734863, 0.020917100831866264, 0.026412803679704666, 0.02078920230269432, 0.049742307513952255, -0.0497957207262516, 0.0005667677614837885], [-0.0023723046761006117, 0.026205163449048996, 0.04402460530400276, -0.04619108885526657, -0.02518450655043125, -0.009148553013801575, 0.015960464254021645, 0.003543207189068198, 0.01850646547973156, 0.08979100733995438, 0.05720309540629387, 0.04522451013326645, -0.020582299679517746, -0.0058784703724086285, -0.022164927795529366, -0.002363867126405239, -0.02428886666893959, 0.007937503978610039, -0.04514848813414574, 0.007293259259313345, 0.0334661565721035, 0.042411841452121735, -0.09398587048053741, -0.020730815827846527, -0.03397157043218613, -0.020583445206284523, 0.033490199595689774, 0.019158435985445976, 0.040737833827733994, 0.08071358501911163, -0.024783024564385414, -0.006617866922169924, -0.03345632553100586, -0.0485980249941349, -0.016528798267245293, 0.006078880280256271, 0.016285302117466927, -0.04270515218377113, 0.014865132048726082, -0.05449722707271576, 0.032972272485494614, -0.002942794468253851, 0.0006992819253355265, -0.06514240801334381, -0.03182302415370941, -0.016164427623152733, -0.03830811008810997, -0.03995558246970177, -0.021113045513629913, -0.014984582550823689, 0.016588255763053894, 0.030681584030389786, 0.04709871485829353, -0.02415783889591694, -0.04796725884079933, 0.04699608311057091, 0.06101297214627266, 0.0005819420330226421, -0.004963747225701809, 0.04595131427049637, -0.030930088832974434, -0.013292480260133743, -0.022827457636594772, -0.05751969665288925, -0.004110272973775864, 0.0021788491867482662, -0.0032510170713067055, -0.0213686041533947, 0.04075487703084946, -0.006276939995586872, -0.0183266531676054, 0.011163813062012196, 0.00648417416960001, -0.0013658732641488314, -0.060241684317588806, 0.07755211740732193, -0.006955946795642376, 0.02114151604473591, 0.011713373474776745, -0.0206623412668705, 0.007741388399153948, 0.043370235711336136, -0.03617420047521591, 0.036144740879535675, -0.04260367900133133, 0.030610615387558937, 0.0147127415984869, 0.011865535750985146, 0.00879391934722662, 0.018509462475776672, 0.024496322497725487, 0.024185728281736374, -0.012585137039422989, 0.011471269652247429, 0.021906999871134758, -0.0007418064051307738, -0.0035256824921816587, -0.003578849835321307, -0.040503617376089096, -0.005481452215462923, 0.03224978968501091, 0.0062169707380235195, -0.013119150884449482, 0.011453207582235336, -0.0296426173299551, 0.06444329768419266, -0.014928465709090233, 0.02413131482899189, 0.007912038825452328, -0.06480273604393005, 0.03378753364086151, -0.010242670774459839, 0.03459608182311058, 0.02200983837246895, 0.020456770434975624, 0.033479269593954086, -0.013265876099467278, 7.341270247707143e-05, -0.026466306298971176, -0.028483403846621513, 0.03352929279208183, 0.051773812621831894, 0.026560036465525627, 0.034876368939876556, 0.004559531342238188, 0.01018339954316616, -0.035002000629901886, -0.03992984816431999, -0.04333053156733513, -0.018560271710157394, -0.013634867034852505, -0.03638424351811409, 0.008119035512208939, 0.015228052623569965, 0.029067106544971466, 0.04614139720797539, 0.00884719006717205, 0.025791674852371216, 0.018312299624085426, -0.03652259707450867, 0.04949527606368065, -0.03215130418539047, -0.0013728924095630646, 0.06498569250106812, -0.023480422794818878, -0.00603124313056469, -0.012828605249524117, 0.02037751115858555, 0.02054295316338539, 0.02938942238688469, -0.05400964245200157, -0.0023827191907912493, 0.007787532638758421, -0.03905528411269188, -0.0027856568340212107, -0.005847631953656673, 0.009442318230867386, 0.03374287113547325, 0.015505768358707428, 0.03172306343913078, -0.02437405474483967, -0.0498625747859478, 0.020274419337511063, 0.04184768721461296, -0.010521463118493557, 0.042852215468883514, -0.04211102053523064, -0.019257966428995132, -0.028507044538855553, -0.017827268689870834, 0.01991296373307705, 0.01654643379151821, -0.015745777636766434, -0.06197205185890198, 0.049256280064582825, 0.06232679262757301, 0.014178862795233727, -0.0678209662437439, -0.031608790159225464, 0.06135791167616844, -0.06743192672729492, -0.0023456618655472994, 0.023753391578793526, -0.0031780931167304516, 0.018716827034950256, 0.00021228777768556029, 0.002974126022309065, -0.009727660566568375, -0.05745625123381615, 0.009518633596599102, -0.008519092574715614, 0.011947110295295715, 0.01656515710055828, 0.03902231901884079, -0.05846911296248436, 0.006205955054610968, -0.030876468867063522, 0.0015630049165338278, -0.044515009969472885, -0.042382579296827316, 0.0013585344422608614, -0.013195144012570381, -0.03671673312783241, -0.012250607833266258, -0.05240362882614136, 0.009229463525116444, 0.0657147467136383, 0.06203855201601982, -0.040327586233615875, 0.017740152776241302, 0.043226052075624466, 0.03334386274218559, -0.05883060768246651, 0.016730427742004395, -0.014724964275956154, 0.0321301594376564, -0.0107351653277874, 0.03866153582930565, -0.028163043782114983, 0.006549021694809198, 0.05245564877986908, 0.051949307322502136, -0.004576347302645445, 0.024665988981723785, 0.04194212704896927, -0.05517425015568733, 0.022100035101175308, 0.054592713713645935, -0.01973673887550831, 0.02919336035847664, -0.019511111080646515, 0.01148993894457817, 0.009691007435321808, 0.012597279623150826, 0.01556689664721489, 0.03197018429636955, 0.041742097586393356, 0.03406444936990738, -0.020374257117509842, 0.03099377453327179, 0.01588292047381401, 0.029279636219143867, 0.02912498079240322, -0.010116342455148697, 0.0018938399152830243, 0.04730938747525215, 0.03809000924229622, 0.016004333272576332, -0.010166630148887634, 0.021244386211037636, 0.04255172610282898, 0.053616322576999664, 0.012695906683802605, 0.029939590021967888, -0.03528974577784538, -0.0019339597783982754, 0.009705943986773491, 0.029386820271611214, -0.03124374710023403, -0.045759741216897964, 0.04395264759659767, -0.018956730142235756, -0.030101081356406212, -0.020305171608924866, 0.00735491281375289, 0.01733129844069481, 0.011801536194980145, -0.02775852009654045, -0.021998396143317223, -0.06756281107664108, -0.029687469825148582, -0.043941207230091095, -0.06523551791906357, -0.0168081596493721, -0.040902163833379745, -0.03343060240149498, 0.004134824499487877, -0.004667080007493496, 0.018423225730657578, -0.015851221978664398, -0.01500567328184843, -0.02957949973642826, -0.059998903423547745, -0.03663589432835579, 0.036024387925863266, 0.01656893454492092, -0.01599959284067154, 0.01316289883106947, -0.005345161538571119, 0.05447632074356079, -0.03954937681555748, -0.0384264774620533, 0.005965712480247021, -0.01536878664046526, 0.023648109287023544, -0.0052103870548307896, 0.054372046142816544, 0.008975839242339134, 0.012580851092934608, -0.04792937636375427, 0.00036098770215176046, 0.007972990162670612, -0.062257785350084305, 0.04087253659963608, 0.0009109936654567719, -0.003216459648683667, 0.0057634757831692696, -0.0011823790846392512, 0.01080337818711996, -0.013357382267713547, -0.017959684133529663, 0.02497064508497715, 0.007076622918248177, -0.03429136425256729, -0.04039701446890831, 0.03424520418047905, -0.003345800330862403, -0.008487949147820473, -0.0215784702450037, -0.013875243254005909, -0.010897920466959476, -0.002682758728042245, -0.00292678689584136, -0.008673007600009441, -0.016285069286823273, 0.03324638307094574, 0.04158221185207367, -0.05481346696615219, 0.02297188714146614, -0.043879132717847824, -0.08940618485212326, 0.017117638140916824, -0.007341915275901556, 0.012069943360984325, -0.01595529168844223, 0.0011827705893665552, -0.024953586980700493, 0.0076460768468678, 0.029105596244335175, 0.011976978741586208, 0.0014060457469895482, -0.042944591492414474, -0.023769177496433258, -0.018506016582250595, 0.024757420644164085, -0.007162026129662991, -0.019005870446562767, -0.007519225124269724, -0.027827803045511246, 0.01686764508485794, -0.01617009937763214, -0.002998518757522106, -0.027038002386689186, 0.008578531444072723, 0.018019091337919235, 0.03467268869280815, -0.03025973029434681, 0.002857201499864459, 0.003242315026000142, 0.02671496570110321, 0.05538344010710716, -0.02907986007630825, -0.019217420369386673, -0.08231247961521149, 0.013468503952026367, -0.017286473885178566, 0.0006718691438436508, 0.029211940243840218, 0.03601393103599548, 0.020835669711232185, 0.05304373800754547, 0.008824006654322147, -0.014061219990253448, -0.02719406969845295, -0.03892778605222702, 0.0231782253831625, 0.09432504326105118, 0.016776785254478455, 0.03927306830883026, -0.03280217573046684, 0.00450245151296258, -0.02558787353336811, 0.006692929659038782, 0.011061988770961761, 0.02049272321164608, 0.02241015061736107, -0.011724360287189484, -0.025133980438113213, -0.05808958038687706, -0.07381151616573334, 0.009373925626277924, -0.022125978022813797, -0.00832665991038084, -0.04576648399233818, -0.04518498107790947, -0.0643853023648262, 0.0006862395675852895, -0.04125938192009926, -0.004230055958032608, -0.009053973481059074, 0.014717423357069492, -0.01867411658167839, -0.013296322897076607, 0.007968832738697529, -0.007577159442007542, -0.02324008382856846, -0.0029375129379332066, 0.04296722263097763, 0.014548339881002903, 0.0005295268492773175, -0.04670286551117897, -0.0014311037957668304, 0.007365595083683729, -0.007491348776966333, 0.024914950132369995, 0.029892094433307648, -0.04972611367702484, 0.004300377331674099, -0.006689713802188635, -0.011138382367789745, -0.00784212350845337, -0.025729646906256676, 0.010673612356185913, 0.01987050287425518, 0.040807634592056274, -0.05898210406303406, -0.006915995851159096, -0.06024904176592827, 0.019680248573422432, 0.03775812312960625, 0.025446666404604912, -0.011613885872066021, 0.004501652903854847, 0.022673675790429115, -0.037184782326221466, 0.005128944758325815, 0.06971051543951035, 0.03175637125968933, 0.017734039574861526, -0.041040290147066116, 0.02565772831439972, 0.019122295081615448, 0.017748326063156128, 0.0066808173432946205, 0.01987724006175995, 0.008115540258586407, -0.012294969521462917, 0.019328180700540543, 0.0023898950312286615, -0.009746909141540527, 0.0732826441526413, -0.018608348444104195, 0.0769803524017334, -0.019616510719060898, -0.024496931582689285, 7.747795461909845e-05, 0.0006140010664239526, -0.0511564165353775, 0.016272494569420815, -0.026723116636276245, 0.021039020270109177, 0.01572354882955551, 0.010440011508762836, -0.0007218490354716778, -0.026524854823946953, 0.05028030276298523, -0.016154151409864426, 0.04226864129304886, 0.04472501203417778, -0.007261360064148903, -0.01816749945282936, 0.026980772614479065, 0.03503106161952019, -0.01599067449569702, 0.0048201484605669975, -0.03621118143200874, -0.031388215720653534, -0.06046013534069061, -0.014850188978016376, 0.016913026571273804, -0.008486135862767696, 0.002296596998348832, -0.010083095170557499, -0.011726445518434048, 0.041273411363363266, -0.02285127155482769, -0.015748795121908188, -0.021421054378151894, -0.007366827689111233, 0.007993611507117748, -0.022752447053790092, -0.014176668599247932, -0.04295685887336731, -0.08250956237316132, -0.0009516875725239515, -0.027882419526576996, -0.024845479056239128, 0.012951263226568699, -0.0010796025162562728, 0.04250344634056091, -0.0016617759829387069, -0.012597698718309402, -0.036386944353580475, 0.01832066848874092, -0.007036774419248104, 0.023668197914958, -0.011867893859744072, -0.006017210893332958, -0.02715921960771084, -0.004137617535889149, -0.024387406185269356, -0.008961265906691551, 0.041217513382434845, 0.015259395353496075, -0.009054021909832954, 0.04437563940882683, -0.00244073080830276, 0.028898725286126137, -0.031592413783073425, 0.06634864211082458, 0.03825977072119713, -0.058426689356565475, -0.03994869440793991, -0.006923846434801817, -0.0069017899222671986, 0.004579603672027588, 0.006399659905582666, -0.015945754945278168, -0.011128904297947884, -0.009199639782309532, 0.03656703233718872, -0.053463131189346313, -0.02027488872408867, -0.02694718725979328, -0.01808609999716282, 0.006835351698100567, 0.005776607897132635, -0.019066892564296722, -0.005186205264180899, -0.04221123456954956, -0.07419076561927795, 0.022696249186992645, -0.002043662127107382, 0.01561448723077774, -0.01713796891272068, -0.014534018002450466, 0.019872667267918587, 0.08818969130516052, -0.032169729471206665, -0.033064790070056915, 0.011641692370176315, 0.005233979783952236, 0.041867561638355255, 0.01707286201417446, -0.01899239793419838, -0.019354192540049553, 0.012058916501700878, -0.019625328481197357, 0.012718848884105682, 0.004028321709483862, 0.028929442167282104, 0.05292226001620293, -0.022467609494924545, 0.017090637236833572, 0.01117008551955223, 0.04087892174720764, 0.0064145405776798725, 0.017409944906830788, 0.012889144942164421, -0.040328580886125565, -0.048344045877456665, 0.010976525954902172, 0.021421125158667564, 0.02837236225605011, -0.008485134690999985, -0.03962321579456329, -0.057209234684705734, 0.005542350467294455, -0.0617830827832222, -0.03100588172674179, 0.012880777940154076, 0.008002027869224548, 0.0030224104411900043, -0.09282020479440689, 0.03499700501561165, -0.0316268689930439, 0.04076762869954109, 0.053128477185964584, 0.09099026769399643, 0.036773957312107086, -0.011405742727220058, 0.048745669424533844, 0.07411439716815948, -0.014341137371957302, 0.008046960458159447, -0.03439011797308922, -0.0035549316089600325, -0.024274533614516258, 0.004130858927965164, -0.03091953694820404, -0.03060959093272686, 0.03066195920109749, 0.023796968162059784, 0.009314202703535557, 0.04878783971071243, 0.003863370278850198, -0.051602285355329514, -0.005765673704445362, 0.06654178351163864, 0.03917825594544411, 0.06349965929985046, 0.08729589730501175, 0.0002488656609784812, -0.01864069700241089, 0.06513378024101257, -0.006940028164535761, -0.02480182610452175, 0.01197901926934719, 0.06925629079341888, -0.043805621564388275, -0.019261252135038376, 0.008969617076218128, 0.00026189355412498116, -0.035876017063856125, -0.024196060374379158, 0.014163568615913391, 0.037847474217414856, 0.0032355720177292824, -0.027442405000329018, 0.011447830125689507, 0.0024669277481734753, -0.010678227059543133, 0.016380945220589638, 0.012054800987243652, -0.03298904001712799, 0.033120639622211456, 0.008433320559561253, -0.017575843259692192, -0.018465455621480942, 0.01985708624124527, 0.046037882566452026, 0.0014276830479502678, 0.010517808608710766, -0.025006012991070747, -0.012132814154028893, -0.010113123804330826, -0.04849626123905182, -0.013074947521090508, -0.010629279538989067, 0.012010992504656315, 0.006076320074498653, 0.015445447526872158, 0.032392073422670364, 0.009754206985235214, 0.0030726452823728323, 0.05212599039077759, -0.007368053309619427, -0.04822928458452225, -0.02169746533036232, -0.006715445779263973, 0.03776610270142555, -0.008845429867506027, -0.019152646884322166, 0.011380970478057861, 0.02203863114118576, 0.02563779056072235, -0.04168906435370445, -0.002482317853718996, -0.00975739024579525, -0.05056707561016083, -0.03857240080833435, -0.05029487609863281, -0.009471466764807701, 0.011934543028473854, 0.058367449790239334, 0.007249078713357449, -0.05390135571360588, 0.0457693450152874, 0.009293770417571068, -0.005043425597250462, 0.015771789476275444, -0.03970940038561821, -0.005495923571288586, -0.026602696627378464, -0.0272288266569376, -0.0724882185459137, -0.02105235494673252, -0.02158498205244541, 0.02977004274725914, -0.0014210271183401346, -0.038650963455438614, 0.009186913259327412, -0.006661812774837017, -0.017102232202887535, 0.0052754818461835384, -0.004262178670614958, -0.009480864740908146, 0.06677073240280151, 0.05760331451892853, 0.03548511862754822, 0.018050367012619972, 0.03194970265030861, 0.008563622832298279, 0.007811868097633123, -0.015489756129682064, -0.0071845403872430325, -0.00023645663168281317, 0.016717324033379555, 0.06535880267620087, -0.013783133588731289, 0.021520519629120827, -0.0017364607192575932, -0.0060572875663638115, -0.06479229778051376, 0.03410777822136879, 0.010464299470186234, 0.07477355748414993, -0.00010580029629636556, -0.02443581074476242, 0.06498635560274124, 0.04923124611377716, 0.060459572821855545, 0.018834425136446953, -0.02913704700767994, 0.009308261796832085, -0.007807382848113775, -0.0012798294192180037, -0.021538184955716133, -0.014398961327970028, 0.040458571165800095, 0.0030639152973890305, 0.008653049357235432, -0.008884782902896404, 0.01654418744146824, 0.037987612187862396, 0.016188666224479675, -0.029201699420809746, -0.009878048673272133, -0.021341264247894287, -0.02234671264886856, 0.006348347757011652, -0.00999295525252819, -0.009684869088232517, 0.0159379281103611, -0.010852468200027943, -0.04282546043395996, 0.01794394664466381, -0.0626220703125, -0.026353850960731506, 0.026505472138524055, -0.01289290376007557, -0.0202653668820858, 0.0041855438612401485, -0.0371922142803669, -0.0012060391018167138, -0.05736985057592392, 0.025696486234664917, 0.02580653689801693, -0.027297087013721466, 0.016207415610551834, 0.021921705454587936, -0.02673397585749626, 0.017073456197977066, 0.016803372651338577, 0.04096689447760582, -0.027915319427847862, -0.046772029250860214, 0.025060784071683884, 0.0015079887816682458, -0.010868275538086891, -0.025836044922471046, -0.008082430809736252, 0.03900572285056114, 0.04126567393541336, 0.02760804258286953, -0.006480785086750984, -0.01367625780403614, -0.039722900837659836, -0.009833453223109245, -0.011651723645627499, 0.011270729824900627, -0.02190817892551422, 0.05582483485341072, -0.04794401302933693, 0.0015685457037761807, -0.0062586646527051926, 0.03165041282773018, 0.021484479308128357, -0.0351276770234108, 0.0016330290818586946, 0.031231801956892014, 0.019336184486746788, 0.012437460944056511, -0.05296121910214424, -0.019582144916057587, 0.027786782011389732, 0.05299948900938034, 0.001308753271587193, 0.0025049191899597645, -0.01918131858110428, 0.02297193557024002, -0.01715627871453762, -0.01988396793603897, -0.017072336748242378, -0.03207472339272499, 0.06278134137392044, 0.025116335600614548, -0.014349318109452724, -0.02076023817062378, 0.04136721044778824, -0.01761600375175476, -0.019087275490164757, -0.01019277237355709, 0.01769099198281765, -0.01996571570634842, 0.01536505576223135, 0.03988928720355034, -0.09631862491369247, 0.02855311520397663, -0.019370395690202713, -0.027453588321805, 0.04004510119557381, -0.0016269151819869876, 0.017846351489424706, 0.0034428900107741356, 0.04215746000409126, 0.011892708949744701, -0.018093280494213104, 0.013290489092469215, -0.01874869503080845, 0.02786821499466896, -0.024058688431978226, -0.008778105489909649, 0.00948837399482727, -0.013314932584762573, -0.026933100074529648, -0.05444233864545822, -0.01472148485481739, -0.0019404817139729857, -0.0028250315226614475, 0.011284314095973969, 0.00374299893155694, -0.00905542355030775, -0.015293548814952374, 0.0009098241571336985, 0.07453276962041855, 0.007023433223366737, -0.015075666829943657, -0.0213845856487751, 0.002477788832038641, -0.04005178436636925, 0.026865020394325256, -0.004660055506974459, 0.002616625279188156, -0.0031915553845465183, 0.038253284990787506, 0.037684496492147446, 0.05207310616970062, 0.03964913636445999, -0.018737129867076874, -0.010615858249366283, 0.004326925612986088, -0.05252769589424133, -0.017887769266963005, -0.005473775323480368, -0.015019492246210575, 0.015233082696795464, -0.030760452151298523, 0.007699278183281422, -0.03548057749867439, -0.02578418143093586, 0.022202422842383385, 0.010081897489726543, 0.02287972718477249, 0.008944978937506676, -0.041831448674201965, -0.008883519098162651, 0.024672655388712883, 0.03804653510451317, 0.019678005948662758, 0.04753592237830162, -0.02186422608792782, -0.044241391122341156, 0.04275147616863251, -0.04795435443520546, 0.004276454448699951, -0.027486884966492653, 0.007836046628654003, -0.0296065304428339, 0.014119881205260754, -0.007785231806337833, 0.02750387415289879, 0.027303116396069527, -0.04239211231470108, 0.049638986587524414, 0.040793146938085556, -0.025936443358659744, 0.021803833544254303, 0.0043584625236690044, -0.016475515440106392, 0.009333928115665913, 0.043876077979803085, 0.006387661211192608, 0.0234458576887846, 0.0072992341592907906, 0.0016925777308642864, -0.02277468331158161, -0.04268639534711838, -0.01077518705278635, -0.0032597219105809927, 0.0040533654391765594, -0.0030069188214838505, -0.0018653938313946128, -0.021849876269698143, -0.0614001639187336, 0.001569317770190537, -0.001345431781373918, 0.00045617271098308265, 0.008719266392290592, 0.006945996545255184, -0.0031218307558447123, -0.021556954830884933, 0.003270338289439678, -0.07701905816793442, 0.0003457909042481333, -0.011364482343196869, 0.00877805333584547, 0.007703177165240049, -0.06423026323318481, 0.1829673796892166, 0.03942602872848511, 0.032153818756341934, -0.011403422802686691, 0.03301480412483215, 0.029234571382403374, -0.03272295743227005, 0.012371092103421688, -0.06566905975341797, -0.03358713537454605, 0.051709841936826706, -0.010675898753106594, -0.030359091237187386, -0.007277260534465313, 0.018781425431370735, 0.020262444391846657, 0.004611401353031397, -0.005024784244596958, 0.01995719037950039, -0.03120771422982216, -0.040803760290145874, 0.0435481071472168, -0.014331487938761711, -0.007787927519530058, -0.005497089121490717, -0.013114705681800842, 0.02714531309902668, -0.06376346945762634, 0.012888852506875992, -0.0022513645235449076, -0.020550793036818504, -0.00194452831055969, 0.032988596707582474, 0.014196914620697498, -0.0054074851796031, 0.02242267318069935, -0.003181777661666274, -0.009991676546633244, -0.03438844904303551, -0.0032019291538745165, 0.03802522271871567, -0.018739424645900726, -0.013819104991853237, -0.012537289410829544, -0.002716494258493185, 0.02981286309659481, -0.007552668452262878, -0.013761335983872414, -0.034559909254312515, -0.05031870678067207, 0.05465376749634743, -0.04269443452358246, 0.007845340296626091, -0.037594325840473175, -0.05692211166024208, 0.0273226797580719, 0.018811669200658798, 0.011834749951958656, 0.029841940850019455, 0.006119289435446262, 0.006319837644696236, 0.029413603246212006, -0.017098626121878624, -0.013458842411637306, -0.021937236189842224, 0.0016369245713576674, -0.016023412346839905, -0.014268996194005013, -0.03233940899372101, 0.0451882928609848, -0.010201696306467056, -0.06086694449186325, -0.0463835708796978, 0.007943098433315754, 0.04351207613945007, 0.015513109043240547, -0.03737746179103851, 0.013499172404408455, -0.01320075523108244, -0.00640894565731287, -0.0077588181011378765, -0.022724222391843796, 0.031722210347652435, -0.007143434602767229, 0.02819005399942398, 0.03623538464307785, -0.0043570417910814285, 0.014298570342361927, 0.010166785679757595, -0.009156904183328152, 0.007252363953739405, 0.051221322268247604, -0.01726205088198185, -0.03745915740728378, -0.017879214137792587], [0.004660115111619234, 0.04424992576241493, 0.03206033259630203, 0.015540085732936859, -0.07083090394735336, 0.014493962749838829, 0.037161651998758316, -0.006692938972264528, 0.004224649630486965, 0.06146269664168358, 0.0532367005944252, 0.021600835025310516, -0.01339556835591793, -0.009147833101451397, 0.026184620335698128, -0.009521621279418468, -0.06039206683635712, 0.020956721156835556, -0.036377497017383575, -0.0008347317343577743, 0.021165553480386734, -0.0019712781067937613, -0.05077820271253586, 0.0019926640670746565, -0.004751457367092371, 0.041612204164266586, 0.06958159804344177, 0.012141627259552479, 0.01907825469970703, 0.041103970259428024, 0.023437444120645523, -0.0035393547732383013, 0.021110400557518005, -0.060597002506256104, -0.03333151713013649, -0.03125382959842682, 0.01430603489279747, -0.02168005146086216, -0.002093435265123844, -0.047682084143161774, -0.005268718581646681, -0.01609364151954651, 0.02111591398715973, 0.003705315524712205, -0.009754703380167484, 0.001331852050498128, -0.06717215478420258, -0.024609483778476715, 0.013188931159675121, -0.034951381385326385, -0.04901696369051933, -0.010082964785397053, 0.03262008726596832, -0.036118149757385254, 0.007519624195992947, -0.00990979466587305, -0.03447924554347992, 0.03192347288131714, -0.015022561885416508, 0.03421944007277489, 0.002254104008898139, -0.028163624927401543, -0.028602462261915207, -0.018980415537953377, -0.007667706813663244, 0.00998383667320013, 0.012398460879921913, -0.0008830976439639926, 0.005158781539648771, -0.006486912723630667, 0.02407698705792427, 0.02672629803419113, 0.02162841521203518, -0.004646386951208115, -0.0037965381052345037, 0.03393932804465294, 0.028590291738510132, 0.015201522968709469, -0.05386972054839134, 0.044039078056812286, -0.019153064116835594, 0.015554028563201427, -0.0596509724855423, -0.007481791079044342, -0.04497849941253662, -0.08776037395000458, -0.001102148788049817, -0.016708076000213623, 0.006057317368686199, -0.05519504100084305, 0.025026369839906693, 0.03641243278980255, 0.0009988993406295776, 0.04260963574051857, 0.06382302939891815, 0.025201594457030296, -0.021547190845012665, 0.026324285194277763, -0.009636150673031807, 0.030171599239110947, 0.040234364569187164, 0.030923595651984215, 0.0026203265879303217, 0.03177845850586891, -0.042451780289411545, 0.02861073799431324, -0.0013153975596651435, 0.025431059300899506, 0.017488261684775352, -0.02922084368765354, 0.02915443666279316, -0.02317041903734207, -0.02680084854364395, 0.022814692929387093, -0.02747960388660431, 0.02348901890218258, -0.0012067792704328895, 0.05777804180979729, -0.038014624267816544, -0.036076415330171585, -0.00341932219453156, -0.008197588846087456, 0.005665136501193047, 0.04258115962147713, -0.008647613227367401, -0.007083192002028227, -0.01960640959441662, -0.004654702730476856, -0.041372790932655334, 0.02974669635295868, 0.01397645752876997, 0.003229953581467271, -0.01328688208013773, 0.02134111151099205, -0.011418209411203861, 0.03945213928818703, 0.016023842617869377, 0.022341258823871613, 0.021965526044368744, -0.013693492859601974, 0.023950062692165375, 0.008828261867165565, -0.03278150409460068, 0.07200416177511215, -0.03125437721610069, -0.019290614873170853, -0.014275909401476383, 0.026768088340759277, -0.0024595048744231462, 0.04248379170894623, 0.0016347657656297088, 0.019152147695422173, 0.009366636164486408, -0.0048805177211761475, 0.040045857429504395, -0.012981776148080826, 0.01364577654749155, 0.010265232995152473, -0.01908656768500805, 0.03304051607847214, 0.020326664671301842, -0.011802407912909985, 0.025800947099924088, 0.028663020581007004, -0.009230971336364746, 0.04473234340548515, -0.0045124986208975315, -0.033330321311950684, -0.056727588176727295, -0.022629518061876297, -0.025685347616672516, 0.011790563352406025, -0.05442062020301819, 0.0037187400739639997, -0.011655953712761402, 0.05114255100488663, 0.016819898039102554, -0.0018101814202964306, -0.027203364297747612, 0.021596519276499748, -0.01087072305381298, -0.03580619767308235, 0.013444161973893642, 0.07816322892904282, 0.02394620142877102, 0.01813828945159912, -0.052433669567108154, -0.01191822998225689, -0.04003845155239105, -0.005369542166590691, -0.0003021408920176327, 0.009688499383628368, 0.008941317908465862, 0.02352096326649189, -0.0440080389380455, -0.011594624258577824, -0.02125139720737934, -0.034409862011671066, -0.030799714848399162, -0.04973743110895157, -0.030612071976065636, 0.04057953506708145, 0.005907522514462471, 0.03660435229539871, -0.035886410623788834, -0.035694655030965805, 0.03299315273761749, 0.059023499488830566, -0.022465573623776436, -0.018100224435329437, 0.03997616469860077, -0.029022997245192528, -0.025484846904873848, 0.012068680487573147, 0.03242707625031471, 0.029703998938202858, -0.02578704059123993, 0.03418319672346115, -0.022334251552820206, 0.030868882313370705, 0.003497464582324028, 0.07777278870344162, -0.002720506163313985, 0.06259467452764511, 0.013328111730515957, -0.02011774107813835, -0.005857066251337528, 0.03988831490278244, -0.014470874331891537, 0.01605203188955784, -0.03113296627998352, 0.05220764875411987, 0.06715922802686691, -0.011280032806098461, -0.01751536689698696, 0.048006489872932434, 0.03167710453271866, 0.052675098180770874, 0.022100113332271576, 0.03693303465843201, 0.0036157395225018263, 0.029641952365636826, 0.040496036410331726, -0.007657541893422604, 0.001948571065440774, 0.02551107481122017, 0.029067449271678925, -8.359795901924372e-05, -0.007854893803596497, 0.04763844981789589, -0.04131520912051201, 0.008037574589252472, 0.024293312802910805, 0.025122225284576416, -0.03551333397626877, -0.022017860785126686, 0.012775935232639313, 0.05307114124298096, -0.0041752345860004425, -0.02077794075012207, 0.05434645339846611, -0.033260710537433624, 0.03429773822426796, -0.03556235134601593, 0.052577584981918335, -0.012045832350850105, 0.039082661271095276, 0.02019139565527439, -0.02625119499862194, 0.005432747770100832, 0.0036545339971780777, -0.007184106856584549, -0.038620878010988235, -0.031856294721364975, -0.0510786734521389, 0.03165687993168831, -0.0035689864307641983, -0.0037307273596525192, 0.04094908758997917, -0.003995359875261784, 0.035709261894226074, -0.009852023795247078, -0.014210036024451256, 0.012517834082245827, -0.00935339741408825, 0.04503200203180313, 0.0041115437634289265, 0.01728897914290428, -0.01715913601219654, 0.0502064973115921, -0.03698961064219475, -0.01938701421022415, 0.0598602220416069, -0.03403020277619362, 0.02551368996500969, -0.05751948431134224, -0.026624860242009163, 0.009286741726100445, -0.0030391616746783257, -0.04343954101204872, -0.016440318897366524, 0.010778109543025494, 0.009375832043588161, 0.01874634064733982, -0.03759310394525528, 0.008525747805833817, 0.002445003017783165, -0.006679802667349577, 0.021461116150021553, -0.004225988872349262, -0.039130404591560364, 0.012220838107168674, -0.024812672287225723, -0.03102717362344265, -0.03956704959273338, 0.007922797463834286, 0.04421351104974747, 0.024396246299147606, -0.037472061812877655, -0.045357633382081985, 0.009677818976342678, 0.007166127674281597, -0.037683792412281036, 0.008005153387784958, -0.019168829545378685, 0.048751380294561386, 0.03583955392241478, -0.05543883517384529, 0.005833887495100498, -0.01059989258646965, -0.05022193863987923, 0.008970821276307106, 0.005393458995968103, 0.06711786985397339, -0.0017161278519779444, 0.022909164428710938, 0.003647624282166362, 0.006646476686000824, -0.02436891198158264, 0.008071986958384514, 0.017449473962187767, -0.032336410135030746, -0.015814295038580894, -0.0027177503798156977, -0.014024159871041775, 0.016094857826828957, 0.012997682206332684, 0.0015195220476016402, -0.026115160435438156, -0.018856674432754517, -0.007019752636551857, -0.01927068643271923, -0.011807294562458992, 0.026958463713526726, 0.024227749556303024, 0.025670481845736504, -0.01029967050999403, 0.024535058066248894, 0.017466867342591286, 0.03607338294386864, 0.04158512130379677, 0.004979219753295183, -0.032624274492263794, -0.018010403960943222, -0.023730626329779625, 0.0006929627852514386, -0.03769218549132347, -0.016766423359513283, -0.011074514128267765, 0.010373754426836967, 0.03251190856099129, 0.00552911264821887, -0.035555969923734665, 0.0027424688450992107, 0.009496299549937248, 0.018394019454717636, 0.03247557207942009, 0.012962572276592255, -0.0027429559268057346, -0.04643445834517479, 0.010051914490759373, -0.027662446722388268, -0.008410320617258549, 0.02814362943172455, 0.006788916420191526, -0.024782996624708176, -0.04365602508187294, -0.026035720482468605, -0.015008107759058475, -0.008127650246024132, -0.055851664394140244, 0.009657373651862144, 0.02782447263598442, -0.0358944796025753, 0.009422983974218369, -0.022368203848600388, -0.000984066165983677, -0.01045201439410448, -0.02448497712612152, 0.005663058254867792, 0.04056834429502487, 0.04006817191839218, 0.039497412741184235, 0.0521647185087204, 0.013449268415570259, -0.024278027936816216, -0.00017886738351080567, 0.05268145725131035, 0.024369971826672554, -0.01158030703663826, 0.01262730360031128, -0.025505028665065765, 0.001426394679583609, -0.0428357794880867, 0.010756025090813637, -0.015567673370242119, -0.04383765533566475, -0.04293942078948021, -0.015977859497070312, -0.018687525764107704, -0.01976899243891239, -0.04485705494880676, -0.05175510793924332, 0.0031977847684174776, 0.036385584622621536, -0.01773979142308235, 0.026180336251854897, -0.03169222176074982, 0.021008409559726715, -0.007223454769700766, 0.03807953745126724, -0.03760065510869026, 0.007999645546078682, 0.0001345024793408811, -0.004711803514510393, -0.012711568735539913, -0.002916376106441021, 0.031232167035341263, -0.010303814895451069, -0.030869342386722565, 0.015192761085927486, 0.0376061275601387, -0.013831162825226784, 0.013745082542300224, 0.04431699961423874, 0.023106763139367104, -0.02609623223543167, 0.058432940393686295, 0.01880628988146782, -0.04609595239162445, 0.062186699360609055, -0.0622914582490921, 0.05133911967277527, -0.013309280388057232, -0.01850431226193905, 0.013986017554998398, 0.011505034752190113, -0.02437533251941204, 0.0018602063646540046, -0.00981370359659195, -0.021278955042362213, -0.05512138456106186, -0.03811744973063469, -0.004101982805877924, -0.04018889740109444, 0.013883412815630436, 0.010476457886397839, 0.08202223479747772, 0.05497919023036957, -0.00521209416911006, 0.0006524893688037992, 0.0012210721615701914, -0.006226992700248957, -0.05319710448384285, 0.006070670206099749, -0.025257429108023643, 0.018851470202207565, -0.013976733200252056, 0.004658539313822985, -0.024481266736984253, -0.03537613898515701, -0.014634901657700539, 0.0168174896389246, -0.01562298834323883, 0.0033109404612332582, -0.04457102715969086, -0.019649822264909744, 0.06123005598783493, -0.05641443282365799, -0.021534908562898636, -0.026592418551445007, -0.017299575731158257, 0.013246920891106129, -0.039897721260786057, 0.00266541657038033, 0.010422891937196255, -0.08284885436296463, -0.004806691315025091, 0.004682436585426331, 0.05222489684820175, 0.04377031698822975, 0.00441946554929018, -0.03565401956439018, 0.037154700607061386, -0.04912620037794113, 0.0023311502300202847, -0.05947219580411911, 0.007767523173242807, -0.02497769705951214, 0.038081634789705276, -0.004645973909646273, -0.01828834041953087, -0.006532191764563322, -0.027896102517843246, -0.010358505882322788, 0.012339329347014427, -0.016028033569455147, -0.0100666219368577, 0.018379483371973038, 0.051702484488487244, 0.0013899237383157015, -0.021829398348927498, 0.004030823707580566, 0.008113633841276169, -0.024833854287862778, 0.027825819328427315, -0.0027978098951280117, -0.0215054452419281, -0.07834547758102417, -0.04814682900905609, 0.024341441690921783, -0.04605250060558319, -0.05714431032538414, -0.022564776241779327, -0.049590371549129486, -0.04448920860886574, 0.03207141533493996, 0.004516822751611471, 0.030167683959007263, -0.0010532393353059888, -0.009373246692121029, 0.05119679495692253, -0.015950558707118034, -0.02084111049771309, 0.01475359033793211, 0.015383776277303696, 0.03342660889029503, -0.0011208963114768267, -0.035925544798374176, 0.0276638176292181, 0.023868011310696602, -0.018973255529999733, 0.016858631744980812, -0.0019012691918760538, -0.013006209395825863, -0.032868288457393646, 0.022571733221411705, -0.013241568580269814, -0.0010512564331293106, 0.021965989843010902, -0.05740068852901459, 0.011661108583211899, -0.003240088699385524, -0.01614018902182579, -0.02933468669652939, 0.020906789228320122, -0.014874686487019062, -0.031770553439855576, 0.01855139248073101, 0.02992195263504982, 0.06073558330535889, 0.05498046800494194, 0.013191565871238708, 0.05715484172105789, -0.006857013329863548, 0.01830952800810337, -0.02745204232633114, -0.0413372702896595, -0.036753345280885696, 0.01936331018805504, 0.050520263612270355, 0.021954335272312164, -0.006833333056420088, -0.06258175522089005, 0.034694913774728775, -0.02236625738441944, 0.008908340707421303, 0.051101863384246826, 0.00038707730709575117, 0.025361228734254837, -0.023403510451316833, 0.02580276131629944, 0.0010815260466188192, -0.03940274193882942, -0.03797160089015961, -0.025136221200227737, -0.01929335668683052, -0.004602684173732996, -0.05311895161867142, -0.015263418667018414, -0.008946308866143227, 0.012681677006185055, 0.02632581815123558, 0.024143531918525696, 0.05498930439352989, -0.0657392144203186, -0.059615932404994965, -0.00529147032648325, 0.025033576413989067, 0.006595770362764597, 0.05220450088381767, 0.034897103905677795, 0.01961439847946167, 0.021713286638259888, 0.07179494947195053, -0.006314246449619532, -0.008234350942075253, -0.02208881452679634, 0.020918797701597214, -0.0331762433052063, -0.01908758096396923, 0.05757172405719757, -0.004792705178260803, -0.05455155670642853, -0.048620838671922684, -0.020194711163640022, -0.006009240634739399, -0.017418967559933662, 0.012427134439349174, 0.003986929077655077, 0.0004862368223257363, -0.029998883605003357, 0.018630167469382286, 0.02070728875696659, 0.03035016544163227, 0.03760385140776634, -0.02974107302725315, 0.003136388259008527, -0.028393201529979706, -0.016496164724230766, 0.011172212660312653, -0.012426815927028656, -0.02343609742820263, -0.0431278795003891, -0.0192326158285141, 0.002784067764878273, 0.003958050161600113, 0.020246729254722595, -0.028799666091799736, 0.024688921868801117, 0.06741546839475632, 0.0015543157933279872, 0.045663658529520035, -0.010711095295846462, -0.01443458627909422, -0.007700780406594276, 0.025567254051566124, -0.02522464282810688, 0.00900249369442463, -0.0010046386159956455, -0.014737190678715706, 0.009497582912445068, -0.03799803927540779, 0.016455888748168945, -0.0022305776365101337, 0.02733134850859642, -0.03688890486955643, -0.0060899388045072556, -0.020812487229704857, -0.010854334570467472, -0.025377929210662842, -0.048302892595529556, -0.03327285498380661, -0.012412291020154953, 0.04840775579214096, -0.021743379533290863, 0.00967115443199873, -0.009400644339621067, 0.06343317031860352, -0.024954497814178467, 0.003960440866649151, -0.04984857514500618, 0.008558348752558231, 0.011361517943441868, 0.02471451833844185, -0.08543818444013596, -0.04328268766403198, 0.012492815032601357, 0.06142127513885498, -0.013364016078412533, 0.030206438153982162, -0.004560879897326231, -0.01501341164112091, -0.0038038729690015316, 0.0012283342657610774, -0.0006417484255507588, -0.025846373289823532, 0.051626626402139664, 0.05918914079666138, -0.04552263393998146, 0.00985598936676979, 0.05449242144823074, 0.04012918472290039, 0.0020905351266264915, -0.02920226752758026, -0.003695610212162137, 0.04534707963466644, 0.00300922361202538, 0.008536436595022678, -0.017578717321157455, -0.00027105581830255687, -0.027284909039735794, 0.003992337267845869, -0.0709206759929657, 0.0068051754496991634, -0.03560526669025421, 0.01223695743829012, -0.01719820871949196, 0.011329255998134613, -0.011222975328564644, 0.056409802287817, 0.07079309225082397, 0.020740628242492676, -0.04223191365599632, -0.006874745711684227, 0.04149356856942177, 0.046836305409669876, 0.007924207486212254, -0.04040919616818428, -0.00023856615007389337, 0.01756051369011402, -0.0006959513411857188, 0.026582131162285805, -0.005931265652179718, 0.030351530760526657, -0.01511052343994379, -0.010830121114850044, -0.022889602929353714, -0.026804298162460327, -0.08401334285736084, 0.054934173822402954, 0.019840028136968613, -0.018659375607967377, 0.034118179231882095, -0.007612309884279966, -0.05865764990448952, -0.001671260455623269, -0.059386786073446274, -0.067924864590168, 0.04664658382534981, -0.0066468496806919575, -0.028825698420405388, 0.02739645168185234, -0.05321181192994118, 0.001513125840574503, 0.012420128099620342, 0.03162505105137825, 0.007650843355804682, 0.023665593937039375, 0.001968933502212167, 0.025873105973005295, -0.007022275123745203, 0.030287718400359154, 0.019264589995145798, 0.043401919305324554, 0.008278800174593925, -0.07539959996938705, 0.021695824339985847, -0.005071685183793306, 0.04880203679203987, -0.007315176073461771, 0.022510964423418045, 0.026339128613471985, 0.02847074717283249, 0.012036032974720001, -0.03958216682076454, -0.02373996563255787, -0.03685205429792404, 0.03038174659013748, -0.05891761556267738, 0.020245900377631187, 0.01677771843969822, 0.044605351984500885, -0.010513917542994022, 0.013321015983819962, -0.024770518764853477, 0.018116936087608337, 0.05226903036236763, 0.010723382234573364, 0.007645361125469208, 0.06068160757422447, -0.05293695628643036, 0.0006243026000447571, -0.05551067739725113, 0.002658808371052146, 0.04708617925643921, 0.025942940264940262, 0.004295694641768932, -0.0018170910188928246, 0.003222937462851405, 0.013853807933628559, 0.01222584955394268, 0.03174843266606331, -0.0523616187274456, -0.024843953549861908, 0.005952241364866495, 0.0056421332992613316, 0.018929658457636833, -0.026730170473456383, -0.002957033459097147, -0.037115760147571564, -0.021245459094643593, -0.0332377590239048, -0.004545370116829872, 0.0068948520347476006, -0.01596764288842678, 0.025878435000777245, -0.012523816898465157, 0.015929333865642548, -0.004209753591567278, 0.00724808918312192, 0.012387952767312527, 0.022657165303826332, -0.008453870192170143, 0.043752919882535934, 0.021809585392475128, 0.014971708878874779, 0.0184951014816761, 0.032347019761800766, 0.005256080999970436, 0.002206045901402831, -0.03161018341779709, 0.006516442634165287, -0.013011123053729534, -0.0022686331067234278, 0.006284819915890694, -0.04527260363101959, -0.024004025384783745, 0.010899594984948635, -0.005664310418069363, -0.02811601758003235, 0.046174485236406326, -0.0435059517621994, -0.05279238149523735, 0.005663776304572821, 0.03197865188121796, -0.0272515956312418, -0.01971570961177349, -0.005392075981944799, -0.017031768336892128, -0.004044553730636835, 0.06509894132614136, -0.016003187745809555, -0.026802679523825645, 0.047559961676597595, 0.0022258951794356108, -0.004442700184881687, 0.07644783705472946, 0.03160807490348816, 0.014597594738006592, -0.012594926171004772, -0.005311698652803898, -0.046603161841630936, 0.0011039158562198281, 0.0024352094624191523, -0.017065979540348053, 0.0024193204008042812, -0.006496740970760584, 0.009716346859931946, -0.024478035047650337, -0.01951269805431366, 0.004816117696464062, -0.054408423602581024, -0.028688807040452957, 0.001212620409205556, 0.006323002744466066, 0.014477339573204517, 0.021146155893802643, 0.032806508243083954, -0.012168687768280506, -0.013357547111809254, -0.011285990476608276, -0.04800562933087349, 0.015107247047126293, -0.052627988159656525, 0.022204535081982613, -0.050145912915468216, -0.010496304370462894, -0.022229501977562904, 0.00940883718430996, 0.006138881668448448, 0.048343509435653687, 0.0014365034876391292, -0.017894648015499115, -0.007743942551314831, 0.028310732915997505, -0.026378309354186058, 0.000873055774718523, -0.02424362115561962, -0.048399630934000015, 0.025614487007260323, 0.03763335943222046, -0.027776308357715607, -0.00790912564843893, 0.02708585187792778, 0.027428466826677322, -0.05936617776751518, 0.010559058748185635, 0.0026742923073470592, -0.030437329784035683, 0.05913005769252777, -0.06331903487443924, 0.06177946552634239, -0.005395427346229553, -0.05647115036845207, 0.007156017702072859, -0.0077260639518499374, -0.04482397064566612, -0.043310437351465225, -0.09346291422843933, -0.03159160912036896, -0.006447628140449524, -0.0187417883425951, -0.004246193915605545, 0.00512215169146657, -0.027908656746149063, 0.031214721500873566, 0.02152266539633274, -0.06814664602279663, 0.2493460774421692, 0.05418259650468826, 0.02411973662674427, 0.04866495728492737, 0.01722363941371441, 0.022944988682866096, 0.009064128622412682, -0.0005637137801386416, 0.01530560664832592, -0.04502589628100395, -0.012593974359333515, 0.009855657815933228, 0.025862298905849457, 0.01157398708164692, 0.04316507652401924, 0.030793827027082443, -0.022029632702469826, 0.00824091024696827, 0.021601932123303413, -0.039133645594120026, -0.01573662832379341, 0.02188604697585106, -0.03888248652219772, 0.00030300140497274697, -0.009170133620500565, 0.022819429636001587, 0.04205826297402382, -0.042995721101760864, -0.003339719492942095, 0.0007682083523832262, 0.04857650771737099, 0.013022768311202526, -0.01770050823688507, 0.011826164089143276, -0.0052677481435239315, 0.019333720207214355, -0.06527946889400482, -0.021315453574061394, -0.028630686923861504, -0.021079031750559807, 0.0089262705296278, -0.03596196323633194, 0.02237347885966301, -0.05053618177771568, -0.005002474412322044, 0.06387884169816971, -0.004216628149151802, -0.01204153336584568, -0.01294995378702879, -0.039941344410181046, 0.02289978787302971, -0.02691332809627056, -0.01003939937800169, -0.037693317979574203, -0.05295655503869057, 0.0252770334482193, 0.015388069674372673, -0.006452799774706364, 0.012486777268350124, -0.007401707582175732, 0.014801247976720333, 0.010756639763712883, -0.02923600561916828, 0.02284943498671055, -0.0425412617623806, -0.023885877802968025, 0.00571001973003149, 0.006078472826629877, -0.04131920635700226, -0.029825007542967796, -0.0336170494556427, -0.013988856226205826, -0.007482650224119425, 0.018440458923578262, 0.045434433966875076, 0.023827752098441124, 0.014640851877629757, 0.02358800731599331, -0.01786934770643711, -0.020272444933652878, -0.04684207960963249, 0.011823565699160099, -0.006781129632145166, -0.011604397557675838, 0.008132033981382847, 0.02563631348311901, -0.03137575462460518, -0.01700642704963684, -0.026323437690734863, 0.020917100831866264, 0.026412803679704666, 0.02078920230269432, 0.049742307513952255, -0.0497957207262516, 0.0005667677614837885], [-0.0023723046761006117, 0.026205163449048996, 0.04402460530400276, -0.04619108885526657, -0.02518450655043125, -0.009148553013801575, 0.015960464254021645, 0.003543207189068198, 0.01850646547973156, 0.08979100733995438, 0.05720309540629387, 0.04522451013326645, -0.020582299679517746, -0.0058784703724086285, -0.022164927795529366, -0.002363867126405239, -0.02428886666893959, 0.007937503978610039, -0.04514848813414574, 0.007293259259313345, 0.0334661565721035, 0.042411841452121735, -0.09398587048053741, -0.020730815827846527, -0.03397157043218613, -0.020583445206284523, 0.033490199595689774, 0.019158435985445976, 0.040737833827733994, 0.08071358501911163, -0.024783024564385414, -0.006617866922169924, -0.03345632553100586, -0.0485980249941349, -0.016528798267245293, 0.006078880280256271, 0.016285302117466927, -0.04270515218377113, 0.014865132048726082, -0.05449722707271576, 0.032972272485494614, -0.002942794468253851, 0.0006992819253355265, -0.06514240801334381, -0.03182302415370941, -0.016164427623152733, -0.03830811008810997, -0.03995558246970177, -0.021113045513629913, -0.014984582550823689, 0.016588255763053894, 0.030681584030389786, 0.04709871485829353, -0.02415783889591694, -0.04796725884079933, 0.04699608311057091, 0.06101297214627266, 0.0005819420330226421, -0.004963747225701809, 0.04595131427049637, -0.030930088832974434, -0.013292480260133743, -0.022827457636594772, -0.05751969665288925, -0.004110272973775864, 0.0021788491867482662, -0.0032510170713067055, -0.0213686041533947, 0.04075487703084946, -0.006276939995586872, -0.0183266531676054, 0.011163813062012196, 0.00648417416960001, -0.0013658732641488314, -0.060241684317588806, 0.07755211740732193, -0.006955946795642376, 0.02114151604473591, 0.011713373474776745, -0.0206623412668705, 0.007741388399153948, 0.043370235711336136, -0.03617420047521591, 0.036144740879535675, -0.04260367900133133, 0.030610615387558937, 0.0147127415984869, 0.011865535750985146, 0.00879391934722662, 0.018509462475776672, 0.024496322497725487, 0.024185728281736374, -0.012585137039422989, 0.011471269652247429, 0.021906999871134758, -0.0007418064051307738, -0.0035256824921816587, -0.003578849835321307, -0.040503617376089096, -0.005481452215462923, 0.03224978968501091, 0.0062169707380235195, -0.013119150884449482, 0.011453207582235336, -0.0296426173299551, 0.06444329768419266, -0.014928465709090233, 0.02413131482899189, 0.007912038825452328, -0.06480273604393005, 0.03378753364086151, -0.010242670774459839, 0.03459608182311058, 0.02200983837246895, 0.020456770434975624, 0.033479269593954086, -0.013265876099467278, 7.341270247707143e-05, -0.026466306298971176, -0.028483403846621513, 0.03352929279208183, 0.051773812621831894, 0.026560036465525627, 0.034876368939876556, 0.004559531342238188, 0.01018339954316616, -0.035002000629901886, -0.03992984816431999, -0.04333053156733513, -0.018560271710157394, -0.013634867034852505, -0.03638424351811409, 0.008119035512208939, 0.015228052623569965, 0.029067106544971466, 0.04614139720797539, 0.00884719006717205, 0.025791674852371216, 0.018312299624085426, -0.03652259707450867, 0.04949527606368065, -0.03215130418539047, -0.0013728924095630646, 0.06498569250106812, -0.023480422794818878, -0.00603124313056469, -0.012828605249524117, 0.02037751115858555, 0.02054295316338539, 0.02938942238688469, -0.05400964245200157, -0.0023827191907912493, 0.007787532638758421, -0.03905528411269188, -0.0027856568340212107, -0.005847631953656673, 0.009442318230867386, 0.03374287113547325, 0.015505768358707428, 0.03172306343913078, -0.02437405474483967, -0.0498625747859478, 0.020274419337511063, 0.04184768721461296, -0.010521463118493557, 0.042852215468883514, -0.04211102053523064, -0.019257966428995132, -0.028507044538855553, -0.017827268689870834, 0.01991296373307705, 0.01654643379151821, -0.015745777636766434, -0.06197205185890198, 0.049256280064582825, 0.06232679262757301, 0.014178862795233727, -0.0678209662437439, -0.031608790159225464, 0.06135791167616844, -0.06743192672729492, -0.0023456618655472994, 0.023753391578793526, -0.0031780931167304516, 0.018716827034950256, 0.00021228777768556029, 0.002974126022309065, -0.009727660566568375, -0.05745625123381615, 0.009518633596599102, -0.008519092574715614, 0.011947110295295715, 0.01656515710055828, 0.03902231901884079, -0.05846911296248436, 0.006205955054610968, -0.030876468867063522, 0.0015630049165338278, -0.044515009969472885, -0.042382579296827316, 0.0013585344422608614, -0.013195144012570381, -0.03671673312783241, -0.012250607833266258, -0.05240362882614136, 0.009229463525116444, 0.0657147467136383, 0.06203855201601982, -0.040327586233615875, 0.017740152776241302, 0.043226052075624466, 0.03334386274218559, -0.05883060768246651, 0.016730427742004395, -0.014724964275956154, 0.0321301594376564, -0.0107351653277874, 0.03866153582930565, -0.028163043782114983, 0.006549021694809198, 0.05245564877986908, 0.051949307322502136, -0.004576347302645445, 0.024665988981723785, 0.04194212704896927, -0.05517425015568733, 0.022100035101175308, 0.054592713713645935, -0.01973673887550831, 0.02919336035847664, -0.019511111080646515, 0.01148993894457817, 0.009691007435321808, 0.012597279623150826, 0.01556689664721489, 0.03197018429636955, 0.041742097586393356, 0.03406444936990738, -0.020374257117509842, 0.03099377453327179, 0.01588292047381401, 0.029279636219143867, 0.02912498079240322, -0.010116342455148697, 0.0018938399152830243, 0.04730938747525215, 0.03809000924229622, 0.016004333272576332, -0.010166630148887634, 0.021244386211037636, 0.04255172610282898, 0.053616322576999664, 0.012695906683802605, 0.029939590021967888, -0.03528974577784538, -0.0019339597783982754, 0.009705943986773491, 0.029386820271611214, -0.03124374710023403, -0.045759741216897964, 0.04395264759659767, -0.018956730142235756, -0.030101081356406212, -0.020305171608924866, 0.00735491281375289, 0.01733129844069481, 0.011801536194980145, -0.02775852009654045, -0.021998396143317223, -0.06756281107664108, -0.029687469825148582, -0.043941207230091095, -0.06523551791906357, -0.0168081596493721, -0.040902163833379745, -0.03343060240149498, 0.004134824499487877, -0.004667080007493496, 0.018423225730657578, -0.015851221978664398, -0.01500567328184843, -0.02957949973642826, -0.059998903423547745, -0.03663589432835579, 0.036024387925863266, 0.01656893454492092, -0.01599959284067154, 0.01316289883106947, -0.005345161538571119, 0.05447632074356079, -0.03954937681555748, -0.0384264774620533, 0.005965712480247021, -0.01536878664046526, 0.023648109287023544, -0.0052103870548307896, 0.054372046142816544, 0.008975839242339134, 0.012580851092934608, -0.04792937636375427, 0.00036098770215176046, 0.007972990162670612, -0.062257785350084305, 0.04087253659963608, 0.0009109936654567719, -0.003216459648683667, 0.0057634757831692696, -0.0011823790846392512, 0.01080337818711996, -0.013357382267713547, -0.017959684133529663, 0.02497064508497715, 0.007076622918248177, -0.03429136425256729, -0.04039701446890831, 0.03424520418047905, -0.003345800330862403, -0.008487949147820473, -0.0215784702450037, -0.013875243254005909, -0.010897920466959476, -0.002682758728042245, -0.00292678689584136, -0.008673007600009441, -0.016285069286823273, 0.03324638307094574, 0.04158221185207367, -0.05481346696615219, 0.02297188714146614, -0.043879132717847824, -0.08940618485212326, 0.017117638140916824, -0.007341915275901556, 0.012069943360984325, -0.01595529168844223, 0.0011827705893665552, -0.024953586980700493, 0.0076460768468678, 0.029105596244335175, 0.011976978741586208, 0.0014060457469895482, -0.042944591492414474, -0.023769177496433258, -0.018506016582250595, 0.024757420644164085, -0.007162026129662991, -0.019005870446562767, -0.007519225124269724, -0.027827803045511246, 0.01686764508485794, -0.01617009937763214, -0.002998518757522106, -0.027038002386689186, 0.008578531444072723, 0.018019091337919235, 0.03467268869280815, -0.03025973029434681, 0.002857201499864459, 0.003242315026000142, 0.02671496570110321, 0.05538344010710716, -0.02907986007630825, -0.019217420369386673, -0.08231247961521149, 0.013468503952026367, -0.017286473885178566, 0.0006718691438436508, 0.029211940243840218, 0.03601393103599548, 0.020835669711232185, 0.05304373800754547, 0.008824006654322147, -0.014061219990253448, -0.02719406969845295, -0.03892778605222702, 0.0231782253831625, 0.09432504326105118, 0.016776785254478455, 0.03927306830883026, -0.03280217573046684, 0.00450245151296258, -0.02558787353336811, 0.006692929659038782, 0.011061988770961761, 0.02049272321164608, 0.02241015061736107, -0.011724360287189484, -0.025133980438113213, -0.05808958038687706, -0.07381151616573334, 0.009373925626277924, -0.022125978022813797, -0.00832665991038084, -0.04576648399233818, -0.04518498107790947, -0.0643853023648262, 0.0006862395675852895, -0.04125938192009926, -0.004230055958032608, -0.009053973481059074, 0.014717423357069492, -0.01867411658167839, -0.013296322897076607, 0.007968832738697529, -0.007577159442007542, -0.02324008382856846, -0.0029375129379332066, 0.04296722263097763, 0.014548339881002903, 0.0005295268492773175, -0.04670286551117897, -0.0014311037957668304, 0.007365595083683729, -0.007491348776966333, 0.024914950132369995, 0.029892094433307648, -0.04972611367702484, 0.004300377331674099, -0.006689713802188635, -0.011138382367789745, -0.00784212350845337, -0.025729646906256676, 0.010673612356185913, 0.01987050287425518, 0.040807634592056274, -0.05898210406303406, -0.006915995851159096, -0.06024904176592827, 0.019680248573422432, 0.03775812312960625, 0.025446666404604912, -0.011613885872066021, 0.004501652903854847, 0.022673675790429115, -0.037184782326221466, 0.005128944758325815, 0.06971051543951035, 0.03175637125968933, 0.017734039574861526, -0.041040290147066116, 0.02565772831439972, 0.019122295081615448, 0.017748326063156128, 0.0066808173432946205, 0.01987724006175995, 0.008115540258586407, -0.012294969521462917, 0.019328180700540543, 0.0023898950312286615, -0.009746909141540527, 0.0732826441526413, -0.018608348444104195, 0.0769803524017334, -0.019616510719060898, -0.024496931582689285, 7.747795461909845e-05, 0.0006140010664239526, -0.0511564165353775, 0.016272494569420815, -0.026723116636276245, 0.021039020270109177, 0.01572354882955551, 0.010440011508762836, -0.0007218490354716778, -0.026524854823946953, 0.05028030276298523, -0.016154151409864426, 0.04226864129304886, 0.04472501203417778, -0.007261360064148903, -0.01816749945282936, 0.026980772614479065, 0.03503106161952019, -0.01599067449569702, 0.0048201484605669975, -0.03621118143200874, -0.031388215720653534, -0.06046013534069061, -0.014850188978016376, 0.016913026571273804, -0.008486135862767696, 0.002296596998348832, -0.010083095170557499, -0.011726445518434048, 0.041273411363363266, -0.02285127155482769, -0.015748795121908188, -0.021421054378151894, -0.007366827689111233, 0.007993611507117748, -0.022752447053790092, -0.014176668599247932, -0.04295685887336731, -0.08250956237316132, -0.0009516875725239515, -0.027882419526576996, -0.024845479056239128, 0.012951263226568699, -0.0010796025162562728, 0.04250344634056091, -0.0016617759829387069, -0.012597698718309402, -0.036386944353580475, 0.01832066848874092, -0.007036774419248104, 0.023668197914958, -0.011867893859744072, -0.006017210893332958, -0.02715921960771084, -0.004137617535889149, -0.024387406185269356, -0.008961265906691551, 0.041217513382434845, 0.015259395353496075, -0.009054021909832954, 0.04437563940882683, -0.00244073080830276, 0.028898725286126137, -0.031592413783073425, 0.06634864211082458, 0.03825977072119713, -0.058426689356565475, -0.03994869440793991, -0.006923846434801817, -0.0069017899222671986, 0.004579603672027588, 0.006399659905582666, -0.015945754945278168, -0.011128904297947884, -0.009199639782309532, 0.03656703233718872, -0.053463131189346313, -0.02027488872408867, -0.02694718725979328, -0.01808609999716282, 0.006835351698100567, 0.005776607897132635, -0.019066892564296722, -0.005186205264180899, -0.04221123456954956, -0.07419076561927795, 0.022696249186992645, -0.002043662127107382, 0.01561448723077774, -0.01713796891272068, -0.014534018002450466, 0.019872667267918587, 0.08818969130516052, -0.032169729471206665, -0.033064790070056915, 0.011641692370176315, 0.005233979783952236, 0.041867561638355255, 0.01707286201417446, -0.01899239793419838, -0.019354192540049553, 0.012058916501700878, -0.019625328481197357, 0.012718848884105682, 0.004028321709483862, 0.028929442167282104, 0.05292226001620293, -0.022467609494924545, 0.017090637236833572, 0.01117008551955223, 0.04087892174720764, 0.0064145405776798725, 0.017409944906830788, 0.012889144942164421, -0.040328580886125565, -0.048344045877456665, 0.010976525954902172, 0.021421125158667564, 0.02837236225605011, -0.008485134690999985, -0.03962321579456329, -0.057209234684705734, 0.005542350467294455, -0.0617830827832222, -0.03100588172674179, 0.012880777940154076, 0.008002027869224548, 0.0030224104411900043, -0.09282020479440689, 0.03499700501561165, -0.0316268689930439, 0.04076762869954109, 0.053128477185964584, 0.09099026769399643, 0.036773957312107086, -0.011405742727220058, 0.048745669424533844, 0.07411439716815948, -0.014341137371957302, 0.008046960458159447, -0.03439011797308922, -0.0035549316089600325, -0.024274533614516258, 0.004130858927965164, -0.03091953694820404, -0.03060959093272686, 0.03066195920109749, 0.023796968162059784, 0.009314202703535557, 0.04878783971071243, 0.003863370278850198, -0.051602285355329514, -0.005765673704445362, 0.06654178351163864, 0.03917825594544411, 0.06349965929985046, 0.08729589730501175, 0.0002488656609784812, -0.01864069700241089, 0.06513378024101257, -0.006940028164535761, -0.02480182610452175, 0.01197901926934719, 0.06925629079341888, -0.043805621564388275, -0.019261252135038376, 0.008969617076218128, 0.00026189355412498116, -0.035876017063856125, -0.024196060374379158, 0.014163568615913391, 0.037847474217414856, 0.0032355720177292824, -0.027442405000329018, 0.011447830125689507, 0.0024669277481734753, -0.010678227059543133, 0.016380945220589638, 0.012054800987243652, -0.03298904001712799, 0.033120639622211456, 0.008433320559561253, -0.017575843259692192, -0.018465455621480942, 0.01985708624124527, 0.046037882566452026, 0.0014276830479502678, 0.010517808608710766, -0.025006012991070747, -0.012132814154028893, -0.010113123804330826, -0.04849626123905182, -0.013074947521090508, -0.010629279538989067, 0.012010992504656315, 0.006076320074498653, 0.015445447526872158, 0.032392073422670364, 0.009754206985235214, 0.0030726452823728323, 0.05212599039077759, -0.007368053309619427, -0.04822928458452225, -0.02169746533036232, -0.006715445779263973, 0.03776610270142555, -0.008845429867506027, -0.019152646884322166, 0.011380970478057861, 0.02203863114118576, 0.02563779056072235, -0.04168906435370445, -0.002482317853718996, -0.00975739024579525, -0.05056707561016083, -0.03857240080833435, -0.05029487609863281, -0.009471466764807701, 0.011934543028473854, 0.058367449790239334, 0.007249078713357449, -0.05390135571360588, 0.0457693450152874, 0.009293770417571068, -0.005043425597250462, 0.015771789476275444, -0.03970940038561821, -0.005495923571288586, -0.026602696627378464, -0.0272288266569376, -0.0724882185459137, -0.02105235494673252, -0.02158498205244541, 0.02977004274725914, -0.0014210271183401346, -0.038650963455438614, 0.009186913259327412, -0.006661812774837017, -0.017102232202887535, 0.0052754818461835384, -0.004262178670614958, -0.009480864740908146, 0.06677073240280151, 0.05760331451892853, 0.03548511862754822, 0.018050367012619972, 0.03194970265030861, 0.008563622832298279, 0.007811868097633123, -0.015489756129682064, -0.0071845403872430325, -0.00023645663168281317, 0.016717324033379555, 0.06535880267620087, -0.013783133588731289, 0.021520519629120827, -0.0017364607192575932, -0.0060572875663638115, -0.06479229778051376, 0.03410777822136879, 0.010464299470186234, 0.07477355748414993, -0.00010580029629636556, -0.02443581074476242, 0.06498635560274124, 0.04923124611377716, 0.060459572821855545, 0.018834425136446953, -0.02913704700767994, 0.009308261796832085, -0.007807382848113775, -0.0012798294192180037, -0.021538184955716133, -0.014398961327970028, 0.040458571165800095, 0.0030639152973890305, 0.008653049357235432, -0.008884782902896404, 0.01654418744146824, 0.037987612187862396, 0.016188666224479675, -0.029201699420809746, -0.009878048673272133, -0.021341264247894287, -0.02234671264886856, 0.006348347757011652, -0.00999295525252819, -0.009684869088232517, 0.0159379281103611, -0.010852468200027943, -0.04282546043395996, 0.01794394664466381, -0.0626220703125, -0.026353850960731506, 0.026505472138524055, -0.01289290376007557, -0.0202653668820858, 0.0041855438612401485, -0.0371922142803669, -0.0012060391018167138, -0.05736985057592392, 0.025696486234664917, 0.02580653689801693, -0.027297087013721466, 0.016207415610551834, 0.021921705454587936, -0.02673397585749626, 0.017073456197977066, 0.016803372651338577, 0.04096689447760582, -0.027915319427847862, -0.046772029250860214, 0.025060784071683884, 0.0015079887816682458, -0.010868275538086891, -0.025836044922471046, -0.008082430809736252, 0.03900572285056114, 0.04126567393541336, 0.02760804258286953, -0.006480785086750984, -0.01367625780403614, -0.039722900837659836, -0.009833453223109245, -0.011651723645627499, 0.011270729824900627, -0.02190817892551422, 0.05582483485341072, -0.04794401302933693, 0.0015685457037761807, -0.0062586646527051926, 0.03165041282773018, 0.021484479308128357, -0.0351276770234108, 0.0016330290818586946, 0.031231801956892014, 0.019336184486746788, 0.012437460944056511, -0.05296121910214424, -0.019582144916057587, 0.027786782011389732, 0.05299948900938034, 0.001308753271587193, 0.0025049191899597645, -0.01918131858110428, 0.02297193557024002, -0.01715627871453762, -0.01988396793603897, -0.017072336748242378, -0.03207472339272499, 0.06278134137392044, 0.025116335600614548, -0.014349318109452724, -0.02076023817062378, 0.04136721044778824, -0.01761600375175476, -0.019087275490164757, -0.01019277237355709, 0.01769099198281765, -0.01996571570634842, 0.01536505576223135, 0.03988928720355034, -0.09631862491369247, 0.02855311520397663, -0.019370395690202713, -0.027453588321805, 0.04004510119557381, -0.0016269151819869876, 0.017846351489424706, 0.0034428900107741356, 0.04215746000409126, 0.011892708949744701, -0.018093280494213104, 0.013290489092469215, -0.01874869503080845, 0.02786821499466896, -0.024058688431978226, -0.008778105489909649, 0.00948837399482727, -0.013314932584762573, -0.026933100074529648, -0.05444233864545822, -0.01472148485481739, -0.0019404817139729857, -0.0028250315226614475, 0.011284314095973969, 0.00374299893155694, -0.00905542355030775, -0.015293548814952374, 0.0009098241571336985, 0.07453276962041855, 0.007023433223366737, -0.015075666829943657, -0.0213845856487751, 0.002477788832038641, -0.04005178436636925, 0.026865020394325256, -0.004660055506974459, 0.002616625279188156, -0.0031915553845465183, 0.038253284990787506, 0.037684496492147446, 0.05207310616970062, 0.03964913636445999, -0.018737129867076874, -0.010615858249366283, 0.004326925612986088, -0.05252769589424133, -0.017887769266963005, -0.005473775323480368, -0.015019492246210575, 0.015233082696795464, -0.030760452151298523, 0.007699278183281422, -0.03548057749867439, -0.02578418143093586, 0.022202422842383385, 0.010081897489726543, 0.02287972718477249, 0.008944978937506676, -0.041831448674201965, -0.008883519098162651, 0.024672655388712883, 0.03804653510451317, 0.019678005948662758, 0.04753592237830162, -0.02186422608792782, -0.044241391122341156, 0.04275147616863251, -0.04795435443520546, 0.004276454448699951, -0.027486884966492653, 0.007836046628654003, -0.0296065304428339, 0.014119881205260754, -0.007785231806337833, 0.02750387415289879, 0.027303116396069527, -0.04239211231470108, 0.049638986587524414, 0.040793146938085556, -0.025936443358659744, 0.021803833544254303, 0.0043584625236690044, -0.016475515440106392, 0.009333928115665913, 0.043876077979803085, 0.006387661211192608, 0.0234458576887846, 0.0072992341592907906, 0.0016925777308642864, -0.02277468331158161, -0.04268639534711838, -0.01077518705278635, -0.0032597219105809927, 0.0040533654391765594, -0.0030069188214838505, -0.0018653938313946128, -0.021849876269698143, -0.0614001639187336, 0.001569317770190537, -0.001345431781373918, 0.00045617271098308265, 0.008719266392290592, 0.006945996545255184, -0.0031218307558447123, -0.021556954830884933, 0.003270338289439678, -0.07701905816793442, 0.0003457909042481333, -0.011364482343196869, 0.00877805333584547, 0.007703177165240049, -0.06423026323318481, 0.1829673796892166, 0.03942602872848511, 0.032153818756341934, -0.011403422802686691, 0.03301480412483215, 0.029234571382403374, -0.03272295743227005, 0.012371092103421688, -0.06566905975341797, -0.03358713537454605, 0.051709841936826706, -0.010675898753106594, -0.030359091237187386, -0.007277260534465313, 0.018781425431370735, 0.020262444391846657, 0.004611401353031397, -0.005024784244596958, 0.01995719037950039, -0.03120771422982216, -0.040803760290145874, 0.0435481071472168, -0.014331487938761711, -0.007787927519530058, -0.005497089121490717, -0.013114705681800842, 0.02714531309902668, -0.06376346945762634, 0.012888852506875992, -0.0022513645235449076, -0.020550793036818504, -0.00194452831055969, 0.032988596707582474, 0.014196914620697498, -0.0054074851796031, 0.02242267318069935, -0.003181777661666274, -0.009991676546633244, -0.03438844904303551, -0.0032019291538745165, 0.03802522271871567, -0.018739424645900726, -0.013819104991853237, -0.012537289410829544, -0.002716494258493185, 0.02981286309659481, -0.007552668452262878, -0.013761335983872414, -0.034559909254312515, -0.05031870678067207, 0.05465376749634743, -0.04269443452358246, 0.007845340296626091, -0.037594325840473175, -0.05692211166024208, 0.0273226797580719, 0.018811669200658798, 0.011834749951958656, 0.029841940850019455, 0.006119289435446262, 0.006319837644696236, 0.029413603246212006, -0.017098626121878624, -0.013458842411637306, -0.021937236189842224, 0.0016369245713576674, -0.016023412346839905, -0.014268996194005013, -0.03233940899372101, 0.0451882928609848, -0.010201696306467056, -0.06086694449186325, -0.0463835708796978, 0.007943098433315754, 0.04351207613945007, 0.015513109043240547, -0.03737746179103851, 0.013499172404408455, -0.01320075523108244, -0.00640894565731287, -0.0077588181011378765, -0.022724222391843796, 0.031722210347652435, -0.007143434602767229, 0.02819005399942398, 0.03623538464307785, -0.0043570417910814285, 0.014298570342361927, 0.010166785679757595, -0.009156904183328152, 0.007252363953739405, 0.051221322268247604, -0.01726205088198185, -0.03745915740728378, -0.017879214137792587]]]\n"
     ]
    }
   ],
   "source": [
    "import requests\n",
    "from threading import Thread\n",
    "import time, json\n",
    "from copy import deepcopy\n",
    "\n",
    "prompts_embeddings = [\n",
    "    [\n",
    "        \"What is the square root of 169?\",\n",
    "        \"What is the derivative of sin(cos(x))?\",\n",
    "    ], [\n",
    "        \"What is the square root of 169?\",\n",
    "        \"What is the derivative of sin(cos(x))?\",\n",
    "        \"What is the square root of 169?\",\n",
    "        \"What is the derivative of sin(cos(x))?\",\n",
    "    ]\n",
    "]\n",
    "\n",
    "def get_response_embeddings(prompt_input):\n",
    "    time_start = time.time()\n",
    "    input = deepcopy(USER_ARGS_1)\n",
    "    input.update({\n",
    "        \"inputs\": prompt_input\n",
    "    })\n",
    "    \n",
    "    response = requests.get(f\"http://localhost:8000/api/embedding\", json=input)\n",
    "    response.raise_for_status()\n",
    "    \n",
    "    response_value = response.json()\n",
    "    response_value = response_value[\"result\"]\n",
    "    time_end = time.time()\n",
    "    time_taken = time_end - time_start\n",
    "    print(response_value)\n",
    "    \n",
    "    print(\"FINISHED RESPONSE in %5.2fs:\" % (time_taken), [prompt_input, len(response_value), len(response_value[0]), response_value])\n",
    "\n",
    "for p in prompts_embeddings:\n",
    "    # time.sleep(0.5)\n",
    "    Thread(target=get_response_embeddings, args=(p,)).start()"
   ]
  },
  {
   "cell_type": "markdown",
   "metadata": {},
   "source": [
    "# Toolchains"
   ]
  },
  {
   "cell_type": "markdown",
   "metadata": {},
   "source": [
    "### ✅ `get_available_toolchains`"
   ]
  },
  {
   "cell_type": "code",
   "execution_count": null,
   "metadata": {},
   "outputs": [
    {
     "name": "stdout",
     "output_type": "stream",
     "text": [
      "{\n",
      "    \"success\": true,\n",
      "    \"result\": {\n",
      "        \"toolchains\": [\n",
      "            {\n",
      "                \"category\": \"Test\",\n",
      "                \"entries\": [\n",
      "                    {\n",
      "                        \"title\": \"File Upload Test\",\n",
      "                        \"id\": \"test_file_upload\",\n",
      "                        \"category\": \"Test\"\n",
      "                    },\n",
      "                    {\n",
      "                        \"title\": \"Iteration Test\",\n",
      "                        \"id\": \"iterable_test\",\n",
      "                        \"category\": \"Test\"\n",
      "                    },\n",
      "                    {\n",
      "                        \"title\": \"Static Chat Test\",\n",
      "                        \"id\": \"test_chat_session_normal\",\n",
      "                        \"category\": \"Test\"\n",
      "                    },\n",
      "                    {\n",
      "                        \"title\": \"Streaming Chat Test\",\n",
      "                        \"id\": \"test_chat_session_normal_streaming\",\n",
      "                        \"category\": \"Test\"\n",
      "                    }\n",
      "                ]\n",
      "            }\n",
      "        ],\n",
      "        \"default\": null\n",
      "    }\n",
      "}\n"
     ]
    }
   ],
   "source": [
    "import requests, json\n",
    "from copy import deepcopy\n",
    "\n",
    "input = deepcopy(USER_ARGS_1)\n",
    "\n",
    "response = requests.get(\"http://localhost:8000/api/get_available_toolchains\", json=input)\n",
    "response.raise_for_status()\n",
    "\n",
    "result = response.json()\n",
    "\n",
    "print(json.dumps(result, indent=4))\n",
    "assert not (\"success\" in result and result[\"success\"] == False), result[\"note\"]"
   ]
  },
  {
   "cell_type": "markdown",
   "metadata": {},
   "source": [
    "### ✅ `fetch_toolchain_sessions`"
   ]
  },
  {
   "cell_type": "code",
   "execution_count": null,
   "metadata": {},
   "outputs": [
    {
     "name": "stdout",
     "output_type": "stream",
     "text": [
      "{\n",
      "    \"success\": false,\n",
      "    \"error\": \"(psycopg2.errors.InFailedSqlTransaction) current transaction is aborted, commands ignored until end of transaction block\\n\\n[SQL: SELECT \\\"user\\\".id, \\\"user\\\".name, \\\"user\\\".email, \\\"user\\\".password_hash, \\\"user\\\".password_salt, \\\"user\\\".creation_timestamp, \\\"user\\\".is_admin, \\\"user\\\".public_key, \\\"user\\\".private_key_encryption_salt, \\\"user\\\".private_key_secured, \\\"user\\\".serp_api_key_encrypted, \\\"user\\\".openai_api_key_encrypted \\nFROM \\\"user\\\" \\nWHERE \\\"user\\\".name = %(name_1)s]\\n[parameters: {'name_1': 'c0070956-3559-4c4e-86c1-6ba8a869'}]\\n(Background on this error at: https://sqlalche.me/e/20/2j85)\",\n",
      "    \"trace\": \"Traceback (most recent call last):\\n  File \\\"/home/kyle_m/miniconda3/envs/QL_3/lib/python3.10/site-packages/sqlalchemy/engine/base.py\\\", line 1969, in _exec_single_context\\n    self.dialect.do_execute(\\n  File \\\"/home/kyle_m/miniconda3/envs/QL_3/lib/python3.10/site-packages/sqlalchemy/engine/default.py\\\", line 922, in do_execute\\n    cursor.execute(statement, parameters)\\npsycopg2.errors.InFailedSqlTransaction: current transaction is aborted, commands ignored until end of transaction block\\n\\n\\nThe above exception was the direct cause of the following exception:\\n\\nTraceback (most recent call last):\\n  File \\\"/home/kyle_m/QueryLake_Development/QueryLakeBackend/./server.py\\\", line 420, in api_general_call\\n    args_get = function_actual(**true_args)\\n  File \\\"/home/kyle_m/QueryLake_Development/QueryLakeBackend/QueryLake/api/toolchains.py\\\", line 186, in fetch_toolchain_sessions\\n    user_retrieved : getUserType  = get_user(database, auth)\\n  File \\\"/home/kyle_m/QueryLake_Development/QueryLakeBackend/QueryLake/api/single_user_auth.py\\\", line 32, in get_user\\n    retrieved = database.exec(statement).all()\\n  File \\\"/home/kyle_m/miniconda3/envs/QL_3/lib/python3.10/site-packages/sqlmodel/orm/session.py\\\", line 68, in exec\\n    results = super().execute(\\n  File \\\"/home/kyle_m/miniconda3/envs/QL_3/lib/python3.10/site-packages/sqlalchemy/orm/session.py\\\", line 2308, in execute\\n    return self._execute_internal(\\n  File \\\"/home/kyle_m/miniconda3/envs/QL_3/lib/python3.10/site-packages/sqlalchemy/orm/session.py\\\", line 2190, in _execute_internal\\n    result: Result[Any] = compile_state_cls.orm_execute_statement(\\n  File \\\"/home/kyle_m/miniconda3/envs/QL_3/lib/python3.10/site-packages/sqlalchemy/orm/context.py\\\", line 293, in orm_execute_statement\\n    result = conn.execute(\\n  File \\\"/home/kyle_m/miniconda3/envs/QL_3/lib/python3.10/site-packages/sqlalchemy/engine/base.py\\\", line 1416, in execute\\n    return meth(\\n  File \\\"/home/kyle_m/miniconda3/envs/QL_3/lib/python3.10/site-packages/sqlalchemy/sql/elements.py\\\", line 517, in _execute_on_connection\\n    return connection._execute_clauseelement(\\n  File \\\"/home/kyle_m/miniconda3/envs/QL_3/lib/python3.10/site-packages/sqlalchemy/engine/base.py\\\", line 1639, in _execute_clauseelement\\n    ret = self._execute_context(\\n  File \\\"/home/kyle_m/miniconda3/envs/QL_3/lib/python3.10/site-packages/sqlalchemy/engine/base.py\\\", line 1848, in _execute_context\\n    return self._exec_single_context(\\n  File \\\"/home/kyle_m/miniconda3/envs/QL_3/lib/python3.10/site-packages/sqlalchemy/engine/base.py\\\", line 1988, in _exec_single_context\\n    self._handle_dbapi_exception(\\n  File \\\"/home/kyle_m/miniconda3/envs/QL_3/lib/python3.10/site-packages/sqlalchemy/engine/base.py\\\", line 2344, in _handle_dbapi_exception\\n    raise sqlalchemy_exception.with_traceback(exc_info[2]) from e\\n  File \\\"/home/kyle_m/miniconda3/envs/QL_3/lib/python3.10/site-packages/sqlalchemy/engine/base.py\\\", line 1969, in _exec_single_context\\n    self.dialect.do_execute(\\n  File \\\"/home/kyle_m/miniconda3/envs/QL_3/lib/python3.10/site-packages/sqlalchemy/engine/default.py\\\", line 922, in do_execute\\n    cursor.execute(statement, parameters)\\nsqlalchemy.exc.InternalError: (psycopg2.errors.InFailedSqlTransaction) current transaction is aborted, commands ignored until end of transaction block\\n\\n[SQL: SELECT \\\"user\\\".id, \\\"user\\\".name, \\\"user\\\".email, \\\"user\\\".password_hash, \\\"user\\\".password_salt, \\\"user\\\".creation_timestamp, \\\"user\\\".is_admin, \\\"user\\\".public_key, \\\"user\\\".private_key_encryption_salt, \\\"user\\\".private_key_secured, \\\"user\\\".serp_api_key_encrypted, \\\"user\\\".openai_api_key_encrypted \\nFROM \\\"user\\\" \\nWHERE \\\"user\\\".name = %(name_1)s]\\n[parameters: {'name_1': 'c0070956-3559-4c4e-86c1-6ba8a869'}]\\n(Background on this error at: https://sqlalche.me/e/20/2j85)\\n\"\n",
      "}\n"
     ]
    },
    {
     "ename": "AssertionError",
     "evalue": "(psycopg2.errors.InFailedSqlTransaction) current transaction is aborted, commands ignored until end of transaction block\n\n[SQL: SELECT \"user\".id, \"user\".name, \"user\".email, \"user\".password_hash, \"user\".password_salt, \"user\".creation_timestamp, \"user\".is_admin, \"user\".public_key, \"user\".private_key_encryption_salt, \"user\".private_key_secured, \"user\".serp_api_key_encrypted, \"user\".openai_api_key_encrypted \nFROM \"user\" \nWHERE \"user\".name = %(name_1)s]\n[parameters: {'name_1': 'c0070956-3559-4c4e-86c1-6ba8a869'}]\n(Background on this error at: https://sqlalche.me/e/20/2j85)",
     "output_type": "error",
     "traceback": [
      "\u001b[0;31m---------------------------------------------------------------------------\u001b[0m",
      "\u001b[0;31mAssertionError\u001b[0m                            Traceback (most recent call last)",
      "Cell \u001b[0;32mIn[51], line 12\u001b[0m\n\u001b[1;32m      9\u001b[0m result \u001b[38;5;241m=\u001b[39m response\u001b[38;5;241m.\u001b[39mjson()\n\u001b[1;32m     11\u001b[0m \u001b[38;5;28mprint\u001b[39m(json\u001b[38;5;241m.\u001b[39mdumps(result, indent\u001b[38;5;241m=\u001b[39m\u001b[38;5;241m4\u001b[39m))\n\u001b[0;32m---> 12\u001b[0m \u001b[38;5;28;01massert\u001b[39;00m \u001b[38;5;129;01mnot\u001b[39;00m (\u001b[38;5;124m\"\u001b[39m\u001b[38;5;124msuccess\u001b[39m\u001b[38;5;124m\"\u001b[39m \u001b[38;5;129;01min\u001b[39;00m result \u001b[38;5;129;01mand\u001b[39;00m result[\u001b[38;5;124m\"\u001b[39m\u001b[38;5;124msuccess\u001b[39m\u001b[38;5;124m\"\u001b[39m] \u001b[38;5;241m==\u001b[39m \u001b[38;5;28;01mFalse\u001b[39;00m), result[\u001b[38;5;124m\"\u001b[39m\u001b[38;5;124merror\u001b[39m\u001b[38;5;124m\"\u001b[39m]\n",
      "\u001b[0;31mAssertionError\u001b[0m: (psycopg2.errors.InFailedSqlTransaction) current transaction is aborted, commands ignored until end of transaction block\n\n[SQL: SELECT \"user\".id, \"user\".name, \"user\".email, \"user\".password_hash, \"user\".password_salt, \"user\".creation_timestamp, \"user\".is_admin, \"user\".public_key, \"user\".private_key_encryption_salt, \"user\".private_key_secured, \"user\".serp_api_key_encrypted, \"user\".openai_api_key_encrypted \nFROM \"user\" \nWHERE \"user\".name = %(name_1)s]\n[parameters: {'name_1': 'c0070956-3559-4c4e-86c1-6ba8a869'}]\n(Background on this error at: https://sqlalche.me/e/20/2j85)"
     ]
    }
   ],
   "source": [
    "import requests, json\n",
    "from copy import deepcopy\n",
    "\n",
    "input = deepcopy(USER_ARGS_1)\n",
    "\n",
    "response = requests.get(\"http://localhost:8000/api/fetch_toolchain_sessions\", json=input)\n",
    "response.raise_for_status()\n",
    "\n",
    "result = response.json()\n",
    "\n",
    "print(json.dumps(result, indent=4))\n",
    "assert not (\"success\" in result and result[\"success\"] == False), result[\"error\"]"
   ]
  },
  {
   "cell_type": "markdown",
   "metadata": {},
   "source": [
    "### ✅ Toolchain Static"
   ]
  },
  {
   "cell_type": "code",
   "execution_count": null,
   "metadata": {},
   "outputs": [
    {
     "name": "stdout",
     "output_type": "stream",
     "text": [
      "\n",
      "\n",
      "\n",
      "RESULT 1\n",
      "{\n",
      "    \"success\": true,\n",
      "    \"toolchain_session_id\": \"e143852a4c389aee4b13574848e44d94aa3f7f05ea5afdda02f2963499b29dbc\",\n",
      "    \"state\": {\n",
      "        \"title\": \"Chat\",\n",
      "        \"chat_history\": []\n",
      "    }\n",
      "}\n",
      "\n",
      "\n",
      "\n",
      "RESULT 2\n",
      "{}\n",
      "\n",
      "\n",
      "\n",
      "RESULT 3\n",
      "{}\n",
      "\n",
      "\n",
      "\n",
      "RESULT 4\n",
      "{}\n",
      "\n",
      "\n",
      "FINAL TOOLCHAIN STATE\n",
      "{\n",
      "    \"title\": \"Chat\",\n",
      "    \"chat_history\": [\n",
      "        {\n",
      "            \"role\": \"user\",\n",
      "            \"content\": \"What is the Riemann-Roch theorem?\"\n",
      "        },\n",
      "        {\n",
      "            \"role\": \"assistant\",\n",
      "            \"content\": \"The [Riemann-Roch Theorem](https://en.wikipedia.org/wiki/Riemann%E2%80%93Roch_theorem) is a statement about the distribution of zeros of certain types of analytical functions on the complex plane. It relates the number of zeros of such functions to their genus (a measure of how \\\"curved\\\" they are). The theorem has important applications in number theory and algebraic geometry.\"\n",
      "        },\n",
      "        {\n",
      "            \"role\": \"user\",\n",
      "            \"content\": \"Who are the two people the Riemann-Roch Theorem is named after?\"\n",
      "        },\n",
      "        {\n",
      "            \"role\": \"assistant\",\n",
      "            \"content\": \"The Riemann-Roch Theorem is named after German mathematicians Bernhard Riemann and Niels Henrik Abel. Riemann made significant contributions to many areas of mathematics, including analysis, topology, and number theory. Abel was also a prominent mathematician who made important contributions to several fields, including algebra, geometry, and analysis.<|im_end|>\"\n",
      "        },\n",
      "        {\n",
      "            \"role\": \"user\",\n",
      "            \"content\": \"You're wrong. It was named after Gustav Roch.\"\n",
      "        },\n",
      "        {\n",
      "            \"role\": \"assistant\",\n",
      "            \"content\": \"I apologize for the mistake. You are correct that the Riemann-Roch Theorem is named after Gustav Roch. Roch was a German mathematician who made important contributions to several areas of mathematics, including algebraic geometry and number theory. Thank you for bringing this to my attention.<|im_end|>\"\n",
      "        }\n",
      "    ]\n",
      "}\n"
     ]
    }
   ],
   "source": [
    "from websockets.sync.client import connect, Connection\n",
    "from copy import deepcopy\n",
    "import time\n",
    "from typing import List, Union, Any\n",
    "from toolchain_efficient_receiver import wait_for_command_finish\n",
    "\n",
    "model_params_static = {\n",
    "    \"model_choice\": \"mistral-7b-instruct-v0.1\",\n",
    "    \"max_tokens\": 1000, \n",
    "    \"temperature\": 0.1, \n",
    "    \"top_p\": 0.1, \n",
    "    \"repetition_penalty\": 1.15,\n",
    "    \"stop\": [\"<|im_end|>\"],\n",
    "    \"include_stop_str_in_output\": True\n",
    "}\n",
    "\n",
    "toolchain_id = \"test_chat_session_normal\"\n",
    "\n",
    "# Append, update, delete. In that order.\n",
    "WS_STATE_GLOBAL = {}\n",
    "\n",
    "with connect(\"ws://localhost:8000/toolchain\") as websocket:\n",
    "    \n",
    "    input = deepcopy(USER_ARGS_1)\n",
    "    input.update({\n",
    "        \"command\" : \"toolchain/create\",\n",
    "        \"arguments\": {\n",
    "            \"toolchain_id\": toolchain_id\n",
    "        }\n",
    "    })\n",
    "    \n",
    "    websocket.send(json.dumps(input))\n",
    "    print(\"\\n\\n\")\n",
    "   \n",
    "    result_1, WS_STATE_GLOBAL = await wait_for_command_finish(websocket, WS_STATE_GLOBAL)\n",
    "    print(\"RESULT 1\")\n",
    "    print(json.dumps(result_1, indent=4))\n",
    "    \n",
    "    session_id = result_1[\"toolchain_session_id\"]\n",
    "    \n",
    "    input = deepcopy(USER_ARGS_1)\n",
    "    input.update({\n",
    "        \"command\" : \"toolchain/event\",\n",
    "        \"arguments\": {\n",
    "            \"session_id\": session_id,\n",
    "            \"event_node_id\": \"user_question_event\",\n",
    "            \"event_parameters\": {\n",
    "                \n",
    "                \"model_parameters\": model_params_static,\n",
    "                \"question\": \"What is the Riemann-Roch theorem?\"\n",
    "            }\n",
    "        }\n",
    "    })\n",
    "    \n",
    "    websocket.send(json.dumps(input))\n",
    "    print(\"\\n\\n\")\n",
    "    \n",
    "    result_2, WS_STATE_GLOBAL = await wait_for_command_finish(websocket, WS_STATE_GLOBAL)\n",
    "    print(\"RESULT 2\")\n",
    "    print(json.dumps(result_2, indent=4))\n",
    "    \n",
    "    \n",
    "    input = deepcopy(USER_ARGS_1)\n",
    "    input.update({\n",
    "        \"command\" : \"toolchain/event\",\n",
    "        \"arguments\": {\n",
    "            \"session_id\": session_id,\n",
    "            \"event_node_id\": \"user_question_event\",\n",
    "            \"event_parameters\": {\n",
    "                \"model_parameters\": model_params_static,\n",
    "                \"question\": \"Who are the two people the Riemann-Roch Theorem is named after?\" \n",
    "            }\n",
    "        }\n",
    "    })\n",
    "    \n",
    "    websocket.send(json.dumps(input))\n",
    "    print(\"\\n\\n\")\n",
    "    \n",
    "    result_3, WS_STATE_GLOBAL = await wait_for_command_finish(websocket, WS_STATE_GLOBAL)\n",
    "    print(\"RESULT 3\")\n",
    "    print(json.dumps(result_3, indent=4))\n",
    "    \n",
    "    \n",
    "    input = deepcopy(USER_ARGS_1)\n",
    "    input.update({\n",
    "        \"command\" : \"toolchain/event\",\n",
    "        \"arguments\": {\n",
    "            \"session_id\": session_id,\n",
    "            \"event_node_id\": \"user_question_event\",\n",
    "            \"event_parameters\": {\n",
    "                \"model_parameters\": model_params_static,\n",
    "                \"question\": \"You're wrong. It was named after Gustav Roch.\"\n",
    "            }\n",
    "        }\n",
    "    })\n",
    "    \n",
    "    websocket.send(json.dumps(input))\n",
    "    print(\"\\n\\n\")\n",
    "\n",
    "    result_4, WS_STATE_GLOBAL = await wait_for_command_finish(websocket, WS_STATE_GLOBAL)\n",
    "    print(\"RESULT 4\")\n",
    "    print(json.dumps(result_4, indent=4))\n",
    "    \n",
    "    \n",
    "    print(\"\\n\\nFINAL TOOLCHAIN STATE\")\n",
    "    print(json.dumps(WS_STATE_GLOBAL, indent=4))\n"
   ]
  },
  {
   "cell_type": "markdown",
   "metadata": {},
   "source": [
    "### ✅ Toolchain Streaming"
   ]
  },
  {
   "cell_type": "code",
   "execution_count": null,
   "metadata": {},
   "outputs": [
    {
     "name": "stdout",
     "output_type": "stream",
     "text": [
      "\n",
      "\n",
      "\n",
      "\n",
      "\n",
      "\n",
      "The [Riemann-Roch Theorem](https://en.wikipedia.org/wiki/Riemann%E2%80%93Roch_theorem) is a statement about the distribution of zeros of certain types of analytical functions on the complex plane. It relates the number of zeros of such functions to their genus (a measure of how \"curved\" they are). The theorem has important applications in number theory and algebraic geometry.\n",
      "\n",
      "\n",
      "The Riemann-Roch Theorem is named after German mathematicians Bernhard Riemann and Niels Henrik Abel. Riemann made significant contributions to many areas of mathematics, including analysis, topology, and number theory. Abel was also a prominent mathematician who made important contributions to several fields, including algebra, geometry, and analysis.<|im_end|>\n",
      "\n",
      "\n",
      "I apologize for the mistake. You are correct that the Riemann-Roch Theorem is named after Gustav Roch. Roch was a German mathematician who made important contributions to several areas of mathematics, including algebraic geometry and number theory. Thank you for bringing this to my attention.<|im_end|>\n",
      "\n",
      "FINAL TOOLCHAIN STATE\n",
      "{\n",
      "    \"title\": \"Chat\",\n",
      "    \"chat_history\": [\n",
      "        {\n",
      "            \"role\": \"user\",\n",
      "            \"content\": \"What is the Riemann-Roch theorem?\"\n",
      "        },\n",
      "        {\n",
      "            \"role\": \"assistant\",\n",
      "            \"content\": \"The [Riemann-Roch Theorem](https://en.wikipedia.org/wiki/Riemann%E2%80%93Roch_theorem) is a statement about the distribution of zeros of certain types of analytical functions on the complex plane. It relates the number of zeros of such functions to their genus (a measure of how \\\"curved\\\" they are). The theorem has important applications in number theory and algebraic geometry.\"\n",
      "        },\n",
      "        {\n",
      "            \"role\": \"user\",\n",
      "            \"content\": \"Who are the two people the Riemann-Roch Theorem is named after?\"\n",
      "        },\n",
      "        {\n",
      "            \"role\": \"assistant\",\n",
      "            \"content\": \"The Riemann-Roch Theorem is named after German mathematicians Bernhard Riemann and Niels Henrik Abel. Riemann made significant contributions to many areas of mathematics, including analysis, topology, and number theory. Abel was also a prominent mathematician who made important contributions to several fields, including algebra, geometry, and analysis.<|im_end|>\"\n",
      "        },\n",
      "        {\n",
      "            \"role\": \"user\",\n",
      "            \"content\": \"You're wrong. It was named after Gustav Roch.\"\n",
      "        },\n",
      "        {\n",
      "            \"role\": \"assistant\",\n",
      "            \"content\": \"I apologize for the mistake. You are correct that the Riemann-Roch Theorem is named after Gustav Roch. Roch was a German mathematician who made important contributions to several areas of mathematics, including algebraic geometry and number theory. Thank you for bringing this to my attention.<|im_end|>\"\n",
      "        }\n",
      "    ]\n",
      "}\n"
     ]
    }
   ],
   "source": [
    "from websockets.sync.client import connect, Connection\n",
    "from copy import deepcopy\n",
    "import time\n",
    "from typing import List, Union, Any\n",
    "from toolchain_efficient_receiver import wait_for_command_finish\n",
    "\n",
    "model_params_static = {\n",
    "    \"model_choice\": \"mistral-7b-instruct-v0.1\",\n",
    "    # \"stream\": True, \n",
    "    # \"stream_response_normal\": True,\n",
    "    \"max_tokens\": 1000, \n",
    "    \"temperature\": 0.1, \n",
    "    \"top_p\": 0.1, \n",
    "    \"repetition_penalty\": 1.15,\n",
    "    \"stop\": [\"<|im_end|>\"],\n",
    "    \"include_stop_str_in_output\": True\n",
    "}\n",
    "\n",
    "toolchain_id = \"test_chat_session_normal_streaming\"\n",
    "\n",
    "# Append, update, delete. In that order.\n",
    "WS_STATE_GLOBAL = {}\n",
    "\n",
    "with connect(\"ws://localhost:8000/toolchain\") as websocket:\n",
    "    \n",
    "    input = deepcopy(USER_ARGS_1)\n",
    "    input.update({\n",
    "        \"command\" : \"toolchain/create\",\n",
    "        \"arguments\": {\n",
    "            \"toolchain_id\": toolchain_id\n",
    "        }\n",
    "    })\n",
    "    \n",
    "    websocket.send(json.dumps(input))\n",
    "    print(\"\\n\\n\")\n",
    "   \n",
    "    result_1, WS_STATE_GLOBAL = await wait_for_command_finish(websocket, WS_STATE_GLOBAL)\n",
    "    \n",
    "    session_id = result_1[\"toolchain_session_id\"]\n",
    "    \n",
    "    input = deepcopy(USER_ARGS_1)\n",
    "    input.update({\n",
    "        \"command\" : \"toolchain/event\",\n",
    "        \"arguments\": {\n",
    "            \"session_id\": session_id,\n",
    "            \"event_node_id\": \"user_question_event\",\n",
    "            \"event_parameters\": {\n",
    "                \n",
    "                \"model_parameters\": model_params_static,\n",
    "                \"question\": \"What is the Riemann-Roch theorem?\"\n",
    "            }\n",
    "        }\n",
    "    })\n",
    "    \n",
    "    websocket.send(json.dumps(input))\n",
    "    print(\"\\n\\n\")\n",
    "    \n",
    "    result_2, WS_STATE_GLOBAL = await wait_for_command_finish(websocket, WS_STATE_GLOBAL)\n",
    "    \n",
    "    input = deepcopy(USER_ARGS_1)\n",
    "    input.update({\n",
    "        \"command\" : \"toolchain/event\",\n",
    "        \"arguments\": {\n",
    "            \"session_id\": session_id,\n",
    "            \"event_node_id\": \"user_question_event\",\n",
    "            \"event_parameters\": {\n",
    "                \"model_parameters\": model_params_static,\n",
    "                \"question\": \"Who are the two people the Riemann-Roch Theorem is named after?\" \n",
    "            }\n",
    "        }\n",
    "    })\n",
    "    \n",
    "    websocket.send(json.dumps(input))\n",
    "    print(\"\\n\\n\")\n",
    "    \n",
    "    result_3, WS_STATE_GLOBAL = await wait_for_command_finish(websocket, WS_STATE_GLOBAL)\n",
    "    \n",
    "    input = deepcopy(USER_ARGS_1)\n",
    "    input.update({\n",
    "        \"command\" : \"toolchain/event\",\n",
    "        \"arguments\": {\n",
    "            \"session_id\": session_id,\n",
    "            \"event_node_id\": \"user_question_event\",\n",
    "            \"event_parameters\": {\n",
    "                \"model_parameters\": model_params_static,\n",
    "                \"question\": \"You're wrong. It was named after Gustav Roch.\"\n",
    "            }\n",
    "        }\n",
    "    })\n",
    "    \n",
    "    websocket.send(json.dumps(input))\n",
    "    print(\"\\n\\n\")\n",
    "\n",
    "    result_4, WS_STATE_GLOBAL = await wait_for_command_finish(websocket, WS_STATE_GLOBAL)\n",
    "    \n",
    "    print(\"\\n\\nFINAL TOOLCHAIN STATE\")\n",
    "    print(json.dumps(WS_STATE_GLOBAL, indent=4))\n"
   ]
  },
  {
   "cell_type": "markdown",
   "metadata": {},
   "source": [
    "### ✅ Toolchain Iteration"
   ]
  },
  {
   "cell_type": "code",
   "execution_count": null,
   "metadata": {},
   "outputs": [
    {
     "name": "stdout",
     "output_type": "stream",
     "text": [
      "\n",
      "\n",
      "\n",
      "RESULT 1\n",
      "{\n",
      "    \"success\": true,\n",
      "    \"toolchain_session_id\": \"4146439304afc69a4755d6b7d5a3aa6c536ff4a9c4f9477b02fa623f3b54c732\",\n",
      "    \"state\": {\n",
      "        \"title\": \"Chat\",\n",
      "        \"chat_history\": [],\n",
      "        \"question_list_iterated\": [],\n",
      "        \"iterable_output\": []\n",
      "    }\n",
      "}\n",
      "\n",
      "\n",
      "\n",
      "Magic Johnson is an American former professional basketball player who played for the Los Angeles Lakers in the National Basketball Association (NBA). He was widely regarded as one of the greatest NBA players of all time, winning five NBA championships, four NBA Finals MVP awards, two Olympic gold medals, and numerous individual accolades during his career.<|im_end|>Michael Jordan is an American professional basketball player who is widely regarded as one of the greatest NBA players of all time. He played 15 seasons in the National Basketball Association (NBA), winning six championships during his career. Jordan was also named to the All-Star team 14 times and won five MVP awards. In addition to his basketball career, he has also been involved in various business ventures and has become known for his philanthropic work.<|im_end|>Kobe Bryant was an American professional basketball player who is widely regarded as one of the greatest NBA players of all time. He played his entire 20-year career with the Los Angeles Lakers, winning five NBA championships, two Olympic gold medals, and numerous individual accolades, including an NBA MVP award in 2008. Bryant died on January 26, 2020 at the age of 41 in a helicopter crash that also claimed the lives of his 13-year-old daughter, Gianna, and seven others.Shaquille O'Neal (born February 15, 1974) is an American former professional basketball player who is widely regarded as one of the greatest NBA players of all time. He played for four teams during his 20-year career, winning five NBA championships, two Olympic gold medals, and numerous individual accolades, including an NBA MVP award in 2000. After retiring from basketball in 2006, he has pursued various business ventures and has become known for his philanthropic work.<|im_end|>Lebron James is an American professional basketball player who plays small forward for the Los Angeles Lakers in the National Basketball Association (NBA). He is widely considered one of the greatest NBA players of all time. Born on December 29, 1984, in Akron, Ohio, James was drafted by the Cleveland Cavaliers with the first overall pick in the 2003 NBA Draft. Throughout his career, he has won four NBA championships, two Olympic gold medals, and numerous individual accolades, including four MVP awards and two Finals MVP awards.Steph Curry is an American professional basketball player who plays for the Golden State Warriors in the National Basketball Association (NBA). He was born on August 14, 1988, in Charlotte, North Carolina, to former NBA player Dell Curry and his wife Sonya. Curry has won five NBA championships with the Warriors, two Olympic gold medals with the United States national team, and numerous individual awards, including two NBA MVP awards and 10 All-Star Game selections. He is widely regarded as one of the greatest shooters in NBA history.<|im_end|>Kevin Durant is an American professional basketball player who plays small forward for the Brooklyn Nets in the National Basketball Association (NBA). He was born on September 28, 1984, in Seattle, Washington, and raised in Suwanee, Georgia. Durant has won two NBA championships, one Olympic gold medal, and numerous individual accolades throughout his career, including five NBA MVP awards, four NBA scoring titles, and two NBA Finals MVP awards.RESULT 2\n",
      "{}\n",
      "END RESULT 2\n",
      "\n",
      "\n",
      "FINAL TOOLCHAIN STATE\n",
      "{\n",
      "    \"title\": \"Chat\",\n",
      "    \"chat_history\": [],\n",
      "    \"question_list_iterated\": [],\n",
      "    \"iterable_output\": [\n",
      "        {\n",
      "            \"role\": \"assistant\",\n",
      "            \"content\": \"Magic Johnson is an American former professional basketball player who played for the Los Angeles Lakers in the National Basketball Association (NBA). He was widely regarded as one of the greatest NBA players of all time, winning five NBA championships, four NBA Finals MVP awards, two Olympic gold medals, and numerous individual accolades during his career.<|im_end|>\"\n",
      "        },\n",
      "        {\n",
      "            \"role\": \"assistant\",\n",
      "            \"content\": \"Michael Jordan is an American professional basketball player who is widely regarded as one of the greatest NBA players of all time. He played 15 seasons in the National Basketball Association (NBA), winning six championships during his career. Jordan was also named to the All-Star team 14 times and won five MVP awards. In addition to his basketball career, he has also been involved in various business ventures and has become known for his philanthropic work.<|im_end|>\"\n",
      "        },\n",
      "        {\n",
      "            \"role\": \"assistant\",\n",
      "            \"content\": \"Kobe Bryant was an American professional basketball player who is widely regarded as one of the greatest NBA players of all time. He played his entire 20-year career with the Los Angeles Lakers, winning five NBA championships, two Olympic gold medals, and numerous individual accolades, including an NBA MVP award in 2008. Bryant died on January 26, 2020 at the age of 41 in a helicopter crash that also claimed the lives of his 13-year-old daughter, Gianna, and seven others.\"\n",
      "        },\n",
      "        {\n",
      "            \"role\": \"assistant\",\n",
      "            \"content\": \"Shaquille O'Neal (born February 15, 1974) is an American former professional basketball player who is widely regarded as one of the greatest NBA players of all time. He played for four teams during his 20-year career, winning five NBA championships, two Olympic gold medals, and numerous individual accolades, including an NBA MVP award in 2000. After retiring from basketball in 2006, he has pursued various business ventures and has become known for his philanthropic work.<|im_end|>\"\n",
      "        },\n",
      "        {\n",
      "            \"role\": \"assistant\",\n",
      "            \"content\": \"Lebron James is an American professional basketball player who plays small forward for the Los Angeles Lakers in the National Basketball Association (NBA). He is widely considered one of the greatest NBA players of all time. Born on December 29, 1984, in Akron, Ohio, James was drafted by the Cleveland Cavaliers with the first overall pick in the 2003 NBA Draft. Throughout his career, he has won four NBA championships, two Olympic gold medals, and numerous individual accolades, including four MVP awards and two Finals MVP awards.\"\n",
      "        },\n",
      "        {\n",
      "            \"role\": \"assistant\",\n",
      "            \"content\": \"Steph Curry is an American professional basketball player who plays for the Golden State Warriors in the National Basketball Association (NBA). He was born on August 14, 1988, in Charlotte, North Carolina, to former NBA player Dell Curry and his wife Sonya. Curry has won five NBA championships with the Warriors, two Olympic gold medals with the United States national team, and numerous individual awards, including two NBA MVP awards and 10 All-Star Game selections. He is widely regarded as one of the greatest shooters in NBA history.<|im_end|>\"\n",
      "        },\n",
      "        {\n",
      "            \"role\": \"assistant\",\n",
      "            \"content\": \"Kevin Durant is an American professional basketball player who plays small forward for the Brooklyn Nets in the National Basketball Association (NBA). He was born on September 28, 1984, in Seattle, Washington, and raised in Suwanee, Georgia. Durant has won two NBA championships, one Olympic gold medal, and numerous individual accolades throughout his career, including five NBA MVP awards, four NBA scoring titles, and two NBA Finals MVP awards.\"\n",
      "        }\n",
      "    ]\n",
      "}\n"
     ]
    }
   ],
   "source": [
    "from websockets.sync.client import connect, Connection\n",
    "from copy import deepcopy\n",
    "import time\n",
    "from typing import List, Union, Any\n",
    "from toolchain_efficient_receiver import wait_for_command_finish\n",
    "\n",
    "model_params_static = {\n",
    "    \"model_choice\": \"mistral-7b-instruct-v0.1\",\n",
    "    \"max_tokens\": 1000, \n",
    "    \"temperature\": 0.1, \n",
    "    \"top_p\": 0.1, \n",
    "    \"repetition_penalty\": 1.15,\n",
    "    \"stop\": [\"<|im_end|>\"],\n",
    "    \"include_stop_str_in_output\": True\n",
    "}\n",
    "\n",
    "toolchain_id = \"iterable_test\"\n",
    "\n",
    "# Append, update, delete. In that order.\n",
    "WS_STATE_GLOBAL_2 = {}\n",
    "\n",
    "with connect(\"ws://localhost:8000/toolchain\") as websocket:\n",
    "    \n",
    "    input = deepcopy(USER_ARGS_1)\n",
    "    input.update({\n",
    "        \"command\" : \"toolchain/create\",\n",
    "        \"arguments\": {\n",
    "            \"toolchain_id\": toolchain_id\n",
    "        }\n",
    "    })\n",
    "    \n",
    "    websocket.send(json.dumps(input))\n",
    "    print(\"\\n\\n\")\n",
    "   \n",
    "    result_1, WS_STATE_GLOBAL_2 = await wait_for_command_finish(websocket, WS_STATE_GLOBAL_2)\n",
    "    print(\"RESULT 1\")\n",
    "    print(json.dumps(result_1, indent=4))\n",
    "    \n",
    "    \n",
    "    session_id = result_1[\"toolchain_session_id\"]\n",
    "    \n",
    "    input = deepcopy(USER_ARGS_1)\n",
    "    input.update({\n",
    "        \"command\" : \"toolchain/event\",\n",
    "        \"arguments\": {\n",
    "            \"session_id\": session_id,\n",
    "            \"event_node_id\": \"user_question_event\",\n",
    "            \"event_parameters\": {\n",
    "                \"model_parameters\": model_params_static\n",
    "            }\n",
    "        }\n",
    "    })\n",
    "    \n",
    "    websocket.send(json.dumps(input))\n",
    "    print(\"\\n\\n\")\n",
    "    \n",
    "    result_2, WS_STATE_GLOBAL_2 = await wait_for_command_finish(websocket, WS_STATE_GLOBAL_2)\n",
    "    print(\"RESULT 2\")\n",
    "    print(json.dumps(result_2, indent=4))\n",
    "    print(\"END RESULT 2\")\n",
    "    \n",
    "    print(\"\\n\\nFINAL TOOLCHAIN STATE\")\n",
    "    print(json.dumps(WS_STATE_GLOBAL_2, indent=4))\n",
    "    \n",
    "\n"
   ]
  },
  {
   "cell_type": "markdown",
   "metadata": {},
   "source": [
    "### ✅ Toolchain File Upload"
   ]
  },
  {
   "cell_type": "code",
   "execution_count": null,
   "metadata": {},
   "outputs": [
    {
     "name": "stdout",
     "output_type": "stream",
     "text": [
      "\n",
      "\n",
      "\n",
      "RESULT 1\n",
      "{\n",
      "    \"success\": true,\n",
      "    \"toolchain_session_id\": \"1355f523c19efdfda2b30d23a18dcd582e41806497edc9426b6081a85752d6e6\",\n",
      "    \"state\": {\n",
      "        \"title\": \"Chat\",\n",
      "        \"chat_history\": []\n",
      "    }\n",
      "}\n",
      "{\n",
      "    \"hash_id\": \"afb44b51780b1ad350ba9ac87b30937aab223ad2a728272bee2a01f2d4354243\"\n",
      "}\n",
      "\n",
      "\n",
      "\n",
      "RESULT 2\n",
      "{\n",
      "    \"output\": \"   Introduction to AI/ML:  \\n Looking towards LLMs  \\n HNRS 3035 \\n Dr. James Ghawaly   \\n    What is itr  \\n \\u00b0 Data science: Stady of methods and mechanisms to extract knowledge  \\n from, develop new insights, and make predictions from unstructured or  \\n structured data.  \\n \\u00b0 Structured data. Defined common format (often stored in SQL, HDF5, etc.)  \\n \\u00b0 Unstructured data. Conglomeration of native formats within defined organization  \\n Structure.  \\n \\u00b0 Artificial Intelagence. Non-biological systems that \\u201cintelligently\\u201d perform  \\n predictions or other tasks.  \\n \\u00b0 Expert systems: Rule and logic-based systems developed manually by human  \\n experts.  \\n \\u00b0 Learning systems: Systems that learn from data (\\u201cmachine learning\\u201d)   \\n    What is it? Continued.  \\n \\u00a2 Machine learning (ML) # Artificial Intelligence (AI)  \\n \\u00a2 ML is a subset of AI, which overlaps with data science \\n \\u00a2 This course focuses specifically on ML  \\n \\u00b0 Deep learning 1s a subset of ML that \\n uses artificial neural networks (ANNs) \\n to perform representation learning on  \\n Expert \\n data. Systems  \\n * Representation learning, also called \\n feature learning, is any method that  \\n learns to recognize salient features  \\n without human input and quantify  \\n their zportance.  Deep  \\n Learning      \\n    What is It? Continued.  \\n     \\n Hand-crafted Learning  \\n Input image \\u2014\\u2014\\u2014\\u2014\\u2014\\u2014\\u2014-_ feature 9 9\\u2014\\u2014 = algorithm  \\n representation \\n Traditional pattern recognition  \\n e.g., SIFT, HOG  \\n hieararchical representation \\n low mid- high- Learning  \\n Input image \\u2014> level \\u2014> level \\u2014> level \\u2014>  algorithm  \\n features features features  \\n Deep learning  \\n o , Fl  \\n 2 <pa fz <a) BE Sas  Bind q  \\n    ; = \\n 1G amet  \\n = = \\u00bb. >)  \\n image soutce: https: //blog.kthais.com/representation-learning-the-core-of-machine-learning-e25fab0f3ac0   \\n    Artificial Neural Networks (ANNs)  \\n \\u00a2 ANNs are composed of one or mote layers of artificial functional units, also \\n referred to as neurons. \\n \\u00a2 Each neuron integrates information from one or more other units, applies a \\n nonlinear function to those inputs, and outputs the result.  \\n \\u00a2 Each neuron-to-neuron connection (synapse) scales the input signal by a  \\n tunable weight. \\n \\u00a2 Other types of layers are often embedded between neuronal layers for various  \\n purposes.  \\n Input Hidden \\n Layer Layers       Output  \\n Layer  \\n >: SS  KID <<  Zi PY ZA       \\n           \\n           \\n         @ WHO \\n SE OK  Vv, \\n f\\\\  \\n         \\n               \\n    Main \\u2018Types of Models  \\n \\u00b0 Regression: Models that acts as a function that predicts the value of a \\n variable given any number of independent variables, by learning the \\n relationship between said variables from data. \\n \\u00b0 Classification. Models that predict the categorical class label of data that \\n are presented. \\n \\u00b0 Dimensionality Reduction: Models that reduce the dimensionality of data \\n without losing much information. \\n \\u00b0 Clustering. Models that can cluster data points into distinct groups based \\n on similarities in the data  \\n Note: These are not exclusive definitions.   \\n    Types of Learning  \\n \\u00b0 Supervised Learning. uses labeled data to train the model \\n \\u00b0 Unsupervised learning tavolves training a model on unlabeled data with the \\n goal of finding inherent patterns, structures, or relationships within the \\n data \\n \\u00b0 Semi-supervised Learning 1s a learning paradigm that uses a combination of \\n labeled and unlabeled data for training. \\n \\u00b0 Sedf-supervised Learning 1s a machine learning approach where a model  \\n learns from the data itself by creating its own supervisory signal. A part \\n of the data 1s used to generate labels or targets, and the model learns to \\n predict these targets from the remaining data.  \\n \\u00b0 Kecnforcement Learning. Models trained to maximize receipt of reward  \\n sionals. Rewards are given for desirable behaviors/traits. Often used for \\n control problems.   \\n    ML Model Training  \\n \\u00a2 A deep learning model is trained to minimize a user-defined Joss function \\n using gradient descent through an algorithm called backpropagation \\n \\u00a2 The loss function 1s a measure that quantifies the difference between \\n predicted values generated by a ML model and the actual target values \\n \\u00a2 Backpropagation makes small iterative changes to the model\\u2019s parameters \\n to reduce the loss. \\n \\u00b0 Cross-Vatidation: Divide dataset into Repeat Uni \\n multiple subsets \\u2014  \\n \\u00a2 Training set: Used to adjust model weights \\n \\u00a2 Validation set: Used to assess performance \\n during training \\n \\u00b0 Testing set: Used to assess performance  \\n after training  >  \\n A .{ Target) \\u00b0  \\n Input Data | | Output  \\n : pa Me > y  \\n y \\u2019 Model \\n P MIL M Jy > L | reprocess iy ges Outpuy>\\u2014> bess  \\n A wy                    Dataset  \\n    \\n         \\n       -\\u2014Adjust Model Parameters\\u2014\\u2014  \\n Mme wwe ween ewe www eee we ewww ewww eww wwe we eww   \\n    Over/Underfitting  \\n \\u00b0 Types of error:  \\n \\u00b0 Bzas error: predictions are inaccurate on training  \\n data (and thus also on testing)  \\n \\u00b0 underfittine  \\n \\u00b0 Vanance error. predictions are very accurate on \\n training data but highly variable on testing  \\n \\u00b0 overfitting  \\n \\u00b0 Bias-variance tradeoff:  \\n \\u00a2 Overcomplicated models tend to perform well \\n on training data but poorly on testing data: high  \\n variance  \\n \\u00a2 Overly simple models tend to perform poorly \\n on both training and testing: high bias \\n \\u00a2 A balance must be found for a given task  Degree 15 \\n MSE = 1.82e+08(+/- 5.46e+08)     \\n \\u2014 Model \\n \\u2014\\u2014 True function \\n e Samples  \\n    \\n          \\n        \\n    \\n       | High Variance & \\n Overfit  \\n Xx  \\n Degree 1 Degree 4 \\n MSE = 4.08e-01(+/- 4.25e-01) MSE = 4.32e-02(+/- 7.08e-02)  \\n \\u2014 Model \\u2014 Model  \\n      \\n High Bias & \\n Underfit  \\u2014\\u2014 True function \\u2014\\u2014 True function \\n e@ Samples e Samples  \\n    Balanced  \\n           \\n x     \\n Xx  \\n image soutce: https://scikit-learn.org/stable/auto_examples/model_selection/plot_underfitting_overfitting html   \\n    Natural Language Processing  \\n \\u00b0 Natural Language Processing models aim to process, analyze, and derive  \\n meaning from human language data:  \\n \\u00b0 text classification  \\n \\u00a2 language generation  \\n * sentiment analysis \\n * conversation  \\n * machine translation  \\n \\u00b0 Large Language Models are deep learning models designed to understand  \\n and generate human laneuage, capable of learning patterns, context, and \\n semantics from vast amounts of text data.  \\n \\u00a2 Probabilistic word generation \\n * Recent advances enabled by \\u00e9vansformer architecture   \\n    LLM History  \\n \\u00b0 Recurrent Neural Networks (Rumelhart et. al., 1986): ANN architecture \\n comprising neuron models that maintain hidden memory state.  \\n \\u00a2 Short-term memory \\n \\u00a2 Impossible to parallelize & unstable training  \\n \\u00b0 Long Short-term Memory (Hochreiter et. al., 1997): More complicated RNN  \\n models with gates that modulate the flow of temporal information  \\n through the cell  \\n \\u00a2 Both short and long-term memory \\n \\u00a2 Impossible to parallelize & unstable training  \\n \\u00a2 Transformers. \\u201cAttention ts all you Need\\u201d (Vaswant, 2017)  \\n \\u00a2 Eliminates recurrence \\u2014 temporality encoded with position embeddings \\n \\u00a2 Attention-based \\n \\u00a2 Parallelizable   \\n    LLM Foundational Models  \\n Model Generative Pre-trained  \\n Transformer (GPT)  \\n         \\n       Designed by OpenAl  \\n G OpenAl  \\n Framework OpenAl  Large Language Model Meta AI  \\n (LLaMA)  \\n ozo \\\"  -a- YY  am .) < \\n 4 7 \\n =  \\n %       \\n Meta Al  \\n OO Meta  \\n HugeineFace *  \\n Ga Hugging Face  \\n * There are multiple frameworks on which LLaMA can be deployed, with HuggingFace  \\n being the most popular   \\n\"\n",
      "}\n",
      "END RESULT 2\n"
     ]
    }
   ],
   "source": [
    "from websockets.sync.client import connect, Connection\n",
    "from copy import deepcopy\n",
    "import time, json\n",
    "from typing import List, Union, Any\n",
    "from toolchain_efficient_receiver import wait_for_command_finish\n",
    "\n",
    "model_params_static = {\n",
    "    \"model_choice\": \"mistral-7b-instruct-v0.1\",\n",
    "    \"max_tokens\": 1000, \n",
    "    \"temperature\": 0.1, \n",
    "    \"top_p\": 0.1, \n",
    "    \"repetition_penalty\": 1.15,\n",
    "    \"stop\": [\"<|im_end|>\"],\n",
    "    \"include_stop_str_in_output\": True\n",
    "}\n",
    "\n",
    "toolchain_id = \"test_file_upload\"\n",
    "\n",
    "# Append, update, delete. In that order.\n",
    "WS_STATE_GLOBAL_2 = {}\n",
    "\n",
    "websocket = connect(\"ws://localhost:8000/toolchain\")\n",
    "    \n",
    "input = deepcopy(USER_ARGS_1)\n",
    "input.update({\n",
    "    \"command\" : \"toolchain/create\",\n",
    "    \"arguments\": {\n",
    "        \"toolchain_id\": toolchain_id\n",
    "    }\n",
    "})\n",
    "\n",
    "websocket.send(json.dumps(input))\n",
    "print(\"\\n\\n\")\n",
    "\n",
    "result_1, WS_STATE_GLOBAL_2 = await wait_for_command_finish(websocket, WS_STATE_GLOBAL_2)\n",
    "print(\"RESULT 1\")\n",
    "print(json.dumps(result_1, indent=4))\n",
    "\n",
    "toolchain_session_id = result_1[\"toolchain_session_id\"]\n",
    "\n",
    "import requests, json\n",
    "from urllib.parse import urlencode\n",
    "from copy import deepcopy\n",
    "\n",
    "input = deepcopy(USER_ARGS_1)\n",
    "input.update({\n",
    "    \"collection_hash_id\": toolchain_session_id,\n",
    "    \"collection_type\" : \"toolchain_session\"\n",
    "})\n",
    "\n",
    "encoded_params = urlencode({\"parameters\": json.dumps(input)})\n",
    "\n",
    "for i, path in enumerate([PDF_TO_UPLOAD_PATH]):\n",
    "    with open(path, 'rb') as f:\n",
    "        # Define the files parameter for the POST request\n",
    "        files = {'file': f}\n",
    "        input_json = json.dumps(input)\n",
    "        response = requests.post(\"http://localhost:8000/upload_document?\"+encoded_params, files=files)\n",
    "        response.raise_for_status()\n",
    "\n",
    "        result = response.json()\n",
    "        f.close()\n",
    "\n",
    "        print(json.dumps(result, indent=4))\n",
    "        \n",
    "        document_hash_id = result[\"hash_id\"]\n",
    "\n",
    "\n",
    "input = deepcopy(USER_ARGS_1)\n",
    "input.update({\n",
    "    \"command\" : \"toolchain/event\",\n",
    "    \"arguments\": {\n",
    "        \"session_id\": toolchain_session_id,\n",
    "        \"event_node_id\": \"user_file_upload_event\",\n",
    "        \"event_parameters\": {\n",
    "            \"<<FILE>>\": document_hash_id\n",
    "        }\n",
    "    }\n",
    "})\n",
    "\n",
    "websocket.send(json.dumps(input))\n",
    "print(\"\\n\\n\")\n",
    "\n",
    "result_2, WS_STATE_GLOBAL_2 = await wait_for_command_finish(websocket, WS_STATE_GLOBAL_2)\n",
    "print(\"RESULT 2\")\n",
    "print(json.dumps(result_2, indent=4))\n",
    "print(\"END RESULT 2\")\n"
   ]
  }
 ],
 "metadata": {
  "kernelspec": {
   "display_name": "QL_3",
   "language": "python",
   "name": "python3"
  },
  "language_info": {
   "codemirror_mode": {
    "name": "ipython",
    "version": 3
   },
   "file_extension": ".py",
   "mimetype": "text/x-python",
   "name": "python",
   "nbconvert_exporter": "python",
   "pygments_lexer": "ipython3",
   "version": "3.10.13"
  }
 },
 "nbformat": 4,
 "nbformat_minor": 2
}
